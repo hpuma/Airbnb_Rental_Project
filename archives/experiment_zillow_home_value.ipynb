{
 "cells": [
  {
   "cell_type": "code",
   "execution_count": 1,
   "id": "f1b2b35d",
   "metadata": {},
   "outputs": [],
   "source": [
    "#Loading packages \n",
    "import os\n",
    "import pandas as pd\n",
    "import numpy as np\n",
    "import matplotlib.pyplot as plt\n",
    "import seaborn as sns\n",
    "from scipy.stats import ttest_ind\n",
    "from scipy.stats import f_oneway\n",
    "from scipy import stats\n",
    "from sklearn.tree import DecisionTreeRegressor\n"
   ]
  },
  {
   "cell_type": "code",
   "execution_count": 2,
   "id": "0bd707a3",
   "metadata": {},
   "outputs": [],
   "source": [
    "zhome_values_zip = pd.read_csv('data/clean/zhome_value.csv')\n",
    "\n",
    "df = pd.DataFrame(zhome_values_zip)"
   ]
  },
  {
   "cell_type": "code",
   "execution_count": 3,
   "id": "4752d6e2",
   "metadata": {
    "scrolled": true
   },
   "outputs": [
    {
     "data": {
      "text/html": [
       "<div>\n",
       "<style scoped>\n",
       "    .dataframe tbody tr th:only-of-type {\n",
       "        vertical-align: middle;\n",
       "    }\n",
       "\n",
       "    .dataframe tbody tr th {\n",
       "        vertical-align: top;\n",
       "    }\n",
       "\n",
       "    .dataframe thead th {\n",
       "        text-align: right;\n",
       "    }\n",
       "</style>\n",
       "<table border=\"1\" class=\"dataframe\">\n",
       "  <thead>\n",
       "    <tr style=\"text-align: right;\">\n",
       "      <th></th>\n",
       "      <th>zip_code</th>\n",
       "      <th>state</th>\n",
       "      <th>city</th>\n",
       "      <th>borough</th>\n",
       "      <th>date</th>\n",
       "      <th>home_value</th>\n",
       "    </tr>\n",
       "  </thead>\n",
       "  <tbody>\n",
       "    <tr>\n",
       "      <th>0</th>\n",
       "      <td>11368</td>\n",
       "      <td>NY</td>\n",
       "      <td>New York</td>\n",
       "      <td>QUEENS</td>\n",
       "      <td>2002-01-31</td>\n",
       "      <td>249885.0</td>\n",
       "    </tr>\n",
       "    <tr>\n",
       "      <th>1</th>\n",
       "      <td>11385</td>\n",
       "      <td>NY</td>\n",
       "      <td>New York</td>\n",
       "      <td>QUEENS</td>\n",
       "      <td>2002-01-31</td>\n",
       "      <td>333404.0</td>\n",
       "    </tr>\n",
       "    <tr>\n",
       "      <th>2</th>\n",
       "      <td>11236</td>\n",
       "      <td>NY</td>\n",
       "      <td>New York</td>\n",
       "      <td>BROOKLYN</td>\n",
       "      <td>2002-01-31</td>\n",
       "      <td>255687.0</td>\n",
       "    </tr>\n",
       "    <tr>\n",
       "      <th>3</th>\n",
       "      <td>11208</td>\n",
       "      <td>NY</td>\n",
       "      <td>New York</td>\n",
       "      <td>BROOKLYN</td>\n",
       "      <td>2002-01-31</td>\n",
       "      <td>235676.0</td>\n",
       "    </tr>\n",
       "    <tr>\n",
       "      <th>4</th>\n",
       "      <td>10467</td>\n",
       "      <td>NY</td>\n",
       "      <td>New York</td>\n",
       "      <td>BRONX</td>\n",
       "      <td>2002-01-31</td>\n",
       "      <td>174696.0</td>\n",
       "    </tr>\n",
       "    <tr>\n",
       "      <th>...</th>\n",
       "      <td>...</td>\n",
       "      <td>...</td>\n",
       "      <td>...</td>\n",
       "      <td>...</td>\n",
       "      <td>...</td>\n",
       "      <td>...</td>\n",
       "    </tr>\n",
       "    <tr>\n",
       "      <th>43058</th>\n",
       "      <td>10464</td>\n",
       "      <td>NY</td>\n",
       "      <td>New York</td>\n",
       "      <td>BRONX</td>\n",
       "      <td>2022-10-31</td>\n",
       "      <td>609781.0</td>\n",
       "    </tr>\n",
       "    <tr>\n",
       "      <th>43059</th>\n",
       "      <td>10004</td>\n",
       "      <td>NY</td>\n",
       "      <td>New York</td>\n",
       "      <td>MANHATTAN</td>\n",
       "      <td>2022-10-31</td>\n",
       "      <td>1081807.0</td>\n",
       "    </tr>\n",
       "    <tr>\n",
       "      <th>43060</th>\n",
       "      <td>10006</td>\n",
       "      <td>NY</td>\n",
       "      <td>New York</td>\n",
       "      <td>MANHATTAN</td>\n",
       "      <td>2022-10-31</td>\n",
       "      <td>902566.0</td>\n",
       "    </tr>\n",
       "    <tr>\n",
       "      <th>43061</th>\n",
       "      <td>11243</td>\n",
       "      <td>NY</td>\n",
       "      <td>New York</td>\n",
       "      <td>BROOKLYN</td>\n",
       "      <td>2022-10-31</td>\n",
       "      <td>1426544.0</td>\n",
       "    </tr>\n",
       "    <tr>\n",
       "      <th>43062</th>\n",
       "      <td>10118</td>\n",
       "      <td>NY</td>\n",
       "      <td>New York</td>\n",
       "      <td>MANHATTAN</td>\n",
       "      <td>2022-10-31</td>\n",
       "      <td>2867150.0</td>\n",
       "    </tr>\n",
       "  </tbody>\n",
       "</table>\n",
       "<p>43063 rows × 6 columns</p>\n",
       "</div>"
      ],
      "text/plain": [
       "       zip_code state      city    borough        date  home_value\n",
       "0         11368    NY  New York     QUEENS  2002-01-31    249885.0\n",
       "1         11385    NY  New York     QUEENS  2002-01-31    333404.0\n",
       "2         11236    NY  New York   BROOKLYN  2002-01-31    255687.0\n",
       "3         11208    NY  New York   BROOKLYN  2002-01-31    235676.0\n",
       "4         10467    NY  New York      BRONX  2002-01-31    174696.0\n",
       "...         ...   ...       ...        ...         ...         ...\n",
       "43058     10464    NY  New York      BRONX  2022-10-31    609781.0\n",
       "43059     10004    NY  New York  MANHATTAN  2022-10-31   1081807.0\n",
       "43060     10006    NY  New York  MANHATTAN  2022-10-31    902566.0\n",
       "43061     11243    NY  New York   BROOKLYN  2022-10-31   1426544.0\n",
       "43062     10118    NY  New York  MANHATTAN  2022-10-31   2867150.0\n",
       "\n",
       "[43063 rows x 6 columns]"
      ]
     },
     "execution_count": 3,
     "metadata": {},
     "output_type": "execute_result"
    }
   ],
   "source": [
    "df"
   ]
  },
  {
   "cell_type": "code",
   "execution_count": null,
   "id": "80598266",
   "metadata": {},
   "outputs": [],
   "source": []
  },
  {
   "cell_type": "code",
   "execution_count": null,
   "id": "35eae1fa",
   "metadata": {},
   "outputs": [],
   "source": [
    "sns.heatmap(df.pivot_table(index='borough', columns='zip_code', values='home_value', aggfunc='mean'))\n",
    "plt.xlabel('Zip code')\n",
    "plt.ylabel('Borough')\n",
    "plt.title('Value of Homes in Zipcode')\n",
    "plt.show()"
   ]
  },
  {
   "cell_type": "code",
   "execution_count": null,
   "id": "5216e92d",
   "metadata": {},
   "outputs": [],
   "source": []
  },
  {
   "cell_type": "code",
   "execution_count": 4,
   "id": "2bc4d44e",
   "metadata": {
    "scrolled": true
   },
   "outputs": [
    {
     "name": "stdout",
     "output_type": "stream",
     "text": [
      "    zip_code    borough    home_value\n",
      "41     10118  MANHATTAN  2.953885e+06\n",
      "11     10013  MANHATTAN  2.651030e+06\n",
      "6      10007  MANHATTAN  2.641340e+06\n",
      "44     10282  MANHATTAN  2.158213e+06\n",
      "10     10012  MANHATTAN  1.998542e+06\n",
      "..       ...        ...           ...\n",
      "57     10451      BRONX  3.156599e+05\n",
      "62     10456      BRONX  3.130362e+05\n",
      "73     10467      BRONX  2.999500e+05\n",
      "74     10468      BRONX  2.118511e+05\n",
      "68     10462      BRONX  1.466952e+05\n",
      "\n",
      "[177 rows x 3 columns]\n"
     ]
    }
   ],
   "source": [
    "df_mean = df.groupby(['zip_code', 'borough']).home_value.mean().reset_index()\n",
    "\n",
    "df_mean.sort_values(by='home_value', ascending=False, inplace=True)\n",
    "\n",
    "print(df_mean)"
   ]
  },
  {
   "cell_type": "code",
   "execution_count": null,
   "id": "90cc1898",
   "metadata": {},
   "outputs": [],
   "source": [
    "df_mean.head(50)"
   ]
  },
  {
   "cell_type": "code",
   "execution_count": 5,
   "id": "78086974",
   "metadata": {},
   "outputs": [
    {
     "name": "stdout",
     "output_type": "stream",
     "text": [
      "    zip_code    borough    home_value\n",
      "41     10118  MANHATTAN  2.953885e+06\n",
      "11     10013  MANHATTAN  2.651030e+06\n",
      "6      10007  MANHATTAN  2.641340e+06\n",
      "44     10282  MANHATTAN  2.158213e+06\n",
      "10     10012  MANHATTAN  1.998542e+06\n",
      "     zip_code borough     home_value\n",
      "135     11363  QUEENS  888125.755020\n",
      "130     11357  QUEENS  719995.036000\n",
      "134     11362  QUEENS  714293.755020\n",
      "131     11358  QUEENS  700550.180723\n",
      "86      11105  QUEENS  698675.152000\n",
      "     zip_code   borough   home_value\n",
      "103     11217  BROOKLYN  1136523.044\n",
      "101     11215  BROOKLYN  1094520.928\n",
      "116     11231  BROOKLYN  1065775.792\n",
      "88      11201  BROOKLYN  1034488.912\n",
      "125     11243  BROOKLYN  1021440.880\n",
      "    zip_code        borough  home_value\n",
      "51     10307  STATEN_ISLAND  547081.464\n",
      "53     10309  STATEN_ISLAND  498783.628\n",
      "50     10306  STATEN_ISLAND  468805.856\n",
      "55     10312  STATEN_ISLAND  468034.124\n",
      "45     10301  STATEN_ISLAND  464242.480\n",
      "    zip_code borough     home_value\n",
      "77     10471   BRONX  579882.895582\n",
      "70     10464   BRONX  529770.832000\n",
      "67     10461   BRONX  469401.811245\n",
      "75     10469   BRONX  449143.221774\n",
      "71     10465   BRONX  437483.927126\n"
     ]
    }
   ],
   "source": [
    "#MANHATTAN TOP 5 ZIP CODES\n",
    "\n",
    "df_manhattan= df_mean[df_mean['borough'].isin(['MANHATTAN'])]\n",
    "\n",
    "# Sort the rows by home value in descending order\n",
    "df_manhattan = df_manhattan.sort_values(by='home_value', ascending=False)\n",
    "\n",
    "# Select the top 2 rows\n",
    "manhattan_top_5 = df_manhattan.head(5)\n",
    "\n",
    "# Print the resulting dataframe\n",
    "print(manhattan_top_5)\n",
    "\n",
    "#QUEENS TOP 5 ZIPCODES\n",
    "df_queens= df_mean[df_mean['borough'].isin(['QUEENS'])]\n",
    "\n",
    "# Sort the rows by home value in descending order\n",
    "df_queens = df_queens.sort_values(by='home_value', ascending=False)\n",
    "\n",
    "# Select the top 2 rows\n",
    "queens_top_5 = df_queens.head(5)\n",
    "\n",
    "# Print the resulting dataframe\n",
    "print(queens_top_5)\n",
    "\n",
    "\n",
    "#BK TOP 5 ZIPCODES\n",
    "df_brooklyn= df_mean[df_mean['borough'].isin(['BROOKLYN'])]\n",
    "\n",
    "# Sort the rows by home value in descending order\n",
    "df_brooklyn = df_brooklyn.sort_values(by='home_value', ascending=False)\n",
    "\n",
    "# Select the top 2 rows\n",
    "bk_top_5 = df_brooklyn.head(5)\n",
    "\n",
    "# Print the resulting dataframe\n",
    "print(bk_top_5)\n",
    "\n",
    "#STATEN ILAND TOP 5 ZIPCODES\n",
    "df_staten= df_mean[df_mean['borough'].isin(['STATEN_ISLAND'])]\n",
    "\n",
    "# Sort the rows by home value in descending order\n",
    "df_staten = df_staten.sort_values(by='home_value', ascending=False)\n",
    "\n",
    "# Select the top 2 rows\n",
    "staten_top_5 = df_staten.head(5)\n",
    "\n",
    "# Print the resulting dataframe\n",
    "print(staten_top_5)\n",
    "\n",
    "\n",
    "#BRONX TOP 5 ZIPCODES\n",
    "df_bronx= df_mean[df_mean['borough'].isin(['BRONX'])]\n",
    "\n",
    "# Sort the rows by home value in descending order\n",
    "df_bronx = df_bronx.sort_values(by='home_value', ascending=False)\n",
    "\n",
    "# Select the top 2 rows\n",
    "bronx_top_5 = df_bronx.head(5)\n",
    "\n",
    "# Print the resulting dataframe\n",
    "print(bronx_top_5)"
   ]
  },
  {
   "cell_type": "code",
   "execution_count": 6,
   "id": "2bef0402",
   "metadata": {},
   "outputs": [
    {
     "name": "stdout",
     "output_type": "stream",
     "text": [
      "     zip_code        borough    home_value\n",
      "41      10118      MANHATTAN  2.953885e+06\n",
      "11      10013      MANHATTAN  2.651030e+06\n",
      "6       10007      MANHATTAN  2.641340e+06\n",
      "44      10282      MANHATTAN  2.158213e+06\n",
      "10      10012      MANHATTAN  1.998542e+06\n",
      "103     11217       BROOKLYN  1.136523e+06\n",
      "101     11215       BROOKLYN  1.094521e+06\n",
      "116     11231       BROOKLYN  1.065776e+06\n",
      "88      11201       BROOKLYN  1.034489e+06\n",
      "125     11243       BROOKLYN  1.021441e+06\n",
      "135     11363         QUEENS  8.881258e+05\n",
      "130     11357         QUEENS  7.199950e+05\n",
      "134     11362         QUEENS  7.142938e+05\n",
      "131     11358         QUEENS  7.005502e+05\n",
      "86      11105         QUEENS  6.986752e+05\n",
      "77      10471          BRONX  5.798829e+05\n",
      "70      10464          BRONX  5.297708e+05\n",
      "67      10461          BRONX  4.694018e+05\n",
      "75      10469          BRONX  4.491432e+05\n",
      "71      10465          BRONX  4.374839e+05\n",
      "51      10307  STATEN_ISLAND  5.470815e+05\n",
      "53      10309  STATEN_ISLAND  4.987836e+05\n",
      "50      10306  STATEN_ISLAND  4.688059e+05\n",
      "55      10312  STATEN_ISLAND  4.680341e+05\n",
      "45      10301  STATEN_ISLAND  4.642425e+05\n"
     ]
    }
   ],
   "source": [
    "df_combined = pd.concat([manhattan_top_5, bk_top_5, queens_top_5, bronx_top_5, staten_top_5], axis=0)\n",
    "\n",
    "# Print the resulting dataframe\n",
    "print(df_combined)"
   ]
  },
  {
   "cell_type": "code",
   "execution_count": null,
   "id": "c8f3fc86",
   "metadata": {},
   "outputs": [],
   "source": []
  },
  {
   "cell_type": "code",
   "execution_count": null,
   "id": "3db77b0b",
   "metadata": {},
   "outputs": [],
   "source": []
  },
  {
   "cell_type": "code",
   "execution_count": null,
   "id": "21747b81",
   "metadata": {},
   "outputs": [],
   "source": [
    "df_mean.head(10)"
   ]
  },
  {
   "cell_type": "code",
   "execution_count": null,
   "id": "1031e288",
   "metadata": {},
   "outputs": [],
   "source": [
    "sns.heatmap(df.pivot_table(index='borough', columns='zip_code', values='home_value', aggfunc='mean'))\n",
    "plt.xlabel('Zip code')\n",
    "plt.ylabel('Borough')\n",
    "plt.title('Value of Homes in Zipcode')\n",
    "plt.show()"
   ]
  },
  {
   "cell_type": "code",
   "execution_count": null,
   "id": "ea0c5683",
   "metadata": {},
   "outputs": [],
   "source": []
  },
  {
   "cell_type": "code",
   "execution_count": null,
   "id": "7ecb6411",
   "metadata": {},
   "outputs": [],
   "source": []
  },
  {
   "cell_type": "code",
   "execution_count": null,
   "id": "0ff91198",
   "metadata": {},
   "outputs": [],
   "source": [
    "df[\"home_value\"].max()"
   ]
  },
  {
   "cell_type": "code",
   "execution_count": null,
   "id": "20965b55",
   "metadata": {},
   "outputs": [],
   "source": [
    "df[\"rounded_values\"] = df[\"home_value\"].apply(round)\n"
   ]
  },
  {
   "cell_type": "code",
   "execution_count": null,
   "id": "caf647a1",
   "metadata": {},
   "outputs": [],
   "source": [
    "df[\"rounded_values\"]\n"
   ]
  },
  {
   "cell_type": "markdown",
   "id": "f474a2c7",
   "metadata": {},
   "source": [
    "TOP 5 ZIPCODES"
   ]
  },
  {
   "cell_type": "code",
   "execution_count": null,
   "id": "fea9c9c1",
   "metadata": {},
   "outputs": [],
   "source": []
  },
  {
   "cell_type": "code",
   "execution_count": 14,
   "id": "fdc7aca6",
   "metadata": {
    "scrolled": true
   },
   "outputs": [
    {
     "name": "stdout",
     "output_type": "stream",
     "text": [
      "            home_value\n",
      "zip_code              \n",
      "10118     2.953885e+06\n",
      "10013     2.651030e+06\n",
      "10007     2.641340e+06\n",
      "10282     2.158213e+06\n",
      "10012     1.998542e+06\n"
     ]
    }
   ],
   "source": [
    "zip_codes = df.groupby([\"zip_code\"])[\"home_value\"].mean()\n",
    "\n",
    "\n",
    "zip_codes_df = zip_codes.to_frame().sort_values(\"home_value\", ascending=False)\n",
    "\n",
    "\n",
    "top_five = zip_codes_df.head(5)\n",
    "\n",
    "\n",
    "print(top_five)"
   ]
  },
  {
   "cell_type": "code",
   "execution_count": 15,
   "id": "21d004e5",
   "metadata": {},
   "outputs": [
    {
     "data": {
      "image/png": "[encoded data removed]",
      "text/plain": [
       "<Figure size 432x288 with 1 Axes>"
      ]
     },
     "metadata": {
      "needs_background": "light"
     },
     "output_type": "display_data"
    }
   ],
   "source": [
    "zip_codes = top_five.index\n",
    "home_values = top_five['home_value']\n",
    "\n",
    "# Create a bar chart with Seaborn\n",
    "sns.barplot(x=zip_codes, y=home_values)\n",
    "\n",
    "# Add labels and show the plot\n",
    "plt.xlabel('Zip code')\n",
    "plt.ylabel('Average home value')\n",
    "plt.title('Zillow Top five zip codes by average home value')\n",
    "plt.show()"
   ]
  },
  {
   "cell_type": "code",
   "execution_count": 16,
   "id": "138a246f",
   "metadata": {},
   "outputs": [
    {
     "data": {
      "image/png": "[encoded data removed]",
      "text/plain": [
       "<Figure size 432x288 with 1 Axes>"
      ]
     },
     "metadata": {
      "needs_background": "light"
     },
     "output_type": "display_data"
    }
   ],
   "source": [
    "x = top_five.index\n",
    "y = top_five['home_value']\n",
    "\n",
    "sns.scatterplot(x=x, y=y)\n",
    "\n",
    "# Add labels and show the plot\n",
    "plt.xlabel('Date')\n",
    "plt.ylabel('Home value')\n",
    "plt.title('Scatter plot of home values over time')\n",
    "plt.show()"
   ]
  },
  {
   "cell_type": "code",
   "execution_count": 19,
   "id": "a8fe610f",
   "metadata": {},
   "outputs": [
    {
     "data": {
      "image/png": "[encoded data removed]",
      "text/plain": [
       "<Figure size 432x288 with 1 Axes>"
      ]
     },
     "metadata": {
      "needs_background": "light"
     },
     "output_type": "display_data"
    }
   ],
   "source": [
    "x = df['home_value']\n",
    "\n",
    "# Create a histogram with Seaborn\n",
    "sns.histplot(x=x)\n",
    "\n",
    "# Add labels and show the plot\n",
    "plt.xlabel('Home value(dollars) in millions')\n",
    "plt.ylabel('Total Homes')\n",
    "plt.title('Zillow Home Values Vs Total Number of Homes ')\n",
    "plt.show()"
   ]
  },
  {
   "cell_type": "code",
   "execution_count": null,
   "id": "f2f0825d",
   "metadata": {},
   "outputs": [],
   "source": [
    "top_five[]"
   ]
  },
  {
   "cell_type": "markdown",
   "id": "44f4a7cf",
   "metadata": {},
   "source": [
    "BOTTOM FIVE"
   ]
  },
  {
   "cell_type": "code",
   "execution_count": null,
   "id": "bc6d5f14",
   "metadata": {},
   "outputs": [],
   "source": []
  },
  {
   "cell_type": "code",
   "execution_count": null,
   "id": "7b8b6fa1",
   "metadata": {},
   "outputs": [],
   "source": [
    "zip_codes = df.groupby(\"zip_code\")[\"home_value\"].mean()\n",
    "\n",
    "# Convert the Series to a DataFrame and sort it by the average in descending order\n",
    "zip_codes_df = zip_codes.to_frame().sort_values(\"home_value\", ascending=False)\n",
    "\n",
    "# Select the top five rows\n",
    "bottom_five = zip_codes_df.tail(5)\n",
    "\n",
    "# Print the top five zip codes and their average home value\n",
    "print(bottom_five)"
   ]
  },
  {
   "cell_type": "code",
   "execution_count": null,
   "id": "a89ab13e",
   "metadata": {},
   "outputs": [],
   "source": [
    "zip_codes = bottom_five.index\n",
    "home_values = bottom_five['home_value']\n",
    "\n",
    "# Create a bar chart with Seaborn\n",
    "sns.barplot(x=zip_codes, y=home_values)\n",
    "\n",
    "# Add labels and show the plot\n",
    "plt.xlabel('Zip code')\n",
    "plt.ylabel('Average home value')\n",
    "plt.title('Top five zip codes by average home value')\n",
    "plt.show()"
   ]
  },
  {
   "cell_type": "code",
   "execution_count": null,
   "id": "9e1376d2",
   "metadata": {},
   "outputs": [],
   "source": []
  },
  {
   "cell_type": "code",
   "execution_count": null,
   "id": "7156c331",
   "metadata": {
    "scrolled": false
   },
   "outputs": [],
   "source": [
    "\n",
    "pivot_table = df.pivot_table(index=\"date\", columns=\"borough\", values=\"rounded_values\")\n",
    "\n",
    "print(pivot_table)"
   ]
  },
  {
   "cell_type": "code",
   "execution_count": null,
   "id": "fd8fc4df",
   "metadata": {},
   "outputs": [],
   "source": []
  },
  {
   "cell_type": "code",
   "execution_count": null,
   "id": "924579da",
   "metadata": {},
   "outputs": [],
   "source": []
  },
  {
   "cell_type": "code",
   "execution_count": null,
   "id": "4de55ce8",
   "metadata": {},
   "outputs": [],
   "source": []
  },
  {
   "cell_type": "code",
   "execution_count": null,
   "id": "b980f600",
   "metadata": {},
   "outputs": [],
   "source": [
    "# Extract the 'BRONX' and 'BROOKLYN' columns as separate samples\n",
    "sample1 = pivot_table[\"BRONX\"]\n",
    "sample2 = pivot_table[\"BROOKLYN\"]\n",
    "\n",
    "# Perform the t-test\n",
    "t_statistic, p_value = ttest_ind(sample1, sample2)\n",
    "\n",
    "print(f\"t-statistic: {t_statistic}\")\n",
    "print(f\"p-value: {p_value}\")"
   ]
  },
  {
   "cell_type": "code",
   "execution_count": null,
   "id": "61310f5e",
   "metadata": {},
   "outputs": [],
   "source": [
    "means = pivot_table[[\"BRONX\", \"BROOKLYN\"]].mean()\n",
    "\n",
    "# Perform the t-test\n",
    "t_statistic, p_value = ttest_ind(pivot_table[\"BRONX\"], pivot_table[\"BROOKLYN\"])\n",
    "\n",
    "# Create a bar chart\n",
    "plt.bar(means.index, means.values)\n",
    "\n",
    "# Add a line showing the t-statistic\n",
    "plt.axhline(t_statistic, color='r', linestyle=\"--\")\n",
    "\n",
    "# Add labels and show the plot\n",
    "plt.xlabel(\"Borough\")\n",
    "plt.ylabel(\"Mean value\")\n",
    "plt.title(\"Mean values by borough (t-test)\")\n",
    "plt.show()"
   ]
  },
  {
   "cell_type": "code",
   "execution_count": null,
   "id": "d90ca6bf",
   "metadata": {},
   "outputs": [],
   "source": [
    "sns.barplot(x=means.index, y=means.values)\n",
    "\n",
    "# Add a line showing the t-statistic\n",
    "plt.axhline(t_statistic, color='r', linestyle='--')\n",
    "\n",
    "# Add labels and show the plot\n",
    "plt.xlabel('Borough')\n",
    "plt.ylabel('Mean value')\n",
    "plt.title('Mean values by borough (t-test)')\n",
    "plt.show()"
   ]
  },
  {
   "cell_type": "code",
   "execution_count": null,
   "id": "9fc17b77",
   "metadata": {},
   "outputs": [],
   "source": []
  },
  {
   "cell_type": "code",
   "execution_count": null,
   "id": "576a927b",
   "metadata": {},
   "outputs": [],
   "source": []
  },
  {
   "cell_type": "code",
   "execution_count": null,
   "id": "c17da8ca",
   "metadata": {},
   "outputs": [],
   "source": [
    "sample1 = pivot_table[\"BRONX\"]\n",
    "sample2 = pivot_table[\"BROOKLYN\"]\n",
    "sample3 = pivot_table[\"MANHATTAN\"]\n",
    "sample4 = pivot_table[\"QUEENS\"]\n",
    "sample4 = pivot_table[\"STATEN_ISLAND\"]\n",
    "# Perform the ANOVA test\n",
    "f_statistic, p_value = f_oneway(sample1, sample2, sample3, sample4)\n",
    "\n",
    "print(f\"F-statistic: {f_statistic}\")\n",
    "print(f\"p-value: {p_value}\")"
   ]
  },
  {
   "cell_type": "code",
   "execution_count": null,
   "id": "4fd25348",
   "metadata": {},
   "outputs": [],
   "source": [
    "\n",
    "# Calculate the means of the 'BRONX', 'BROOKLYN', 'MANHATTAN', and 'QUEENS' columns\n",
    "means = pivot_table[[\"BRONX\", \"BROOKLYN\", \"MANHATTAN\", \"QUEENS\",\"STATEN_ISLAND\"]].mean()\n",
    "\n",
    "# Create a bar chart\n",
    "plt.bar(means.index, means.values)\n",
    "\n",
    "# Add labels and show the plot\n",
    "plt.xlabel('Borough')\n",
    "plt.ylabel('Mean value')\n",
    "plt.title('Mean values by borough')\n",
    "plt.show()"
   ]
  },
  {
   "cell_type": "code",
   "execution_count": null,
   "id": "a62f96da",
   "metadata": {},
   "outputs": [],
   "source": []
  },
  {
   "cell_type": "code",
   "execution_count": null,
   "id": "9b179463",
   "metadata": {},
   "outputs": [],
   "source": [
    "before_2002 = zhome_values_zip.columns[9:33]\n",
    "remaining_columns = ['RegionID', 'SizeRank', 'RegionType', 'StateName', 'Metro']"
   ]
  },
  {
   "cell_type": "code",
   "execution_count": null,
   "id": "8d935ea9",
   "metadata": {},
   "outputs": [],
   "source": [
    "print(before_2002)\n",
    "print(remaining_columns)"
   ]
  },
  {
   "cell_type": "code",
   "execution_count": null,
   "id": "57717844",
   "metadata": {},
   "outputs": [],
   "source": [
    "# df = df.drop(df.columns[[0, 1, 3]], axis=1)\n",
    "\n",
    "#dropping columns from data frame we dont need 8 = jan 2000. 31 = dec 2002. 0 = Regiontype. 4=statename. 6= metro. \n",
    "df = df.drop(before_2002, axis=1)\n",
    "df = df.drop(remaining_columns, axis=1)"
   ]
  },
  {
   "cell_type": "code",
   "execution_count": null,
   "id": "61a79855",
   "metadata": {},
   "outputs": [],
   "source": [
    "#new dataframe\n",
    "\n",
    "df.columns"
   ]
  },
  {
   "cell_type": "code",
   "execution_count": null,
   "id": "d1dc827f",
   "metadata": {},
   "outputs": [],
   "source": [
    "# creating new dataframe with the name of the columns replaced\n",
    "\n",
    "#df2 = df.rename({'a': 'X', 'b': 'Y'}, axis=1)\n",
    "\n",
    "new_column_df = df.rename({'RegionName' : 'zip', 'State' : 'state',\n",
    "                                           'City' : 'city', 'CountyName' : 'borough'}, axis = 1)"
   ]
  },
  {
   "cell_type": "code",
   "execution_count": null,
   "id": "b8439544",
   "metadata": {},
   "outputs": [],
   "source": [
    "#new dataframe with columns renamed\n",
    "\n",
    "new_column_df"
   ]
  },
  {
   "cell_type": "code",
   "execution_count": null,
   "id": "474bc13f",
   "metadata": {},
   "outputs": [],
   "source": [
    "#df = df.melt(id_vars=[\"location\", \"name\"], \n",
    "#         var_name=\"Date\", \n",
    "#         value_name=\"Value\"\n",
    "\n",
    "#replacing the '2002-01-31 colums to 'Date' and assiging their values.\n",
    "\n",
    "df2 = new_column_df.melt(id_vars=['zip', 'state', 'city', 'borough'], \n",
    "                                                       var_name= \"date\", \n",
    "                                                       value_name= \"home_value\")"
   ]
  },
  {
   "cell_type": "code",
   "execution_count": null,
   "id": "87ae12bb",
   "metadata": {},
   "outputs": [],
   "source": [
    "#new columns with dates as rows\n",
    "\n",
    "df2.columns"
   ]
  },
  {
   "cell_type": "code",
   "execution_count": null,
   "id": "c3007327",
   "metadata": {},
   "outputs": [],
   "source": [
    "df2"
   ]
  },
  {
   "cell_type": "code",
   "execution_count": null,
   "id": "f2362d49",
   "metadata": {},
   "outputs": [],
   "source": [
    "#changing date column to datetime\n",
    "df2['date'] = pd.to_datetime(df2['date'])"
   ]
  },
  {
   "cell_type": "code",
   "execution_count": null,
   "id": "1ca471d2",
   "metadata": {
    "scrolled": true
   },
   "outputs": [],
   "source": [
    "#    li = ['Albert', 'Louis', 'John']\n",
    "#    df[df.name.isin(li)]\n",
    "\n",
    "#creating new df where only the word NY pulls from the State column.\n",
    "\n",
    "ny_column = ['NY']\n",
    "\n",
    "ny_home_values = df2[df2.state.isin(ny_column)]"
   ]
  },
  {
   "cell_type": "code",
   "execution_count": null,
   "id": "b7c9e4db",
   "metadata": {
    "scrolled": false
   },
   "outputs": [],
   "source": [
    "#new data frame with the column, state, only has NY\n",
    "\n",
    "ny_home_values"
   ]
  },
  {
   "cell_type": "code",
   "execution_count": null,
   "id": "ccafb260",
   "metadata": {},
   "outputs": [],
   "source": [
    "#selecting only 5 boro counties in county_name column\n",
    "# Only NYC\n",
    "five_boros = ny_home_values[ny_home_values['borough'].isin(['Queens County', 'New York County', 'Bronx County', 'Richmond County', 'Kings County'])]"
   ]
  },
  {
   "cell_type": "code",
   "execution_count": null,
   "id": "980873d2",
   "metadata": {
    "scrolled": false
   },
   "outputs": [],
   "source": [
    "# new dataframe\n",
    "five_boros"
   ]
  },
  {
   "cell_type": "code",
   "execution_count": null,
   "id": "06578596",
   "metadata": {},
   "outputs": [],
   "source": [
    "mapper = {\n",
    "    \"Bronx County\": \"BRONX\",\n",
    "    \"Kings County\":\"BROOKLYN\",\n",
    "    \"Queens County\": \"QUEENS\",\n",
    "    \"Richmond County\": \"STATEN_ISLAND\",\n",
    "    \"New York County\": \"MANHATTAN\"\n",
    "}"
   ]
  },
  {
   "cell_type": "code",
   "execution_count": null,
   "id": "4b97dcf0",
   "metadata": {},
   "outputs": [],
   "source": [
    "five_boros.loc[\"borough\"] = five_boros[\"borough\"].replace(mapper)"
   ]
  },
  {
   "cell_type": "code",
   "execution_count": null,
   "id": "f9fd20e2",
   "metadata": {},
   "outputs": [],
   "source": [
    "five_boros = five_boros.dropna()"
   ]
  },
  {
   "cell_type": "code",
   "execution_count": null,
   "id": "4690d303",
   "metadata": {
    "scrolled": true
   },
   "outputs": [],
   "source": [
    "five_boros.sort_values(by = ['date'], ascending = True)"
   ]
  },
  {
   "cell_type": "code",
   "execution_count": null,
   "id": "ba417a90",
   "metadata": {},
   "outputs": [],
   "source": []
  },
  {
   "cell_type": "code",
   "execution_count": null,
   "id": "7db62aac",
   "metadata": {},
   "outputs": [],
   "source": [
    "pivot_table = five_boros.pivot_table(index=\"date\", columns=\"borough\", values=\"home_value\")"
   ]
  },
  {
   "cell_type": "code",
   "execution_count": null,
   "id": "efdd2d9a",
   "metadata": {},
   "outputs": [],
   "source": []
  },
  {
   "cell_type": "code",
   "execution_count": null,
   "id": "553c39c2",
   "metadata": {},
   "outputs": [],
   "source": []
  },
  {
   "cell_type": "code",
   "execution_count": null,
   "id": "c7dac631",
   "metadata": {},
   "outputs": [],
   "source": []
  },
  {
   "cell_type": "code",
   "execution_count": null,
   "id": "b7fd7021",
   "metadata": {},
   "outputs": [],
   "source": [
    "five_boros.groupby('borough')['home_value'].mean().plot.bar()"
   ]
  },
  {
   "cell_type": "code",
   "execution_count": null,
   "id": "74aeb9a6",
   "metadata": {},
   "outputs": [],
   "source": [
    "# Find average price of borough over time\n",
    "formatted_monthly = five_boros[\"date\"].dt.to_period(\"M\")"
   ]
  },
  {
   "cell_type": "code",
   "execution_count": null,
   "id": "896a4c70",
   "metadata": {},
   "outputs": [],
   "source": [
    "monthly_mean_home_value = five_boros.groupby(formatted_monthly)[\"home_value\"].mean().to_frame()"
   ]
  },
  {
   "cell_type": "code",
   "execution_count": null,
   "id": "a52b2ff6",
   "metadata": {},
   "outputs": [],
   "source": [
    "# The average home price in New York City after the year 2002\n",
    "monthly_mean_home_value.plot.line()"
   ]
  },
  {
   "cell_type": "code",
   "execution_count": null,
   "id": "fc00a9f3",
   "metadata": {},
   "outputs": [],
   "source": [
    "def create_mean_borough_home_value(five_boros, boro_name):\n",
    "    return five_boros[five_boros[\"borough\"] == boro_name].groupby(formatted_monthly)[\"home_value\"].mean().to_frame()"
   ]
  },
  {
   "cell_type": "code",
   "execution_count": null,
   "id": "a0daebe1",
   "metadata": {},
   "outputs": [],
   "source": [
    "all_boros = [\"BRONX\", \"MANHATTAN\", \"QUEENS\", \"BROOKLYN\", \"STATEN_ISLAND\"]\n",
    "avg_boro_home_price = [{\"name\": boro_name, \"chart\": create_mean_borough_home_value(five_boros, boro_name)}  for boro_name in all_boros]"
   ]
  },
  {
   "cell_type": "code",
   "execution_count": null,
   "id": "d9e5ff06",
   "metadata": {},
   "outputs": [],
   "source": [
    "# Average home price of each borough over time\n",
    "print(avg_boro_home_price[0][\"chart\"].plot.line(title=avg_boro_home_price[0][\"name\"]))"
   ]
  },
  {
   "cell_type": "code",
   "execution_count": null,
   "id": "14679dfb",
   "metadata": {},
   "outputs": [],
   "source": [
    "print(avg_boro_home_price[1][\"chart\"].plot.line(title=avg_boro_home_price[1][\"name\"]))"
   ]
  },
  {
   "cell_type": "code",
   "execution_count": null,
   "id": "3932095b",
   "metadata": {},
   "outputs": [],
   "source": [
    "print(avg_boro_home_price[2][\"chart\"].plot.line(title=avg_boro_home_price[2][\"name\"]))"
   ]
  },
  {
   "cell_type": "code",
   "execution_count": null,
   "id": "53dc71ff",
   "metadata": {},
   "outputs": [],
   "source": [
    "print(avg_boro_home_price[3][\"chart\"].plot.line(title=avg_boro_home_price[3][\"name\"]))"
   ]
  },
  {
   "cell_type": "code",
   "execution_count": null,
   "id": "d652446d",
   "metadata": {},
   "outputs": [],
   "source": [
    "print(avg_boro_home_price[4][\"chart\"].plot.line(title=avg_boro_home_price[4][\"name\"]))"
   ]
  },
  {
   "cell_type": "code",
   "execution_count": null,
   "id": "3f466489",
   "metadata": {},
   "outputs": [],
   "source": []
  },
  {
   "cell_type": "code",
   "execution_count": null,
   "id": "d99e1d9b",
   "metadata": {},
   "outputs": [],
   "source": [
    "#chart using seaborn\n",
    "#sns.barplot(data = pd.DataFrame(ex_7_1(df)).reset_index(), x = 'BOROUGH', y = 0)\n",
    "sns.barplot(data = pd.DataFrame(five_boros).reset_index(), x = 'borough', y = 'home_value')"
   ]
  },
  {
   "cell_type": "code",
   "execution_count": null,
   "id": "793eca13",
   "metadata": {},
   "outputs": [],
   "source": [
    "# CONTINGENCY TABLE"
   ]
  },
  {
   "cell_type": "code",
   "execution_count": null,
   "id": "1a795c35",
   "metadata": {},
   "outputs": [],
   "source": [
    "ax = sns.heatmap(my_contingency_table, cmap=\"Reds\")\n",
    "ax.set_title(\"Primary type vs. Location description (counts)\")"
   ]
  },
  {
   "cell_type": "code",
   "execution_count": null,
   "id": "eb016d04",
   "metadata": {},
   "outputs": [],
   "source": []
  },
  {
   "cell_type": "code",
   "execution_count": null,
   "id": "7473c51c",
   "metadata": {},
   "outputs": [],
   "source": []
  },
  {
   "cell_type": "code",
   "execution_count": null,
   "id": "994754a5",
   "metadata": {},
   "outputs": [],
   "source": [
    "#### CODES i was just fooling around with"
   ]
  },
  {
   "cell_type": "code",
   "execution_count": null,
   "id": "36fe8717",
   "metadata": {},
   "outputs": [],
   "source": [
    "axes = df_filtered.plot.line(\n",
    "...     subplots=True, color={\"county_name\": \"pink\", \"date\": \"red\", \"zip\": \"green\"})"
   ]
  },
  {
   "cell_type": "code",
   "execution_count": null,
   "id": "1a638bad",
   "metadata": {},
   "outputs": [],
   "source": [
    "drop_nulls = five_boros[five_boros[\"home_value\"].isnull() == True]['date'].unique()"
   ]
  },
  {
   "cell_type": "code",
   "execution_count": null,
   "id": "ec20dcf8",
   "metadata": {},
   "outputs": [],
   "source": [
    "drop_nulls = pd.DataFrame(drop_nulls)"
   ]
  },
  {
   "cell_type": "code",
   "execution_count": null,
   "id": "dd6550da",
   "metadata": {},
   "outputs": [],
   "source": []
  },
  {
   "cell_type": "code",
   "execution_count": null,
   "id": "a1e03408",
   "metadata": {},
   "outputs": [],
   "source": [
    "five_boros['county_name'] = five_boros['county_name'].astype(str)"
   ]
  },
  {
   "cell_type": "code",
   "execution_count": null,
   "id": "245ee66e",
   "metadata": {},
   "outputs": [],
   "source": [
    "five_boros = df_filtered[df_filtered[\"home_value\"].isnull() == True]['date'].unique()"
   ]
  },
  {
   "cell_type": "code",
   "execution_count": null,
   "id": "bd3d10e8",
   "metadata": {},
   "outputs": [],
   "source": [
    "from datetime import datetime\n",
    "\n",
    "inputDateList.sort(key=lambda date: datetime.strptime(date, \"%m-%Y\"))"
   ]
  },
  {
   "cell_type": "code",
   "execution_count": null,
   "id": "b710d591",
   "metadata": {},
   "outputs": [],
   "source": []
  },
  {
   "cell_type": "code",
   "execution_count": null,
   "id": "0de5f5b7",
   "metadata": {},
   "outputs": [],
   "source": [
    ".sort_values() #when organizing data in the column \n",
    ".astype #convert from int to str to float "
   ]
  }
 ],
 "metadata": {
  "kernelspec": {
   "display_name": "Python 3 (ipykernel)",
   "language": "python",
   "name": "python3"
  },
  "language_info": {
   "codemirror_mode": {
    "name": "ipython",
    "version": 3
   },
   "file_extension": ".py",
   "mimetype": "text/x-python",
   "name": "python",
   "nbconvert_exporter": "python",
   "pygments_lexer": "ipython3",
   "version": "3.9.12"
  }
 },
 "nbformat": 4,
 "nbformat_minor": 5
}
