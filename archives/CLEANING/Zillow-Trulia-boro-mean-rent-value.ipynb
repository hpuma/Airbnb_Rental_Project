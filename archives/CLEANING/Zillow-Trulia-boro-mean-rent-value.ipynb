{
 "cells": [
  {
   "cell_type": "code",
   "execution_count": 1,
   "id": "4bd81bae",
   "metadata": {},
   "outputs": [],
   "source": [
    "import random\n",
    "import os\n",
    "import pandas as pd\n",
    "import numpy as np\n",
    "import matplotlib.pyplot as plt\n",
    "import seaborn as sns\n",
    "from scipy.stats import chi2_contingency\n",
    "#import pingouin\n",
    "from datetime import datetime\n",
    "from matplotlib.pyplot import figure\n"
   ]
  },
  {
   "cell_type": "code",
   "execution_count": 2,
   "id": "95276388",
   "metadata": {
    "scrolled": true
   },
   "outputs": [
    {
     "data": {
      "text/html": [
       "<div>\n",
       "<style scoped>\n",
       "    .dataframe tbody tr th:only-of-type {\n",
       "        vertical-align: middle;\n",
       "    }\n",
       "\n",
       "    .dataframe tbody tr th {\n",
       "        vertical-align: top;\n",
       "    }\n",
       "\n",
       "    .dataframe thead th {\n",
       "        text-align: right;\n",
       "    }\n",
       "</style>\n",
       "<table border=\"1\" class=\"dataframe\">\n",
       "  <thead>\n",
       "    <tr style=\"text-align: right;\">\n",
       "      <th></th>\n",
       "      <th>zip_code</th>\n",
       "      <th>state</th>\n",
       "      <th>city</th>\n",
       "      <th>borough</th>\n",
       "      <th>date</th>\n",
       "      <th>zillow_mean_rent</th>\n",
       "    </tr>\n",
       "  </thead>\n",
       "  <tbody>\n",
       "    <tr>\n",
       "      <th>0</th>\n",
       "      <td>11385</td>\n",
       "      <td>NY</td>\n",
       "      <td>New York</td>\n",
       "      <td>QUEENS</td>\n",
       "      <td>2015-03-31</td>\n",
       "      <td>2216</td>\n",
       "    </tr>\n",
       "    <tr>\n",
       "      <th>1</th>\n",
       "      <td>10467</td>\n",
       "      <td>NY</td>\n",
       "      <td>New York</td>\n",
       "      <td>BRONX</td>\n",
       "      <td>2015-03-31</td>\n",
       "      <td>1303</td>\n",
       "    </tr>\n",
       "    <tr>\n",
       "      <th>2</th>\n",
       "      <td>11226</td>\n",
       "      <td>NY</td>\n",
       "      <td>New York</td>\n",
       "      <td>BROOKLYN</td>\n",
       "      <td>2015-03-31</td>\n",
       "      <td>1909</td>\n",
       "    </tr>\n",
       "    <tr>\n",
       "      <th>3</th>\n",
       "      <td>11220</td>\n",
       "      <td>NY</td>\n",
       "      <td>New York</td>\n",
       "      <td>BROOKLYN</td>\n",
       "      <td>2015-03-31</td>\n",
       "      <td>1686</td>\n",
       "    </tr>\n",
       "    <tr>\n",
       "      <th>4</th>\n",
       "      <td>11207</td>\n",
       "      <td>NY</td>\n",
       "      <td>New York</td>\n",
       "      <td>BROOKLYN</td>\n",
       "      <td>2015-03-31</td>\n",
       "      <td>2113</td>\n",
       "    </tr>\n",
       "    <tr>\n",
       "      <th>...</th>\n",
       "      <td>...</td>\n",
       "      <td>...</td>\n",
       "      <td>...</td>\n",
       "      <td>...</td>\n",
       "      <td>...</td>\n",
       "      <td>...</td>\n",
       "    </tr>\n",
       "    <tr>\n",
       "      <th>8731</th>\n",
       "      <td>10282</td>\n",
       "      <td>NY</td>\n",
       "      <td>New York</td>\n",
       "      <td>MANHATTAN</td>\n",
       "      <td>2022-10-31</td>\n",
       "      <td>7836</td>\n",
       "    </tr>\n",
       "    <tr>\n",
       "      <th>8732</th>\n",
       "      <td>10069</td>\n",
       "      <td>NY</td>\n",
       "      <td>New York</td>\n",
       "      <td>MANHATTAN</td>\n",
       "      <td>2022-10-31</td>\n",
       "      <td>5778</td>\n",
       "    </tr>\n",
       "    <tr>\n",
       "      <th>8733</th>\n",
       "      <td>10004</td>\n",
       "      <td>NY</td>\n",
       "      <td>New York</td>\n",
       "      <td>MANHATTAN</td>\n",
       "      <td>2022-10-31</td>\n",
       "      <td>4823</td>\n",
       "    </tr>\n",
       "    <tr>\n",
       "      <th>8734</th>\n",
       "      <td>10006</td>\n",
       "      <td>NY</td>\n",
       "      <td>New York</td>\n",
       "      <td>MANHATTAN</td>\n",
       "      <td>2022-10-31</td>\n",
       "      <td>4180</td>\n",
       "    </tr>\n",
       "    <tr>\n",
       "      <th>8735</th>\n",
       "      <td>11109</td>\n",
       "      <td>NY</td>\n",
       "      <td>New York</td>\n",
       "      <td>QUEENS</td>\n",
       "      <td>2022-10-31</td>\n",
       "      <td>4121</td>\n",
       "    </tr>\n",
       "  </tbody>\n",
       "</table>\n",
       "<p>8736 rows × 6 columns</p>\n",
       "</div>"
      ],
      "text/plain": [
       "      zip_code state      city    borough       date  zillow_mean_rent\n",
       "0        11385    NY  New York     QUEENS 2015-03-31              2216\n",
       "1        10467    NY  New York      BRONX 2015-03-31              1303\n",
       "2        11226    NY  New York   BROOKLYN 2015-03-31              1909\n",
       "3        11220    NY  New York   BROOKLYN 2015-03-31              1686\n",
       "4        11207    NY  New York   BROOKLYN 2015-03-31              2113\n",
       "...        ...   ...       ...        ...        ...               ...\n",
       "8731     10282    NY  New York  MANHATTAN 2022-10-31              7836\n",
       "8732     10069    NY  New York  MANHATTAN 2022-10-31              5778\n",
       "8733     10004    NY  New York  MANHATTAN 2022-10-31              4823\n",
       "8734     10006    NY  New York  MANHATTAN 2022-10-31              4180\n",
       "8735     11109    NY  New York     QUEENS 2022-10-31              4121\n",
       "\n",
       "[8736 rows x 6 columns]"
      ]
     },
     "execution_count": 2,
     "metadata": {},
     "output_type": "execute_result"
    }
   ],
   "source": [
    "zrent = pd.read_csv(\"./data/clean/zrentals.csv\")\n",
    "\n",
    "\n",
    "zrent[\"zip_code\"] = zrent[\"zip_code\"].apply(int)\n",
    "zrent[\"date\"] = pd.to_datetime(zrent[\"date\"])\n",
    "zrent[\"borough\"] = zrent[\"borough\"].apply(str)\n",
    "zrent[\"city\"] = zrent[\"city\"].apply(str)\n",
    "zrent[\"mean_rent\"] = zrent[\"mean_rent\"].apply(float)\n",
    "zrent = zrent.rename(columns={\"mean_rent\" : \"zillow_mean_rent\"})\n",
    "zrent"
   ]
  },
  {
   "cell_type": "code",
   "execution_count": 3,
   "id": "f4023117",
   "metadata": {},
   "outputs": [
    {
     "data": {
      "text/html": [
       "<div>\n",
       "<style scoped>\n",
       "    .dataframe tbody tr th:only-of-type {\n",
       "        vertical-align: middle;\n",
       "    }\n",
       "\n",
       "    .dataframe tbody tr th {\n",
       "        vertical-align: top;\n",
       "    }\n",
       "\n",
       "    .dataframe thead th {\n",
       "        text-align: right;\n",
       "    }\n",
       "</style>\n",
       "<table border=\"1\" class=\"dataframe\">\n",
       "  <thead>\n",
       "    <tr style=\"text-align: right;\">\n",
       "      <th></th>\n",
       "      <th>address</th>\n",
       "      <th>borough</th>\n",
       "      <th>zip_code</th>\n",
       "      <th>trulia_rent_price</th>\n",
       "      <th>listing_url</th>\n",
       "      <th>Borough</th>\n",
       "    </tr>\n",
       "  </thead>\n",
       "  <tbody>\n",
       "    <tr>\n",
       "      <th>0</th>\n",
       "      <td>2600 Netherland Ave Bronx, NY 10463</td>\n",
       "      <td>QUEENS</td>\n",
       "      <td>11385</td>\n",
       "      <td>2245.0</td>\n",
       "      <td>https://www.trulia.com/c/ny/bronx/the-century-...</td>\n",
       "      <td>Bronx</td>\n",
       "    </tr>\n",
       "    <tr>\n",
       "      <th>1</th>\n",
       "      <td>2600 Netherland Ave Bronx, NY 10463</td>\n",
       "      <td>BRONX</td>\n",
       "      <td>10467</td>\n",
       "      <td>2600.0</td>\n",
       "      <td>https://www.trulia.com/c/ny/bronx/the-century-...</td>\n",
       "      <td>Bronx</td>\n",
       "    </tr>\n",
       "    <tr>\n",
       "      <th>2</th>\n",
       "      <td>2600 Netherland Ave Bronx, NY 10463</td>\n",
       "      <td>BROOKLYN</td>\n",
       "      <td>11226</td>\n",
       "      <td>3675.0</td>\n",
       "      <td>https://www.trulia.com/c/ny/bronx/the-century-...</td>\n",
       "      <td>Bronx</td>\n",
       "    </tr>\n",
       "    <tr>\n",
       "      <th>3</th>\n",
       "      <td>939 Woodycrest Ave Bronx, NY 10452</td>\n",
       "      <td>BROOKLYN</td>\n",
       "      <td>11220</td>\n",
       "      <td>1581.0</td>\n",
       "      <td>https://www.trulia.com/c/ny/bronx/noonan-tower...</td>\n",
       "      <td>Bronx</td>\n",
       "    </tr>\n",
       "    <tr>\n",
       "      <th>4</th>\n",
       "      <td>939 Woodycrest Ave Bronx, NY 10452</td>\n",
       "      <td>BROOKLYN</td>\n",
       "      <td>11207</td>\n",
       "      <td>1904.0</td>\n",
       "      <td>https://www.trulia.com/c/ny/bronx/noonan-tower...</td>\n",
       "      <td>Bronx</td>\n",
       "    </tr>\n",
       "    <tr>\n",
       "      <th>...</th>\n",
       "      <td>...</td>\n",
       "      <td>...</td>\n",
       "      <td>...</td>\n",
       "      <td>...</td>\n",
       "      <td>...</td>\n",
       "      <td>...</td>\n",
       "    </tr>\n",
       "    <tr>\n",
       "      <th>1039</th>\n",
       "      <td>1 Eagle St Brooklyn, NY 11222</td>\n",
       "      <td>BROOKLYN</td>\n",
       "      <td>11237</td>\n",
       "      <td>7885.0</td>\n",
       "      <td>https://www.trulia.com/c/ny/brooklyn/eagle-wes...</td>\n",
       "      <td>Brooklyn</td>\n",
       "    </tr>\n",
       "    <tr>\n",
       "      <th>1040</th>\n",
       "      <td>1 Eagle St Brooklyn, NY 11222</td>\n",
       "      <td>MANHATTAN</td>\n",
       "      <td>10028</td>\n",
       "      <td>11690.0</td>\n",
       "      <td>https://www.trulia.com/c/ny/brooklyn/eagle-wes...</td>\n",
       "      <td>Brooklyn</td>\n",
       "    </tr>\n",
       "    <tr>\n",
       "      <th>1041</th>\n",
       "      <td>377 E 33rd St Manhattan, NY 10016</td>\n",
       "      <td>BROOKLYN</td>\n",
       "      <td>11228</td>\n",
       "      <td>3715.0</td>\n",
       "      <td>https://www.trulia.com/c/ny/new-york/the-lanth...</td>\n",
       "      <td>Queens</td>\n",
       "    </tr>\n",
       "    <tr>\n",
       "      <th>1042</th>\n",
       "      <td>377 E 33rd St Manhattan, NY 10016</td>\n",
       "      <td>BROOKLYN</td>\n",
       "      <td>11205</td>\n",
       "      <td>4247.0</td>\n",
       "      <td>https://www.trulia.com/c/ny/new-york/the-lanth...</td>\n",
       "      <td>Queens</td>\n",
       "    </tr>\n",
       "    <tr>\n",
       "      <th>1043</th>\n",
       "      <td>377 E 33rd St Manhattan, NY 10016</td>\n",
       "      <td>MANHATTAN</td>\n",
       "      <td>10040</td>\n",
       "      <td>4937.0</td>\n",
       "      <td>https://www.trulia.com/c/ny/new-york/the-lanth...</td>\n",
       "      <td>Queens</td>\n",
       "    </tr>\n",
       "  </tbody>\n",
       "</table>\n",
       "<p>1044 rows × 6 columns</p>\n",
       "</div>"
      ],
      "text/plain": [
       "                                  address    borough  zip_code  \\\n",
       "0     2600 Netherland Ave Bronx, NY 10463     QUEENS     11385   \n",
       "1     2600 Netherland Ave Bronx, NY 10463      BRONX     10467   \n",
       "2     2600 Netherland Ave Bronx, NY 10463   BROOKLYN     11226   \n",
       "3      939 Woodycrest Ave Bronx, NY 10452   BROOKLYN     11220   \n",
       "4      939 Woodycrest Ave Bronx, NY 10452   BROOKLYN     11207   \n",
       "...                                   ...        ...       ...   \n",
       "1039        1 Eagle St Brooklyn, NY 11222   BROOKLYN     11237   \n",
       "1040        1 Eagle St Brooklyn, NY 11222  MANHATTAN     10028   \n",
       "1041    377 E 33rd St Manhattan, NY 10016   BROOKLYN     11228   \n",
       "1042    377 E 33rd St Manhattan, NY 10016   BROOKLYN     11205   \n",
       "1043    377 E 33rd St Manhattan, NY 10016  MANHATTAN     10040   \n",
       "\n",
       "      trulia_rent_price                                        listing_url  \\\n",
       "0                2245.0  https://www.trulia.com/c/ny/bronx/the-century-...   \n",
       "1                2600.0  https://www.trulia.com/c/ny/bronx/the-century-...   \n",
       "2                3675.0  https://www.trulia.com/c/ny/bronx/the-century-...   \n",
       "3                1581.0  https://www.trulia.com/c/ny/bronx/noonan-tower...   \n",
       "4                1904.0  https://www.trulia.com/c/ny/bronx/noonan-tower...   \n",
       "...                 ...                                                ...   \n",
       "1039             7885.0  https://www.trulia.com/c/ny/brooklyn/eagle-wes...   \n",
       "1040            11690.0  https://www.trulia.com/c/ny/brooklyn/eagle-wes...   \n",
       "1041             3715.0  https://www.trulia.com/c/ny/new-york/the-lanth...   \n",
       "1042             4247.0  https://www.trulia.com/c/ny/new-york/the-lanth...   \n",
       "1043             4937.0  https://www.trulia.com/c/ny/new-york/the-lanth...   \n",
       "\n",
       "       Borough  \n",
       "0        Bronx  \n",
       "1        Bronx  \n",
       "2        Bronx  \n",
       "3        Bronx  \n",
       "4        Bronx  \n",
       "...        ...  \n",
       "1039  Brooklyn  \n",
       "1040  Brooklyn  \n",
       "1041    Queens  \n",
       "1042    Queens  \n",
       "1043    Queens  \n",
       "\n",
       "[1044 rows x 6 columns]"
      ]
     },
     "execution_count": 3,
     "metadata": {},
     "output_type": "execute_result"
    }
   ],
   "source": [
    "trulia = pd.read_csv(\"./data/clean/trulia.csv\")\n",
    "trulia = trulia.rename(columns={\"County\": \"borough\", \"Address\": \"address\", \"Zip\":\"zip_code\",\n",
    "                                \"Listing Url\": \"listing_url\", \"price\" : \"trulia_rent_price\"})\n",
    "trulia[\"zip_code\"] = zrent[\"zip_code\"].apply(int)\n",
    "trulia[\"borough\"] = zrent[\"borough\"].apply(str)\n",
    "#trulia[\"trulia_rent_price\"] = trulia[\"trulia_rent_price\"].dropna()\n",
    "#trulia[\"address\"] = zrent[\"address\"].apply(str)\n",
    "trulia = trulia.dropna(subset=['trulia_rent_price'])\n",
    "\n",
    "trulia"
   ]
  },
  {
   "cell_type": "code",
   "execution_count": 4,
   "id": "1da021e1",
   "metadata": {},
   "outputs": [],
   "source": [
    "zmean_rent_data = zrent[['zip_code', 'borough', 'zillow_mean_rent']]\n",
    "trulia_price_data = trulia[['zip_code', 'borough', 'trulia_rent_price']]"
   ]
  },
  {
   "cell_type": "code",
   "execution_count": null,
   "id": "5571b536",
   "metadata": {
    "scrolled": true
   },
   "outputs": [],
   "source": []
  },
  {
   "cell_type": "code",
   "execution_count": 5,
   "id": "28e956bc",
   "metadata": {},
   "outputs": [
    {
     "ename": "NameError",
     "evalue": "name 'mean_rent_data' is not defined",
     "output_type": "error",
     "traceback": [
      "\u001b[0;31m---------------------------------------------------------------------------\u001b[0m",
      "\u001b[0;31mNameError\u001b[0m                                 Traceback (most recent call last)",
      "Input \u001b[0;32mIn [5]\u001b[0m, in \u001b[0;36m<cell line: 1>\u001b[0;34m()\u001b[0m\n\u001b[0;32m----> 1\u001b[0m mean_rent_grouped \u001b[38;5;241m=\u001b[39m \u001b[43mmean_rent_data\u001b[49m\u001b[38;5;241m.\u001b[39mgroupby([\u001b[38;5;124m'\u001b[39m\u001b[38;5;124mzip_code\u001b[39m\u001b[38;5;124m'\u001b[39m, \u001b[38;5;124m'\u001b[39m\u001b[38;5;124mborough\u001b[39m\u001b[38;5;124m'\u001b[39m])\n\u001b[1;32m      2\u001b[0m price_grouped \u001b[38;5;241m=\u001b[39m price_data\u001b[38;5;241m.\u001b[39mgroupby([\u001b[38;5;124m'\u001b[39m\u001b[38;5;124mzip_code\u001b[39m\u001b[38;5;124m'\u001b[39m, \u001b[38;5;124m'\u001b[39m\u001b[38;5;124mborough\u001b[39m\u001b[38;5;124m'\u001b[39m])\n",
      "\u001b[0;31mNameError\u001b[0m: name 'mean_rent_data' is not defined"
     ]
    }
   ],
   "source": [
    "mean_rent_grouped = mean_rent_data.groupby(['zip_code', 'borough'])\n",
    "price_grouped = price_data.groupby(['zip_code', 'borough'])"
   ]
  },
  {
   "cell_type": "code",
   "execution_count": null,
   "id": "d03369a1",
   "metadata": {},
   "outputs": [],
   "source": [
    "def top_n(df, n, column):\n",
    "    return df.nlargest(n, column)\n",
    "\n",
    "top_mean_rent = mean_rent_grouped.apply(top_n, n=5, column='mean_rent')\n",
    "top_price = price_grouped.apply(top_n, n=5, column='price')"
   ]
  },
  {
   "cell_type": "code",
   "execution_count": null,
   "id": "a3aa28be",
   "metadata": {},
   "outputs": [],
   "source": [
    "plt.plot(top_mean_rent['zip_code'], top_mean_rent['mean_rent'], label='Zillo Mean Rent')\n",
    "plt.plot(top_price['zip_code'], top_price['price'], label='Trulia Rent Price')\n",
    "plt.legend()\n",
    "plt.show()"
   ]
  },
  {
   "cell_type": "code",
   "execution_count": null,
   "id": "c090cb99",
   "metadata": {},
   "outputs": [],
   "source": []
  },
  {
   "cell_type": "code",
   "execution_count": null,
   "id": "cadd1d8a",
   "metadata": {},
   "outputs": [],
   "source": []
  },
  {
   "cell_type": "code",
   "execution_count": null,
   "id": "01a454ce",
   "metadata": {},
   "outputs": [],
   "source": []
  },
  {
   "cell_type": "code",
   "execution_count": null,
   "id": "f4474140",
   "metadata": {},
   "outputs": [],
   "source": []
  },
  {
   "cell_type": "code",
   "execution_count": null,
   "id": "262846f8",
   "metadata": {},
   "outputs": [],
   "source": []
  },
  {
   "cell_type": "code",
   "execution_count": null,
   "id": "7bf491a4",
   "metadata": {},
   "outputs": [],
   "source": []
  },
  {
   "cell_type": "code",
   "execution_count": 6,
   "id": "77916af7",
   "metadata": {
    "scrolled": true
   },
   "outputs": [],
   "source": [
    "zillowtrulia = pd.merge(zmean_rent_data, trulia_price_data, on=['zip_code', 'borough'], how='inner')\n"
   ]
  },
  {
   "cell_type": "code",
   "execution_count": 7,
   "id": "6d5c8c25",
   "metadata": {},
   "outputs": [],
   "source": [
    "#zillowtrulia = zillowtrulia.dropna(subset=[''])"
   ]
  },
  {
   "cell_type": "code",
   "execution_count": 10,
   "id": "0ab176b1",
   "metadata": {},
   "outputs": [],
   "source": [
    "# drop duplicate columns\n",
    "zillowtrulia = zillowtrulia.drop_duplicates(subset='zip_code')"
   ]
  },
  {
   "cell_type": "code",
   "execution_count": 11,
   "id": "10767faa",
   "metadata": {
    "scrolled": true
   },
   "outputs": [
    {
     "data": {
      "text/html": [
       "<div>\n",
       "<style scoped>\n",
       "    .dataframe tbody tr th:only-of-type {\n",
       "        vertical-align: middle;\n",
       "    }\n",
       "\n",
       "    .dataframe tbody tr th {\n",
       "        vertical-align: top;\n",
       "    }\n",
       "\n",
       "    .dataframe thead th {\n",
       "        text-align: right;\n",
       "    }\n",
       "</style>\n",
       "<table border=\"1\" class=\"dataframe\">\n",
       "  <thead>\n",
       "    <tr style=\"text-align: right;\">\n",
       "      <th></th>\n",
       "      <th>zip_code</th>\n",
       "      <th>borough</th>\n",
       "      <th>zillow_mean_rent</th>\n",
       "      <th>trulia_rent_price</th>\n",
       "    </tr>\n",
       "  </thead>\n",
       "  <tbody>\n",
       "    <tr>\n",
       "      <th>0</th>\n",
       "      <td>11385</td>\n",
       "      <td>QUEENS</td>\n",
       "      <td>2216</td>\n",
       "      <td>2245.0</td>\n",
       "    </tr>\n",
       "    <tr>\n",
       "      <th>1196</th>\n",
       "      <td>10467</td>\n",
       "      <td>BRONX</td>\n",
       "      <td>1303</td>\n",
       "      <td>2600.0</td>\n",
       "    </tr>\n",
       "    <tr>\n",
       "      <th>2392</th>\n",
       "      <td>11226</td>\n",
       "      <td>BROOKLYN</td>\n",
       "      <td>1909</td>\n",
       "      <td>3675.0</td>\n",
       "    </tr>\n",
       "    <tr>\n",
       "      <th>3588</th>\n",
       "      <td>11220</td>\n",
       "      <td>BROOKLYN</td>\n",
       "      <td>1686</td>\n",
       "      <td>1581.0</td>\n",
       "    </tr>\n",
       "    <tr>\n",
       "      <th>4784</th>\n",
       "      <td>11207</td>\n",
       "      <td>BROOKLYN</td>\n",
       "      <td>2113</td>\n",
       "      <td>1904.0</td>\n",
       "    </tr>\n",
       "    <tr>\n",
       "      <th>...</th>\n",
       "      <td>...</td>\n",
       "      <td>...</td>\n",
       "      <td>...</td>\n",
       "      <td>...</td>\n",
       "    </tr>\n",
       "    <tr>\n",
       "      <th>92623</th>\n",
       "      <td>11109</td>\n",
       "      <td>QUEENS</td>\n",
       "      <td>2790</td>\n",
       "      <td>2355.0</td>\n",
       "    </tr>\n",
       "    <tr>\n",
       "      <th>93727</th>\n",
       "      <td>11223</td>\n",
       "      <td>BROOKLYN</td>\n",
       "      <td>1514</td>\n",
       "      <td>3470.0</td>\n",
       "    </tr>\n",
       "    <tr>\n",
       "      <th>94819</th>\n",
       "      <td>10034</td>\n",
       "      <td>MANHATTAN</td>\n",
       "      <td>1827</td>\n",
       "      <td>5810.0</td>\n",
       "    </tr>\n",
       "    <tr>\n",
       "      <th>95620</th>\n",
       "      <td>10280</td>\n",
       "      <td>MANHATTAN</td>\n",
       "      <td>3430</td>\n",
       "      <td>3088.0</td>\n",
       "    </tr>\n",
       "    <tr>\n",
       "      <th>95784</th>\n",
       "      <td>10314</td>\n",
       "      <td>STATEN_ISLAND</td>\n",
       "      <td>1134</td>\n",
       "      <td>3868.0</td>\n",
       "    </tr>\n",
       "  </tbody>\n",
       "</table>\n",
       "<p>85 rows × 4 columns</p>\n",
       "</div>"
      ],
      "text/plain": [
       "       zip_code        borough  zillow_mean_rent  trulia_rent_price\n",
       "0         11385         QUEENS              2216             2245.0\n",
       "1196      10467          BRONX              1303             2600.0\n",
       "2392      11226       BROOKLYN              1909             3675.0\n",
       "3588      11220       BROOKLYN              1686             1581.0\n",
       "4784      11207       BROOKLYN              2113             1904.0\n",
       "...         ...            ...               ...                ...\n",
       "92623     11109         QUEENS              2790             2355.0\n",
       "93727     11223       BROOKLYN              1514             3470.0\n",
       "94819     10034      MANHATTAN              1827             5810.0\n",
       "95620     10280      MANHATTAN              3430             3088.0\n",
       "95784     10314  STATEN_ISLAND              1134             3868.0\n",
       "\n",
       "[85 rows x 4 columns]"
      ]
     },
     "execution_count": 11,
     "metadata": {},
     "output_type": "execute_result"
    }
   ],
   "source": [
    "zillowtrulia"
   ]
  },
  {
   "cell_type": "code",
   "execution_count": null,
   "id": "bc90110d",
   "metadata": {},
   "outputs": [],
   "source": []
  },
  {
   "cell_type": "code",
   "execution_count": 14,
   "id": "326acba7",
   "metadata": {},
   "outputs": [
    {
     "name": "stderr",
     "output_type": "stream",
     "text": [
      "/var/folders/2r/0fj15shj34z2mbldl18cp9kc0000gp/T/ipykernel_2972/298806855.py:1: FutureWarning: Indexing with multiple keys (implicitly converted to a tuple of keys) will be deprecated, use a list instead.\n",
      "  averages = zillowtrulia.groupby('borough')['zillow_mean_rent','trulia_rent_price'].mean().reset_index()\n"
     ]
    }
   ],
   "source": [
    "averages = zillowtrulia.groupby('borough')['zillow_mean_rent','trulia_rent_price'].mean().reset_index()"
   ]
  },
  {
   "cell_type": "code",
   "execution_count": 15,
   "id": "6b05c9e9",
   "metadata": {},
   "outputs": [
    {
     "data": {
      "image/png": "[encoded data removed]",
      "text/plain": [
       "<Figure size 432x288 with 1 Axes>"
      ]
     },
     "metadata": {
      "needs_background": "light"
     },
     "output_type": "display_data"
    }
   ],
   "source": [
    "\n",
    "sns.barplot(data=averages, x='borough', y='trulia_rent_price')\n",
    "plt.show()"
   ]
  },
  {
   "cell_type": "code",
   "execution_count": 16,
   "id": "eeff4780",
   "metadata": {},
   "outputs": [
    {
     "data": {
      "image/png": "[encoded data removed]",
      "text/plain": [
       "<Figure size 432x288 with 1 Axes>"
      ]
     },
     "metadata": {
      "needs_background": "light"
     },
     "output_type": "display_data"
    }
   ],
   "source": [
    "sns.barplot(data=averages, x='borough', y='zillow_mean_rent')\n",
    "plt.show()"
   ]
  },
  {
   "cell_type": "code",
   "execution_count": 22,
   "id": "410c5e70",
   "metadata": {
    "scrolled": true
   },
   "outputs": [
    {
     "data": {
      "image/png": "[encoded data removed]",
      "text/plain": [
       "<Figure size 432x288 with 1 Axes>"
      ]
     },
     "metadata": {
      "needs_background": "light"
     },
     "output_type": "display_data"
    }
   ],
   "source": [
    "sns.regplot(data=zillowtrulia, x='zillow_mean_rent', y='trulia_rent_price',scatter_kws={\"color\": \"orange\"}, line_kws={\"color\" : \"grey\"})\n",
    "plt.xlabel('Zillow Rent Price')\n",
    "plt.ylabel('Trulia Rent Price')\n",
    "plt.title(\"Zillow vs Trulia Rent Price\")\n",
    "plt.show()"
   ]
  },
  {
   "cell_type": "code",
   "execution_count": 23,
   "id": "82181c07",
   "metadata": {},
   "outputs": [
    {
     "data": {
      "image/png": "[encoded data removed]",
      "text/plain": [
       "<Figure size 432x288 with 1 Axes>"
      ]
     },
     "metadata": {
      "needs_background": "light"
     },
     "output_type": "display_data"
    }
   ],
   "source": [
    "sns.regplot(data=averages, x='zillow_mean_rent', y='trulia_rent_price',scatter_kws={\"color\": \"orange\"}, line_kws={\"color\" : \"grey\"})\n",
    "plt.xlabel('Zillow Rent Price')\n",
    "plt.ylabel('Trulia Rent Price')\n",
    "plt.title(\"Zillow vs Trulia Rent Price\")\n",
    "plt.show()"
   ]
  },
  {
   "cell_type": "markdown",
   "id": "c1d33b2c",
   "metadata": {},
   "source": [
    "Analyzing the chart below, the homes with a value of approximately 500,000 usd have the most listings on airbnb. Although appealing homes that cross the 2 million threshold are very few, less than 250"
   ]
  },
  {
   "cell_type": "code",
   "execution_count": null,
   "id": "2ad9bba5",
   "metadata": {},
   "outputs": [],
   "source": []
  },
  {
   "cell_type": "code",
   "execution_count": null,
   "id": "a23caeb2",
   "metadata": {},
   "outputs": [],
   "source": []
  },
  {
   "cell_type": "code",
   "execution_count": null,
   "id": "2bd5f96a",
   "metadata": {},
   "outputs": [],
   "source": []
  },
  {
   "cell_type": "code",
   "execution_count": 19,
   "id": "0d4bdb3e",
   "metadata": {},
   "outputs": [
    {
     "data": {
      "image/png": "[encoded data removed]",
      "text/plain": [
       "<Figure size 432x288 with 1 Axes>"
      ]
     },
     "metadata": {
      "needs_background": "light"
     },
     "output_type": "display_data"
    }
   ],
   "source": [
    "import matplotlib.pyplot as plt\n",
    "from numpy import polyfit\n",
    "\n",
    "x = zillowtrulia['zillow_mean_rent']\n",
    "y = zillowtrulia['trulia_rent_price']\n",
    "\n",
    "b, m = polyfit(x, y, 1)\n",
    "plt.scatter(x, y)\n",
    "plt.plot(x, b + m * x, '-')\n",
    "plt.xlabel('Zillow Rent Price')\n",
    "plt.ylabel('Trulia Rent Price')\n",
    "plt.show()"
   ]
  },
  {
   "cell_type": "code",
   "execution_count": null,
   "id": "e26460e1",
   "metadata": {},
   "outputs": [],
   "source": []
  },
  {
   "cell_type": "code",
   "execution_count": null,
   "id": "8dc93e86",
   "metadata": {},
   "outputs": [],
   "source": []
  },
  {
   "cell_type": "code",
   "execution_count": 12,
   "id": "d634d3fd",
   "metadata": {},
   "outputs": [
    {
     "ename": "KeyError",
     "evalue": "\"['mean_rent'] not in index\"",
     "output_type": "error",
     "traceback": [
      "\u001b[0;31m---------------------------------------------------------------------------\u001b[0m",
      "\u001b[0;31mKeyError\u001b[0m                                  Traceback (most recent call last)",
      "Input \u001b[0;32mIn [12]\u001b[0m, in \u001b[0;36m<cell line: 4>\u001b[0;34m()\u001b[0m\n\u001b[1;32m      2\u001b[0m columns_to_keep2 \u001b[38;5;241m=\u001b[39m [\u001b[38;5;124m\"\u001b[39m\u001b[38;5;124mzip_code\u001b[39m\u001b[38;5;124m\"\u001b[39m,\u001b[38;5;124m\"\u001b[39m\u001b[38;5;124mprice\u001b[39m\u001b[38;5;124m\"\u001b[39m,\u001b[38;5;124m\"\u001b[39m\u001b[38;5;124mborough\u001b[39m\u001b[38;5;124m\"\u001b[39m]\n\u001b[1;32m      3\u001b[0m \u001b[38;5;66;03m# Merge the DataFrames and drop unnecessary columns\u001b[39;00m\n\u001b[0;32m----> 4\u001b[0m zillow_trulia \u001b[38;5;241m=\u001b[39m pd\u001b[38;5;241m.\u001b[39mmerge(\u001b[43mzrent\u001b[49m\u001b[43m[\u001b[49m\u001b[43mcolumns_to_keep1\u001b[49m\u001b[43m]\u001b[49m, trulia[columns_to_keep2], on\u001b[38;5;241m=\u001b[39m[\u001b[38;5;124m\"\u001b[39m\u001b[38;5;124mzip_code\u001b[39m\u001b[38;5;124m\"\u001b[39m,\u001b[38;5;124m\"\u001b[39m\u001b[38;5;124mborough\u001b[39m\u001b[38;5;124m\"\u001b[39m])\n\u001b[1;32m      5\u001b[0m zillow_trulia \u001b[38;5;241m=\u001b[39m zillow_trulia\u001b[38;5;241m.\u001b[39mdropna()\n",
      "File \u001b[0;32m~/anaconda3/lib/python3.9/site-packages/pandas/core/frame.py:3511\u001b[0m, in \u001b[0;36mDataFrame.__getitem__\u001b[0;34m(self, key)\u001b[0m\n\u001b[1;32m   3509\u001b[0m     \u001b[38;5;28;01mif\u001b[39;00m is_iterator(key):\n\u001b[1;32m   3510\u001b[0m         key \u001b[38;5;241m=\u001b[39m \u001b[38;5;28mlist\u001b[39m(key)\n\u001b[0;32m-> 3511\u001b[0m     indexer \u001b[38;5;241m=\u001b[39m \u001b[38;5;28;43mself\u001b[39;49m\u001b[38;5;241;43m.\u001b[39;49m\u001b[43mcolumns\u001b[49m\u001b[38;5;241;43m.\u001b[39;49m\u001b[43m_get_indexer_strict\u001b[49m\u001b[43m(\u001b[49m\u001b[43mkey\u001b[49m\u001b[43m,\u001b[49m\u001b[43m \u001b[49m\u001b[38;5;124;43m\"\u001b[39;49m\u001b[38;5;124;43mcolumns\u001b[39;49m\u001b[38;5;124;43m\"\u001b[39;49m\u001b[43m)\u001b[49m[\u001b[38;5;241m1\u001b[39m]\n\u001b[1;32m   3513\u001b[0m \u001b[38;5;66;03m# take() does not accept boolean indexers\u001b[39;00m\n\u001b[1;32m   3514\u001b[0m \u001b[38;5;28;01mif\u001b[39;00m \u001b[38;5;28mgetattr\u001b[39m(indexer, \u001b[38;5;124m\"\u001b[39m\u001b[38;5;124mdtype\u001b[39m\u001b[38;5;124m\"\u001b[39m, \u001b[38;5;28;01mNone\u001b[39;00m) \u001b[38;5;241m==\u001b[39m \u001b[38;5;28mbool\u001b[39m:\n",
      "File \u001b[0;32m~/anaconda3/lib/python3.9/site-packages/pandas/core/indexes/base.py:5782\u001b[0m, in \u001b[0;36mIndex._get_indexer_strict\u001b[0;34m(self, key, axis_name)\u001b[0m\n\u001b[1;32m   5779\u001b[0m \u001b[38;5;28;01melse\u001b[39;00m:\n\u001b[1;32m   5780\u001b[0m     keyarr, indexer, new_indexer \u001b[38;5;241m=\u001b[39m \u001b[38;5;28mself\u001b[39m\u001b[38;5;241m.\u001b[39m_reindex_non_unique(keyarr)\n\u001b[0;32m-> 5782\u001b[0m \u001b[38;5;28;43mself\u001b[39;49m\u001b[38;5;241;43m.\u001b[39;49m\u001b[43m_raise_if_missing\u001b[49m\u001b[43m(\u001b[49m\u001b[43mkeyarr\u001b[49m\u001b[43m,\u001b[49m\u001b[43m \u001b[49m\u001b[43mindexer\u001b[49m\u001b[43m,\u001b[49m\u001b[43m \u001b[49m\u001b[43maxis_name\u001b[49m\u001b[43m)\u001b[49m\n\u001b[1;32m   5784\u001b[0m keyarr \u001b[38;5;241m=\u001b[39m \u001b[38;5;28mself\u001b[39m\u001b[38;5;241m.\u001b[39mtake(indexer)\n\u001b[1;32m   5785\u001b[0m \u001b[38;5;28;01mif\u001b[39;00m \u001b[38;5;28misinstance\u001b[39m(key, Index):\n\u001b[1;32m   5786\u001b[0m     \u001b[38;5;66;03m# GH 42790 - Preserve name from an Index\u001b[39;00m\n",
      "File \u001b[0;32m~/anaconda3/lib/python3.9/site-packages/pandas/core/indexes/base.py:5845\u001b[0m, in \u001b[0;36mIndex._raise_if_missing\u001b[0;34m(self, key, indexer, axis_name)\u001b[0m\n\u001b[1;32m   5842\u001b[0m     \u001b[38;5;28;01mraise\u001b[39;00m \u001b[38;5;167;01mKeyError\u001b[39;00m(\u001b[38;5;124mf\u001b[39m\u001b[38;5;124m\"\u001b[39m\u001b[38;5;124mNone of [\u001b[39m\u001b[38;5;132;01m{\u001b[39;00mkey\u001b[38;5;132;01m}\u001b[39;00m\u001b[38;5;124m] are in the [\u001b[39m\u001b[38;5;132;01m{\u001b[39;00maxis_name\u001b[38;5;132;01m}\u001b[39;00m\u001b[38;5;124m]\u001b[39m\u001b[38;5;124m\"\u001b[39m)\n\u001b[1;32m   5844\u001b[0m not_found \u001b[38;5;241m=\u001b[39m \u001b[38;5;28mlist\u001b[39m(ensure_index(key)[missing_mask\u001b[38;5;241m.\u001b[39mnonzero()[\u001b[38;5;241m0\u001b[39m]]\u001b[38;5;241m.\u001b[39munique())\n\u001b[0;32m-> 5845\u001b[0m \u001b[38;5;28;01mraise\u001b[39;00m \u001b[38;5;167;01mKeyError\u001b[39;00m(\u001b[38;5;124mf\u001b[39m\u001b[38;5;124m\"\u001b[39m\u001b[38;5;132;01m{\u001b[39;00mnot_found\u001b[38;5;132;01m}\u001b[39;00m\u001b[38;5;124m not in index\u001b[39m\u001b[38;5;124m\"\u001b[39m)\n",
      "\u001b[0;31mKeyError\u001b[0m: \"['mean_rent'] not in index\""
     ]
    }
   ],
   "source": [
    "columns_to_keep1 = [\"zip_code\",\"mean_rent\",\"borough\",\"date\"]\n",
    "columns_to_keep2 = [\"zip_code\",\"price\",\"borough\"]\n",
    "# Merge the DataFrames and drop unnecessary columns\n",
    "zillow_trulia = pd.merge(zrent[columns_to_keep1], trulia[columns_to_keep2], on=[\"zip_code\",\"borough\"])\n",
    "zillow_trulia = zillow_trulia.dropna()"
   ]
  },
  {
   "cell_type": "code",
   "execution_count": null,
   "id": "b85499de",
   "metadata": {},
   "outputs": [],
   "source": [
    "zillow_trulia.sample(50)"
   ]
  },
  {
   "cell_type": "code",
   "execution_count": null,
   "id": "508a3d34",
   "metadata": {},
   "outputs": [],
   "source": [
    "pivot_table = zillow_trulia.pivot_table(index=\"date\", columns=\"borough\", values=\"mean_rent\")\n",
    "\n",
    "print(pivot_table)"
   ]
  },
  {
   "cell_type": "code",
   "execution_count": null,
   "id": "5569c9ca",
   "metadata": {},
   "outputs": [],
   "source": []
  },
  {
   "cell_type": "code",
   "execution_count": null,
   "id": "8004c46f",
   "metadata": {},
   "outputs": [],
   "source": []
  },
  {
   "cell_type": "code",
   "execution_count": null,
   "id": "9c307307",
   "metadata": {},
   "outputs": [],
   "source": []
  },
  {
   "cell_type": "code",
   "execution_count": null,
   "id": "8a4a007a",
   "metadata": {
    "scrolled": true
   },
   "outputs": [],
   "source": [
    "\n",
    "\n",
    "avg_prices = zillow_trulia.groupby([\"zip_code\"])[[\"mean_rent\", \"price\"]].mean()\n",
    "avg_prices[\"mean_rent\"] = avg_prices[\"mean_rent\"].apply(int)\n",
    "avg_prices = avg_prices.dropna()\n",
    "# Sort the DataFrame by the mean rent in descending order\n",
    "avg_prices = avg_prices.sort_values(by=\"mean_rent\", ascending=False)\n",
    "avg_prices = avg_prices.sort_values(by=\"mean_rent\", ascending=False)\n",
    "\n",
    "# Select the top 5 zip codes\n",
    "top_5 = avg_prices.head(5)\n",
    "\n",
    "# Create a bar chart comparing the mean rent and home value for the top 5 zip codes\n",
    "top_5.plot.bar(y = [\"mean_rent\", \"price\"])\n",
    "\n",
    "plt.legend([\"zillow Mean rent\", \"Trulia Mean Rent\"])\n",
    "\n",
    "plt.xlabel(\"Top 5 Zip Codes\", fontsize=12, fontstyle=\"italic\", color=\"purple\")\n",
    "plt.ylabel(\"Rent Price in thousands\", fontsize=12, fontstyle='italic', color=\"brown\")\n",
    "plt.title(\"Average Rent from Trulia and Zillow by Zip Code\", fontsize=16, fontstyle=\"italic\", color=\"brown\")"
   ]
  },
  {
   "cell_type": "code",
   "execution_count": null,
   "id": "faf59e68",
   "metadata": {
    "scrolled": true
   },
   "outputs": [],
   "source": [
    "df1 = zrent[\"mean_rent\"].sort_values(ascending =False)\n",
    "df1"
   ]
  },
  {
   "cell_type": "code",
   "execution_count": null,
   "id": "96e81632",
   "metadata": {
    "scrolled": true
   },
   "outputs": [],
   "source": [
    "df2 = trulia[\"price\"].sort_values(ascending =False)\n",
    "df2"
   ]
  },
  {
   "cell_type": "code",
   "execution_count": null,
   "id": "8468c89e",
   "metadata": {},
   "outputs": [],
   "source": [
    "zrent.groupby([\"zip_code\"]).count()[\"mean_rent\"].sort_values(ascending=False).head(5)"
   ]
  },
  {
   "cell_type": "code",
   "execution_count": null,
   "id": "ec84627c",
   "metadata": {
    "scrolled": false
   },
   "outputs": [],
   "source": [
    "# Calculate the mean rent and price for each data frame\n",
    "mean_rent_1 = trulia.groupby('borough')['price'].mean()\n",
    "mean_price_1 = trulia.groupby('borough')['price'].mean()\n",
    "mean_rent_2 = zrent.groupby('borough')['mean_rent'].mean()\n",
    "mean_price_2 = zrent.groupby('borough')['mean_rent'].mean()\n",
    "\n",
    "# Sort the mean rent and price in descending order\n",
    "mean_rent_1 = mean_rent_1.sort_values(ascending=False)\n",
    "mean_price_1 = mean_price_1.sort_values(ascending=False)\n",
    "mean_rent_2 = mean_rent_2.sort_values(ascending=False)\n",
    "mean_price_2 = mean_price_2.sort_values(ascending=False)\n",
    "\n",
    "# Plot the mean rent and price for each data frame on separate graphs\n",
    "fig, (ax1, ax2) = plt.subplots(1, 2, figsize=(10, 5))\n",
    "ax1.plot(mean_price_1, 'b', label='price')\n",
    "ax1.set_xlabel('Borough')\n",
    "ax1.set_ylabel('Price per listing in thousands')\n",
    "ax1.set_title('Trulia price of Rent per Boro')\n",
    "ax1.legend()\n",
    "ax1.set_xticklabels(mean_rent_1.index, rotation=45)\n",
    "\n",
    "ax2.plot(mean_price_2, 'pink', label='mean_rent')\n",
    "ax2.set_xlabel('Borough')\n",
    "ax2.set_ylabel('Mean Rent in thousands')\n",
    "ax2.set_title('Zillow Mean Rent per Boro')\n",
    "ax2.legend()\n",
    "ax2.set_xticklabels(mean_rent_2.index, rotation=45)\n",
    "plt.show()\n"
   ]
  },
  {
   "cell_type": "code",
   "execution_count": null,
   "id": "42b29a64",
   "metadata": {
    "scrolled": true
   },
   "outputs": [],
   "source": [
    "mean_rent = zrent.groupby(['borough','zip_code'])['mean_rent'].mean()\n",
    "mean_price = trulia.groupby(['borough','zip_code'])['price'].mean()\n",
    "\n",
    "# Create a new DataFrame with the borough, zip code, and mean rent and price\n",
    "data = pd.DataFrame({'borough': mean_rent.index.get_level_values(0), \n",
    "                     'zip_code': mean_rent.index.get_level_values(1), \n",
    "                     'rent': mean_rent, \n",
    "                     'price': mean_price})\n",
    "\n",
    "# Create the correlation heat map\n",
    "sns.heatmap(data.corr(), annot=True)\n",
    "\n",
    "# Show the plot\n",
    "plt.show()\n",
    "\n",
    "# Pivot the DataFrame to create a matrix with the boroughs and zip codes as rows and columns\n"
   ]
  },
  {
   "cell_type": "code",
   "execution_count": null,
   "id": "55be8556",
   "metadata": {},
   "outputs": [],
   "source": [
    "mean_rent = zrent.groupby(['borough', 'zip_code'])['mean_rent'].mean()\n",
    "mean_price = trulia.groupby(['borough', 'zip_code'])['price'].mean()\n",
    "\n",
    "# Create a new DataFrame with the borough, zip code, and mean rent and price\n",
    "data = pd.DataFrame({'borough': mean_rent.index.get_level_values(0), \n",
    "                     'zip_code': mean_rent.index.get_level_values(1), \n",
    "                     'rent': mean_rent, \n",
    "                     'price': mean_price})\n",
    "\n",
    "# Pivot the DataFrame to create a matrix with the boroughs and zip codes as rows and columns\n",
    "#pivoted = data.pivot_table(index=['borough', 'zip_code'], columns=['zip_code', 'borough'], values=['rent', 'price'])\n",
    "\n",
    "# Create the correlation heat map\n",
    "sns.heatmap(data.corr(),cmap = 'coolwarm', annot=True)\n",
    "\n",
    "# Add a title and labels to the plot\n",
    "plt.title('Correlation Heat Map')\n",
    "plt.xlabel('Zip Code')\n",
    "plt.ylabel('Borough')\n",
    "\n",
    "# Show the plot\n",
    "plt.show()\n",
    "\n"
   ]
  },
  {
   "cell_type": "code",
   "execution_count": null,
   "id": "05e02971",
   "metadata": {},
   "outputs": [],
   "source": [
    "#zrent_max = zrent.groupby([\"zip_code\"] == \"10007\").max() \n",
    "\n",
    "zrent[zrent[\"zip_code\"] == 10007].groupby(\"zip_code\").count() \n",
    "\n",
    "\n"
   ]
  },
  {
   "cell_type": "code",
   "execution_count": null,
   "id": "80b6810e",
   "metadata": {
    "scrolled": false
   },
   "outputs": [],
   "source": [
    "avg_prices = avg_prices.sort_values(by=\"mean_rent\", ascending=False)\n",
    "\n",
    "# Select the top 5 zip codes\n",
    "last_5 = avg_prices.tail(5)\n",
    "\n",
    "last_5.plot.bar(y = [\"mean_rent\", \"price\"])\n",
    "\n",
    "plt.legend([\"zillow Mean rent\", \"Trulia Mean Rent\"])\n",
    "\n",
    "plt.xlabel(\"Lowest 5 Zip Codes\", fontsize=12, fontstyle=\"italic\", color=\"purple\")\n",
    "plt.ylabel(\"Rent Price in thousands\", fontsize=12, fontstyle='italic', color=\"brown\")\n",
    "plt.title(\"Average Rent from Trulia and Zillow by Zip Code\", fontsize=16, fontstyle=\"italic\", color=\"brown\")"
   ]
  },
  {
   "cell_type": "code",
   "execution_count": null,
   "id": "d8920a0b",
   "metadata": {},
   "outputs": [],
   "source": []
  }
 ],
 "metadata": {
  "kernelspec": {
   "display_name": "Python 3 (ipykernel)",
   "language": "python",
   "name": "python3"
  },
  "language_info": {
   "codemirror_mode": {
    "name": "ipython",
    "version": 3
   },
   "file_extension": ".py",
   "mimetype": "text/x-python",
   "name": "python",
   "nbconvert_exporter": "python",
   "pygments_lexer": "ipython3",
   "version": "3.9.12"
  }
 },
 "nbformat": 4,
 "nbformat_minor": 5
}
