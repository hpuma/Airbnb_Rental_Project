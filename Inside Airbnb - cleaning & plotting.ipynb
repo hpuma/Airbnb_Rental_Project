{
 "cells": [
  {
   "cell_type": "code",
   "execution_count": null,
   "id": "0d1004a9",
   "metadata": {},
   "outputs": [],
   "source": [
    "%pip install geopy"
   ]
  },
  {
   "cell_type": "code",
   "execution_count": 1,
   "id": "fae21ebd",
   "metadata": {},
   "outputs": [],
   "source": [
    "import os\n",
    "import pandas as pd\n",
    "import numpy as np\n",
    "import matplotlib.pyplot as plt\n",
    "import seaborn as sns\n",
    "import geopy as gp\n"
   ]
  },
  {
   "cell_type": "code",
   "execution_count": 2,
   "id": "519de83d",
   "metadata": {},
   "outputs": [],
   "source": [
    "#df = pd.read_csv('inside_airbnb_zip.csv.gz', index_col = False, compression='gzip', low_memory = False)\n",
    "copy_cols = ['id',\n",
    "            'scrape_id',\n",
    "            'last_scraped',\n",
    "            'host_id',\n",
    "            'host_name',\n",
    "            'host_since',\n",
    "            'host_location',\n",
    "            'host_listings_count',\n",
    "            'street',\n",
    "            'neighbourhood_cleansed',\n",
    "            'neighbourhood_group_cleansed',\n",
    "            'state',\n",
    "            'zipcode',\n",
    "            'smart_location',\n",
    "            'country',\n",
    "            'latitude',\n",
    "            'longitude',\n",
    "            'property_type',\n",
    "            'room_type',\n",
    "            'accommodates',\n",
    "            'bathrooms',\n",
    "            'bedrooms',\n",
    "            'availability_365']\n",
    "df = pd.read_csv('inside_airbnb_zip.csv', skipinitialspace=True, usecols=copy_cols, low_memory = False)\n"
   ]
  },
  {
   "cell_type": "code",
   "execution_count": 3,
   "id": "d24f4190",
   "metadata": {},
   "outputs": [],
   "source": [
    "df = df.rename(columns={'neighbourhood_group_cleansed': 'borough'})"
   ]
  },
  {
   "cell_type": "code",
   "execution_count": null,
   "id": "6b32885d",
   "metadata": {
    "scrolled": true
   },
   "outputs": [],
   "source": [
    "df.index"
   ]
  },
  {
   "cell_type": "code",
   "execution_count": 4,
   "id": "068cd77f",
   "metadata": {},
   "outputs": [
    {
     "data": {
      "text/plain": [
       "Index(['id', 'scrape_id', 'last_scraped', 'host_id', 'host_name', 'host_since',\n",
       "       'host_location', 'host_listings_count', 'street',\n",
       "       'neighbourhood_cleansed', 'borough', 'state', 'zipcode',\n",
       "       'smart_location', 'country', 'latitude', 'longitude', 'property_type',\n",
       "       'room_type', 'accommodates', 'bathrooms', 'bedrooms',\n",
       "       'availability_365'],\n",
       "      dtype='object')"
      ]
     },
     "execution_count": 4,
     "metadata": {},
     "output_type": "execute_result"
    }
   ],
   "source": [
    "df.keys()"
   ]
  },
  {
   "cell_type": "code",
   "execution_count": null,
   "id": "09c360cf",
   "metadata": {},
   "outputs": [],
   "source": [
    "df.dtypes"
   ]
  },
  {
   "cell_type": "code",
   "execution_count": null,
   "id": "b5cd31fe",
   "metadata": {},
   "outputs": [],
   "source": [
    "#pd.set_option('display.max_rows', None)\n",
    "#df.iloc[20896]\n",
    "#pd.reset_option(\"all\")"
   ]
  },
  {
   "cell_type": "code",
   "execution_count": 6,
   "id": "c94acff6",
   "metadata": {
    "scrolled": true
   },
   "outputs": [
    {
     "data": {
      "text/plain": [
       "29743    91766\n",
       "9821        1m\n",
       "38295    11954\n",
       "18408    11694\n",
       "42318    11694\n",
       "         ...  \n",
       "50768      NaN\n",
       "50770      NaN\n",
       "50800      NaN\n",
       "50949      NaN\n",
       "50958      NaN\n",
       "Name: zipcode, Length: 50968, dtype: object"
      ]
     },
     "execution_count": 6,
     "metadata": {},
     "output_type": "execute_result"
    }
   ],
   "source": [
    "df['last_scraped'] = pd.to_datetime(df['last_scraped'], infer_datetime_format = True )\n",
    "df['host_since'] = pd.to_datetime(df['host_since'], infer_datetime_format = True )\n",
    "\n",
    "#df.dtypes\n",
    "\n",
    "#df['zipcode'].sort_values(ascending=False)\n"
   ]
  },
  {
   "cell_type": "code",
   "execution_count": 7,
   "id": "039fc3e5",
   "metadata": {},
   "outputs": [],
   "source": [
    "df['host_listings_count'] = df['host_listings_count'].fillna('N/A')"
   ]
  },
  {
   "cell_type": "code",
   "execution_count": null,
   "id": "f0227e2d",
   "metadata": {
    "scrolled": false
   },
   "outputs": [],
   "source": [
    "#for item in copy_cols:\n",
    "    #df[item].unique()\n",
    "#df[df.duplicated(keep=False)] #checking which columns have duplicate values\n",
    "\n",
    "# looking at quick overview of unique values in some of our categorical columns\n",
    "\n",
    "unique_cols = ['host_location' , \n",
    "               'host_listings_count' , \n",
    "               'host_total_listings_count' , \n",
    "               'neighbourhood_cleansed' ,\n",
    "               'smart_location' ,\n",
    "               'borough' ,\n",
    "               'property_type' , \n",
    "               'room_type' , \n",
    "               'accommodates' , \n",
    "               'bathrooms', \n",
    "               'country' ,\n",
    "               'bedrooms']\n",
    "\n",
    "for item in unique_cols:\n",
    "    print(item , ' = ' , len(df[item].unique()) , 'unique values\\n', df[item].unique(), '\\n')\n"
   ]
  },
  {
   "cell_type": "code",
   "execution_count": null,
   "id": "f15114fd",
   "metadata": {
    "scrolled": true
   },
   "outputs": [],
   "source": [
    "df.loc[df['country'] == 'Uruguay']"
   ]
  },
  {
   "cell_type": "code",
   "execution_count": null,
   "id": "9c48f82e",
   "metadata": {
    "scrolled": true
   },
   "outputs": [],
   "source": [
    "df"
   ]
  },
  {
   "cell_type": "code",
   "execution_count": 8,
   "id": "fe80fa8e",
   "metadata": {
    "scrolled": false
   },
   "outputs": [],
   "source": [
    "#temp = df[df['zipcode'].isna() == True].copy()\n",
    "df['zipcode'] = df['zipcode'].fillna('N/A')\n",
    "temp = df[df['zipcode'].str.len() != 5]\n"
   ]
  },
  {
   "cell_type": "code",
   "execution_count": null,
   "id": "4e5a2eb7",
   "metadata": {},
   "outputs": [],
   "source": [
    "df['zipcode'] = df['zipcode'].fillna('N/A')\n",
    "test2 = df[df['zipcode'].str.len() != 5]\n",
    "test2['zipcode'].unique()\n",
    "\n",
    "#test2 = df['zipcode'].apply(lambda x: if len(x))"
   ]
  },
  {
   "cell_type": "code",
   "execution_count": 9,
   "id": "8f92b855",
   "metadata": {},
   "outputs": [],
   "source": [
    "def get_zipcode(df, geolocator, lat_field, lon_field, attempt=1, max_attempts=100):\n",
    "    try:\n",
    "        location = geolocator.reverse((df[lat_field], df[lon_field]), timeout=None)\n",
    "        return location.raw['address']['postcode']\n",
    "    except KeyError:\n",
    "        pass\n",
    "    except GeocoderTimedOut:\n",
    "        if attempt <= max_attempts:\n",
    "            return get_zipcode (df, attempt=attempt+1)\n",
    "        raise \n",
    "        \n",
    "geolocator = gp.Nominatim(user_agent='sercavfer@gmail.com')\n",
    "\n",
    "zipcodes = temp.apply(get_zipcode, axis=1, geolocator=geolocator, lat_field='latitude', lon_field='longitude')"
   ]
  },
  {
   "cell_type": "code",
   "execution_count": 10,
   "id": "a0780605",
   "metadata": {
    "scrolled": false
   },
   "outputs": [
    {
     "ename": "NameError",
     "evalue": "name 'z_test' is not defined",
     "output_type": "error",
     "traceback": [
      "\u001b[0;31m---------------------------------------------------------------------------\u001b[0m",
      "\u001b[0;31mNameError\u001b[0m                                 Traceback (most recent call last)",
      "\u001b[0;32m/var/folders/2y/7l8y_vkj01l4y5yq6yr69y0w0000gn/T/ipykernel_86917/1067551286.py\u001b[0m in \u001b[0;36m<module>\u001b[0;34m\u001b[0m\n\u001b[1;32m      5\u001b[0m \u001b[0mzip_replace_index\u001b[0m \u001b[0;34m=\u001b[0m \u001b[0mdf\u001b[0m\u001b[0;34m.\u001b[0m\u001b[0mindex\u001b[0m\u001b[0;34m.\u001b[0m\u001b[0misin\u001b[0m\u001b[0;34m(\u001b[0m\u001b[0mzip_copy\u001b[0m\u001b[0;34m.\u001b[0m\u001b[0mindex\u001b[0m\u001b[0;34m)\u001b[0m\u001b[0;34m\u001b[0m\u001b[0;34m\u001b[0m\u001b[0m\n\u001b[1;32m      6\u001b[0m \u001b[0;34m\u001b[0m\u001b[0m\n\u001b[0;32m----> 7\u001b[0;31m \u001b[0mdf\u001b[0m\u001b[0;34m.\u001b[0m\u001b[0mloc\u001b[0m\u001b[0;34m[\u001b[0m\u001b[0mzip_replace_index\u001b[0m\u001b[0;34m,\u001b[0m\u001b[0;34m'zipcode'\u001b[0m\u001b[0;34m]\u001b[0m \u001b[0;34m=\u001b[0m \u001b[0mz_test\u001b[0m\u001b[0;34m[\u001b[0m\u001b[0;34m'zipcode'\u001b[0m\u001b[0;34m]\u001b[0m\u001b[0;34m\u001b[0m\u001b[0;34m\u001b[0m\u001b[0m\n\u001b[0m",
      "\u001b[0;31mNameError\u001b[0m: name 'z_test' is not defined"
     ]
    }
   ],
   "source": [
    "zip_copy = zipcodes.copy()\n",
    "zip_copy = zip_copy.to_frame()\n",
    "zip_copy = zip_copy.rename(columns = {0:'zipcode'})\n",
    "\n",
    "zip_replace_index = df.index.isin(zip_copy.index)\n",
    "\n",
    "df.loc[zip_replace_index,'zipcode'] = z_test['zipcode']"
   ]
  },
  {
   "cell_type": "code",
   "execution_count": null,
   "id": "b1c84581",
   "metadata": {},
   "outputs": [],
   "source": []
  },
  {
   "cell_type": "code",
   "execution_count": null,
   "id": "bd441670",
   "metadata": {},
   "outputs": [],
   "source": [
    "#df.groupby(['zipcode'])['id'].count().plot(kind)\n",
    "\n",
    "df[df['zipcode'] == '91766']\n",
    "\n",
    "df.iloc[29743]"
   ]
  },
  {
   "cell_type": "code",
   "execution_count": null,
   "id": "f3ac29d3",
   "metadata": {
    "scrolled": true
   },
   "outputs": [],
   "source": [
    "'''Original Geopy test ... probably irrelevant now'''\n",
    "\n",
    "#def get_zipcode(df, geolocator, lat_field, lon_field):\n",
    "#    location = geolocator.reverse((df[lat_field], df[lon_field]))\n",
    "#    return location.raw['address']['postcode']\n",
    "\n",
    "\n",
    "#geolocator = gp.Nominatim(user_agent='sercavfer@gmail.com')\n",
    "\n",
    "#zipcodes = df.apply(get_zipcode, axis=1, geolocator=geolocator, lat_field='latitude', lon_field='longitude')"
   ]
  }
 ],
 "metadata": {
  "kernelspec": {
   "display_name": "Python 3 (ipykernel)",
   "language": "python",
   "name": "python3"
  },
  "language_info": {
   "codemirror_mode": {
    "name": "ipython",
    "version": 3
   },
   "file_extension": ".py",
   "mimetype": "text/x-python",
   "name": "python",
   "nbconvert_exporter": "python",
   "pygments_lexer": "ipython3",
   "version": "3.9.13"
  }
 },
 "nbformat": 4,
 "nbformat_minor": 5
}
