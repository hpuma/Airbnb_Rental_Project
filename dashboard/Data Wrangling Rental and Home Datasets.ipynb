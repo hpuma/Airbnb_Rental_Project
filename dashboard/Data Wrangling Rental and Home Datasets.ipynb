{
 "cells": [
  {
   "cell_type": "code",
   "execution_count": 26,
   "id": "af6200f2",
   "metadata": {},
   "outputs": [],
   "source": [
    "import pandas as pd"
   ]
  },
  {
   "cell_type": "markdown",
   "id": "b6e574e8",
   "metadata": {},
   "source": [
    "### Load data sets for airbnb, rental, and home"
   ]
  },
  {
   "cell_type": "code",
   "execution_count": 27,
   "id": "6f4f37d4",
   "metadata": {},
   "outputs": [],
   "source": [
    "airbnb = pd.read_csv(\"../data/clean/inside_airbnb_clean.gz\")\n",
    "rental = pd.read_csv(\"../data/clean/nyc_rental_prices.csv\")"
   ]
  },
  {
   "cell_type": "code",
   "execution_count": 28,
   "id": "5f7e0907",
   "metadata": {},
   "outputs": [
    {
     "data": {
      "text/html": [
       "<div>\n",
       "<style scoped>\n",
       "    .dataframe tbody tr th:only-of-type {\n",
       "        vertical-align: middle;\n",
       "    }\n",
       "\n",
       "    .dataframe tbody tr th {\n",
       "        vertical-align: top;\n",
       "    }\n",
       "\n",
       "    .dataframe thead th {\n",
       "        text-align: right;\n",
       "    }\n",
       "</style>\n",
       "<table border=\"1\" class=\"dataframe\">\n",
       "  <thead>\n",
       "    <tr style=\"text-align: right;\">\n",
       "      <th></th>\n",
       "      <th>id</th>\n",
       "      <th>last_scraped</th>\n",
       "      <th>host_id</th>\n",
       "      <th>host_name</th>\n",
       "      <th>neighbourhood</th>\n",
       "      <th>latitude</th>\n",
       "      <th>longitude</th>\n",
       "      <th>room_type</th>\n",
       "      <th>bedrooms</th>\n",
       "      <th>availability_365</th>\n",
       "      <th>calculated_host_listings_count</th>\n",
       "      <th>geom</th>\n",
       "      <th>zipcode</th>\n",
       "      <th>borough</th>\n",
       "      <th>year</th>\n",
       "      <th>availability_pct</th>\n",
       "    </tr>\n",
       "  </thead>\n",
       "  <tbody>\n",
       "    <tr>\n",
       "      <th>0</th>\n",
       "      <td>2539</td>\n",
       "      <td>2022-09-07</td>\n",
       "      <td>2787</td>\n",
       "      <td>John</td>\n",
       "      <td>Kensington</td>\n",
       "      <td>40.64529</td>\n",
       "      <td>-73.97238</td>\n",
       "      <td>Private room</td>\n",
       "      <td>1.0</td>\n",
       "      <td>356</td>\n",
       "      <td>9</td>\n",
       "      <td>40.64529,-73.97238</td>\n",
       "      <td>11218</td>\n",
       "      <td>BROOKLYN</td>\n",
       "      <td>2022</td>\n",
       "      <td>97.534247</td>\n",
       "    </tr>\n",
       "    <tr>\n",
       "      <th>1</th>\n",
       "      <td>5121</td>\n",
       "      <td>2022-09-07</td>\n",
       "      <td>7356</td>\n",
       "      <td>Garon</td>\n",
       "      <td>Bedford-Stuyvesant</td>\n",
       "      <td>40.68535</td>\n",
       "      <td>-73.95512</td>\n",
       "      <td>Private room</td>\n",
       "      <td>1.0</td>\n",
       "      <td>335</td>\n",
       "      <td>2</td>\n",
       "      <td>40.68535,-73.95512</td>\n",
       "      <td>11238</td>\n",
       "      <td>BROOKLYN</td>\n",
       "      <td>2022</td>\n",
       "      <td>91.780822</td>\n",
       "    </tr>\n",
       "    <tr>\n",
       "      <th>2</th>\n",
       "      <td>45910</td>\n",
       "      <td>2022-09-07</td>\n",
       "      <td>204539</td>\n",
       "      <td>Mark</td>\n",
       "      <td>Ridgewood</td>\n",
       "      <td>40.70309</td>\n",
       "      <td>-73.89963</td>\n",
       "      <td>Entire home/apt</td>\n",
       "      <td>5.0</td>\n",
       "      <td>365</td>\n",
       "      <td>6</td>\n",
       "      <td>40.70309,-73.89963</td>\n",
       "      <td>11385</td>\n",
       "      <td>QUEENS</td>\n",
       "      <td>2022</td>\n",
       "      <td>100.000000</td>\n",
       "    </tr>\n",
       "    <tr>\n",
       "      <th>3</th>\n",
       "      <td>5136</td>\n",
       "      <td>2022-09-07</td>\n",
       "      <td>7378</td>\n",
       "      <td>Rebecca</td>\n",
       "      <td>Sunset Park</td>\n",
       "      <td>40.66265</td>\n",
       "      <td>-73.99454</td>\n",
       "      <td>Entire home/apt</td>\n",
       "      <td>2.0</td>\n",
       "      <td>179</td>\n",
       "      <td>1</td>\n",
       "      <td>40.66265,-73.99454</td>\n",
       "      <td>11215</td>\n",
       "      <td>BROOKLYN</td>\n",
       "      <td>2022</td>\n",
       "      <td>49.041096</td>\n",
       "    </tr>\n",
       "    <tr>\n",
       "      <th>4</th>\n",
       "      <td>45935</td>\n",
       "      <td>2022-09-07</td>\n",
       "      <td>204586</td>\n",
       "      <td>L</td>\n",
       "      <td>Mott Haven</td>\n",
       "      <td>40.80635</td>\n",
       "      <td>-73.92201</td>\n",
       "      <td>Private room</td>\n",
       "      <td>1.0</td>\n",
       "      <td>83</td>\n",
       "      <td>1</td>\n",
       "      <td>40.80635,-73.92201</td>\n",
       "      <td>10454</td>\n",
       "      <td>BRONX</td>\n",
       "      <td>2022</td>\n",
       "      <td>22.739726</td>\n",
       "    </tr>\n",
       "  </tbody>\n",
       "</table>\n",
       "</div>"
      ],
      "text/plain": [
       "      id last_scraped  host_id host_name       neighbourhood  latitude  \\\n",
       "0   2539   2022-09-07     2787      John          Kensington  40.64529   \n",
       "1   5121   2022-09-07     7356     Garon  Bedford-Stuyvesant  40.68535   \n",
       "2  45910   2022-09-07   204539      Mark           Ridgewood  40.70309   \n",
       "3   5136   2022-09-07     7378   Rebecca         Sunset Park  40.66265   \n",
       "4  45935   2022-09-07   204586         L          Mott Haven  40.80635   \n",
       "\n",
       "   longitude        room_type  bedrooms  availability_365  \\\n",
       "0  -73.97238     Private room       1.0               356   \n",
       "1  -73.95512     Private room       1.0               335   \n",
       "2  -73.89963  Entire home/apt       5.0               365   \n",
       "3  -73.99454  Entire home/apt       2.0               179   \n",
       "4  -73.92201     Private room       1.0                83   \n",
       "\n",
       "   calculated_host_listings_count                geom  zipcode   borough  \\\n",
       "0                               9  40.64529,-73.97238    11218  BROOKLYN   \n",
       "1                               2  40.68535,-73.95512    11238  BROOKLYN   \n",
       "2                               6  40.70309,-73.89963    11385    QUEENS   \n",
       "3                               1  40.66265,-73.99454    11215  BROOKLYN   \n",
       "4                               1  40.80635,-73.92201    10454     BRONX   \n",
       "\n",
       "   year  availability_pct  \n",
       "0  2022         97.534247  \n",
       "1  2022         91.780822  \n",
       "2  2022        100.000000  \n",
       "3  2022         49.041096  \n",
       "4  2022         22.739726  "
      ]
     },
     "execution_count": 28,
     "metadata": {},
     "output_type": "execute_result"
    }
   ],
   "source": [
    "airbnb.head()"
   ]
  },
  {
   "cell_type": "code",
   "execution_count": 29,
   "id": "b313265f",
   "metadata": {},
   "outputs": [
    {
     "data": {
      "text/html": [
       "<div>\n",
       "<style scoped>\n",
       "    .dataframe tbody tr th:only-of-type {\n",
       "        vertical-align: middle;\n",
       "    }\n",
       "\n",
       "    .dataframe tbody tr th {\n",
       "        vertical-align: top;\n",
       "    }\n",
       "\n",
       "    .dataframe thead th {\n",
       "        text-align: right;\n",
       "    }\n",
       "</style>\n",
       "<table border=\"1\" class=\"dataframe\">\n",
       "  <thead>\n",
       "    <tr style=\"text-align: right;\">\n",
       "      <th></th>\n",
       "      <th>rent</th>\n",
       "      <th>borough</th>\n",
       "      <th>zipcode</th>\n",
       "      <th>year</th>\n",
       "    </tr>\n",
       "  </thead>\n",
       "  <tbody>\n",
       "    <tr>\n",
       "      <th>0</th>\n",
       "      <td>16000.0</td>\n",
       "      <td>MANHATTAN</td>\n",
       "      <td>10013</td>\n",
       "      <td>2022</td>\n",
       "    </tr>\n",
       "    <tr>\n",
       "      <th>1</th>\n",
       "      <td>8250.0</td>\n",
       "      <td>MANHATTAN</td>\n",
       "      <td>10012</td>\n",
       "      <td>2022</td>\n",
       "    </tr>\n",
       "    <tr>\n",
       "      <th>2</th>\n",
       "      <td>2200.0</td>\n",
       "      <td>MANHATTAN</td>\n",
       "      <td>10031</td>\n",
       "      <td>2022</td>\n",
       "    </tr>\n",
       "    <tr>\n",
       "      <th>3</th>\n",
       "      <td>13000.0</td>\n",
       "      <td>MANHATTAN</td>\n",
       "      <td>10011</td>\n",
       "      <td>2022</td>\n",
       "    </tr>\n",
       "    <tr>\n",
       "      <th>4</th>\n",
       "      <td>55000.0</td>\n",
       "      <td>MANHATTAN</td>\n",
       "      <td>10065</td>\n",
       "      <td>2022</td>\n",
       "    </tr>\n",
       "  </tbody>\n",
       "</table>\n",
       "</div>"
      ],
      "text/plain": [
       "      rent    borough  zipcode  year\n",
       "0  16000.0  MANHATTAN    10013  2022\n",
       "1   8250.0  MANHATTAN    10012  2022\n",
       "2   2200.0  MANHATTAN    10031  2022\n",
       "3  13000.0  MANHATTAN    10011  2022\n",
       "4  55000.0  MANHATTAN    10065  2022"
      ]
     },
     "execution_count": 29,
     "metadata": {},
     "output_type": "execute_result"
    }
   ],
   "source": [
    "rental.head()"
   ]
  },
  {
   "cell_type": "markdown",
   "id": "70abb37c",
   "metadata": {},
   "source": [
    "### Adjust \"borough\" columns \n",
    "1. Airbnb has STATEN ISLAND instead of STATEN_ISLAND\n",
    "2. Rental has THE BRONX and BRONX to represent the same borough"
   ]
  },
  {
   "cell_type": "code",
   "execution_count": 31,
   "id": "4718cb5c",
   "metadata": {},
   "outputs": [
    {
     "name": "stdout",
     "output_type": "stream",
     "text": [
      "airbnb ['BROOKLYN' 'QUEENS' 'BRONX' 'MANHATTAN' 'STATEN_ISLAND']\n",
      "rental ['MANHATTAN' 'BRONX' 'QUEENS' 'STATEN_ISLAND' 'BROOKLYN' 'NEW YORK']\n",
      "home ['QUEENS' 'BROOKLYN' 'BRONX' 'MANHATTAN' 'STATEN_ISLAND']\n"
     ]
    }
   ],
   "source": [
    "# Print dataframe columns to see\n",
    "print(\"airbnb\", airbnb[\"borough\"].unique())\n",
    "print(\"rental\", rental[\"borough\"].unique())"
   ]
  },
  {
   "cell_type": "code",
   "execution_count": 32,
   "id": "07648b88",
   "metadata": {},
   "outputs": [
    {
     "name": "stdout",
     "output_type": "stream",
     "text": [
      "airbnb AFTER ['BROOKLYN' 'QUEENS' 'BRONX' 'MANHATTAN' 'STATEN_ISLAND']\n"
     ]
    }
   ],
   "source": [
    "# Adjust issue #1\n",
    "airbnb[\"borough\"] = airbnb[\"borough\"].str.replace(\" \", \"_\")\n",
    "print(\"airbnb AFTER\",airbnb[\"borough\"].unique())"
   ]
  },
  {
   "cell_type": "code",
   "execution_count": 33,
   "id": "4877d1d0",
   "metadata": {},
   "outputs": [
    {
     "name": "stdout",
     "output_type": "stream",
     "text": [
      "rental AFTER ['BROOKLYN' 'QUEENS' 'BRONX' 'MANHATTAN' 'STATEN_ISLAND']\n"
     ]
    }
   ],
   "source": [
    "# Adjust issue #2\n",
    "rental[\"borough\"] = rental[\"borough\"].str.replace(\"THE \", \"\")\n",
    "print(\"rental AFTER\",airbnb[\"borough\"].unique())"
   ]
  },
  {
   "cell_type": "markdown",
   "id": "99321f7b",
   "metadata": {},
   "source": [
    "### Export CSVS"
   ]
  },
  {
   "cell_type": "code",
   "execution_count": 34,
   "id": "6b84d782",
   "metadata": {},
   "outputs": [
    {
     "name": "stdout",
     "output_type": "stream",
     "text": [
      "Exported to csv...\n"
     ]
    }
   ],
   "source": [
    "airbnb.to_csv(\"../data/clean/inside_airbnb_clean.gz\", index=False)\n",
    "rental.to_csv(\"../data/clean/nyc_rental_prices.csv\", index=False)\n",
    "print(\"Exported to csv...\")"
   ]
  },
  {
   "cell_type": "code",
   "execution_count": null,
   "id": "b0ea7537",
   "metadata": {},
   "outputs": [],
   "source": []
  }
 ],
 "metadata": {
  "kernelspec": {
   "display_name": "Python 3 (ipykernel)",
   "language": "python",
   "name": "python3"
  },
  "language_info": {
   "codemirror_mode": {
    "name": "ipython",
    "version": 3
   },
   "file_extension": ".py",
   "mimetype": "text/x-python",
   "name": "python",
   "nbconvert_exporter": "python",
   "pygments_lexer": "ipython3",
   "version": "3.11.0"
  }
 },
 "nbformat": 4,
 "nbformat_minor": 5
}
