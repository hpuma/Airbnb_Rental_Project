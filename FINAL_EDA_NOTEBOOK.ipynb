{
 "cells": [
  {
   "cell_type": "markdown",
   "id": "24b08f28",
   "metadata": {},
   "source": [
    "# The Airbnb Effect\n"
   ]
  },
  {
   "cell_type": "raw",
   "id": "daa4a1b6",
   "metadata": {},
   "source": [
    "Exploratory Data Analysis\n",
    "\n",
    "Team #24 | Sergio, Henry, Naledi, Jumanne, Jevoi"
   ]
  },
  {
   "cell_type": "markdown",
   "id": "4c0f52bb",
   "metadata": {},
   "source": [
    "# Introduction"
   ]
  },
  {
   "cell_type": "markdown",
   "id": "1ef8c57f",
   "metadata": {},
   "source": [
    "\n",
    "Airbnb is a platform that allows individuals to list and rent short-term vacation rentals, such as apartments, homes, and other properties. It has had a significant impact on the rental market, both positive and negative. On the positive side, Airbnb has made it easier for people to find and book unique, affordable accommodations while traveling. It has also given property owners the opportunity to earn extra income by renting out their homes or rooms to travelers.\n",
    "\n",
    "However, Airbnb has also been controversial, as some people have raised concerns about the impact it has had on the rental market, particularly in urban areas like New York City. There are a few ways in which Airbnb has been identified as having a negative impact on the rental market in New York City:\n",
    "\n",
    "**Tightening of the housing market**: Some people have argued that Airbnb has contributed to the tight housing market in New York City by taking units off the market that would otherwise be available for long-term rentals. This has made it more difficult for people to find affordable housing, as demand for rentals has increased while the supply has decreased.\n",
    "\n",
    "**Rising rents**: In areas with high demand for Airbnb rentals, landlords may be able to charge higher prices for short-term rentals compared to long-term rentals. This can lead to an increase in overall rental prices, which can make it more difficult for people to afford housing.\n",
    "\n",
    "**Disruption of neighborhoods**: Airbnb rentals can lead to a constant turnover of visitors in a neighborhood, which can disrupt the sense of community and lead to issues such as noise and other nuisances.\n",
    "\n",
    "**Loss of affordable housing**: Some affordable housing units in New York City have been converted into Airbnb rentals, which can reduce the availability of affordable housing options for residents.\n",
    "\n",
    "It's worth noting that these negative impacts of Airbnb on the rental market in New York City are not universally accepted, and there are differing opinions on the extent to which Airbnb has affected the market. However, these are some of the main concerns that have been raised about the platform's impact in the city.\n"
   ]
  },
  {
   "cell_type": "markdown",
   "id": "cad61278",
   "metadata": {},
   "source": [
    "### Imported files needed to analyse data."
   ]
  },
  {
   "cell_type": "code",
   "execution_count": 1,
   "id": "bfb42363",
   "metadata": {},
   "outputs": [],
   "source": [
    "import os\n",
    "import pandas as pd\n",
    "import numpy as np\n",
    "import matplotlib.pyplot as plt\n",
    "import seaborn as sns\n",
    "import geopy as gp\n",
    "from matplotlib import rcParams"
   ]
  },
  {
   "cell_type": "code",
   "execution_count": null,
   "id": "a127ba37",
   "metadata": {},
   "outputs": [],
   "source": []
  },
  {
   "cell_type": "markdown",
   "id": "99ca0cb2",
   "metadata": {},
   "source": [
    "# Data Exploration"
   ]
  },
  {
   "cell_type": "markdown",
   "id": "d58c6838",
   "metadata": {},
   "source": [
    "### ACS_EDA_Estimates"
   ]
  },
  {
   "cell_type": "raw",
   "id": "d013a7c3",
   "metadata": {},
   "source": [
    "NYC Housing distribution over the years (2010 - 2021)\n",
    "This dataset contains the following relevant columns that we will be using to aid in generating our visuals\n",
    "\n",
    "borough: borough in which the metrics above belong to (e.g BRONX, QUEENS, BROOKLYN, etc)\n",
    "year: year in which the metrics take into account (e.g [2010 - 2021] )\n",
    "\n",
    "\n"
   ]
  },
  {
   "cell_type": "code",
   "execution_count": null,
   "id": "3cbd3f8f",
   "metadata": {},
   "outputs": [],
   "source": []
  },
  {
   "cell_type": "code",
   "execution_count": null,
   "id": "4eec139c",
   "metadata": {},
   "outputs": [],
   "source": []
  },
  {
   "cell_type": "markdown",
   "id": "862d8880",
   "metadata": {},
   "source": [
    "### Zillow Housing Data"
   ]
  },
  {
   "cell_type": "raw",
   "id": "43cc72fa",
   "metadata": {},
   "source": [
    "The  columns that are going to prove our hypothesis are mean_rent, home_value, date, and borough.\n",
    "Our target variables are the mean_rent and home_value. They will provide a numeric variable of the price of homes and rents in the New York City 5 boroughs.\n",
    "Columns that are utilized for evaluations:  \n",
    "“zip_code” = int64, \n",
    "“state” = string,\n",
    "“city” = string, \n",
    "“borough” = string, \n",
    "“date” = datetime,\n",
    "“home_value” = float,\n",
    "“mean_rent” = float\n",
    "Columns that will be incorporated from other data sets are\n",
    "Trulia ; “price”, “zip_code”,\n",
    "Airbnb ; “borough”,\n",
    "Census ;” zip” \n"
   ]
  },
  {
   "cell_type": "code",
   "execution_count": null,
   "id": "0edd9e18",
   "metadata": {},
   "outputs": [],
   "source": []
  },
  {
   "cell_type": "code",
   "execution_count": null,
   "id": "1341e865",
   "metadata": {},
   "outputs": [],
   "source": []
  },
  {
   "cell_type": "code",
   "execution_count": null,
   "id": "a09ea079",
   "metadata": {},
   "outputs": [],
   "source": []
  },
  {
   "cell_type": "markdown",
   "id": "b2188f50",
   "metadata": {},
   "source": [
    "### Inside Airbnb"
   ]
  },
  {
   "cell_type": "raw",
   "id": "766ad08e",
   "metadata": {},
   "source": [
    "Column used:\n",
    "borough: the borough in which an airbnb listing is associated with\n",
    "Vacant Housing Units relative to number of airbnbs in the same area\n",
    "Column used:\n",
    "vacant_housing_units: number of vacant housing units in the airbnbs zip code\n",
    "borough: borough in which airbnb resides in\n",
    "year: year of listing\n",
    "rent_median_value: median rent value at a specific zip code\n",
    "abnb_count: number of airbnbs at a specific zip code"
   ]
  },
  {
   "cell_type": "code",
   "execution_count": null,
   "id": "18fa8ba0",
   "metadata": {},
   "outputs": [],
   "source": []
  },
  {
   "cell_type": "markdown",
   "id": "6c6e7434",
   "metadata": {},
   "source": [
    "### Apartments.com"
   ]
  },
  {
   "cell_type": "code",
   "execution_count": null,
   "id": "2cf21da2",
   "metadata": {},
   "outputs": [],
   "source": []
  },
  {
   "cell_type": "code",
   "execution_count": null,
   "id": "81ef6116",
   "metadata": {},
   "outputs": [],
   "source": []
  },
  {
   "cell_type": "markdown",
   "id": "761b09aa",
   "metadata": {},
   "source": [
    "### Trulia"
   ]
  },
  {
   "cell_type": "code",
   "execution_count": null,
   "id": "7da7aff8",
   "metadata": {},
   "outputs": [],
   "source": []
  },
  {
   "cell_type": "code",
   "execution_count": null,
   "id": "fdc021d2",
   "metadata": {},
   "outputs": [],
   "source": []
  },
  {
   "cell_type": "code",
   "execution_count": null,
   "id": "436a7fb0",
   "metadata": {},
   "outputs": [],
   "source": []
  },
  {
   "cell_type": "code",
   "execution_count": null,
   "id": "e3cabaef",
   "metadata": {},
   "outputs": [],
   "source": [
    "x = df['home_value']\n",
    "\n",
    "# Create a histogram with Seaborn\n",
    "sns.histplot(x=x)\n",
    "\n",
    "# Add labels and show the plot\n",
    "plt.xlabel('Home value(dollars) in millions')\n",
    "plt.ylabel('Total Homes')\n",
    "plt.title('Zillow Home Values Vs Total Number of Homes ')\n",
    "plt.show()"
   ]
  },
  {
   "cell_type": "code",
   "execution_count": null,
   "id": "cf5cd576",
   "metadata": {},
   "outputs": [],
   "source": []
  },
  {
   "cell_type": "code",
   "execution_count": null,
   "id": "adacd579",
   "metadata": {},
   "outputs": [],
   "source": []
  },
  {
   "cell_type": "markdown",
   "id": "85859157",
   "metadata": {},
   "source": [
    "# Linear Regression"
   ]
  },
  {
   "cell_type": "code",
   "execution_count": null,
   "id": "29557675",
   "metadata": {},
   "outputs": [],
   "source": []
  },
  {
   "cell_type": "code",
   "execution_count": null,
   "id": "3f6a1843",
   "metadata": {},
   "outputs": [],
   "source": []
  },
  {
   "cell_type": "markdown",
   "id": "f251f2bc",
   "metadata": {},
   "source": [
    "# T-Test"
   ]
  },
  {
   "cell_type": "code",
   "execution_count": null,
   "id": "832f7780",
   "metadata": {},
   "outputs": [],
   "source": []
  }
 ],
 "metadata": {
  "kernelspec": {
   "display_name": "Python 3 (ipykernel)",
   "language": "python",
   "name": "python3"
  },
  "language_info": {
   "codemirror_mode": {
    "name": "ipython",
    "version": 3
   },
   "file_extension": ".py",
   "mimetype": "text/x-python",
   "name": "python",
   "nbconvert_exporter": "python",
   "pygments_lexer": "ipython3",
   "version": "3.9.12"
  }
 },
 "nbformat": 4,
 "nbformat_minor": 5
}
