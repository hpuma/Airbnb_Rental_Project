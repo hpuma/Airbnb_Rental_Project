{
 "cells": [
  {
   "cell_type": "markdown",
   "id": "a36f0f93",
   "metadata": {},
   "source": [
    "# The Airbnb Effect\n"
   ]
  },
  {
   "cell_type": "raw",
   "id": "06b5a9d8",
   "metadata": {},
   "source": [
    "Exploratory Data Analysis\n",
    "\n",
    "Team #24 | Sergio, Henry, Naledi, Jumanne, Jevoi"
   ]
  },
  {
   "cell_type": "markdown",
   "id": "688eaed7",
   "metadata": {},
   "source": [
    "# Introduction"
   ]
  },
  {
   "cell_type": "markdown",
   "id": "84993c7e",
   "metadata": {},
   "source": [
    "\n",
    "Airbnb is a platform that allows individuals to list and rent short-term vacation rentals, such as apartments, homes, and other properties. It has had a significant impact on the rental market, both positive and negative. On the positive side, Airbnb has made it easier for people to find and book unique, affordable accommodations while traveling. It has also given property owners the opportunity to earn extra income by renting out their homes or rooms to travelers.\n",
    "\n",
    "However, Airbnb has also been controversial, as some people have raised concerns about the impact it has had on the rental market, particularly in urban areas like New York City. There are a few ways in which Airbnb has been identified as having a negative impact on the rental market in New York City:\n",
    "\n",
    "**Tightening of the housing market**: Some people have argued that Airbnb has contributed to the tight housing market in New York City by taking units off the market that would otherwise be available for long-term rentals. This has made it more difficult for people to find affordable housing, as demand for rentals has increased while the supply has decreased.\n",
    "\n",
    "**Rising rents**: In areas with high demand for Airbnb rentals, landlords may be able to charge higher prices for short-term rentals compared to long-term rentals. This can lead to an increase in overall rental prices, which can make it more difficult for people to afford housing.\n",
    "\n",
    "**Disruption of neighborhoods**: Airbnb rentals can lead to a constant turnover of visitors in a neighborhood, which can disrupt the sense of community and lead to issues such as noise and other nuisances.\n",
    "\n",
    "**Loss of affordable housing**: Some affordable housing units in New York City have been converted into Airbnb rentals, which can reduce the availability of affordable housing options for residents.\n",
    "\n",
    "It's worth noting that these negative impacts of Airbnb on the rental market in New York City are not universally accepted, and there are differing opinions on the extent to which Airbnb has affected the market. However, these are some of the main concerns that have been raised about the platform's impact in the city.\n"
   ]
  },
  {
   "cell_type": "markdown",
   "id": "ba46f145",
   "metadata": {},
   "source": [
    "### Imported files needed to data analysis."
   ]
  },
  {
   "cell_type": "code",
   "execution_count": null,
   "id": "a29b8c66",
   "metadata": {},
   "outputs": [],
   "source": [
    "import os\n",
    "import pandas as pd\n",
    "import numpy as np\n",
    "import matplotlib.pyplot as plt\n",
    "import seaborn as sns"
   ]
  },
  {
   "cell_type": "code",
   "execution_count": null,
   "id": "c9e3e2c4",
   "metadata": {},
   "outputs": [],
   "source": []
  },
  {
   "cell_type": "code",
   "execution_count": null,
   "id": "988b3fa7",
   "metadata": {},
   "outputs": [],
   "source": []
  },
  {
   "cell_type": "markdown",
   "id": "fa4ac12a",
   "metadata": {},
   "source": [
    "# T-Test"
   ]
  },
  {
   "cell_type": "code",
   "execution_count": null,
   "id": "3e5c0254",
   "metadata": {},
   "outputs": [],
   "source": []
  },
  {
   "cell_type": "code",
   "execution_count": null,
   "id": "66d06a9f",
   "metadata": {},
   "outputs": [],
   "source": []
  },
  {
   "cell_type": "markdown",
   "id": "9487fd90",
   "metadata": {},
   "source": [
    "# Linear Regression"
   ]
  },
  {
   "cell_type": "code",
   "execution_count": null,
   "id": "825799a3",
   "metadata": {},
   "outputs": [],
   "source": []
  },
  {
   "cell_type": "code",
   "execution_count": null,
   "id": "2f872131",
   "metadata": {},
   "outputs": [],
   "source": []
  },
  {
   "cell_type": "markdown",
   "id": "94b978df",
   "metadata": {},
   "source": [
    "# Data Exploration"
   ]
  },
  {
   "cell_type": "code",
   "execution_count": null,
   "id": "8c758eef",
   "metadata": {},
   "outputs": [],
   "source": [
    "x = df['home_value']\n",
    "\n",
    "# Create a histogram with Seaborn\n",
    "sns.histplot(x=x)\n",
    "\n",
    "# Add labels and show the plot\n",
    "plt.xlabel('Home value(dollars) in millions')\n",
    "plt.ylabel('Total Homes')\n",
    "plt.title('Zillow Home Values Vs Total Number of Homes ')\n",
    "plt.show()"
   ]
  },
  {
   "cell_type": "code",
   "execution_count": null,
   "id": "1f40cc12",
   "metadata": {},
   "outputs": [],
   "source": []
  }
 ],
 "metadata": {
  "kernelspec": {
   "display_name": "Python 3 (ipykernel)",
   "language": "python",
   "name": "python3"
  },
  "language_info": {
   "codemirror_mode": {
    "name": "ipython",
    "version": 3
   },
   "file_extension": ".py",
   "mimetype": "text/x-python",
   "name": "python",
   "nbconvert_exporter": "python",
   "pygments_lexer": "ipython3",
   "version": "3.9.12"
  }
 },
 "nbformat": 4,
 "nbformat_minor": 5
}
