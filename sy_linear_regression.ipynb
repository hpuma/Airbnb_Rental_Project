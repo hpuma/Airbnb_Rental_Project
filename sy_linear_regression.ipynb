{
 "cells": [
  {
   "cell_type": "code",
   "execution_count": 102,
   "id": "22228002",
   "metadata": {},
   "outputs": [
    {
     "name": "stdout",
     "output_type": "stream",
     "text": [
      "Requirement already satisfied: plotly in /Library/Frameworks/Python.framework/Versions/3.10/lib/python3.10/site-packages (5.13.0)\r\n",
      "Requirement already satisfied: tenacity>=6.2.0 in /Library/Frameworks/Python.framework/Versions/3.10/lib/python3.10/site-packages (from plotly) (8.1.0)\r\n"
     ]
    }
   ],
   "source": [
    "!pip install plotly"
   ]
  },
  {
   "cell_type": "code",
   "execution_count": 103,
   "id": "a0ff5e69",
   "metadata": {},
   "outputs": [],
   "source": [
    "import statsmodels.api as sm\n",
    "import time\n",
    "\n",
    "import matplotlib as mpl\n",
    "import matplotlib.dates as mdates\n",
    "import matplotlib.pyplot as plt\n",
    "import numpy as np\n",
    "import pandas as pd\n",
    "import plotly.graph_objects as go\n",
    "import seaborn as sns\n",
    "\n",
    "from statsmodels.formula.api import ols\n",
    "from datetime import datetime\n",
    "from geopy.geocoders import Nominatim\n",
    "from sklearn import linear_model\n",
    "from sklearn.model_selection import GridSearchCV\n",
    "import pandas as pd\n",
    "import numpy as np\n",
    "import pingouin\n",
    "from scipy.stats import chi2_contingency\n",
    "from scipy.stats import f_oneway"
   ]
  },
  {
   "cell_type": "code",
   "execution_count": 104,
   "id": "3c81592d",
   "metadata": {},
   "outputs": [],
   "source": [
    "clf = linear_model.LinearRegression()\n"
   ]
  },
  {
   "cell_type": "code",
   "execution_count": 105,
   "id": "a05f9c8d",
   "metadata": {},
   "outputs": [],
   "source": [
    "# get training\n",
    "\n",
    "df = pd.read_csv('data/clean/zhome_value.csv')\n",
    "df[\"year\"] = pd.to_datetime(df.year.astype(str)).dt.year\n",
    "\n",
    "# Split by before and after 2015 \n",
    "\n",
    "post_airbnb_df = df[df[\"year\"] >= 2008].sort_values(by=\"year\", ascending=True)\n",
    "pre_airbnb_df = df[df[\"year\"] < 2008].sort_values(by=\"year\", ascending=True)"
   ]
  },
  {
   "cell_type": "code",
   "execution_count": 106,
   "id": "b1059788",
   "metadata": {},
   "outputs": [
    {
     "data": {
      "text/html": [
       "<div>\n",
       "<style scoped>\n",
       "    .dataframe tbody tr th:only-of-type {\n",
       "        vertical-align: middle;\n",
       "    }\n",
       "\n",
       "    .dataframe tbody tr th {\n",
       "        vertical-align: top;\n",
       "    }\n",
       "\n",
       "    .dataframe thead th {\n",
       "        text-align: right;\n",
       "    }\n",
       "</style>\n",
       "<table border=\"1\" class=\"dataframe\">\n",
       "  <thead>\n",
       "    <tr style=\"text-align: right;\">\n",
       "      <th></th>\n",
       "      <th>zipcode</th>\n",
       "      <th>state</th>\n",
       "      <th>city</th>\n",
       "      <th>borough</th>\n",
       "      <th>year</th>\n",
       "      <th>home_value</th>\n",
       "    </tr>\n",
       "  </thead>\n",
       "  <tbody>\n",
       "    <tr>\n",
       "      <th>0</th>\n",
       "      <td>11368</td>\n",
       "      <td>NY</td>\n",
       "      <td>New York</td>\n",
       "      <td>QUEENS</td>\n",
       "      <td>2002</td>\n",
       "      <td>249885.0</td>\n",
       "    </tr>\n",
       "    <tr>\n",
       "      <th>1288</th>\n",
       "      <td>11377</td>\n",
       "      <td>NY</td>\n",
       "      <td>New York</td>\n",
       "      <td>QUEENS</td>\n",
       "      <td>2002</td>\n",
       "      <td>323569.0</td>\n",
       "    </tr>\n",
       "    <tr>\n",
       "      <th>1287</th>\n",
       "      <td>11223</td>\n",
       "      <td>NY</td>\n",
       "      <td>New York</td>\n",
       "      <td>BROOKLYN</td>\n",
       "      <td>2002</td>\n",
       "      <td>369713.0</td>\n",
       "    </tr>\n",
       "    <tr>\n",
       "      <th>1286</th>\n",
       "      <td>11235</td>\n",
       "      <td>NY</td>\n",
       "      <td>New York</td>\n",
       "      <td>BROOKLYN</td>\n",
       "      <td>2002</td>\n",
       "      <td>259932.0</td>\n",
       "    </tr>\n",
       "    <tr>\n",
       "      <th>1285</th>\n",
       "      <td>10458</td>\n",
       "      <td>NY</td>\n",
       "      <td>New York</td>\n",
       "      <td>BRONX</td>\n",
       "      <td>2002</td>\n",
       "      <td>199240.0</td>\n",
       "    </tr>\n",
       "  </tbody>\n",
       "</table>\n",
       "</div>"
      ],
      "text/plain": [
       "      zipcode state      city   borough  year  home_value\n",
       "0       11368    NY  New York    QUEENS  2002    249885.0\n",
       "1288    11377    NY  New York    QUEENS  2002    323569.0\n",
       "1287    11223    NY  New York  BROOKLYN  2002    369713.0\n",
       "1286    11235    NY  New York  BROOKLYN  2002    259932.0\n",
       "1285    10458    NY  New York     BRONX  2002    199240.0"
      ]
     },
     "execution_count": 106,
     "metadata": {},
     "output_type": "execute_result"
    }
   ],
   "source": [
    "pre_airbnb_df.head()"
   ]
  },
  {
   "cell_type": "code",
   "execution_count": 107,
   "id": "b5d4d206",
   "metadata": {},
   "outputs": [
    {
     "data": {
      "text/html": [
       "<style>#sk-container-id-7 {color: black;background-color: white;}#sk-container-id-7 pre{padding: 0;}#sk-container-id-7 div.sk-toggleable {background-color: white;}#sk-container-id-7 label.sk-toggleable__label {cursor: pointer;display: block;width: 100%;margin-bottom: 0;padding: 0.3em;box-sizing: border-box;text-align: center;}#sk-container-id-7 label.sk-toggleable__label-arrow:before {content: \"▸\";float: left;margin-right: 0.25em;color: #696969;}#sk-container-id-7 label.sk-toggleable__label-arrow:hover:before {color: black;}#sk-container-id-7 div.sk-estimator:hover label.sk-toggleable__label-arrow:before {color: black;}#sk-container-id-7 div.sk-toggleable__content {max-height: 0;max-width: 0;overflow: hidden;text-align: left;background-color: #f0f8ff;}#sk-container-id-7 div.sk-toggleable__content pre {margin: 0.2em;color: black;border-radius: 0.25em;background-color: #f0f8ff;}#sk-container-id-7 input.sk-toggleable__control:checked~div.sk-toggleable__content {max-height: 200px;max-width: 100%;overflow: auto;}#sk-container-id-7 input.sk-toggleable__control:checked~label.sk-toggleable__label-arrow:before {content: \"▾\";}#sk-container-id-7 div.sk-estimator input.sk-toggleable__control:checked~label.sk-toggleable__label {background-color: #d4ebff;}#sk-container-id-7 div.sk-label input.sk-toggleable__control:checked~label.sk-toggleable__label {background-color: #d4ebff;}#sk-container-id-7 input.sk-hidden--visually {border: 0;clip: rect(1px 1px 1px 1px);clip: rect(1px, 1px, 1px, 1px);height: 1px;margin: -1px;overflow: hidden;padding: 0;position: absolute;width: 1px;}#sk-container-id-7 div.sk-estimator {font-family: monospace;background-color: #f0f8ff;border: 1px dotted black;border-radius: 0.25em;box-sizing: border-box;margin-bottom: 0.5em;}#sk-container-id-7 div.sk-estimator:hover {background-color: #d4ebff;}#sk-container-id-7 div.sk-parallel-item::after {content: \"\";width: 100%;border-bottom: 1px solid gray;flex-grow: 1;}#sk-container-id-7 div.sk-label:hover label.sk-toggleable__label {background-color: #d4ebff;}#sk-container-id-7 div.sk-serial::before {content: \"\";position: absolute;border-left: 1px solid gray;box-sizing: border-box;top: 0;bottom: 0;left: 50%;z-index: 0;}#sk-container-id-7 div.sk-serial {display: flex;flex-direction: column;align-items: center;background-color: white;padding-right: 0.2em;padding-left: 0.2em;position: relative;}#sk-container-id-7 div.sk-item {position: relative;z-index: 1;}#sk-container-id-7 div.sk-parallel {display: flex;align-items: stretch;justify-content: center;background-color: white;position: relative;}#sk-container-id-7 div.sk-item::before, #sk-container-id-7 div.sk-parallel-item::before {content: \"\";position: absolute;border-left: 1px solid gray;box-sizing: border-box;top: 0;bottom: 0;left: 50%;z-index: -1;}#sk-container-id-7 div.sk-parallel-item {display: flex;flex-direction: column;z-index: 1;position: relative;background-color: white;}#sk-container-id-7 div.sk-parallel-item:first-child::after {align-self: flex-end;width: 50%;}#sk-container-id-7 div.sk-parallel-item:last-child::after {align-self: flex-start;width: 50%;}#sk-container-id-7 div.sk-parallel-item:only-child::after {width: 0;}#sk-container-id-7 div.sk-dashed-wrapped {border: 1px dashed gray;margin: 0 0.4em 0.5em 0.4em;box-sizing: border-box;padding-bottom: 0.4em;background-color: white;}#sk-container-id-7 div.sk-label label {font-family: monospace;font-weight: bold;display: inline-block;line-height: 1.2em;}#sk-container-id-7 div.sk-label-container {text-align: center;}#sk-container-id-7 div.sk-container {/* jupyter's `normalize.less` sets `[hidden] { display: none; }` but bootstrap.min.css set `[hidden] { display: none !important; }` so we also need the `!important` here to be able to override the default hidden behavior on the sphinx rendered scikit-learn.org. See: https://github.com/scikit-learn/scikit-learn/issues/21755 */display: inline-block !important;position: relative;}#sk-container-id-7 div.sk-text-repr-fallback {display: none;}</style><div id=\"sk-container-id-7\" class=\"sk-top-container\"><div class=\"sk-text-repr-fallback\"><pre>LinearRegression()</pre><b>In a Jupyter environment, please rerun this cell to show the HTML representation or trust the notebook. <br />On GitHub, the HTML representation is unable to render, please try loading this page with nbviewer.org.</b></div><div class=\"sk-container\" hidden><div class=\"sk-item\"><div class=\"sk-estimator sk-toggleable\"><input class=\"sk-toggleable__control sk-hidden--visually\" id=\"sk-estimator-id-7\" type=\"checkbox\" checked><label for=\"sk-estimator-id-7\" class=\"sk-toggleable__label sk-toggleable__label-arrow\">LinearRegression</label><div class=\"sk-toggleable__content\"><pre>LinearRegression()</pre></div></div></div></div></div>"
      ],
      "text/plain": [
       "LinearRegression()"
      ]
     },
     "execution_count": 107,
     "metadata": {},
     "output_type": "execute_result"
    }
   ],
   "source": [
    "# home_value = f(year)\n",
    "\n",
    "y_train, x_train = pre_airbnb_df[\"home_value\"], pre_airbnb_df[\"year\"].array.reshape(-1, 1)\n",
    "y_test, x_test = post_airbnb_df[\"home_value\"], post_airbnb_df[\"year\"].array.reshape(-1, 1)\n",
    "\n",
    "clf.fit(x_train, y_train)\n"
   ]
  },
  {
   "cell_type": "code",
   "execution_count": 108,
   "id": "619e66d0",
   "metadata": {},
   "outputs": [
    {
     "name": "stdout",
     "output_type": "stream",
     "text": [
      "Training Error:\n",
      "Mean Error: 0.3856021630042228\n",
      "Standard Deviation of Error: 0.35320179024993403\n",
      "Test Error:\n",
      "Mean Error: 1.003730655618565\n",
      "Standard Deviation of Error: 0.8404538182067405\n"
     ]
    }
   ],
   "source": [
    "\n",
    "pred = clf.predict(x_train)\n",
    "mean_error = (abs(pred-y_train)/y_train).mean()\n",
    "standard_deviation = (abs(pred-y_train)/y_train).std()\n",
    "\n",
    "print('Training Error:')\n",
    "\n",
    "print(f'Mean Error: {mean_error}')\n",
    "print(f'Standard Deviation of Error: {standard_deviation}')\n",
    "\n",
    "print('Test Error:')\n",
    "\n",
    "pred = clf.predict(x_test)\n",
    "mean_error = (abs(pred-y_test)/y_test).mean()\n",
    "standard_deviation = (abs(pred-y_test)/y_test).std()\n",
    "\n",
    "print(f'Mean Error: {mean_error}')\n",
    "print(f'Standard Deviation of Error: {standard_deviation}')"
   ]
  },
  {
   "cell_type": "code",
   "execution_count": 109,
   "id": "b2a3f62a",
   "metadata": {},
   "outputs": [
    {
     "name": "stdout",
     "output_type": "stream",
     "text": [
      "[<PandasArray>\n",
      "[2008]\n",
      "Length: 1, dtype: int64, <PandasArray>\n",
      "[2008]\n",
      "Length: 1, dtype: int64, <PandasArray>\n",
      "[2008]\n",
      "Length: 1, dtype: int64, <PandasArray>\n",
      "[2008]\n",
      "Length: 1, dtype: int64, <PandasArray>\n",
      "[2008]\n",
      "Length: 1, dtype: int64]\n"
     ]
    }
   ],
   "source": [
    "# print(list(y_train)[:5])\n",
    "# print(list(x_train)[:5])\n",
    "# print(list(y_test)[:5])\n",
    "print(list(x_test)[:5])"
   ]
  },
  {
   "cell_type": "code",
   "execution_count": 115,
   "id": "5b50823a",
   "metadata": {},
   "outputs": [
    {
     "data": {
      "text/plain": [
       "pandas.core.arrays.numpy_.PandasArray"
      ]
     },
     "execution_count": 115,
     "metadata": {},
     "output_type": "execute_result"
    }
   ],
   "source": [
    "# print(list(clf.predict(X_test))[:5])\n",
    "type(x_test)"
   ]
  },
  {
   "cell_type": "code",
   "execution_count": 117,
   "id": "9accd55b",
   "metadata": {},
   "outputs": [
    {
     "data": {
      "text/plain": [
       "<PandasArray>\n",
       "[2008, 2008, 2008, 2008, 2008, 2008, 2008, 2008, 2008, 2008,\n",
       " ...\n",
       " 2022, 2022, 2022, 2022, 2022, 2022, 2022, 2022, 2022, 2022]\n",
       "Length: 31256, dtype: int64"
      ]
     },
     "execution_count": 117,
     "metadata": {},
     "output_type": "execute_result"
    }
   ],
   "source": [
    "x_test.reshape(clf.predict(x_test).shape)"
   ]
  },
  {
   "cell_type": "code",
   "execution_count": 112,
   "id": "2a7bfd97",
   "metadata": {},
   "outputs": [
    {
     "data": {
      "text/plain": [
       "(16577,)"
      ]
     },
     "execution_count": 112,
     "metadata": {},
     "output_type": "execute_result"
    }
   ],
   "source": [
    "clf.predict(x_test).shape"
   ]
  },
  {
   "cell_type": "code",
   "execution_count": 118,
   "id": "08e866a3",
   "metadata": {},
   "outputs": [
    {
     "data": {
      "text/plain": [
       "<AxesSubplot: >"
      ]
     },
     "execution_count": 118,
     "metadata": {},
     "output_type": "execute_result"
    },
    {
     "data": {
      "image/png": "[encoded data removed]",
      "text/plain": [
       "<Figure size 640x480 with 1 Axes>"
      ]
     },
     "metadata": {},
     "output_type": "display_data"
    }
   ],
   "source": [
    "# success :) \n",
    "# this is the predictions \n",
    "sns.lineplot(x = x_test.reshape(clf.predict(x_test).shape), y=list(clf.predict(x_test)), color='blue', marker='o')\n"
   ]
  },
  {
   "cell_type": "code",
   "execution_count": 132,
   "id": "f29a0c37",
   "metadata": {},
   "outputs": [],
   "source": [
    "home_value_df = df"
   ]
  },
  {
   "cell_type": "code",
   "execution_count": 140,
   "id": "2f071103",
   "metadata": {},
   "outputs": [
    {
     "name": "stderr",
     "output_type": "stream",
     "text": [
      "/var/folders/ht/q4d_vppn3x5d3_p7bs499mdh0000gn/T/ipykernel_14920/1271320138.py:1: FutureWarning: The default value of numeric_only in DataFrameGroupBy.mean is deprecated. In a future version, numeric_only will default to False. Either specify numeric_only or select only columns which should be valid for the function.\n",
      "  home_value_df = home_value_df.groupby('year').mean().reset_index()\n"
     ]
    },
    {
     "data": {
      "text/html": [
       "<div>\n",
       "<style scoped>\n",
       "    .dataframe tbody tr th:only-of-type {\n",
       "        vertical-align: middle;\n",
       "    }\n",
       "\n",
       "    .dataframe tbody tr th {\n",
       "        vertical-align: top;\n",
       "    }\n",
       "\n",
       "    .dataframe thead th {\n",
       "        text-align: right;\n",
       "    }\n",
       "</style>\n",
       "<table border=\"1\" class=\"dataframe\">\n",
       "  <thead>\n",
       "    <tr style=\"text-align: right;\">\n",
       "      <th></th>\n",
       "      <th>year</th>\n",
       "      <th>zipcode</th>\n",
       "      <th>home_value</th>\n",
       "    </tr>\n",
       "  </thead>\n",
       "  <tbody>\n",
       "    <tr>\n",
       "      <th>0</th>\n",
       "      <td>2002</td>\n",
       "      <td>10844.331078</td>\n",
       "      <td>388185.197814</td>\n",
       "    </tr>\n",
       "    <tr>\n",
       "      <th>1</th>\n",
       "      <td>2003</td>\n",
       "      <td>10859.201878</td>\n",
       "      <td>427488.437141</td>\n",
       "    </tr>\n",
       "    <tr>\n",
       "      <th>2</th>\n",
       "      <td>2004</td>\n",
       "      <td>10847.042683</td>\n",
       "      <td>475856.334858</td>\n",
       "    </tr>\n",
       "    <tr>\n",
       "      <th>3</th>\n",
       "      <td>2005</td>\n",
       "      <td>10847.042683</td>\n",
       "      <td>563629.120427</td>\n",
       "    </tr>\n",
       "    <tr>\n",
       "      <th>4</th>\n",
       "      <td>2006</td>\n",
       "      <td>10833.730055</td>\n",
       "      <td>640005.374812</td>\n",
       "    </tr>\n",
       "    <tr>\n",
       "      <th>5</th>\n",
       "      <td>2007</td>\n",
       "      <td>10836.500000</td>\n",
       "      <td>642873.288725</td>\n",
       "    </tr>\n",
       "    <tr>\n",
       "      <th>6</th>\n",
       "      <td>2008</td>\n",
       "      <td>10835.700784</td>\n",
       "      <td>645294.235553</td>\n",
       "    </tr>\n",
       "    <tr>\n",
       "      <th>7</th>\n",
       "      <td>2009</td>\n",
       "      <td>10818.026807</td>\n",
       "      <td>611269.790330</td>\n",
       "    </tr>\n",
       "    <tr>\n",
       "      <th>8</th>\n",
       "      <td>2010</td>\n",
       "      <td>10813.988571</td>\n",
       "      <td>580224.588095</td>\n",
       "    </tr>\n",
       "    <tr>\n",
       "      <th>9</th>\n",
       "      <td>2011</td>\n",
       "      <td>10810.965909</td>\n",
       "      <td>595607.424716</td>\n",
       "    </tr>\n",
       "    <tr>\n",
       "      <th>10</th>\n",
       "      <td>2012</td>\n",
       "      <td>10810.965909</td>\n",
       "      <td>598403.972064</td>\n",
       "    </tr>\n",
       "    <tr>\n",
       "      <th>11</th>\n",
       "      <td>2013</td>\n",
       "      <td>10810.965909</td>\n",
       "      <td>634323.553977</td>\n",
       "    </tr>\n",
       "    <tr>\n",
       "      <th>12</th>\n",
       "      <td>2014</td>\n",
       "      <td>10810.965909</td>\n",
       "      <td>699623.237689</td>\n",
       "    </tr>\n",
       "    <tr>\n",
       "      <th>13</th>\n",
       "      <td>2015</td>\n",
       "      <td>10810.965909</td>\n",
       "      <td>761331.272727</td>\n",
       "    </tr>\n",
       "    <tr>\n",
       "      <th>14</th>\n",
       "      <td>2016</td>\n",
       "      <td>10812.476010</td>\n",
       "      <td>796059.340618</td>\n",
       "    </tr>\n",
       "    <tr>\n",
       "      <th>15</th>\n",
       "      <td>2017</td>\n",
       "      <td>10812.314516</td>\n",
       "      <td>823679.544592</td>\n",
       "    </tr>\n",
       "    <tr>\n",
       "      <th>16</th>\n",
       "      <td>2018</td>\n",
       "      <td>10810.965909</td>\n",
       "      <td>854907.883996</td>\n",
       "    </tr>\n",
       "    <tr>\n",
       "      <th>17</th>\n",
       "      <td>2019</td>\n",
       "      <td>10806.199811</td>\n",
       "      <td>860029.804430</td>\n",
       "    </tr>\n",
       "    <tr>\n",
       "      <th>18</th>\n",
       "      <td>2020</td>\n",
       "      <td>10806.593220</td>\n",
       "      <td>845339.889831</td>\n",
       "    </tr>\n",
       "    <tr>\n",
       "      <th>19</th>\n",
       "      <td>2021</td>\n",
       "      <td>10806.593220</td>\n",
       "      <td>860057.260358</td>\n",
       "    </tr>\n",
       "    <tr>\n",
       "      <th>20</th>\n",
       "      <td>2022</td>\n",
       "      <td>10806.593220</td>\n",
       "      <td>918546.994350</td>\n",
       "    </tr>\n",
       "  </tbody>\n",
       "</table>\n",
       "</div>"
      ],
      "text/plain": [
       "    year       zipcode     home_value\n",
       "0   2002  10844.331078  388185.197814\n",
       "1   2003  10859.201878  427488.437141\n",
       "2   2004  10847.042683  475856.334858\n",
       "3   2005  10847.042683  563629.120427\n",
       "4   2006  10833.730055  640005.374812\n",
       "5   2007  10836.500000  642873.288725\n",
       "6   2008  10835.700784  645294.235553\n",
       "7   2009  10818.026807  611269.790330\n",
       "8   2010  10813.988571  580224.588095\n",
       "9   2011  10810.965909  595607.424716\n",
       "10  2012  10810.965909  598403.972064\n",
       "11  2013  10810.965909  634323.553977\n",
       "12  2014  10810.965909  699623.237689\n",
       "13  2015  10810.965909  761331.272727\n",
       "14  2016  10812.476010  796059.340618\n",
       "15  2017  10812.314516  823679.544592\n",
       "16  2018  10810.965909  854907.883996\n",
       "17  2019  10806.199811  860029.804430\n",
       "18  2020  10806.593220  845339.889831\n",
       "19  2021  10806.593220  860057.260358\n",
       "20  2022  10806.593220  918546.994350"
      ]
     },
     "execution_count": 140,
     "metadata": {},
     "output_type": "execute_result"
    }
   ],
   "source": [
    "home_value_df = home_value_df.groupby('year').mean().reset_index()\n",
    "home_value_df"
   ]
  },
  {
   "cell_type": "code",
   "execution_count": 143,
   "id": "59250bc8",
   "metadata": {},
   "outputs": [
    {
     "data": {
      "text/plain": [
       "<AxesSubplot: xlabel='Year', ylabel='home_value'>"
      ]
     },
     "execution_count": 143,
     "metadata": {},
     "output_type": "execute_result"
    },
    {
     "data": {
      "image/png": "[encoded data removed]",
      "text/plain": [
       "<Figure size 640x480 with 1 Axes>"
      ]
     },
     "metadata": {},
     "output_type": "display_data"
    }
   ],
   "source": [
    "# next step, concatentate with the trend line \n",
    "\n",
    "# years_locator = mdates.YearLocator()\n",
    "# months_locator = mdates.MonthLocator()\n",
    "# years_format = mdates.DateFormatter('%Y')\n",
    "\n",
    "fig, ax = plt.subplots()\n",
    "\n",
    "# ax.xaxis.set_major_locator(years_locator)\n",
    "# ax.xaxis.set_major_formatter(years_format)\n",
    "# ax.xaxis.set_minor_locator(months_locator)\n",
    "\n",
    "rotation = 45\n",
    "plt.setp(ax.get_xticklabels(), rotation=rotation)\n",
    "# plt.title('United\\'s Financials Through Time', fontsize='18')\n",
    "plt.xlabel('Year', fontsize='16')\n",
    "\n",
    "sns.lineplot(y = home_value_df[\"home_value\"], x= home_value_df[\"year\"], color='black', marker='o')\n",
    "sns.lineplot(x = x_test.reshape(clf.predict(x_test).shape), y=list(clf.predict(x_test)), color='blue', marker='o')\n"
   ]
  }
 ],
 "metadata": {
  "kernelspec": {
   "display_name": "Python 3 (ipykernel)",
   "language": "python",
   "name": "python3"
  },
  "language_info": {
   "codemirror_mode": {
    "name": "ipython",
    "version": 3
   },
   "file_extension": ".py",
   "mimetype": "text/x-python",
   "name": "python",
   "nbconvert_exporter": "python",
   "pygments_lexer": "ipython3",
   "version": "3.10.6"
  }
 },
 "nbformat": 4,
 "nbformat_minor": 5
}
