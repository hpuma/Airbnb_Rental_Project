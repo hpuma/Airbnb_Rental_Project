{
 "cells": [
  {
   "cell_type": "code",
   "execution_count": 183,
   "id": "8310467e",
   "metadata": {},
   "outputs": [
    {
     "name": "stdout",
     "output_type": "stream",
     "text": [
      "Requirement already satisfied: plotly in /Library/Frameworks/Python.framework/Versions/3.10/lib/python3.10/site-packages (5.13.0)\r\n",
      "Requirement already satisfied: tenacity>=6.2.0 in /Library/Frameworks/Python.framework/Versions/3.10/lib/python3.10/site-packages (from plotly) (8.1.0)\r\n"
     ]
    }
   ],
   "source": [
    "!pip install plotly"
   ]
  },
  {
   "cell_type": "code",
   "execution_count": 184,
   "id": "96000261",
   "metadata": {},
   "outputs": [],
   "source": [
    "import statsmodels.api as sm\n",
    "import time\n",
    "\n",
    "import matplotlib as mpl\n",
    "import matplotlib.dates as mdates\n",
    "import matplotlib.pyplot as plt\n",
    "import numpy as np\n",
    "import pandas as pd\n",
    "import plotly.graph_objects as go\n",
    "import seaborn as sns\n",
    "\n",
    "from statsmodels.formula.api import ols\n",
    "from datetime import datetime\n",
    "from geopy.geocoders import Nominatim\n",
    "from sklearn import linear_model\n",
    "from sklearn.model_selection import GridSearchCV\n",
    "import pandas as pd\n",
    "import numpy as np\n",
    "import pingouin\n",
    "from scipy.stats import chi2_contingency\n",
    "from scipy.stats import f_oneway"
   ]
  },
  {
   "cell_type": "code",
   "execution_count": 185,
   "id": "3583f97e",
   "metadata": {},
   "outputs": [],
   "source": [
    "clf = linear_model.LinearRegression()\n"
   ]
  },
  {
   "cell_type": "code",
   "execution_count": 186,
   "id": "e13f6fb7",
   "metadata": {},
   "outputs": [],
   "source": [
    "# get training\n",
    "\n",
    "df = pd.read_csv('data/clean/zhome_value.csv')\n",
    "df[\"year\"] = pd.to_datetime(df.year.astype(str)).dt.year\n",
    "\n",
    "# Split by before and after 2015 \n",
    "\n",
    "\n",
    "post_airbnb_df = df[df[\"year\"] >= 2015].sort_values(by=\"year\", ascending=True)\n",
    "pre_airbnb_df = df[df[\"year\"] <= 2015].sort_values(by=\"year\", ascending=True)\n",
    "\n",
    "# post_airbnb_df = df[df[\"year\"] >= 2008].sort_values(by=\"year\", ascending=True)\n",
    "# pre_airbnb_df = df[df[\"year\"] <= 2008].sort_values(by=\"year\", ascending=True)"
   ]
  },
  {
   "cell_type": "code",
   "execution_count": 187,
   "id": "543d0b17",
   "metadata": {},
   "outputs": [
    {
     "data": {
      "text/html": [
       "<div>\n",
       "<style scoped>\n",
       "    .dataframe tbody tr th:only-of-type {\n",
       "        vertical-align: middle;\n",
       "    }\n",
       "\n",
       "    .dataframe tbody tr th {\n",
       "        vertical-align: top;\n",
       "    }\n",
       "\n",
       "    .dataframe thead th {\n",
       "        text-align: right;\n",
       "    }\n",
       "</style>\n",
       "<table border=\"1\" class=\"dataframe\">\n",
       "  <thead>\n",
       "    <tr style=\"text-align: right;\">\n",
       "      <th></th>\n",
       "      <th>zipcode</th>\n",
       "      <th>state</th>\n",
       "      <th>city</th>\n",
       "      <th>borough</th>\n",
       "      <th>year</th>\n",
       "      <th>home_value</th>\n",
       "    </tr>\n",
       "  </thead>\n",
       "  <tbody>\n",
       "    <tr>\n",
       "      <th>0</th>\n",
       "      <td>11368</td>\n",
       "      <td>NY</td>\n",
       "      <td>New York</td>\n",
       "      <td>QUEENS</td>\n",
       "      <td>2002</td>\n",
       "      <td>249885.0</td>\n",
       "    </tr>\n",
       "    <tr>\n",
       "      <th>1288</th>\n",
       "      <td>11377</td>\n",
       "      <td>NY</td>\n",
       "      <td>New York</td>\n",
       "      <td>QUEENS</td>\n",
       "      <td>2002</td>\n",
       "      <td>323569.0</td>\n",
       "    </tr>\n",
       "    <tr>\n",
       "      <th>1287</th>\n",
       "      <td>11223</td>\n",
       "      <td>NY</td>\n",
       "      <td>New York</td>\n",
       "      <td>BROOKLYN</td>\n",
       "      <td>2002</td>\n",
       "      <td>369713.0</td>\n",
       "    </tr>\n",
       "    <tr>\n",
       "      <th>1286</th>\n",
       "      <td>11235</td>\n",
       "      <td>NY</td>\n",
       "      <td>New York</td>\n",
       "      <td>BROOKLYN</td>\n",
       "      <td>2002</td>\n",
       "      <td>259932.0</td>\n",
       "    </tr>\n",
       "    <tr>\n",
       "      <th>1285</th>\n",
       "      <td>10458</td>\n",
       "      <td>NY</td>\n",
       "      <td>New York</td>\n",
       "      <td>BRONX</td>\n",
       "      <td>2002</td>\n",
       "      <td>199240.0</td>\n",
       "    </tr>\n",
       "  </tbody>\n",
       "</table>\n",
       "</div>"
      ],
      "text/plain": [
       "      zipcode state      city   borough  year  home_value\n",
       "0       11368    NY  New York    QUEENS  2002    249885.0\n",
       "1288    11377    NY  New York    QUEENS  2002    323569.0\n",
       "1287    11223    NY  New York  BROOKLYN  2002    369713.0\n",
       "1286    11235    NY  New York  BROOKLYN  2002    259932.0\n",
       "1285    10458    NY  New York     BRONX  2002    199240.0"
      ]
     },
     "execution_count": 187,
     "metadata": {},
     "output_type": "execute_result"
    }
   ],
   "source": [
    "pre_airbnb_df.head()"
   ]
  },
  {
   "cell_type": "code",
   "execution_count": 188,
   "id": "650043aa",
   "metadata": {},
   "outputs": [
    {
     "data": {
      "text/html": [
       "<style>#sk-container-id-11 {color: black;background-color: white;}#sk-container-id-11 pre{padding: 0;}#sk-container-id-11 div.sk-toggleable {background-color: white;}#sk-container-id-11 label.sk-toggleable__label {cursor: pointer;display: block;width: 100%;margin-bottom: 0;padding: 0.3em;box-sizing: border-box;text-align: center;}#sk-container-id-11 label.sk-toggleable__label-arrow:before {content: \"▸\";float: left;margin-right: 0.25em;color: #696969;}#sk-container-id-11 label.sk-toggleable__label-arrow:hover:before {color: black;}#sk-container-id-11 div.sk-estimator:hover label.sk-toggleable__label-arrow:before {color: black;}#sk-container-id-11 div.sk-toggleable__content {max-height: 0;max-width: 0;overflow: hidden;text-align: left;background-color: #f0f8ff;}#sk-container-id-11 div.sk-toggleable__content pre {margin: 0.2em;color: black;border-radius: 0.25em;background-color: #f0f8ff;}#sk-container-id-11 input.sk-toggleable__control:checked~div.sk-toggleable__content {max-height: 200px;max-width: 100%;overflow: auto;}#sk-container-id-11 input.sk-toggleable__control:checked~label.sk-toggleable__label-arrow:before {content: \"▾\";}#sk-container-id-11 div.sk-estimator input.sk-toggleable__control:checked~label.sk-toggleable__label {background-color: #d4ebff;}#sk-container-id-11 div.sk-label input.sk-toggleable__control:checked~label.sk-toggleable__label {background-color: #d4ebff;}#sk-container-id-11 input.sk-hidden--visually {border: 0;clip: rect(1px 1px 1px 1px);clip: rect(1px, 1px, 1px, 1px);height: 1px;margin: -1px;overflow: hidden;padding: 0;position: absolute;width: 1px;}#sk-container-id-11 div.sk-estimator {font-family: monospace;background-color: #f0f8ff;border: 1px dotted black;border-radius: 0.25em;box-sizing: border-box;margin-bottom: 0.5em;}#sk-container-id-11 div.sk-estimator:hover {background-color: #d4ebff;}#sk-container-id-11 div.sk-parallel-item::after {content: \"\";width: 100%;border-bottom: 1px solid gray;flex-grow: 1;}#sk-container-id-11 div.sk-label:hover label.sk-toggleable__label {background-color: #d4ebff;}#sk-container-id-11 div.sk-serial::before {content: \"\";position: absolute;border-left: 1px solid gray;box-sizing: border-box;top: 0;bottom: 0;left: 50%;z-index: 0;}#sk-container-id-11 div.sk-serial {display: flex;flex-direction: column;align-items: center;background-color: white;padding-right: 0.2em;padding-left: 0.2em;position: relative;}#sk-container-id-11 div.sk-item {position: relative;z-index: 1;}#sk-container-id-11 div.sk-parallel {display: flex;align-items: stretch;justify-content: center;background-color: white;position: relative;}#sk-container-id-11 div.sk-item::before, #sk-container-id-11 div.sk-parallel-item::before {content: \"\";position: absolute;border-left: 1px solid gray;box-sizing: border-box;top: 0;bottom: 0;left: 50%;z-index: -1;}#sk-container-id-11 div.sk-parallel-item {display: flex;flex-direction: column;z-index: 1;position: relative;background-color: white;}#sk-container-id-11 div.sk-parallel-item:first-child::after {align-self: flex-end;width: 50%;}#sk-container-id-11 div.sk-parallel-item:last-child::after {align-self: flex-start;width: 50%;}#sk-container-id-11 div.sk-parallel-item:only-child::after {width: 0;}#sk-container-id-11 div.sk-dashed-wrapped {border: 1px dashed gray;margin: 0 0.4em 0.5em 0.4em;box-sizing: border-box;padding-bottom: 0.4em;background-color: white;}#sk-container-id-11 div.sk-label label {font-family: monospace;font-weight: bold;display: inline-block;line-height: 1.2em;}#sk-container-id-11 div.sk-label-container {text-align: center;}#sk-container-id-11 div.sk-container {/* jupyter's `normalize.less` sets `[hidden] { display: none; }` but bootstrap.min.css set `[hidden] { display: none !important; }` so we also need the `!important` here to be able to override the default hidden behavior on the sphinx rendered scikit-learn.org. See: https://github.com/scikit-learn/scikit-learn/issues/21755 */display: inline-block !important;position: relative;}#sk-container-id-11 div.sk-text-repr-fallback {display: none;}</style><div id=\"sk-container-id-11\" class=\"sk-top-container\"><div class=\"sk-text-repr-fallback\"><pre>LinearRegression()</pre><b>In a Jupyter environment, please rerun this cell to show the HTML representation or trust the notebook. <br />On GitHub, the HTML representation is unable to render, please try loading this page with nbviewer.org.</b></div><div class=\"sk-container\" hidden><div class=\"sk-item\"><div class=\"sk-estimator sk-toggleable\"><input class=\"sk-toggleable__control sk-hidden--visually\" id=\"sk-estimator-id-11\" type=\"checkbox\" checked><label for=\"sk-estimator-id-11\" class=\"sk-toggleable__label sk-toggleable__label-arrow\">LinearRegression</label><div class=\"sk-toggleable__content\"><pre>LinearRegression()</pre></div></div></div></div></div>"
      ],
      "text/plain": [
       "LinearRegression()"
      ]
     },
     "execution_count": 188,
     "metadata": {},
     "output_type": "execute_result"
    }
   ],
   "source": [
    "# home_value = f(year)\n",
    "\n",
    "y_train, x_train = pre_airbnb_df[\"home_value\"], pre_airbnb_df[\"year\"].array.reshape(-1, 1)\n",
    "y_test, x_test = post_airbnb_df[\"home_value\"], post_airbnb_df[\"year\"].array.reshape(-1, 1)\n",
    "\n",
    "clf.fit(x_train, y_train)\n"
   ]
  },
  {
   "cell_type": "code",
   "execution_count": 189,
   "id": "fb8c2a13",
   "metadata": {},
   "outputs": [
    {
     "name": "stdout",
     "output_type": "stream",
     "text": [
      "Training Error:\n",
      "Mean Error: 0.4648628419969958\n",
      "Standard Deviation of Error: 0.43817882538557096\n",
      "Test Error:\n",
      "Mean Error: 0.44207545157228534\n",
      "Standard Deviation of Error: 0.42429713883513537\n"
     ]
    }
   ],
   "source": [
    "\n",
    "pred = clf.predict(x_train)\n",
    "mean_error = (abs(pred-y_train)/y_train).mean()\n",
    "standard_deviation = (abs(pred-y_train)/y_train).std()\n",
    "\n",
    "print('Training Error:')\n",
    "\n",
    "print(f'Mean Error: {mean_error}')\n",
    "print(f'Standard Deviation of Error: {standard_deviation}')\n",
    "\n",
    "print('Test Error:')\n",
    "\n",
    "pred = clf.predict(x_test)\n",
    "mean_error = (abs(pred-y_test)/y_test).mean()\n",
    "standard_deviation = (abs(pred-y_test)/y_test).std()\n",
    "\n",
    "print(f'Mean Error: {mean_error}')\n",
    "print(f'Standard Deviation of Error: {standard_deviation}')"
   ]
  },
  {
   "cell_type": "code",
   "execution_count": 190,
   "id": "599caa08",
   "metadata": {},
   "outputs": [
    {
     "name": "stdout",
     "output_type": "stream",
     "text": [
      "[<PandasArray>\n",
      "[2015]\n",
      "Length: 1, dtype: int64, <PandasArray>\n",
      "[2015]\n",
      "Length: 1, dtype: int64, <PandasArray>\n",
      "[2015]\n",
      "Length: 1, dtype: int64, <PandasArray>\n",
      "[2015]\n",
      "Length: 1, dtype: int64, <PandasArray>\n",
      "[2015]\n",
      "Length: 1, dtype: int64]\n"
     ]
    }
   ],
   "source": [
    "# print(list(y_train)[:5])\n",
    "# print(list(x_train)[:5])\n",
    "# print(list(y_test)[:5])\n",
    "print(list(x_test)[:5])"
   ]
  },
  {
   "cell_type": "code",
   "execution_count": 191,
   "id": "ffd9a0bf",
   "metadata": {},
   "outputs": [
    {
     "data": {
      "text/plain": [
       "pandas.core.arrays.numpy_.PandasArray"
      ]
     },
     "execution_count": 191,
     "metadata": {},
     "output_type": "execute_result"
    }
   ],
   "source": [
    "# print(list(clf.predict(X_test))[:5])\n",
    "type(x_test)"
   ]
  },
  {
   "cell_type": "code",
   "execution_count": 192,
   "id": "e24c94db",
   "metadata": {},
   "outputs": [
    {
     "data": {
      "text/plain": [
       "<PandasArray>\n",
       "[2015, 2015, 2015, 2015, 2015, 2015, 2015, 2015, 2015, 2015,\n",
       " ...\n",
       " 2022, 2022, 2022, 2022, 2022, 2022, 2022, 2022, 2022, 2022]\n",
       "Length: 16577, dtype: int64"
      ]
     },
     "execution_count": 192,
     "metadata": {},
     "output_type": "execute_result"
    }
   ],
   "source": [
    "x_test.reshape(clf.predict(x_test).shape)"
   ]
  },
  {
   "cell_type": "code",
   "execution_count": 193,
   "id": "cc0caa2c",
   "metadata": {},
   "outputs": [
    {
     "data": {
      "text/plain": [
       "(16577,)"
      ]
     },
     "execution_count": 193,
     "metadata": {},
     "output_type": "execute_result"
    }
   ],
   "source": [
    "clf.predict(x_test).shape"
   ]
  },
  {
   "cell_type": "code",
   "execution_count": 194,
   "id": "c2928e4d",
   "metadata": {},
   "outputs": [
    {
     "data": {
      "text/plain": [
       "<AxesSubplot: >"
      ]
     },
     "execution_count": 194,
     "metadata": {},
     "output_type": "execute_result"
    },
    {
     "data": {
      "image/png": "[encoded data removed]",
      "text/plain": [
       "<Figure size 640x480 with 1 Axes>"
      ]
     },
     "metadata": {},
     "output_type": "display_data"
    }
   ],
   "source": [
    "# success :) \n",
    "# this is the predictions \n",
    "sns.lineplot(x = x_test.reshape(clf.predict(x_test).shape), y=list(clf.predict(x_test)), color='blue', marker='o')\n"
   ]
  },
  {
   "cell_type": "code",
   "execution_count": 195,
   "id": "cd0ece2b",
   "metadata": {},
   "outputs": [],
   "source": [
    "home_value_df = df"
   ]
  },
  {
   "cell_type": "code",
   "execution_count": 196,
   "id": "a8771d23",
   "metadata": {},
   "outputs": [
    {
     "name": "stderr",
     "output_type": "stream",
     "text": [
      "/var/folders/ht/q4d_vppn3x5d3_p7bs499mdh0000gn/T/ipykernel_14920/1271320138.py:1: FutureWarning: The default value of numeric_only in DataFrameGroupBy.mean is deprecated. In a future version, numeric_only will default to False. Either specify numeric_only or select only columns which should be valid for the function.\n",
      "  home_value_df = home_value_df.groupby('year').mean().reset_index()\n"
     ]
    },
    {
     "data": {
      "text/html": [
       "<div>\n",
       "<style scoped>\n",
       "    .dataframe tbody tr th:only-of-type {\n",
       "        vertical-align: middle;\n",
       "    }\n",
       "\n",
       "    .dataframe tbody tr th {\n",
       "        vertical-align: top;\n",
       "    }\n",
       "\n",
       "    .dataframe thead th {\n",
       "        text-align: right;\n",
       "    }\n",
       "</style>\n",
       "<table border=\"1\" class=\"dataframe\">\n",
       "  <thead>\n",
       "    <tr style=\"text-align: right;\">\n",
       "      <th></th>\n",
       "      <th>year</th>\n",
       "      <th>zipcode</th>\n",
       "      <th>home_value</th>\n",
       "    </tr>\n",
       "  </thead>\n",
       "  <tbody>\n",
       "    <tr>\n",
       "      <th>0</th>\n",
       "      <td>2002</td>\n",
       "      <td>10844.331078</td>\n",
       "      <td>388185.197814</td>\n",
       "    </tr>\n",
       "    <tr>\n",
       "      <th>1</th>\n",
       "      <td>2003</td>\n",
       "      <td>10859.201878</td>\n",
       "      <td>427488.437141</td>\n",
       "    </tr>\n",
       "    <tr>\n",
       "      <th>2</th>\n",
       "      <td>2004</td>\n",
       "      <td>10847.042683</td>\n",
       "      <td>475856.334858</td>\n",
       "    </tr>\n",
       "    <tr>\n",
       "      <th>3</th>\n",
       "      <td>2005</td>\n",
       "      <td>10847.042683</td>\n",
       "      <td>563629.120427</td>\n",
       "    </tr>\n",
       "    <tr>\n",
       "      <th>4</th>\n",
       "      <td>2006</td>\n",
       "      <td>10833.730055</td>\n",
       "      <td>640005.374812</td>\n",
       "    </tr>\n",
       "    <tr>\n",
       "      <th>5</th>\n",
       "      <td>2007</td>\n",
       "      <td>10836.500000</td>\n",
       "      <td>642873.288725</td>\n",
       "    </tr>\n",
       "    <tr>\n",
       "      <th>6</th>\n",
       "      <td>2008</td>\n",
       "      <td>10835.700784</td>\n",
       "      <td>645294.235553</td>\n",
       "    </tr>\n",
       "    <tr>\n",
       "      <th>7</th>\n",
       "      <td>2009</td>\n",
       "      <td>10818.026807</td>\n",
       "      <td>611269.790330</td>\n",
       "    </tr>\n",
       "    <tr>\n",
       "      <th>8</th>\n",
       "      <td>2010</td>\n",
       "      <td>10813.988571</td>\n",
       "      <td>580224.588095</td>\n",
       "    </tr>\n",
       "    <tr>\n",
       "      <th>9</th>\n",
       "      <td>2011</td>\n",
       "      <td>10810.965909</td>\n",
       "      <td>595607.424716</td>\n",
       "    </tr>\n",
       "    <tr>\n",
       "      <th>10</th>\n",
       "      <td>2012</td>\n",
       "      <td>10810.965909</td>\n",
       "      <td>598403.972064</td>\n",
       "    </tr>\n",
       "    <tr>\n",
       "      <th>11</th>\n",
       "      <td>2013</td>\n",
       "      <td>10810.965909</td>\n",
       "      <td>634323.553977</td>\n",
       "    </tr>\n",
       "    <tr>\n",
       "      <th>12</th>\n",
       "      <td>2014</td>\n",
       "      <td>10810.965909</td>\n",
       "      <td>699623.237689</td>\n",
       "    </tr>\n",
       "    <tr>\n",
       "      <th>13</th>\n",
       "      <td>2015</td>\n",
       "      <td>10810.965909</td>\n",
       "      <td>761331.272727</td>\n",
       "    </tr>\n",
       "    <tr>\n",
       "      <th>14</th>\n",
       "      <td>2016</td>\n",
       "      <td>10812.476010</td>\n",
       "      <td>796059.340618</td>\n",
       "    </tr>\n",
       "    <tr>\n",
       "      <th>15</th>\n",
       "      <td>2017</td>\n",
       "      <td>10812.314516</td>\n",
       "      <td>823679.544592</td>\n",
       "    </tr>\n",
       "    <tr>\n",
       "      <th>16</th>\n",
       "      <td>2018</td>\n",
       "      <td>10810.965909</td>\n",
       "      <td>854907.883996</td>\n",
       "    </tr>\n",
       "    <tr>\n",
       "      <th>17</th>\n",
       "      <td>2019</td>\n",
       "      <td>10806.199811</td>\n",
       "      <td>860029.804430</td>\n",
       "    </tr>\n",
       "    <tr>\n",
       "      <th>18</th>\n",
       "      <td>2020</td>\n",
       "      <td>10806.593220</td>\n",
       "      <td>845339.889831</td>\n",
       "    </tr>\n",
       "    <tr>\n",
       "      <th>19</th>\n",
       "      <td>2021</td>\n",
       "      <td>10806.593220</td>\n",
       "      <td>860057.260358</td>\n",
       "    </tr>\n",
       "    <tr>\n",
       "      <th>20</th>\n",
       "      <td>2022</td>\n",
       "      <td>10806.593220</td>\n",
       "      <td>918546.994350</td>\n",
       "    </tr>\n",
       "  </tbody>\n",
       "</table>\n",
       "</div>"
      ],
      "text/plain": [
       "    year       zipcode     home_value\n",
       "0   2002  10844.331078  388185.197814\n",
       "1   2003  10859.201878  427488.437141\n",
       "2   2004  10847.042683  475856.334858\n",
       "3   2005  10847.042683  563629.120427\n",
       "4   2006  10833.730055  640005.374812\n",
       "5   2007  10836.500000  642873.288725\n",
       "6   2008  10835.700784  645294.235553\n",
       "7   2009  10818.026807  611269.790330\n",
       "8   2010  10813.988571  580224.588095\n",
       "9   2011  10810.965909  595607.424716\n",
       "10  2012  10810.965909  598403.972064\n",
       "11  2013  10810.965909  634323.553977\n",
       "12  2014  10810.965909  699623.237689\n",
       "13  2015  10810.965909  761331.272727\n",
       "14  2016  10812.476010  796059.340618\n",
       "15  2017  10812.314516  823679.544592\n",
       "16  2018  10810.965909  854907.883996\n",
       "17  2019  10806.199811  860029.804430\n",
       "18  2020  10806.593220  845339.889831\n",
       "19  2021  10806.593220  860057.260358\n",
       "20  2022  10806.593220  918546.994350"
      ]
     },
     "execution_count": 196,
     "metadata": {},
     "output_type": "execute_result"
    }
   ],
   "source": [
    "home_value_df = home_value_df.groupby('year').mean().reset_index()\n",
    "home_value_df"
   ]
  },
  {
   "cell_type": "code",
   "execution_count": 197,
   "id": "28e7dfae",
   "metadata": {},
   "outputs": [
    {
     "data": {
      "text/plain": [
       "<AxesSubplot: xlabel='Year', ylabel='home_value'>"
      ]
     },
     "execution_count": 197,
     "metadata": {},
     "output_type": "execute_result"
    },
    {
     "data": {
      "image/png": "[encoded data removed]",
      "text/plain": [
       "<Figure size 640x480 with 1 Axes>"
      ]
     },
     "metadata": {},
     "output_type": "display_data"
    }
   ],
   "source": [
    "# next step, concatentate with the trend line \n",
    "\n",
    "# years_locator = mdates.YearLocator()\n",
    "# months_locator = mdates.MonthLocator()\n",
    "# years_format = mdates.DateFormatter('%Y')\n",
    "\n",
    "fig, ax = plt.subplots()\n",
    "\n",
    "# ax.xaxis.set_major_locator(years_locator)\n",
    "# ax.xaxis.set_major_formatter(years_format)\n",
    "# ax.xaxis.set_minor_locator(months_locator)\n",
    "\n",
    "rotation = 45\n",
    "plt.setp(ax.get_xticklabels(), rotation=rotation)\n",
    "# plt.title('United\\'s Financials Through Time', fontsize='18')\n",
    "plt.xlabel('Year', fontsize='16')\n",
    "\n",
    "sns.lineplot(y = home_value_df[\"home_value\"], x= home_value_df[\"year\"], color='black', marker='o')\n",
    "sns.lineplot(x = x_test.reshape(clf.predict(x_test).shape), y=list(clf.predict(x_test)), color='blue', marker='o')\n"
   ]
  },
  {
   "cell_type": "code",
   "execution_count": 200,
   "id": "5a09473b",
   "metadata": {},
   "outputs": [
    {
     "data": {
      "text/plain": [
       "<AxesSubplot: xlabel='year', ylabel='home_value'>"
      ]
     },
     "execution_count": 200,
     "metadata": {},
     "output_type": "execute_result"
    },
    {
     "data": {
      "image/png": "[encoded data removed]",
      "text/plain": [
       "<Figure size 640x480 with 1 Axes>"
      ]
     },
     "metadata": {},
     "output_type": "display_data"
    }
   ],
   "source": [
    "# Split at 2015\n",
    "\n",
    "post_airbnb_df = df[df[\"year\"] >= 2015].sort_values(by=\"year\", ascending=True)\n",
    "pre_airbnb_df = df[df[\"year\"] <= 2015].sort_values(by=\"year\", ascending=True)\n",
    "\n",
    "y_train, x_train = pre_airbnb_df[\"home_value\"], pre_airbnb_df[\"year\"].array.reshape(-1, 1)\n",
    "y_test, x_test = post_airbnb_df[\"home_value\"], post_airbnb_df[\"year\"].array.reshape(-1, 1)\n",
    "\n",
    "clf.fit(x_train, y_train)\n",
    "\n",
    "sns.lineplot(x = x_train.reshape(clf.predict(x_train).shape), y=list(clf.predict(x_train)), color='orange', marker='o')\n",
    "sns.lineplot(y = home_value_df[\"home_value\"], x= home_value_df[\"year\"], color='black', marker='o')\n",
    "sns.lineplot(x = x_test.reshape(clf.predict(x_test).shape), y=list(clf.predict(x_test)), color='blue', marker='o')\n"
   ]
  },
  {
   "cell_type": "code",
   "execution_count": 199,
   "id": "b6012dc3",
   "metadata": {},
   "outputs": [
    {
     "data": {
      "text/plain": [
       "<AxesSubplot: xlabel='year', ylabel='home_value'>"
      ]
     },
     "execution_count": 199,
     "metadata": {},
     "output_type": "execute_result"
    },
    {
     "data": {
      "image/png": "[encoded data removed]",
      "text/plain": [
       "<Figure size 640x480 with 1 Axes>"
      ]
     },
     "metadata": {},
     "output_type": "display_data"
    }
   ],
   "source": [
    "# Split at 2008\n",
    "\n",
    "post_airbnb_df = df[df[\"year\"] >= 2008].sort_values(by=\"year\", ascending=True)\n",
    "pre_airbnb_df = df[df[\"year\"] <= 2008].sort_values(by=\"year\", ascending=True)\n",
    "\n",
    "y_train, x_train = pre_airbnb_df[\"home_value\"], pre_airbnb_df[\"year\"].array.reshape(-1, 1)\n",
    "y_test, x_test = post_airbnb_df[\"home_value\"], post_airbnb_df[\"year\"].array.reshape(-1, 1)\n",
    "\n",
    "clf.fit(x_train, y_train)\n",
    "\n",
    "sns.lineplot(x = x_train.reshape(clf.predict(x_train).shape), y=list(clf.predict(x_train)), color='orange', marker='o')\n",
    "sns.lineplot(y = home_value_df[\"home_value\"], x= home_value_df[\"year\"], color='black', marker='o')\n",
    "sns.lineplot(x = x_test.reshape(clf.predict(x_test).shape), y=list(clf.predict(x_test)), color='blue', marker='o')\n"
   ]
  },
  {
   "cell_type": "code",
   "execution_count": 240,
   "id": "5fe50713",
   "metadata": {},
   "outputs": [
    {
     "data": {
      "text/plain": [
       "<AxesSubplot: xlabel='year', ylabel='home_value'>"
      ]
     },
     "execution_count": 240,
     "metadata": {},
     "output_type": "execute_result"
    },
    {
     "data": {
      "image/png": "[encoded data removed]",
      "text/plain": [
       "<Figure size 640x480 with 1 Axes>"
      ]
     },
     "metadata": {},
     "output_type": "display_data"
    }
   ],
   "source": [
    "# lasso? \n",
    "\n",
    "post_airbnb_df = df[df[\"year\"] >= 2008].sort_values(by=\"year\", ascending=True)\n",
    "pre_airbnb_df = df[df[\"year\"] <= 2008].sort_values(by=\"year\", ascending=True)\n",
    "\n",
    "y_train, x_train = pre_airbnb_df[\"home_value\"], pre_airbnb_df[\"year\"].array.reshape(-1, 1)\n",
    "y_test, x_test = post_airbnb_df[\"home_value\"], post_airbnb_df[\"year\"].array.reshape(-1, 1)\n",
    "\n",
    "clf = GridSearchCV(linear_model.Lasso(), param_grid={'alpha': np.logspace(-3, 3, 10)})\n",
    "\n",
    "clf.fit(x_train, y_train)\n",
    "\n",
    "\n",
    "sns.lineplot(x = x_train.reshape(clf.predict(x_train).shape), y=list(clf.predict(x_train)), color='orange', marker='o')\n",
    "sns.lineplot(y = home_value_df[\"home_value\"], x= home_value_df[\"year\"], color='black', marker='o')\n",
    "sns.lineplot(x = x_test.reshape(clf.predict(x_test).shape), y=list(clf.predict(x_test)), color='blue', marker='o')\n"
   ]
  },
  {
   "cell_type": "code",
   "execution_count": 245,
   "id": "7eeda66b",
   "metadata": {
    "scrolled": true
   },
   "outputs": [
    {
     "data": {
      "text/html": [
       "<div>\n",
       "<style scoped>\n",
       "    .dataframe tbody tr th:only-of-type {\n",
       "        vertical-align: middle;\n",
       "    }\n",
       "\n",
       "    .dataframe tbody tr th {\n",
       "        vertical-align: top;\n",
       "    }\n",
       "\n",
       "    .dataframe thead th {\n",
       "        text-align: right;\n",
       "    }\n",
       "</style>\n",
       "<table border=\"1\" class=\"dataframe\">\n",
       "  <thead>\n",
       "    <tr style=\"text-align: right;\">\n",
       "      <th></th>\n",
       "      <th>y</th>\n",
       "      <th>x</th>\n",
       "    </tr>\n",
       "  </thead>\n",
       "  <tbody>\n",
       "    <tr>\n",
       "      <th>0</th>\n",
       "      <td>395355.166838</td>\n",
       "      <td>2002</td>\n",
       "    </tr>\n",
       "    <tr>\n",
       "      <th>1</th>\n",
       "      <td>443725.661124</td>\n",
       "      <td>2003</td>\n",
       "    </tr>\n",
       "    <tr>\n",
       "      <th>2</th>\n",
       "      <td>492096.155409</td>\n",
       "      <td>2004</td>\n",
       "    </tr>\n",
       "    <tr>\n",
       "      <th>3</th>\n",
       "      <td>540466.649695</td>\n",
       "      <td>2005</td>\n",
       "    </tr>\n",
       "    <tr>\n",
       "      <th>4</th>\n",
       "      <td>588837.143980</td>\n",
       "      <td>2006</td>\n",
       "    </tr>\n",
       "  </tbody>\n",
       "</table>\n",
       "</div>"
      ],
      "text/plain": [
       "               y     x\n",
       "0  395355.166838  2002\n",
       "1  443725.661124  2003\n",
       "2  492096.155409  2004\n",
       "3  540466.649695  2005\n",
       "4  588837.143980  2006"
      ]
     },
     "metadata": {},
     "output_type": "display_data"
    },
    {
     "data": {
      "text/html": [
       "<div>\n",
       "<style scoped>\n",
       "    .dataframe tbody tr th:only-of-type {\n",
       "        vertical-align: middle;\n",
       "    }\n",
       "\n",
       "    .dataframe tbody tr th {\n",
       "        vertical-align: top;\n",
       "    }\n",
       "\n",
       "    .dataframe thead th {\n",
       "        text-align: right;\n",
       "    }\n",
       "</style>\n",
       "<table border=\"1\" class=\"dataframe\">\n",
       "  <thead>\n",
       "    <tr style=\"text-align: right;\">\n",
       "      <th></th>\n",
       "      <th>y</th>\n",
       "      <th>x</th>\n",
       "    </tr>\n",
       "  </thead>\n",
       "  <tbody>\n",
       "    <tr>\n",
       "      <th>0</th>\n",
       "      <td>685578.132551</td>\n",
       "      <td>2008</td>\n",
       "    </tr>\n",
       "    <tr>\n",
       "      <th>1</th>\n",
       "      <td>733948.626837</td>\n",
       "      <td>2009</td>\n",
       "    </tr>\n",
       "    <tr>\n",
       "      <th>2</th>\n",
       "      <td>782319.121122</td>\n",
       "      <td>2010</td>\n",
       "    </tr>\n",
       "    <tr>\n",
       "      <th>3</th>\n",
       "      <td>830689.615407</td>\n",
       "      <td>2011</td>\n",
       "    </tr>\n",
       "    <tr>\n",
       "      <th>4</th>\n",
       "      <td>879060.109693</td>\n",
       "      <td>2012</td>\n",
       "    </tr>\n",
       "  </tbody>\n",
       "</table>\n",
       "</div>"
      ],
      "text/plain": [
       "               y     x\n",
       "0  685578.132551  2008\n",
       "1  733948.626837  2009\n",
       "2  782319.121122  2010\n",
       "3  830689.615407  2011\n",
       "4  879060.109693  2012"
      ]
     },
     "metadata": {},
     "output_type": "display_data"
    },
    {
     "data": {
      "text/html": [
       "<div>\n",
       "<style scoped>\n",
       "    .dataframe tbody tr th:only-of-type {\n",
       "        vertical-align: middle;\n",
       "    }\n",
       "\n",
       "    .dataframe tbody tr th {\n",
       "        vertical-align: top;\n",
       "    }\n",
       "\n",
       "    .dataframe thead th {\n",
       "        text-align: right;\n",
       "    }\n",
       "</style>\n",
       "<table border=\"1\" class=\"dataframe\">\n",
       "  <thead>\n",
       "    <tr style=\"text-align: right;\">\n",
       "      <th></th>\n",
       "      <th>x</th>\n",
       "      <th>black_y</th>\n",
       "    </tr>\n",
       "  </thead>\n",
       "  <tbody>\n",
       "    <tr>\n",
       "      <th>0</th>\n",
       "      <td>2002</td>\n",
       "      <td>388185.197814</td>\n",
       "    </tr>\n",
       "    <tr>\n",
       "      <th>1</th>\n",
       "      <td>2003</td>\n",
       "      <td>427488.437141</td>\n",
       "    </tr>\n",
       "    <tr>\n",
       "      <th>2</th>\n",
       "      <td>2004</td>\n",
       "      <td>475856.334858</td>\n",
       "    </tr>\n",
       "    <tr>\n",
       "      <th>3</th>\n",
       "      <td>2005</td>\n",
       "      <td>563629.120427</td>\n",
       "    </tr>\n",
       "    <tr>\n",
       "      <th>4</th>\n",
       "      <td>2006</td>\n",
       "      <td>640005.374812</td>\n",
       "    </tr>\n",
       "  </tbody>\n",
       "</table>\n",
       "</div>"
      ],
      "text/plain": [
       "      x        black_y\n",
       "0  2002  388185.197814\n",
       "1  2003  427488.437141\n",
       "2  2004  475856.334858\n",
       "3  2005  563629.120427\n",
       "4  2006  640005.374812"
      ]
     },
     "metadata": {},
     "output_type": "display_data"
    }
   ],
   "source": [
    "# add points to data frame \n",
    "\n",
    "orange_line = {\n",
    "    'y': list(clf.predict(x_train)),\n",
    "    'x': x_train.reshape(clf.predict(x_train).shape),\n",
    "        }\n",
    "\n",
    "blue_line = {\n",
    "    'y': list(clf.predict(x_test)),\n",
    "    'x': x_test.reshape(clf.predict(x_test).shape),\n",
    "        }\n",
    "\n",
    "black_line = {\n",
    "    \"x\": home_value_df[\"year\"], \n",
    "    \"black_y\": home_value_df[\"home_value\"]\n",
    "}\n",
    "\n",
    "# Create DataFrame\n",
    "orange_line_df = pd.DataFrame(orange_line).drop_duplicates(ignore_index=True)\n",
    "blue_line_df = pd.DataFrame(blue_line).drop_duplicates(ignore_index=True)\n",
    "black_line_df = pd.DataFrame(black_line).drop_duplicates(ignore_index=True)\n",
    "\n",
    "orange_line_df[\"x\"] = pd.to_datetime(orange_line_df.x.astype(str)).dt.year\n",
    "blue_line_df[\"x\"] = pd.to_datetime(blue_line_df.x.astype(str)).dt.year\n",
    "black_line_df[\"x\"] = pd.to_datetime(black_line_df.x.astype(str)).dt.year\n",
    "\n",
    "\n",
    "display(orange_line_df.head())\n",
    "display(blue_line_df.head())\n",
    "display(black_line_df.head())\n",
    "\n",
    "# combine blue and orange into one line \n",
    "\n",
    "orange_and_blue_df = pd.concat([orange_line_df, blue_line_df])\n"
   ]
  },
  {
   "cell_type": "code",
   "execution_count": 248,
   "id": "eb685bd2",
   "metadata": {},
   "outputs": [
    {
     "data": {
      "text/html": [
       "<div>\n",
       "<style scoped>\n",
       "    .dataframe tbody tr th:only-of-type {\n",
       "        vertical-align: middle;\n",
       "    }\n",
       "\n",
       "    .dataframe tbody tr th {\n",
       "        vertical-align: top;\n",
       "    }\n",
       "\n",
       "    .dataframe thead th {\n",
       "        text-align: right;\n",
       "    }\n",
       "</style>\n",
       "<table border=\"1\" class=\"dataframe\">\n",
       "  <thead>\n",
       "    <tr style=\"text-align: right;\">\n",
       "      <th></th>\n",
       "      <th>y</th>\n",
       "      <th>x</th>\n",
       "      <th>black_y</th>\n",
       "      <th>diff</th>\n",
       "    </tr>\n",
       "  </thead>\n",
       "  <tbody>\n",
       "    <tr>\n",
       "      <th>0</th>\n",
       "      <td>3.953552e+05</td>\n",
       "      <td>2002</td>\n",
       "      <td>388185.197814</td>\n",
       "      <td>7169.969025</td>\n",
       "    </tr>\n",
       "    <tr>\n",
       "      <th>1</th>\n",
       "      <td>4.437257e+05</td>\n",
       "      <td>2003</td>\n",
       "      <td>427488.437141</td>\n",
       "      <td>16237.223983</td>\n",
       "    </tr>\n",
       "    <tr>\n",
       "      <th>2</th>\n",
       "      <td>4.920962e+05</td>\n",
       "      <td>2004</td>\n",
       "      <td>475856.334858</td>\n",
       "      <td>16239.820552</td>\n",
       "    </tr>\n",
       "    <tr>\n",
       "      <th>3</th>\n",
       "      <td>5.404666e+05</td>\n",
       "      <td>2005</td>\n",
       "      <td>563629.120427</td>\n",
       "      <td>-23162.470732</td>\n",
       "    </tr>\n",
       "    <tr>\n",
       "      <th>4</th>\n",
       "      <td>5.888371e+05</td>\n",
       "      <td>2006</td>\n",
       "      <td>640005.374812</td>\n",
       "      <td>-51168.230832</td>\n",
       "    </tr>\n",
       "    <tr>\n",
       "      <th>5</th>\n",
       "      <td>6.372076e+05</td>\n",
       "      <td>2007</td>\n",
       "      <td>642873.288725</td>\n",
       "      <td>-5665.650460</td>\n",
       "    </tr>\n",
       "    <tr>\n",
       "      <th>6</th>\n",
       "      <td>6.855781e+05</td>\n",
       "      <td>2008</td>\n",
       "      <td>645294.235553</td>\n",
       "      <td>40283.896998</td>\n",
       "    </tr>\n",
       "    <tr>\n",
       "      <th>7</th>\n",
       "      <td>6.855781e+05</td>\n",
       "      <td>2008</td>\n",
       "      <td>645294.235553</td>\n",
       "      <td>40283.896998</td>\n",
       "    </tr>\n",
       "    <tr>\n",
       "      <th>8</th>\n",
       "      <td>7.339486e+05</td>\n",
       "      <td>2009</td>\n",
       "      <td>611269.790330</td>\n",
       "      <td>122678.836506</td>\n",
       "    </tr>\n",
       "    <tr>\n",
       "      <th>9</th>\n",
       "      <td>7.823191e+05</td>\n",
       "      <td>2010</td>\n",
       "      <td>580224.588095</td>\n",
       "      <td>202094.533027</td>\n",
       "    </tr>\n",
       "    <tr>\n",
       "      <th>10</th>\n",
       "      <td>8.306896e+05</td>\n",
       "      <td>2011</td>\n",
       "      <td>595607.424716</td>\n",
       "      <td>235082.190692</td>\n",
       "    </tr>\n",
       "    <tr>\n",
       "      <th>11</th>\n",
       "      <td>8.790601e+05</td>\n",
       "      <td>2012</td>\n",
       "      <td>598403.972064</td>\n",
       "      <td>280656.137628</td>\n",
       "    </tr>\n",
       "    <tr>\n",
       "      <th>12</th>\n",
       "      <td>9.274306e+05</td>\n",
       "      <td>2013</td>\n",
       "      <td>634323.553977</td>\n",
       "      <td>293107.050001</td>\n",
       "    </tr>\n",
       "    <tr>\n",
       "      <th>13</th>\n",
       "      <td>9.758011e+05</td>\n",
       "      <td>2014</td>\n",
       "      <td>699623.237689</td>\n",
       "      <td>276177.860574</td>\n",
       "    </tr>\n",
       "    <tr>\n",
       "      <th>14</th>\n",
       "      <td>1.024172e+06</td>\n",
       "      <td>2015</td>\n",
       "      <td>761331.272727</td>\n",
       "      <td>262840.319822</td>\n",
       "    </tr>\n",
       "    <tr>\n",
       "      <th>15</th>\n",
       "      <td>1.072542e+06</td>\n",
       "      <td>2016</td>\n",
       "      <td>796059.340618</td>\n",
       "      <td>276482.746217</td>\n",
       "    </tr>\n",
       "    <tr>\n",
       "      <th>16</th>\n",
       "      <td>1.120913e+06</td>\n",
       "      <td>2017</td>\n",
       "      <td>823679.544592</td>\n",
       "      <td>297233.036528</td>\n",
       "    </tr>\n",
       "    <tr>\n",
       "      <th>17</th>\n",
       "      <td>1.169283e+06</td>\n",
       "      <td>2018</td>\n",
       "      <td>854907.883996</td>\n",
       "      <td>314375.191409</td>\n",
       "    </tr>\n",
       "    <tr>\n",
       "      <th>18</th>\n",
       "      <td>1.217654e+06</td>\n",
       "      <td>2019</td>\n",
       "      <td>860029.804430</td>\n",
       "      <td>357623.765261</td>\n",
       "    </tr>\n",
       "    <tr>\n",
       "      <th>19</th>\n",
       "      <td>1.266024e+06</td>\n",
       "      <td>2020</td>\n",
       "      <td>845339.889831</td>\n",
       "      <td>420684.174146</td>\n",
       "    </tr>\n",
       "    <tr>\n",
       "      <th>20</th>\n",
       "      <td>1.314395e+06</td>\n",
       "      <td>2021</td>\n",
       "      <td>860057.260358</td>\n",
       "      <td>454337.297904</td>\n",
       "    </tr>\n",
       "    <tr>\n",
       "      <th>21</th>\n",
       "      <td>1.362765e+06</td>\n",
       "      <td>2022</td>\n",
       "      <td>918546.994350</td>\n",
       "      <td>444218.058197</td>\n",
       "    </tr>\n",
       "  </tbody>\n",
       "</table>\n",
       "</div>"
      ],
      "text/plain": [
       "               y     x        black_y           diff\n",
       "0   3.953552e+05  2002  388185.197814    7169.969025\n",
       "1   4.437257e+05  2003  427488.437141   16237.223983\n",
       "2   4.920962e+05  2004  475856.334858   16239.820552\n",
       "3   5.404666e+05  2005  563629.120427  -23162.470732\n",
       "4   5.888371e+05  2006  640005.374812  -51168.230832\n",
       "5   6.372076e+05  2007  642873.288725   -5665.650460\n",
       "6   6.855781e+05  2008  645294.235553   40283.896998\n",
       "7   6.855781e+05  2008  645294.235553   40283.896998\n",
       "8   7.339486e+05  2009  611269.790330  122678.836506\n",
       "9   7.823191e+05  2010  580224.588095  202094.533027\n",
       "10  8.306896e+05  2011  595607.424716  235082.190692\n",
       "11  8.790601e+05  2012  598403.972064  280656.137628\n",
       "12  9.274306e+05  2013  634323.553977  293107.050001\n",
       "13  9.758011e+05  2014  699623.237689  276177.860574\n",
       "14  1.024172e+06  2015  761331.272727  262840.319822\n",
       "15  1.072542e+06  2016  796059.340618  276482.746217\n",
       "16  1.120913e+06  2017  823679.544592  297233.036528\n",
       "17  1.169283e+06  2018  854907.883996  314375.191409\n",
       "18  1.217654e+06  2019  860029.804430  357623.765261\n",
       "19  1.266024e+06  2020  845339.889831  420684.174146\n",
       "20  1.314395e+06  2021  860057.260358  454337.297904\n",
       "21  1.362765e+06  2022  918546.994350  444218.058197"
      ]
     },
     "execution_count": 248,
     "metadata": {},
     "output_type": "execute_result"
    }
   ],
   "source": [
    "plot_df = pd.merge(orange_and_blue_df, black_line_df, on='x')\n",
    "plot_df[\"diff\"] = plot_df[\"y\"] - plot_df[\"black_y\"] \n",
    "plot_df"
   ]
  },
  {
   "cell_type": "code",
   "execution_count": null,
   "id": "7bf7a654",
   "metadata": {},
   "outputs": [],
   "source": []
  }
 ],
 "metadata": {
  "kernelspec": {
   "display_name": "Python 3 (ipykernel)",
   "language": "python",
   "name": "python3"
  },
  "language_info": {
   "codemirror_mode": {
    "name": "ipython",
    "version": 3
   },
   "file_extension": ".py",
   "mimetype": "text/x-python",
   "name": "python",
   "nbconvert_exporter": "python",
   "pygments_lexer": "ipython3",
   "version": "3.10.6"
  }
 },
 "nbformat": 4,
 "nbformat_minor": 5
}
