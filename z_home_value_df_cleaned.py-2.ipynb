{
 "cells": [
  {
   "cell_type": "code",
   "execution_count": 1,
   "id": "f1b2b35d",
   "metadata": {},
   "outputs": [],
   "source": [
    "#Loading packages \n",
    "\n",
    "import os\n",
    "import pandas as pd\n",
    "import numpy as np\n",
    "import matplotlib.pyplot as plt\n",
    "import seaborn as sns\n"
   ]
  },
  {
   "cell_type": "code",
   "execution_count": 2,
   "id": "0bd707a3",
   "metadata": {},
   "outputs": [],
   "source": [
    "#df = pd.read_csv('data.csv')\n",
    "\n",
    "zhome_values_zip_df = pd.read_csv('zhome_value_zip_df.csv')\n",
    "\n",
    "zhome_values_zip_df = pd.DataFrame(zhome_values_zip_df)\n",
    "\n",
    "#print(zillow_home_values_data)"
   ]
  },
  {
   "cell_type": "code",
   "execution_count": 3,
   "id": "4752d6e2",
   "metadata": {},
   "outputs": [
    {
     "data": {
      "text/html": [
       "<div>\n",
       "<style scoped>\n",
       "    .dataframe tbody tr th:only-of-type {\n",
       "        vertical-align: middle;\n",
       "    }\n",
       "\n",
       "    .dataframe tbody tr th {\n",
       "        vertical-align: top;\n",
       "    }\n",
       "\n",
       "    .dataframe thead th {\n",
       "        text-align: right;\n",
       "    }\n",
       "</style>\n",
       "<table border=\"1\" class=\"dataframe\">\n",
       "  <thead>\n",
       "    <tr style=\"text-align: right;\">\n",
       "      <th></th>\n",
       "      <th>RegionID</th>\n",
       "      <th>SizeRank</th>\n",
       "      <th>RegionName</th>\n",
       "      <th>RegionType</th>\n",
       "      <th>StateName</th>\n",
       "      <th>State</th>\n",
       "      <th>City</th>\n",
       "      <th>Metro</th>\n",
       "      <th>CountyName</th>\n",
       "      <th>2000-01-31</th>\n",
       "      <th>...</th>\n",
       "      <th>2022-01-31</th>\n",
       "      <th>2022-02-28</th>\n",
       "      <th>2022-03-31</th>\n",
       "      <th>2022-04-30</th>\n",
       "      <th>2022-05-31</th>\n",
       "      <th>2022-06-30</th>\n",
       "      <th>2022-07-31</th>\n",
       "      <th>2022-08-31</th>\n",
       "      <th>2022-09-30</th>\n",
       "      <th>2022-10-31</th>\n",
       "    </tr>\n",
       "  </thead>\n",
       "  <tbody>\n",
       "    <tr>\n",
       "      <th>0</th>\n",
       "      <td>91940</td>\n",
       "      <td>0</td>\n",
       "      <td>77449</td>\n",
       "      <td>zip</td>\n",
       "      <td>TX</td>\n",
       "      <td>TX</td>\n",
       "      <td>NaN</td>\n",
       "      <td>Houston-The Woodlands-Sugar Land, TX</td>\n",
       "      <td>Harris County</td>\n",
       "      <td>107184.0</td>\n",
       "      <td>...</td>\n",
       "      <td>257089.0</td>\n",
       "      <td>261757.0</td>\n",
       "      <td>267452.0</td>\n",
       "      <td>273750.0</td>\n",
       "      <td>279865.0</td>\n",
       "      <td>284916.0</td>\n",
       "      <td>288326.0</td>\n",
       "      <td>290250.0</td>\n",
       "      <td>290894.0</td>\n",
       "      <td>291871.0</td>\n",
       "    </tr>\n",
       "    <tr>\n",
       "      <th>1</th>\n",
       "      <td>91982</td>\n",
       "      <td>1</td>\n",
       "      <td>77494</td>\n",
       "      <td>zip</td>\n",
       "      <td>TX</td>\n",
       "      <td>TX</td>\n",
       "      <td>NaN</td>\n",
       "      <td>Houston-The Woodlands-Sugar Land, TX</td>\n",
       "      <td>Fort Bend County</td>\n",
       "      <td>223094.0</td>\n",
       "      <td>...</td>\n",
       "      <td>444749.0</td>\n",
       "      <td>454220.0</td>\n",
       "      <td>465824.0</td>\n",
       "      <td>479498.0</td>\n",
       "      <td>490869.0</td>\n",
       "      <td>498347.0</td>\n",
       "      <td>500609.0</td>\n",
       "      <td>498747.0</td>\n",
       "      <td>499289.0</td>\n",
       "      <td>501368.0</td>\n",
       "    </tr>\n",
       "    <tr>\n",
       "      <th>2</th>\n",
       "      <td>93144</td>\n",
       "      <td>2</td>\n",
       "      <td>79936</td>\n",
       "      <td>zip</td>\n",
       "      <td>TX</td>\n",
       "      <td>TX</td>\n",
       "      <td>El Paso</td>\n",
       "      <td>El Paso, TX</td>\n",
       "      <td>El Paso County</td>\n",
       "      <td>90164.0</td>\n",
       "      <td>...</td>\n",
       "      <td>175658.0</td>\n",
       "      <td>177626.0</td>\n",
       "      <td>179773.0</td>\n",
       "      <td>183128.0</td>\n",
       "      <td>186726.0</td>\n",
       "      <td>190164.0</td>\n",
       "      <td>192396.0</td>\n",
       "      <td>194095.0</td>\n",
       "      <td>195477.0</td>\n",
       "      <td>197127.0</td>\n",
       "    </tr>\n",
       "    <tr>\n",
       "      <th>3</th>\n",
       "      <td>62080</td>\n",
       "      <td>3</td>\n",
       "      <td>11368</td>\n",
       "      <td>zip</td>\n",
       "      <td>NY</td>\n",
       "      <td>NY</td>\n",
       "      <td>New York</td>\n",
       "      <td>New York-Newark-Jersey City, NY-NJ-PA</td>\n",
       "      <td>Queens County</td>\n",
       "      <td>186206.0</td>\n",
       "      <td>...</td>\n",
       "      <td>564682.0</td>\n",
       "      <td>564481.0</td>\n",
       "      <td>566396.0</td>\n",
       "      <td>567898.0</td>\n",
       "      <td>570676.0</td>\n",
       "      <td>572891.0</td>\n",
       "      <td>574998.0</td>\n",
       "      <td>575933.0</td>\n",
       "      <td>578691.0</td>\n",
       "      <td>582277.0</td>\n",
       "    </tr>\n",
       "    <tr>\n",
       "      <th>4</th>\n",
       "      <td>62093</td>\n",
       "      <td>4</td>\n",
       "      <td>11385</td>\n",
       "      <td>zip</td>\n",
       "      <td>NY</td>\n",
       "      <td>NY</td>\n",
       "      <td>New York</td>\n",
       "      <td>New York-Newark-Jersey City, NY-NJ-PA</td>\n",
       "      <td>Queens County</td>\n",
       "      <td>275596.0</td>\n",
       "      <td>...</td>\n",
       "      <td>747687.0</td>\n",
       "      <td>750970.0</td>\n",
       "      <td>756670.0</td>\n",
       "      <td>759268.0</td>\n",
       "      <td>765087.0</td>\n",
       "      <td>770360.0</td>\n",
       "      <td>775517.0</td>\n",
       "      <td>778187.0</td>\n",
       "      <td>781268.0</td>\n",
       "      <td>787104.0</td>\n",
       "    </tr>\n",
       "    <tr>\n",
       "      <th>...</th>\n",
       "      <td>...</td>\n",
       "      <td>...</td>\n",
       "      <td>...</td>\n",
       "      <td>...</td>\n",
       "      <td>...</td>\n",
       "      <td>...</td>\n",
       "      <td>...</td>\n",
       "      <td>...</td>\n",
       "      <td>...</td>\n",
       "      <td>...</td>\n",
       "      <td>...</td>\n",
       "      <td>...</td>\n",
       "      <td>...</td>\n",
       "      <td>...</td>\n",
       "      <td>...</td>\n",
       "      <td>...</td>\n",
       "      <td>...</td>\n",
       "      <td>...</td>\n",
       "      <td>...</td>\n",
       "      <td>...</td>\n",
       "      <td>...</td>\n",
       "    </tr>\n",
       "    <tr>\n",
       "      <th>27419</th>\n",
       "      <td>65172</td>\n",
       "      <td>30657</td>\n",
       "      <td>17762</td>\n",
       "      <td>zip</td>\n",
       "      <td>PA</td>\n",
       "      <td>PA</td>\n",
       "      <td>Hughesville</td>\n",
       "      <td>Williamsport, PA</td>\n",
       "      <td>Lycoming County</td>\n",
       "      <td>NaN</td>\n",
       "      <td>...</td>\n",
       "      <td>NaN</td>\n",
       "      <td>NaN</td>\n",
       "      <td>NaN</td>\n",
       "      <td>NaN</td>\n",
       "      <td>NaN</td>\n",
       "      <td>NaN</td>\n",
       "      <td>NaN</td>\n",
       "      <td>NaN</td>\n",
       "      <td>147664.0</td>\n",
       "      <td>151285.0</td>\n",
       "    </tr>\n",
       "    <tr>\n",
       "      <th>27420</th>\n",
       "      <td>80190</td>\n",
       "      <td>30657</td>\n",
       "      <td>50160</td>\n",
       "      <td>zip</td>\n",
       "      <td>IA</td>\n",
       "      <td>IA</td>\n",
       "      <td>Martensdale</td>\n",
       "      <td>Des Moines-West Des Moines, IA</td>\n",
       "      <td>Warren County</td>\n",
       "      <td>NaN</td>\n",
       "      <td>...</td>\n",
       "      <td>175734.0</td>\n",
       "      <td>179142.0</td>\n",
       "      <td>180164.0</td>\n",
       "      <td>181149.0</td>\n",
       "      <td>182351.0</td>\n",
       "      <td>184956.0</td>\n",
       "      <td>186832.0</td>\n",
       "      <td>188379.0</td>\n",
       "      <td>190213.0</td>\n",
       "      <td>191794.0</td>\n",
       "    </tr>\n",
       "    <tr>\n",
       "      <th>27421</th>\n",
       "      <td>65355</td>\n",
       "      <td>30657</td>\n",
       "      <td>18081</td>\n",
       "      <td>zip</td>\n",
       "      <td>PA</td>\n",
       "      <td>PA</td>\n",
       "      <td>Hellertown</td>\n",
       "      <td>Philadelphia-Camden-Wilmington, PA-NJ-DE-MD</td>\n",
       "      <td>Bucks County</td>\n",
       "      <td>NaN</td>\n",
       "      <td>...</td>\n",
       "      <td>354365.0</td>\n",
       "      <td>356878.0</td>\n",
       "      <td>362437.0</td>\n",
       "      <td>368824.0</td>\n",
       "      <td>372757.0</td>\n",
       "      <td>373071.0</td>\n",
       "      <td>372062.0</td>\n",
       "      <td>370075.0</td>\n",
       "      <td>369514.0</td>\n",
       "      <td>370807.0</td>\n",
       "    </tr>\n",
       "    <tr>\n",
       "      <th>27422</th>\n",
       "      <td>80581</td>\n",
       "      <td>30657</td>\n",
       "      <td>51009</td>\n",
       "      <td>zip</td>\n",
       "      <td>IA</td>\n",
       "      <td>IA</td>\n",
       "      <td>Calumet</td>\n",
       "      <td>NaN</td>\n",
       "      <td>O Brien County</td>\n",
       "      <td>NaN</td>\n",
       "      <td>...</td>\n",
       "      <td>71091.0</td>\n",
       "      <td>72012.0</td>\n",
       "      <td>72555.0</td>\n",
       "      <td>72780.0</td>\n",
       "      <td>72984.0</td>\n",
       "      <td>73967.0</td>\n",
       "      <td>74786.0</td>\n",
       "      <td>75141.0</td>\n",
       "      <td>74819.0</td>\n",
       "      <td>75065.0</td>\n",
       "    </tr>\n",
       "    <tr>\n",
       "      <th>27423</th>\n",
       "      <td>75083</td>\n",
       "      <td>30657</td>\n",
       "      <td>38946</td>\n",
       "      <td>zip</td>\n",
       "      <td>MS</td>\n",
       "      <td>MS</td>\n",
       "      <td>Morgan City</td>\n",
       "      <td>Greenwood, MS</td>\n",
       "      <td>Leflore County</td>\n",
       "      <td>NaN</td>\n",
       "      <td>...</td>\n",
       "      <td>NaN</td>\n",
       "      <td>NaN</td>\n",
       "      <td>NaN</td>\n",
       "      <td>NaN</td>\n",
       "      <td>NaN</td>\n",
       "      <td>NaN</td>\n",
       "      <td>NaN</td>\n",
       "      <td>54604.0</td>\n",
       "      <td>54909.0</td>\n",
       "      <td>55025.0</td>\n",
       "    </tr>\n",
       "  </tbody>\n",
       "</table>\n",
       "<p>27424 rows × 283 columns</p>\n",
       "</div>"
      ],
      "text/plain": [
       "       RegionID  SizeRank  RegionName RegionType StateName State         City  \\\n",
       "0         91940         0       77449        zip        TX    TX          NaN   \n",
       "1         91982         1       77494        zip        TX    TX          NaN   \n",
       "2         93144         2       79936        zip        TX    TX      El Paso   \n",
       "3         62080         3       11368        zip        NY    NY     New York   \n",
       "4         62093         4       11385        zip        NY    NY     New York   \n",
       "...         ...       ...         ...        ...       ...   ...          ...   \n",
       "27419     65172     30657       17762        zip        PA    PA  Hughesville   \n",
       "27420     80190     30657       50160        zip        IA    IA  Martensdale   \n",
       "27421     65355     30657       18081        zip        PA    PA   Hellertown   \n",
       "27422     80581     30657       51009        zip        IA    IA      Calumet   \n",
       "27423     75083     30657       38946        zip        MS    MS  Morgan City   \n",
       "\n",
       "                                             Metro        CountyName  \\\n",
       "0             Houston-The Woodlands-Sugar Land, TX     Harris County   \n",
       "1             Houston-The Woodlands-Sugar Land, TX  Fort Bend County   \n",
       "2                                      El Paso, TX    El Paso County   \n",
       "3            New York-Newark-Jersey City, NY-NJ-PA     Queens County   \n",
       "4            New York-Newark-Jersey City, NY-NJ-PA     Queens County   \n",
       "...                                            ...               ...   \n",
       "27419                             Williamsport, PA   Lycoming County   \n",
       "27420               Des Moines-West Des Moines, IA     Warren County   \n",
       "27421  Philadelphia-Camden-Wilmington, PA-NJ-DE-MD      Bucks County   \n",
       "27422                                          NaN    O Brien County   \n",
       "27423                                Greenwood, MS    Leflore County   \n",
       "\n",
       "       2000-01-31  ...  2022-01-31  2022-02-28  2022-03-31  2022-04-30  \\\n",
       "0        107184.0  ...    257089.0    261757.0    267452.0    273750.0   \n",
       "1        223094.0  ...    444749.0    454220.0    465824.0    479498.0   \n",
       "2         90164.0  ...    175658.0    177626.0    179773.0    183128.0   \n",
       "3        186206.0  ...    564682.0    564481.0    566396.0    567898.0   \n",
       "4        275596.0  ...    747687.0    750970.0    756670.0    759268.0   \n",
       "...           ...  ...         ...         ...         ...         ...   \n",
       "27419         NaN  ...         NaN         NaN         NaN         NaN   \n",
       "27420         NaN  ...    175734.0    179142.0    180164.0    181149.0   \n",
       "27421         NaN  ...    354365.0    356878.0    362437.0    368824.0   \n",
       "27422         NaN  ...     71091.0     72012.0     72555.0     72780.0   \n",
       "27423         NaN  ...         NaN         NaN         NaN         NaN   \n",
       "\n",
       "       2022-05-31  2022-06-30  2022-07-31  2022-08-31  2022-09-30  2022-10-31  \n",
       "0        279865.0    284916.0    288326.0    290250.0    290894.0    291871.0  \n",
       "1        490869.0    498347.0    500609.0    498747.0    499289.0    501368.0  \n",
       "2        186726.0    190164.0    192396.0    194095.0    195477.0    197127.0  \n",
       "3        570676.0    572891.0    574998.0    575933.0    578691.0    582277.0  \n",
       "4        765087.0    770360.0    775517.0    778187.0    781268.0    787104.0  \n",
       "...           ...         ...         ...         ...         ...         ...  \n",
       "27419         NaN         NaN         NaN         NaN    147664.0    151285.0  \n",
       "27420    182351.0    184956.0    186832.0    188379.0    190213.0    191794.0  \n",
       "27421    372757.0    373071.0    372062.0    370075.0    369514.0    370807.0  \n",
       "27422     72984.0     73967.0     74786.0     75141.0     74819.0     75065.0  \n",
       "27423         NaN         NaN         NaN     54604.0     54909.0     55025.0  \n",
       "\n",
       "[27424 rows x 283 columns]"
      ]
     },
     "execution_count": 3,
     "metadata": {},
     "output_type": "execute_result"
    }
   ],
   "source": [
    "zhome_values_zip_df"
   ]
  },
  {
   "cell_type": "code",
   "execution_count": null,
   "id": "436afd2a",
   "metadata": {},
   "outputs": [],
   "source": [
    "zhome_values_zip_df.columns"
   ]
  },
  {
   "cell_type": "code",
   "execution_count": 4,
   "id": "57717844",
   "metadata": {},
   "outputs": [],
   "source": [
    "# df = df.drop(df.columns[[0, 1, 3]], axis=1)\n",
    "\n",
    "#dropping columns from data frame we dont need 8 = jan 2000. 31 = dec 2002. 0 = Regiontype. 4=statename. 6= metro. \n",
    "\n",
    "zhome_values_zip_df = zhome_values_zip_df.drop(zhome_values_zip_df.columns[9:33], axis=1)\n",
    "zhome_values_zip_df = zhome_values_zip_df.drop(zhome_values_zip_df.columns[[0,1,3,4,7,]], axis=1)"
   ]
  },
  {
   "cell_type": "code",
   "execution_count": 5,
   "id": "4aca8963",
   "metadata": {
    "scrolled": true
   },
   "outputs": [
    {
     "data": {
      "text/plain": [
       "Index(['RegionName', 'State', 'City', 'CountyName', '2002-01-31', '2002-02-28',\n",
       "       '2002-03-31', '2002-04-30', '2002-05-31', '2002-06-30',\n",
       "       ...\n",
       "       '2022-01-31', '2022-02-28', '2022-03-31', '2022-04-30', '2022-05-31',\n",
       "       '2022-06-30', '2022-07-31', '2022-08-31', '2022-09-30', '2022-10-31'],\n",
       "      dtype='object', length=254)"
      ]
     },
     "execution_count": 5,
     "metadata": {},
     "output_type": "execute_result"
    }
   ],
   "source": [
    "#df after columns have been dropped\n",
    "\n",
    "zhome_values_zip_df.columns"
   ]
  },
  {
   "cell_type": "code",
   "execution_count": null,
   "id": "61a79855",
   "metadata": {},
   "outputs": [],
   "source": [
    "zhome_values_zip_df"
   ]
  },
  {
   "cell_type": "code",
   "execution_count": null,
   "id": "67609f28",
   "metadata": {},
   "outputs": [],
   "source": []
  },
  {
   "cell_type": "code",
   "execution_count": null,
   "id": "bf39fda2",
   "metadata": {
    "scrolled": true
   },
   "outputs": [],
   "source": [
    "zhome_values_zip_df.State.dtype"
   ]
  },
  {
   "cell_type": "code",
   "execution_count": 6,
   "id": "d1dc827f",
   "metadata": {},
   "outputs": [],
   "source": [
    "# creating new dataframe with the name of the columns replaced\n",
    "\n",
    "#df2 = df.rename({'a': 'X', 'b': 'Y'}, axis=1)\n",
    "\n",
    "z_hv_zip_df2 = zhome_values_zip_df.rename({'RegionName' : 'zip', 'State' : 'state',\n",
    "                                           'City' : 'city', 'CountyName' : 'county_name'}, axis = 1)"
   ]
  },
  {
   "cell_type": "code",
   "execution_count": null,
   "id": "b8439544",
   "metadata": {},
   "outputs": [],
   "source": [
    "z_hv_zip_df2"
   ]
  },
  {
   "cell_type": "code",
   "execution_count": 7,
   "id": "474bc13f",
   "metadata": {},
   "outputs": [],
   "source": [
    "#df = df.melt(id_vars=[\"location\", \"name\"], \n",
    "#         var_name=\"Date\", \n",
    "#         value_name=\"Value\"\n",
    "\n",
    "#replacing the '2002-01-31 colums to 'Date' and assiging their values.\n",
    "\n",
    "z_hv_zip_df2 = z_hv_zip_df2.melt(id_vars=['zip', 'state', 'city', 'county_name'], \n",
    "                                                       var_name= \"date\", \n",
    "                                                       value_name= \"home_value\")\n",
    "\n"
   ]
  },
  {
   "cell_type": "code",
   "execution_count": null,
   "id": "e9eff9a6",
   "metadata": {},
   "outputs": [],
   "source": [
    "z_hv_zip_df2 = z_hv_zip_df2.melt(id_vars=['zip', 'state', 'city', 'county_name'], \n",
    "                                                       var_name= \"date\",\n",
    "                                                       var_name= \"home_rent\"\n",
    "                                                       value_name= \"home_value\")"
   ]
  },
  {
   "cell_type": "code",
   "execution_count": 8,
   "id": "87ae12bb",
   "metadata": {},
   "outputs": [
    {
     "data": {
      "text/plain": [
       "Index(['zip', 'state', 'city', 'county_name', 'date', 'home_value'], dtype='object')"
      ]
     },
     "execution_count": 8,
     "metadata": {},
     "output_type": "execute_result"
    }
   ],
   "source": [
    "z_hv_zip_df2.columns"
   ]
  },
  {
   "cell_type": "code",
   "execution_count": null,
   "id": "eed11081",
   "metadata": {},
   "outputs": [],
   "source": []
  },
  {
   "cell_type": "code",
   "execution_count": null,
   "id": "edfdf610",
   "metadata": {},
   "outputs": [],
   "source": []
  },
  {
   "cell_type": "code",
   "execution_count": null,
   "id": "f2362d49",
   "metadata": {},
   "outputs": [],
   "source": [
    "z_hv_zip_df2"
   ]
  },
  {
   "cell_type": "code",
   "execution_count": 9,
   "id": "1ca471d2",
   "metadata": {
    "scrolled": true
   },
   "outputs": [],
   "source": [
    "#    li = ['Albert', 'Louis', 'John']\n",
    "#    df[df.name.isin(li)]\n",
    "\n",
    "#creating new df where only the word NY pulls from the State column.\n",
    "\n",
    "z_hv_zip_ny_df = ['NY']\n",
    "\n",
    "z_hv_zip_df2 = z_hv_zip_df2[z_hv_zip_df2.state.isin(z_hv_zip_ny_df)]"
   ]
  },
  {
   "cell_type": "code",
   "execution_count": null,
   "id": "b7c9e4db",
   "metadata": {
    "scrolled": false
   },
   "outputs": [],
   "source": [
    "z_hv_zip_df2"
   ]
  },
  {
   "cell_type": "code",
   "execution_count": null,
   "id": "b4c7df87",
   "metadata": {
    "scrolled": true
   },
   "outputs": [],
   "source": [
    "z_hv_zip_df2.sample(50)"
   ]
  },
  {
   "cell_type": "code",
   "execution_count": null,
   "id": "e269aeea",
   "metadata": {},
   "outputs": [],
   "source": [
    "z_hv_zip_df2['county_name'].value_counts().sample(60)"
   ]
  },
  {
   "cell_type": "code",
   "execution_count": null,
   "id": "37982569",
   "metadata": {},
   "outputs": [],
   "source": [
    "z_hv_zip_df2.astype()"
   ]
  },
  {
   "cell_type": "code",
   "execution_count": null,
   "id": "827a8553",
   "metadata": {},
   "outputs": [],
   "source": [
    "queens_zip = z_hv_zip_df2[z_hv_zip_df2['county_name'] == 'Queens County']['zip'].unique()\n",
    "\n",
    "bronx_zip = z_hv_zip_df2[z_hv_zip_df2['county_name'] == 'Bronx County']['zip'].unique()\n",
    "\n",
    "brooklyn_zip = z_hv_zip_df2[z_hv_zip_df2['county_name'] == 'Kings County']['zip'].unique()\n",
    "\n",
    "staten_zip = z_hv_zip_df2[z_hv_zip_df2['county_name'] == 'Richmond County']['zip'].unique()\n",
    "\n",
    "manhattan_zip = z_hv_zip_df2[z_hv_zip_df2['county_name'] == 'New York County']['zip'].unique()"
   ]
  },
  {
   "cell_type": "code",
   "execution_count": null,
   "id": "a0baaff6",
   "metadata": {},
   "outputs": [],
   "source": [
    "z_hv_zip_df2[z_hv_zip_df2['county_name'].astype(str) == 'Queens County' \n",
    "                       and z_hv_zip_df2['county_name'] == 'Kings County'\n",
    "                       and z_hv_zip_df2['county_name'].astype(str) == 'New York County' \n",
    "                       and z_hv_zip_df2['county_name'].astype(str) == 'Bronx County'\n",
    "                       and z_hv_zip_df2['county_name'].astype(str) == 'Richmond County']"
   ]
  },
  {
   "cell_type": "code",
   "execution_count": null,
   "id": "f5b02e05",
   "metadata": {},
   "outputs": [],
   "source": [
    "z_hv_zip_df2[z_hv_zip_df2['county_name'].astype(str) == 'Queens County' \n",
    "                            & z_hv_zip_df2['county_name'].astype(str) == 'Kings County'\n",
    "                            & z_hv_zip_df2['county_name'].astype(str) == 'New York County'\n",
    "                            & z_hv_zip_df2['county_name'].astype(str) == 'Bronx County'\n",
    "                            & z_hv_zip_df2['county_name'].astype(str) == 'Richmond County']"
   ]
  },
  {
   "cell_type": "code",
   "execution_count": null,
   "id": "a1e03408",
   "metadata": {},
   "outputs": [],
   "source": [
    "z_hv_zip_df2['county_name'] = z_hv_zip_df2['county_name'].astype(str)"
   ]
  },
  {
   "cell_type": "code",
   "execution_count": null,
   "id": "cae8b759",
   "metadata": {},
   "outputs": [],
   "source": [
    "z_hv_zip_df2"
   ]
  },
  {
   "cell_type": "code",
   "execution_count": null,
   "id": "8713cbf0",
   "metadata": {},
   "outputs": [],
   "source": [
    "z_hv_zip_df2['county_name'] == ['Queens County',\n",
    "                            and z_hv_zip_df2['county_name'] == 'Kings County'\n",
    "                            and z_hv_zip_df2['county_name'] == 'New York County'\n",
    "                            and z_hv_zip_df2['county_name'] == 'Bronx County'\n",
    "                            and z_hv_zip_df2['county_name'] == 'Richmond County']"
   ]
  },
  {
   "cell_type": "code",
   "execution_count": 10,
   "id": "ccafb260",
   "metadata": {},
   "outputs": [],
   "source": [
    "df_filtered = z_hv_zip_df2[z_hv_zip_df2['county_name'].isin(['Queens County', 'New York County', 'Bronx County', 'Richmond County', 'Kings County'])]"
   ]
  },
  {
   "cell_type": "code",
   "execution_count": null,
   "id": "d7348fa6",
   "metadata": {},
   "outputs": [],
   "source": []
  },
  {
   "cell_type": "code",
   "execution_count": null,
   "id": "0b1247e7",
   "metadata": {},
   "outputs": [],
   "source": []
  },
  {
   "cell_type": "code",
   "execution_count": null,
   "id": "4a2f6838",
   "metadata": {},
   "outputs": [],
   "source": []
  },
  {
   "cell_type": "code",
   "execution_count": null,
   "id": "e0fff041",
   "metadata": {},
   "outputs": [],
   "source": [
    "df_filtered['date'] = df_filtered['date']pd.to_datetime()"
   ]
  },
  {
   "cell_type": "code",
   "execution_count": null,
   "id": "886207c8",
   "metadata": {},
   "outputs": [],
   "source": [
    "['Coast'] = np.where(df['States'].isin(Atlantic_states), 'Atlantic Coast',\n",
    "                       'Unknown')"
   ]
  },
  {
   "cell_type": "code",
   "execution_count": null,
   "id": "f0c4833f",
   "metadata": {},
   "outputs": [],
   "source": [
    "df['Coast'] = np.where(df['States'].isin(Atlantic_states), 'Atlantic Coast',\n",
    "                       'Unknown')"
   ]
  },
  {
   "cell_type": "code",
   "execution_count": null,
   "id": "370cfaa5",
   "metadata": {},
   "outputs": [],
   "source": []
  },
  {
   "cell_type": "code",
   "execution_count": null,
   "id": "43c866e0",
   "metadata": {},
   "outputs": [],
   "source": [
    "#queens_zip = \n",
    "\n",
    "#brooklyn_zip =\n",
    "\n",
    "bronx_zip\n",
    "\n",
    "#statenisland_zip =\n",
    "\n",
    "#manhattan_zip = "
   ]
  },
  {
   "cell_type": "code",
   "execution_count": null,
   "id": "eb061e18",
   "metadata": {},
   "outputs": [],
   "source": []
  },
  {
   "cell_type": "code",
   "execution_count": null,
   "id": "4d11b8b8",
   "metadata": {},
   "outputs": [],
   "source": []
  },
  {
   "cell_type": "code",
   "execution_count": null,
   "id": "08a200a2",
   "metadata": {},
   "outputs": [],
   "source": []
  },
  {
   "cell_type": "code",
   "execution_count": null,
   "id": "5f288676",
   "metadata": {},
   "outputs": [],
   "source": []
  },
  {
   "cell_type": "code",
   "execution_count": null,
   "id": "d4f4b38b",
   "metadata": {},
   "outputs": [],
   "source": []
  },
  {
   "cell_type": "code",
   "execution_count": null,
   "id": "41479628",
   "metadata": {},
   "outputs": [],
   "source": [
    "z_hv_zip_df3 = [200:250]"
   ]
  },
  {
   "cell_type": "code",
   "execution_count": null,
   "id": "331dd124",
   "metadata": {
    "scrolled": true
   },
   "outputs": [],
   "source": [
    "zhome_values_zip_df.drop_duplicates(subset = ['RegionName'])"
   ]
  },
  {
   "cell_type": "code",
   "execution_count": null,
   "id": "f4840430",
   "metadata": {},
   "outputs": [],
   "source": [
    "#df_new = df[df['Pid'] == 'p01']\n",
    "zhome_values_ny = zhome_values_zip_df[zhome_values_zip_df['RegionName'] == 'New York']\n",
    "\n",
    "print(zillow_home_values_ny)\n",
    "#zillow_home_values_data = zillow_home_values_data[\"RegionName\"] = \"New York\""
   ]
  },
  {
   "cell_type": "code",
   "execution_count": null,
   "id": "bf2b2f60",
   "metadata": {},
   "outputs": [],
   "source": [
    "region_newyork = ['New York']\n",
    "\n",
    "zillow_home_values_data = zillow_home_values_data[zillow_home_values_data.RegionName.isin(region_newyork)]"
   ]
  },
  {
   "cell_type": "code",
   "execution_count": null,
   "id": "be03d4a5",
   "metadata": {},
   "outputs": [],
   "source": [
    "zillow_home_values_data"
   ]
  },
  {
   "cell_type": "code",
   "execution_count": null,
   "id": "95bfd8f9",
   "metadata": {},
   "outputs": [],
   "source": [
    "zillow_home_values_data"
   ]
  },
  {
   "cell_type": "code",
   "execution_count": null,
   "id": "17cc8a2e",
   "metadata": {},
   "outputs": [],
   "source": []
  },
  {
   "cell_type": "code",
   "execution_count": null,
   "id": "e62a2e14",
   "metadata": {},
   "outputs": [],
   "source": []
  },
  {
   "cell_type": "code",
   "execution_count": null,
   "id": "e84bc7cd",
   "metadata": {},
   "outputs": [],
   "source": [
    "# df.loc[:, df.columns != 'b']\n",
    "zillow_home_values_data.loc[:, zillow_home_values_data.column]"
   ]
  },
  {
   "cell_type": "code",
   "execution_count": null,
   "id": "c3ecf2f9",
   "metadata": {},
   "outputs": [],
   "source": [
    "zillow_home_values_data = zillow_home_values_data.drop('col', axis=1)"
   ]
  },
  {
   "cell_type": "code",
   "execution_count": null,
   "id": "f8d2de24",
   "metadata": {},
   "outputs": [],
   "source": []
  },
  {
   "cell_type": "code",
   "execution_count": null,
   "id": "f41c5aad",
   "metadata": {
    "scrolled": true
   },
   "outputs": [],
   "source": []
  },
  {
   "cell_type": "code",
   "execution_count": null,
   "id": "0de5f5b7",
   "metadata": {},
   "outputs": [],
   "source": [
    ".sort_values() #when organizing data in the column \n",
    ".astype #convert from int to str to float "
   ]
  },
  {
   "cell_type": "code",
   "execution_count": null,
   "id": "693e7c87",
   "metadata": {},
   "outputs": [],
   "source": [
    "zillow_home_values_df.index"
   ]
  },
  {
   "cell_type": "code",
   "execution_count": null,
   "id": "adbe0473",
   "metadata": {},
   "outputs": [],
   "source": [
    "zillow_home_values_df.index = pd.to_datetime(zillow_home_values_df.index)\n",
    "zillow_home_values_df.index"
   ]
  },
  {
   "cell_type": "code",
   "execution_count": null,
   "id": "5ad646b9",
   "metadata": {},
   "outputs": [],
   "source": [
    "zillow_home_values_df.columns"
   ]
  },
  {
   "cell_type": "code",
   "execution_count": null,
   "id": "9c3498bc",
   "metadata": {},
   "outputs": [],
   "source": []
  }
 ],
 "metadata": {
  "kernelspec": {
   "display_name": "Python 3",
   "language": "python",
   "name": "python3"
  },
  "language_info": {
   "codemirror_mode": {
    "name": "ipython",
    "version": 3
   },
   "file_extension": ".py",
   "mimetype": "text/x-python",
   "name": "python",
   "nbconvert_exporter": "python",
   "pygments_lexer": "ipython3",
   "version": "3.8.8"
  }
 },
 "nbformat": 4,
 "nbformat_minor": 5
}
