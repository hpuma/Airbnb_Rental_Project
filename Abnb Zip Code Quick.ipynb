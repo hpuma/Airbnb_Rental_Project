{
 "cells": [
  {
   "cell_type": "code",
   "execution_count": 9,
   "id": "4b64a816",
   "metadata": {},
   "outputs": [
    {
     "name": "stdout",
     "output_type": "stream",
     "text": [
      "Requirement already satisfied: uszipcode in /Users/sergioferreira/opt/anaconda3/lib/python3.9/site-packages (1.0.1)\n",
      "Requirement already satisfied: fuzzywuzzy in /Users/sergioferreira/opt/anaconda3/lib/python3.9/site-packages (from uszipcode) (0.18.0)\n",
      "Requirement already satisfied: SQLAlchemy>=1.4.0 in /Users/sergioferreira/opt/anaconda3/lib/python3.9/site-packages (from uszipcode) (1.4.39)\n",
      "Requirement already satisfied: atomicwrites in /Users/sergioferreira/opt/anaconda3/lib/python3.9/site-packages (from uszipcode) (1.4.0)\n",
      "Requirement already satisfied: pathlib-mate in /Users/sergioferreira/opt/anaconda3/lib/python3.9/site-packages (from uszipcode) (1.1.1)\n",
      "Requirement already satisfied: haversine>=2.5.0 in /Users/sergioferreira/opt/anaconda3/lib/python3.9/site-packages (from uszipcode) (2.7.0)\n",
      "Requirement already satisfied: sqlalchemy-mate>=1.4.28.3 in /Users/sergioferreira/opt/anaconda3/lib/python3.9/site-packages (from uszipcode) (1.4.28.3)\n",
      "Requirement already satisfied: requests in /Users/sergioferreira/opt/anaconda3/lib/python3.9/site-packages (from uszipcode) (2.28.1)\n",
      "Requirement already satisfied: attrs in /Users/sergioferreira/opt/anaconda3/lib/python3.9/site-packages (from uszipcode) (21.4.0)\n",
      "Requirement already satisfied: greenlet!=0.4.17 in /Users/sergioferreira/opt/anaconda3/lib/python3.9/site-packages (from SQLAlchemy>=1.4.0->uszipcode) (1.1.1)\n",
      "Requirement already satisfied: prettytable in /Users/sergioferreira/opt/anaconda3/lib/python3.9/site-packages (from sqlalchemy-mate>=1.4.28.3->uszipcode) (3.5.0)\n",
      "Requirement already satisfied: six in /Users/sergioferreira/opt/anaconda3/lib/python3.9/site-packages (from pathlib-mate->uszipcode) (1.16.0)\n",
      "Requirement already satisfied: certifi>=2017.4.17 in /Users/sergioferreira/opt/anaconda3/lib/python3.9/site-packages (from requests->uszipcode) (2022.9.24)\n",
      "Requirement already satisfied: charset-normalizer<3,>=2 in /Users/sergioferreira/opt/anaconda3/lib/python3.9/site-packages (from requests->uszipcode) (2.0.4)\n",
      "Requirement already satisfied: idna<4,>=2.5 in /Users/sergioferreira/opt/anaconda3/lib/python3.9/site-packages (from requests->uszipcode) (3.3)\n",
      "Requirement already satisfied: urllib3<1.27,>=1.21.1 in /Users/sergioferreira/opt/anaconda3/lib/python3.9/site-packages (from requests->uszipcode) (1.26.11)\n",
      "Requirement already satisfied: wcwidth in /Users/sergioferreira/opt/anaconda3/lib/python3.9/site-packages (from prettytable->sqlalchemy-mate>=1.4.28.3->uszipcode) (0.2.5)\n",
      "Note: you may need to restart the kernel to use updated packages.\n"
     ]
    }
   ],
   "source": [
    "%pip install --upgrade uszipcode"
   ]
  },
  {
   "cell_type": "code",
   "execution_count": 1,
   "id": "b1b5614e",
   "metadata": {},
   "outputs": [
    {
     "name": "stderr",
     "output_type": "stream",
     "text": [
      "/Users/sergioferreira/opt/anaconda3/lib/python3.9/site-packages/fuzzywuzzy/fuzz.py:11: UserWarning: Using slow pure-python SequenceMatcher. Install python-Levenshtein to remove this warning\n",
      "  warnings.warn('Using slow pure-python SequenceMatcher. Install python-Levenshtein to remove this warning')\n"
     ]
    }
   ],
   "source": [
    "import os\n",
    "import pandas as pd\n",
    "import numpy as np\n",
    "import matplotlib.pyplot as plt\n",
    "import seaborn as sns\n",
    "import geopy as gp\n",
    "import uszipcode as zp"
   ]
  },
  {
   "cell_type": "code",
   "execution_count": 30,
   "id": "18f5f20a",
   "metadata": {},
   "outputs": [
    {
     "data": {
      "text/plain": [
       "str"
      ]
     },
     "execution_count": 30,
     "metadata": {},
     "output_type": "execute_result"
    }
   ],
   "source": [
    "#from uszipcode import Zipcode\n",
    "# Search zipcode within 30 miles, ordered from closest to farthest\n",
    "search = zp.SearchEngine()\n",
    "result = search.by_coordinates(39.122229, -77.133578, radius=10, returns=1)\n",
    "test = result[0].zipcode\n",
    "type(test)"
   ]
  },
  {
   "cell_type": "code",
   "execution_count": 2,
   "id": "40936f30",
   "metadata": {},
   "outputs": [],
   "source": [
    "#df = pd.read_csv('inside_airbnb_zip.csv.gz', index_col = False, compression='gzip', low_memory = False)\n",
    "copy_cols1 = ['id',\n",
    "#            'scrape_id',\n",
    "            'last_scraped',\n",
    "            'host_id',\n",
    "            'host_name',\n",
    "#            'host_since',\n",
    "#            'host_location',\n",
    "            'calculated_host_listings_count',\n",
    "#            'street',\n",
    "            'neighbourhood_cleansed',\n",
    "            'neighbourhood_group_cleansed',\n",
    "#            'state',\n",
    "#            'zipcode',\n",
    "#            'smart_location',\n",
    "#            'country',\n",
    "            'latitude',\n",
    "            'longitude',\n",
    "#            'property_type',\n",
    "            'room_type',\n",
    "#            'accommodates',\n",
    "#            'bathrooms',\n",
    "            'bedrooms',\n",
    "            'availability_365']\n",
    "\n",
    "copy_cols2 = ['id',\n",
    "            'host_id',\n",
    "            'host_name',\n",
    "            'calculated_host_listings_count',\n",
    "            'neighbourhood',\n",
    "            'neighbourhood_group',\n",
    "            'latitude',\n",
    "            'longitude',\n",
    "            'room_type',\n",
    "            'availability_365']\n",
    "\n",
    "rename_cols2 = ['id',\n",
    "            'host_id',\n",
    "            'host_name',\n",
    "            'calculated_host_listings_count',\n",
    "            'neighbourhood_cleansed',\n",
    "            'neighbourhood_group_cleansed',\n",
    "            'latitude',\n",
    "            'longitude',\n",
    "            'room_type',\n",
    "            'availability_365']\n",
    "\n",
    "read1 = ['data/abnb_9-2022.gz','data/abnb_6-2022.gz',\n",
    "        'data/abnb_3-2022.gz','data/abnb_11-2021.csv',\n",
    "         'data/abnb_2015.csv','data/abnb_2016.csv',\n",
    "         'data/abnb_2017.csv','data/abnb_2018.csv',\n",
    "         'data/abnb_2019.csv','data/abnb_2020.csv',]\n",
    "\n",
    "#df = pd.read_csv(, skipinitialspace=True, usecols=copy_cols, low_memory = False)\n",
    "\n",
    "counter = 0\n",
    "for item in read1:\n",
    "    counter += 1\n",
    "    x=0\n",
    "    x2=0\n",
    "    y=0\n",
    "    y2=0\n",
    "    if item == read1[0]:\n",
    "        df1 = pd.read_csv(item, skipinitialspace=True, usecols=copy_cols1, sep=',', low_memory = False)\n",
    "        df1=df1.drop_duplicates(subset='id')\n",
    "#        df = df.rename(columns = rename_cols)\n",
    "    elif item in read1[1:4]: #change to 4 for 2021 csv\n",
    "        temp = pd.read_csv(item, skipinitialspace=True, usecols=copy_cols1, sep=',', low_memory = False)\n",
    "        temp=temp.drop_duplicates(subset='id')\n",
    "#        df2=df2.rename(columns = rename_cols2)\n",
    "        df1 = pd.concat([df1, temp] , sort=False)\n",
    "#        df1=df1.drop_duplicates(subset='id')\n",
    "    elif item == read1[4]:\n",
    "        df2 = pd.read_csv(item, skipinitialspace=True, usecols=copy_cols2, sep=',', low_memory = False)\n",
    "        df2=df2.drop_duplicates(subset='id')\n",
    "        y_ins = item[10:14]\n",
    "        df2['last_scraped'] = y_ins\n",
    "    elif item in read1[5:10]:\n",
    "        temp = pd.read_csv(item, skipinitialspace=True, usecols=copy_cols2, sep=',', low_memory = False)\n",
    "        temp=temp.drop_duplicates(subset='id')\n",
    "        y_ins = item[10:14]\n",
    "        temp['last_scraped'] = y_ins\n",
    "        df2 = pd.concat([df2, temp], sort=False)\n",
    "    \n",
    "#df2['zipcode'] = 'N/A'\n",
    "df2['bedrooms'] = 'N/A'\n",
    "df2 = df2.rename(columns={'neighbourhood_group':'neighbourhood_group_cleansed', 'neighbourhood': 'neighbourhood_cleansed'})\n",
    "df2 = df2[['id', 'last_scraped', 'host_id', 'host_name', 'neighbourhood_cleansed',\n",
    "       'neighbourhood_group_cleansed', 'latitude', 'longitude', 'room_type',\n",
    "       'bedrooms', 'availability_365', 'calculated_host_listings_count']]"
   ]
  },
  {
   "cell_type": "code",
   "execution_count": 3,
   "id": "c2471d15",
   "metadata": {},
   "outputs": [],
   "source": [
    "df1 = pd.concat([df1,df2], sort=False)"
   ]
  },
  {
   "cell_type": "code",
   "execution_count": 4,
   "id": "d6f3c74b",
   "metadata": {},
   "outputs": [],
   "source": [
    "df1 = df1.rename(columns={'neighbourhood_group_cleansed': 'borough','neighbourhood_cleansed':'neighbourhood'})"
   ]
  },
  {
   "cell_type": "code",
   "execution_count": 5,
   "id": "fd331807",
   "metadata": {},
   "outputs": [],
   "source": [
    "df1['zipcode'] = 'N/A'"
   ]
  },
  {
   "cell_type": "code",
   "execution_count": 9,
   "id": "3b689546",
   "metadata": {},
   "outputs": [
    {
     "data": {
      "text/plain": [
       "Index(['id', 'last_scraped', 'host_id', 'host_name', 'neighbourhood',\n",
       "       'borough', 'latitude', 'longitude', 'room_type', 'bedrooms',\n",
       "       'availability_365', 'calculated_host_listings_count', 'zipcode'],\n",
       "      dtype='object')"
      ]
     },
     "execution_count": 9,
     "metadata": {},
     "output_type": "execute_result"
    }
   ],
   "source": [
    "df1.keys()"
   ]
  },
  {
   "cell_type": "code",
   "execution_count": 14,
   "id": "317a08be",
   "metadata": {},
   "outputs": [],
   "source": [
    "lat = list(df1['latitude'])\n",
    "lng = list(df1['longitude'])"
   ]
  },
  {
   "cell_type": "code",
   "execution_count": 41,
   "id": "8d8c4423",
   "metadata": {},
   "outputs": [],
   "source": [
    "lat_df = pd.DataFrame(lat, columns=[\"latitude\"])\n",
    "lng_df = pd.DataFrame(lng, columns=[\"longitude\"])"
   ]
  },
  {
   "cell_type": "code",
   "execution_count": 44,
   "id": "6af285ac",
   "metadata": {},
   "outputs": [],
   "source": [
    "lat_df.to_csv('lat_indextrue_df.csv', index=True)"
   ]
  },
  {
   "cell_type": "code",
   "execution_count": 45,
   "id": "2dc6088b",
   "metadata": {},
   "outputs": [],
   "source": [
    "lng_df.to_csv('lng_indextrue_df.csv', index=True)"
   ]
  },
  {
   "cell_type": "code",
   "execution_count": 19,
   "id": "e4e9a2d8",
   "metadata": {},
   "outputs": [],
   "source": [
    "search = zp.SearchEngine()\n",
    "x = len(lat)\n",
    "zlist ={}\n",
    "for i in range(0,x):\n",
    "    ilat = lat[i]\n",
    "    ilng = lng[i]\n",
    "    zippy = search.by_coordinates(ilat, ilng, radius=10, returns=1)\n",
    "    zcode = zippy[0].zipcode\n",
    "    zlist[i] = zcode"
   ]
  },
  {
   "cell_type": "code",
   "execution_count": 21,
   "id": "a15ef4e3",
   "metadata": {
    "scrolled": true
   },
   "outputs": [
    {
     "data": {
      "text/plain": [
       "411507"
      ]
     },
     "execution_count": 21,
     "metadata": {},
     "output_type": "execute_result"
    }
   ],
   "source": [
    "len(zlist)"
   ]
  },
  {
   "cell_type": "code",
   "execution_count": 26,
   "id": "e99e2641",
   "metadata": {
    "scrolled": true
   },
   "outputs": [
    {
     "data": {
      "text/html": [
       "<div>\n",
       "<style scoped>\n",
       "    .dataframe tbody tr th:only-of-type {\n",
       "        vertical-align: middle;\n",
       "    }\n",
       "\n",
       "    .dataframe tbody tr th {\n",
       "        vertical-align: top;\n",
       "    }\n",
       "\n",
       "    .dataframe thead th {\n",
       "        text-align: right;\n",
       "    }\n",
       "</style>\n",
       "<table border=\"1\" class=\"dataframe\">\n",
       "  <thead>\n",
       "    <tr style=\"text-align: right;\">\n",
       "      <th></th>\n",
       "      <th>0</th>\n",
       "      <th>1</th>\n",
       "      <th>2</th>\n",
       "      <th>3</th>\n",
       "      <th>4</th>\n",
       "      <th>5</th>\n",
       "      <th>6</th>\n",
       "      <th>7</th>\n",
       "      <th>8</th>\n",
       "      <th>9</th>\n",
       "      <th>...</th>\n",
       "      <th>411497</th>\n",
       "      <th>411498</th>\n",
       "      <th>411499</th>\n",
       "      <th>411500</th>\n",
       "      <th>411501</th>\n",
       "      <th>411502</th>\n",
       "      <th>411503</th>\n",
       "      <th>411504</th>\n",
       "      <th>411505</th>\n",
       "      <th>411506</th>\n",
       "    </tr>\n",
       "  </thead>\n",
       "  <tbody>\n",
       "    <tr>\n",
       "      <th>0</th>\n",
       "      <td>11218</td>\n",
       "      <td>10098</td>\n",
       "      <td>11238</td>\n",
       "      <td>11385</td>\n",
       "      <td>11215</td>\n",
       "      <td>10454</td>\n",
       "      <td>11222</td>\n",
       "      <td>10020</td>\n",
       "      <td>10003</td>\n",
       "      <td>11222</td>\n",
       "      <td>...</td>\n",
       "      <td>11223</td>\n",
       "      <td>10013</td>\n",
       "      <td>11237</td>\n",
       "      <td>10013</td>\n",
       "      <td>10024</td>\n",
       "      <td>10010</td>\n",
       "      <td>10069</td>\n",
       "      <td>10035</td>\n",
       "      <td>10010</td>\n",
       "      <td>11237</td>\n",
       "    </tr>\n",
       "  </tbody>\n",
       "</table>\n",
       "<p>1 rows × 411507 columns</p>\n",
       "</div>"
      ],
      "text/plain": [
       "  0      1      2      3      4      5      6      7      8      9       ...  \\\n",
       "0  11218  10098  11238  11385  11215  10454  11222  10020  10003  11222  ...   \n",
       "\n",
       "  411497 411498 411499 411500 411501 411502 411503 411504 411505 411506  \n",
       "0  11223  10013  11237  10013  10024  10010  10069  10035  10010  11237  \n",
       "\n",
       "[1 rows x 411507 columns]"
      ]
     },
     "execution_count": 26,
     "metadata": {},
     "output_type": "execute_result"
    }
   ],
   "source": [
    "check = pd.DataFrame(zlist , index=[0])"
   ]
  },
  {
   "cell_type": "code",
   "execution_count": 28,
   "id": "9b8f3e5d",
   "metadata": {},
   "outputs": [],
   "source": [
    "zip_df = check.T"
   ]
  },
  {
   "cell_type": "code",
   "execution_count": 30,
   "id": "eb4854e2",
   "metadata": {},
   "outputs": [],
   "source": [
    "zip_df = zip_df.rename(columns={0:'zipcode'})"
   ]
  },
  {
   "cell_type": "code",
   "execution_count": 46,
   "id": "b9838373",
   "metadata": {},
   "outputs": [],
   "source": [
    "zip_df.to_csv('abnb_zip_indextrue.csv',index=True)"
   ]
  },
  {
   "cell_type": "code",
   "execution_count": null,
   "id": "224f3ac9",
   "metadata": {},
   "outputs": [],
   "source": [
    "df1['geom'] = df1['latitude'] + ',' + df1['longitude']"
   ]
  },
  {
   "cell_type": "code",
   "execution_count": 37,
   "id": "025463d0",
   "metadata": {},
   "outputs": [],
   "source": [
    "df1 = pd.merge(df1, zip_df, left_index=True, right_index=True)"
   ]
  },
  {
   "cell_type": "code",
   "execution_count": 38,
   "id": "719b7041",
   "metadata": {},
   "outputs": [],
   "source": [
    "df1 = df1.drop(columns = 'zipcode_x')"
   ]
  },
  {
   "cell_type": "code",
   "execution_count": 39,
   "id": "7a77b683",
   "metadata": {},
   "outputs": [],
   "source": [
    "df1=df1.rename(columns = {'zipcode_y':'zipcode'})"
   ]
  },
  {
   "cell_type": "code",
   "execution_count": 50,
   "id": "1fbe15e3",
   "metadata": {
    "scrolled": true
   },
   "outputs": [],
   "source": [
    "df1.to_csv('abnb_clean.gz',index=True)"
   ]
  },
  {
   "cell_type": "code",
   "execution_count": 47,
   "id": "2400d48f",
   "metadata": {},
   "outputs": [],
   "source": [
    "tester_df = pd.read_csv('abnb_zip_indextrue.csv', low_memory=False)\n"
   ]
  },
  {
   "cell_type": "code",
   "execution_count": 48,
   "id": "72b61796",
   "metadata": {},
   "outputs": [
    {
     "data": {
      "text/html": [
       "<div>\n",
       "<style scoped>\n",
       "    .dataframe tbody tr th:only-of-type {\n",
       "        vertical-align: middle;\n",
       "    }\n",
       "\n",
       "    .dataframe tbody tr th {\n",
       "        vertical-align: top;\n",
       "    }\n",
       "\n",
       "    .dataframe thead th {\n",
       "        text-align: right;\n",
       "    }\n",
       "</style>\n",
       "<table border=\"1\" class=\"dataframe\">\n",
       "  <thead>\n",
       "    <tr style=\"text-align: right;\">\n",
       "      <th></th>\n",
       "      <th>Unnamed: 0</th>\n",
       "      <th>zipcode</th>\n",
       "    </tr>\n",
       "  </thead>\n",
       "  <tbody>\n",
       "    <tr>\n",
       "      <th>0</th>\n",
       "      <td>0</td>\n",
       "      <td>11218</td>\n",
       "    </tr>\n",
       "    <tr>\n",
       "      <th>1</th>\n",
       "      <td>1</td>\n",
       "      <td>10098</td>\n",
       "    </tr>\n",
       "    <tr>\n",
       "      <th>2</th>\n",
       "      <td>2</td>\n",
       "      <td>11238</td>\n",
       "    </tr>\n",
       "    <tr>\n",
       "      <th>3</th>\n",
       "      <td>3</td>\n",
       "      <td>11385</td>\n",
       "    </tr>\n",
       "    <tr>\n",
       "      <th>4</th>\n",
       "      <td>4</td>\n",
       "      <td>11215</td>\n",
       "    </tr>\n",
       "    <tr>\n",
       "      <th>...</th>\n",
       "      <td>...</td>\n",
       "      <td>...</td>\n",
       "    </tr>\n",
       "    <tr>\n",
       "      <th>411502</th>\n",
       "      <td>411502</td>\n",
       "      <td>10010</td>\n",
       "    </tr>\n",
       "    <tr>\n",
       "      <th>411503</th>\n",
       "      <td>411503</td>\n",
       "      <td>10069</td>\n",
       "    </tr>\n",
       "    <tr>\n",
       "      <th>411504</th>\n",
       "      <td>411504</td>\n",
       "      <td>10035</td>\n",
       "    </tr>\n",
       "    <tr>\n",
       "      <th>411505</th>\n",
       "      <td>411505</td>\n",
       "      <td>10010</td>\n",
       "    </tr>\n",
       "    <tr>\n",
       "      <th>411506</th>\n",
       "      <td>411506</td>\n",
       "      <td>11237</td>\n",
       "    </tr>\n",
       "  </tbody>\n",
       "</table>\n",
       "<p>411507 rows × 2 columns</p>\n",
       "</div>"
      ],
      "text/plain": [
       "        Unnamed: 0  zipcode\n",
       "0                0    11218\n",
       "1                1    10098\n",
       "2                2    11238\n",
       "3                3    11385\n",
       "4                4    11215\n",
       "...            ...      ...\n",
       "411502      411502    10010\n",
       "411503      411503    10069\n",
       "411504      411504    10035\n",
       "411505      411505    10010\n",
       "411506      411506    11237\n",
       "\n",
       "[411507 rows x 2 columns]"
      ]
     },
     "execution_count": 48,
     "metadata": {},
     "output_type": "execute_result"
    }
   ],
   "source": [
    "tester_df"
   ]
  }
 ],
 "metadata": {
  "kernelspec": {
   "display_name": "Python 3 (ipykernel)",
   "language": "python",
   "name": "python3"
  },
  "language_info": {
   "codemirror_mode": {
    "name": "ipython",
    "version": 3
   },
   "file_extension": ".py",
   "mimetype": "text/x-python",
   "name": "python",
   "nbconvert_exporter": "python",
   "pygments_lexer": "ipython3",
   "version": "3.9.13"
  }
 },
 "nbformat": 4,
 "nbformat_minor": 5
}
