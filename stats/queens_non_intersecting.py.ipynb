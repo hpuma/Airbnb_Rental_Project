{
 "cells": [
  {
   "cell_type": "code",
   "execution_count": null,
   "id": "06264e70",
   "metadata": {},
   "outputs": [],
   "source": [
    "import pandas as pd\n",
    "import numpy as np "
   ]
  },
  {
   "cell_type": "code",
   "execution_count": null,
   "id": "1858409d",
   "metadata": {},
   "outputs": [],
   "source": [
    "nyc_top_zipcodes_all_years = pd.read_csv(\"./zipcode_data/nyc_top_zipcodes_all_years.csv\")\n",
    "display(nyc_top_zipcodes_all_years.head())"
   ]
  },
  {
   "cell_type": "code",
   "execution_count": null,
   "id": "b05e4e12",
   "metadata": {},
   "outputs": [],
   "source": [
    "zillow_home_value[zillow_home_value[\"borough\"] == \"BROOKLYN\"]"
   ]
  }
 ],
 "metadata": {
  "kernelspec": {
   "display_name": "Python 3 (ipykernel)",
   "language": "python",
   "name": "python3"
  },
  "language_info": {
   "codemirror_mode": {
    "name": "ipython",
    "version": 3
   },
   "file_extension": ".py",
   "mimetype": "text/x-python",
   "name": "python",
   "nbconvert_exporter": "python",
   "pygments_lexer": "ipython3",
   "version": "3.9.12"
  }
 },
 "nbformat": 4,
 "nbformat_minor": 5
}
