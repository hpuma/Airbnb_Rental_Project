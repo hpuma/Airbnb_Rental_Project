{
 "cells": [
  {
   "cell_type": "code",
   "execution_count": 17,
   "id": "4b1408e3",
   "metadata": {},
   "outputs": [],
   "source": [
    "import pandas as pd\n",
    "import numpy as np\n",
    "from scipy import stats"
   ]
  },
  {
   "cell_type": "code",
   "execution_count": 18,
   "id": "caf3734e",
   "metadata": {},
   "outputs": [],
   "source": [
    "# Supress auto scientific notation\n",
    "pd.set_option('display.float_format', lambda x: '%.3f' % x)"
   ]
  },
  {
   "cell_type": "markdown",
   "id": "e324dbf7",
   "metadata": {},
   "source": [
    "# Load Datasets"
   ]
  },
  {
   "cell_type": "markdown",
   "id": "5a825972",
   "metadata": {},
   "source": [
    "### Top airbnb zipcodes throughout nyc  (2015-2022)\n",
    "Get top airbnb zip codes that need to be merged with zillow home values"
   ]
  },
  {
   "cell_type": "code",
   "execution_count": 3,
   "id": "1eeb6c1f",
   "metadata": {},
   "outputs": [
    {
     "data": {
      "text/html": [
       "<div>\n",
       "<style scoped>\n",
       "    .dataframe tbody tr th:only-of-type {\n",
       "        vertical-align: middle;\n",
       "    }\n",
       "\n",
       "    .dataframe tbody tr th {\n",
       "        vertical-align: top;\n",
       "    }\n",
       "\n",
       "    .dataframe thead th {\n",
       "        text-align: right;\n",
       "    }\n",
       "</style>\n",
       "<table border=\"1\" class=\"dataframe\">\n",
       "  <thead>\n",
       "    <tr style=\"text-align: right;\">\n",
       "      <th></th>\n",
       "      <th>zipcode</th>\n",
       "      <th>borough</th>\n",
       "      <th>year</th>\n",
       "      <th>count</th>\n",
       "    </tr>\n",
       "  </thead>\n",
       "  <tbody>\n",
       "    <tr>\n",
       "      <th>0</th>\n",
       "      <td>10469</td>\n",
       "      <td>BRONX</td>\n",
       "      <td>2022</td>\n",
       "      <td>122</td>\n",
       "    </tr>\n",
       "    <tr>\n",
       "      <th>1</th>\n",
       "      <td>10466</td>\n",
       "      <td>BRONX</td>\n",
       "      <td>2022</td>\n",
       "      <td>119</td>\n",
       "    </tr>\n",
       "    <tr>\n",
       "      <th>2</th>\n",
       "      <td>10463</td>\n",
       "      <td>BRONX</td>\n",
       "      <td>2018</td>\n",
       "      <td>105</td>\n",
       "    </tr>\n",
       "    <tr>\n",
       "      <th>3</th>\n",
       "      <td>10466</td>\n",
       "      <td>BRONX</td>\n",
       "      <td>2021</td>\n",
       "      <td>99</td>\n",
       "    </tr>\n",
       "    <tr>\n",
       "      <th>4</th>\n",
       "      <td>10456</td>\n",
       "      <td>BRONX</td>\n",
       "      <td>2022</td>\n",
       "      <td>98</td>\n",
       "    </tr>\n",
       "  </tbody>\n",
       "</table>\n",
       "</div>"
      ],
      "text/plain": [
       "   zipcode borough  year  count\n",
       "0    10469   BRONX  2022    122\n",
       "1    10466   BRONX  2022    119\n",
       "2    10463   BRONX  2018    105\n",
       "3    10466   BRONX  2021     99\n",
       "4    10456   BRONX  2022     98"
      ]
     },
     "metadata": {},
     "output_type": "display_data"
    }
   ],
   "source": [
    "top_zipcodes = pd.read_csv(\"./zipcode_data/nyc_top_zipcodes_all_years.csv\")\n",
    "top_zipcodes[\"borough\"] =  top_zipcodes[\"borough\"].replace(' ', '_', regex=True)\n",
    "display(top_zipcodes.head())"
   ]
  },
  {
   "cell_type": "markdown",
   "id": "0e95198c",
   "metadata": {},
   "source": [
    "### Zillow home values (2002-2022)\n",
    "Get Zillow home values for each zipcode in nyc"
   ]
  },
  {
   "cell_type": "code",
   "execution_count": 4,
   "id": "5fa78b99",
   "metadata": {},
   "outputs": [
    {
     "data": {
      "text/html": [
       "<div>\n",
       "<style scoped>\n",
       "    .dataframe tbody tr th:only-of-type {\n",
       "        vertical-align: middle;\n",
       "    }\n",
       "\n",
       "    .dataframe tbody tr th {\n",
       "        vertical-align: top;\n",
       "    }\n",
       "\n",
       "    .dataframe thead th {\n",
       "        text-align: right;\n",
       "    }\n",
       "</style>\n",
       "<table border=\"1\" class=\"dataframe\">\n",
       "  <thead>\n",
       "    <tr style=\"text-align: right;\">\n",
       "      <th></th>\n",
       "      <th>zipcode</th>\n",
       "      <th>state</th>\n",
       "      <th>city</th>\n",
       "      <th>borough</th>\n",
       "      <th>year</th>\n",
       "      <th>home_value</th>\n",
       "    </tr>\n",
       "  </thead>\n",
       "  <tbody>\n",
       "    <tr>\n",
       "      <th>0</th>\n",
       "      <td>11368</td>\n",
       "      <td>NY</td>\n",
       "      <td>New York</td>\n",
       "      <td>QUEENS</td>\n",
       "      <td>2002</td>\n",
       "      <td>249885.000</td>\n",
       "    </tr>\n",
       "    <tr>\n",
       "      <th>1</th>\n",
       "      <td>11385</td>\n",
       "      <td>NY</td>\n",
       "      <td>New York</td>\n",
       "      <td>QUEENS</td>\n",
       "      <td>2002</td>\n",
       "      <td>333404.000</td>\n",
       "    </tr>\n",
       "    <tr>\n",
       "      <th>2</th>\n",
       "      <td>11236</td>\n",
       "      <td>NY</td>\n",
       "      <td>New York</td>\n",
       "      <td>BROOKLYN</td>\n",
       "      <td>2002</td>\n",
       "      <td>255687.000</td>\n",
       "    </tr>\n",
       "    <tr>\n",
       "      <th>3</th>\n",
       "      <td>11208</td>\n",
       "      <td>NY</td>\n",
       "      <td>New York</td>\n",
       "      <td>BROOKLYN</td>\n",
       "      <td>2002</td>\n",
       "      <td>235676.000</td>\n",
       "    </tr>\n",
       "    <tr>\n",
       "      <th>4</th>\n",
       "      <td>10467</td>\n",
       "      <td>NY</td>\n",
       "      <td>New York</td>\n",
       "      <td>BRONX</td>\n",
       "      <td>2002</td>\n",
       "      <td>174696.000</td>\n",
       "    </tr>\n",
       "  </tbody>\n",
       "</table>\n",
       "</div>"
      ],
      "text/plain": [
       "   zipcode state      city   borough  year  home_value\n",
       "0    11368    NY  New York    QUEENS  2002  249885.000\n",
       "1    11385    NY  New York    QUEENS  2002  333404.000\n",
       "2    11236    NY  New York  BROOKLYN  2002  255687.000\n",
       "3    11208    NY  New York  BROOKLYN  2002  235676.000\n",
       "4    10467    NY  New York     BRONX  2002  174696.000"
      ]
     },
     "metadata": {},
     "output_type": "display_data"
    }
   ],
   "source": [
    "home_values = pd.read_csv('../data/clean/zhome_value.csv', low_memory=False)\n",
    "home_values[\"date\"] = pd.to_datetime(home_values[\"date\"]).apply(lambda x: x.year)\n",
    "home_values = home_values.rename(columns={\"date\": \"year\", \"zip_code\": \"zipcode\"})\n",
    "display(home_values.head())"
   ]
  },
  {
   "cell_type": "markdown",
   "id": "f3d46cc1",
   "metadata": {},
   "source": [
    "# Filter by significant years and compute yearly mean"
   ]
  },
  {
   "cell_type": "markdown",
   "id": "dd2232bf",
   "metadata": {},
   "source": [
    "### Filter by significant years from top zipcodes\n",
    "Find min and max year for top zipcodes that need to be mapped from \"zillow_home_values\""
   ]
  },
  {
   "cell_type": "code",
   "execution_count": 5,
   "id": "d1d5922c",
   "metadata": {
    "scrolled": false
   },
   "outputs": [
    {
     "name": "stdout",
     "output_type": "stream",
     "text": [
      "MIN=2015\n",
      "MAX=2022\n"
     ]
    }
   ],
   "source": [
    "min_year, max_year = top_zipcodes[\"year\"].min(), top_zipcodes[\"year\"].max()\n",
    "print(\"MIN={}\\nMAX={}\".format(min_year, max_year))"
   ]
  },
  {
   "cell_type": "markdown",
   "id": "cbc1d0ca",
   "metadata": {},
   "source": [
    "Use **MIN, MAX** years from top_zipcodes and narrow down zillow home_value years between [min, max]"
   ]
  },
  {
   "cell_type": "code",
   "execution_count": 22,
   "id": "af9b0451",
   "metadata": {
    "scrolled": false
   },
   "outputs": [
    {
     "name": "stdout",
     "output_type": "stream",
     "text": [
      "Years present in Airbnb zipcode home value: [2015, 2016, 2017, 2018, 2019, 2020, 2021, 2022]\n",
      "\n",
      "<class 'pandas.core.frame.DataFrame'>\n",
      "Int64Index: 1412 entries, 0 to 1411\n",
      "Data columns (total 4 columns):\n",
      " #   Column      Non-Null Count  Dtype  \n",
      "---  ------      --------------  -----  \n",
      " 0   zipcode     1412 non-null   int64  \n",
      " 1   year        1412 non-null   int64  \n",
      " 2   borough     1412 non-null   object \n",
      " 3   home_value  1412 non-null   float64\n",
      "dtypes: float64(1), int64(2), object(1)\n",
      "memory usage: 55.2+ KB\n"
     ]
    }
   ],
   "source": [
    "home_values = home_values[home_values[\"year\"].between(min_year, max_year, inclusive=\"both\")]\n",
    "print(\"Years present in Airbnb zipcode home value:\", home_values[\"year\"].unique().tolist(), end=\"\\n\\n\")\n",
    "home_values.info()"
   ]
  },
  {
   "cell_type": "markdown",
   "id": "93aebe2e",
   "metadata": {},
   "source": [
    "### Compute yearly mean\n",
    "Group by **zipcode, year, and borough** to compute the average for home_value for each zipcode on a yearly basis. Notice the reduction in entries. 16577 --> 1412"
   ]
  },
  {
   "cell_type": "code",
   "execution_count": 7,
   "id": "370bbe19",
   "metadata": {
    "scrolled": true
   },
   "outputs": [
    {
     "name": "stdout",
     "output_type": "stream",
     "text": [
      "<class 'pandas.core.frame.DataFrame'>\n",
      "RangeIndex: 1412 entries, 0 to 1411\n",
      "Data columns (total 4 columns):\n",
      " #   Column      Non-Null Count  Dtype  \n",
      "---  ------      --------------  -----  \n",
      " 0   zipcode     1412 non-null   int64  \n",
      " 1   year        1412 non-null   int64  \n",
      " 2   borough     1412 non-null   object \n",
      " 3   home_value  1412 non-null   float64\n",
      "dtypes: float64(1), int64(2), object(1)\n",
      "memory usage: 44.2+ KB\n"
     ]
    }
   ],
   "source": [
    "home_values = home_values.groupby([\"zipcode\", \"year\", \"borough\"])[\"home_value\"].mean().to_frame().reset_index()\n",
    "home_values.info()"
   ]
  },
  {
   "cell_type": "markdown",
   "id": "d1c88425",
   "metadata": {},
   "source": [
    "# Merge airbnb top zipcode count count to zillow home values\n",
    "Merge all the top 5 zipcodes for each borough to their appropriate zillow home value based on\n",
    "- **year, zipcode, and borough**"
   ]
  },
  {
   "cell_type": "markdown",
   "id": "a549097a",
   "metadata": {},
   "source": [
    "### Dataframes"
   ]
  },
  {
   "cell_type": "code",
   "execution_count": 8,
   "id": "fc24c5b7",
   "metadata": {},
   "outputs": [
    {
     "name": "stdout",
     "output_type": "stream",
     "text": [
      "top_zipcodes\n"
     ]
    },
    {
     "data": {
      "text/html": [
       "<div>\n",
       "<style scoped>\n",
       "    .dataframe tbody tr th:only-of-type {\n",
       "        vertical-align: middle;\n",
       "    }\n",
       "\n",
       "    .dataframe tbody tr th {\n",
       "        vertical-align: top;\n",
       "    }\n",
       "\n",
       "    .dataframe thead th {\n",
       "        text-align: right;\n",
       "    }\n",
       "</style>\n",
       "<table border=\"1\" class=\"dataframe\">\n",
       "  <thead>\n",
       "    <tr style=\"text-align: right;\">\n",
       "      <th></th>\n",
       "      <th>zipcode</th>\n",
       "      <th>borough</th>\n",
       "      <th>year</th>\n",
       "      <th>count</th>\n",
       "    </tr>\n",
       "  </thead>\n",
       "  <tbody>\n",
       "    <tr>\n",
       "      <th>0</th>\n",
       "      <td>10469</td>\n",
       "      <td>BRONX</td>\n",
       "      <td>2022</td>\n",
       "      <td>122</td>\n",
       "    </tr>\n",
       "    <tr>\n",
       "      <th>1</th>\n",
       "      <td>10466</td>\n",
       "      <td>BRONX</td>\n",
       "      <td>2022</td>\n",
       "      <td>119</td>\n",
       "    </tr>\n",
       "    <tr>\n",
       "      <th>2</th>\n",
       "      <td>10463</td>\n",
       "      <td>BRONX</td>\n",
       "      <td>2018</td>\n",
       "      <td>105</td>\n",
       "    </tr>\n",
       "    <tr>\n",
       "      <th>3</th>\n",
       "      <td>10466</td>\n",
       "      <td>BRONX</td>\n",
       "      <td>2021</td>\n",
       "      <td>99</td>\n",
       "    </tr>\n",
       "    <tr>\n",
       "      <th>4</th>\n",
       "      <td>10456</td>\n",
       "      <td>BRONX</td>\n",
       "      <td>2022</td>\n",
       "      <td>98</td>\n",
       "    </tr>\n",
       "  </tbody>\n",
       "</table>\n",
       "</div>"
      ],
      "text/plain": [
       "   zipcode borough  year  count\n",
       "0    10469   BRONX  2022    122\n",
       "1    10466   BRONX  2022    119\n",
       "2    10463   BRONX  2018    105\n",
       "3    10466   BRONX  2021     99\n",
       "4    10456   BRONX  2022     98"
      ]
     },
     "metadata": {},
     "output_type": "display_data"
    },
    {
     "name": "stdout",
     "output_type": "stream",
     "text": [
      "home_values\n"
     ]
    },
    {
     "data": {
      "text/html": [
       "<div>\n",
       "<style scoped>\n",
       "    .dataframe tbody tr th:only-of-type {\n",
       "        vertical-align: middle;\n",
       "    }\n",
       "\n",
       "    .dataframe tbody tr th {\n",
       "        vertical-align: top;\n",
       "    }\n",
       "\n",
       "    .dataframe thead th {\n",
       "        text-align: right;\n",
       "    }\n",
       "</style>\n",
       "<table border=\"1\" class=\"dataframe\">\n",
       "  <thead>\n",
       "    <tr style=\"text-align: right;\">\n",
       "      <th></th>\n",
       "      <th>zipcode</th>\n",
       "      <th>year</th>\n",
       "      <th>borough</th>\n",
       "      <th>home_value</th>\n",
       "    </tr>\n",
       "  </thead>\n",
       "  <tbody>\n",
       "    <tr>\n",
       "      <th>0</th>\n",
       "      <td>10001</td>\n",
       "      <td>2015</td>\n",
       "      <td>MANHATTAN</td>\n",
       "      <td>2280604.000</td>\n",
       "    </tr>\n",
       "    <tr>\n",
       "      <th>1</th>\n",
       "      <td>10001</td>\n",
       "      <td>2016</td>\n",
       "      <td>MANHATTAN</td>\n",
       "      <td>2369453.250</td>\n",
       "    </tr>\n",
       "    <tr>\n",
       "      <th>2</th>\n",
       "      <td>10001</td>\n",
       "      <td>2017</td>\n",
       "      <td>MANHATTAN</td>\n",
       "      <td>2271803.500</td>\n",
       "    </tr>\n",
       "    <tr>\n",
       "      <th>3</th>\n",
       "      <td>10001</td>\n",
       "      <td>2018</td>\n",
       "      <td>MANHATTAN</td>\n",
       "      <td>2351996.833</td>\n",
       "    </tr>\n",
       "    <tr>\n",
       "      <th>4</th>\n",
       "      <td>10001</td>\n",
       "      <td>2019</td>\n",
       "      <td>MANHATTAN</td>\n",
       "      <td>2380720.417</td>\n",
       "    </tr>\n",
       "  </tbody>\n",
       "</table>\n",
       "</div>"
      ],
      "text/plain": [
       "   zipcode  year    borough  home_value\n",
       "0    10001  2015  MANHATTAN 2280604.000\n",
       "1    10001  2016  MANHATTAN 2369453.250\n",
       "2    10001  2017  MANHATTAN 2271803.500\n",
       "3    10001  2018  MANHATTAN 2351996.833\n",
       "4    10001  2019  MANHATTAN 2380720.417"
      ]
     },
     "metadata": {},
     "output_type": "display_data"
    }
   ],
   "source": [
    "print(\"top_zipcodes\")\n",
    "display(top_zipcodes.head())\n",
    "print(\"home_values\")\n",
    "display(home_values.head())"
   ]
  },
  {
   "cell_type": "markdown",
   "id": "e4dd98db",
   "metadata": {},
   "source": [
    "### Merging dataframes"
   ]
  },
  {
   "cell_type": "code",
   "execution_count": 9,
   "id": "e906e75d",
   "metadata": {},
   "outputs": [
    {
     "name": "stdout",
     "output_type": "stream",
     "text": [
      "merged_top_zipcodes\n"
     ]
    },
    {
     "data": {
      "text/html": [
       "<div>\n",
       "<style scoped>\n",
       "    .dataframe tbody tr th:only-of-type {\n",
       "        vertical-align: middle;\n",
       "    }\n",
       "\n",
       "    .dataframe tbody tr th {\n",
       "        vertical-align: top;\n",
       "    }\n",
       "\n",
       "    .dataframe thead th {\n",
       "        text-align: right;\n",
       "    }\n",
       "</style>\n",
       "<table border=\"1\" class=\"dataframe\">\n",
       "  <thead>\n",
       "    <tr style=\"text-align: right;\">\n",
       "      <th></th>\n",
       "      <th>zipcode</th>\n",
       "      <th>borough</th>\n",
       "      <th>year</th>\n",
       "      <th>count</th>\n",
       "      <th>home_value</th>\n",
       "    </tr>\n",
       "  </thead>\n",
       "  <tbody>\n",
       "    <tr>\n",
       "      <th>0</th>\n",
       "      <td>10469</td>\n",
       "      <td>BRONX</td>\n",
       "      <td>2022</td>\n",
       "      <td>122</td>\n",
       "      <td>592184.800</td>\n",
       "    </tr>\n",
       "    <tr>\n",
       "      <th>1</th>\n",
       "      <td>10466</td>\n",
       "      <td>BRONX</td>\n",
       "      <td>2022</td>\n",
       "      <td>119</td>\n",
       "      <td>560980.300</td>\n",
       "    </tr>\n",
       "    <tr>\n",
       "      <th>2</th>\n",
       "      <td>10463</td>\n",
       "      <td>BRONX</td>\n",
       "      <td>2018</td>\n",
       "      <td>105</td>\n",
       "      <td>357383.417</td>\n",
       "    </tr>\n",
       "    <tr>\n",
       "      <th>3</th>\n",
       "      <td>10466</td>\n",
       "      <td>BRONX</td>\n",
       "      <td>2021</td>\n",
       "      <td>99</td>\n",
       "      <td>528377.083</td>\n",
       "    </tr>\n",
       "    <tr>\n",
       "      <th>4</th>\n",
       "      <td>10456</td>\n",
       "      <td>BRONX</td>\n",
       "      <td>2022</td>\n",
       "      <td>98</td>\n",
       "      <td>454902.900</td>\n",
       "    </tr>\n",
       "  </tbody>\n",
       "</table>\n",
       "</div>"
      ],
      "text/plain": [
       "   zipcode borough  year  count  home_value\n",
       "0    10469   BRONX  2022    122  592184.800\n",
       "1    10466   BRONX  2022    119  560980.300\n",
       "2    10463   BRONX  2018    105  357383.417\n",
       "3    10466   BRONX  2021     99  528377.083\n",
       "4    10456   BRONX  2022     98  454902.900"
      ]
     },
     "metadata": {},
     "output_type": "display_data"
    }
   ],
   "source": [
    "merge_cols = [\"year\", \"zipcode\", \"borough\"]\n",
    "merged_top_zipcodes = pd.merge(top_zipcodes, home_values,  how='left', left_on=merge_cols, right_on=merge_cols)\n",
    "print(\"merged_top_zipcodes\")\n",
    "display(merged_top_zipcodes.head())"
   ]
  },
  {
   "cell_type": "code",
   "execution_count": 10,
   "id": "a0e7a6c6",
   "metadata": {},
   "outputs": [],
   "source": [
    "# Generate Shapiro wilk test for \n",
    "def generate_shapiro_test(df, boro):\n",
    "    data = df[df[\"borough\"] == boro]\n",
    "    shapiro_wilk_data = stats.shapiro(data['home_value'])\n",
    "    return \"{}:::W={}, P={}\".format(boro, shapiro_wilk_data[0], shapiro_wilk_data[1])"
   ]
  },
  {
   "cell_type": "markdown",
   "id": "b8f0734c",
   "metadata": {},
   "source": [
    "### Test for normality"
   ]
  },
  {
   "cell_type": "code",
   "execution_count": 11,
   "id": "c9acd7af",
   "metadata": {},
   "outputs": [
    {
     "data": {
      "text/plain": [
       "['BRONX:::W=0.9325530529022217, P=0.6138810515403748',\n",
       " 'BROOKLYN:::W=0.8819567561149597, P=0.31827250123023987',\n",
       " 'MANHATTAN:::W=0.7880368232727051, P=0.06450823694467545',\n",
       " 'QUEENS:::W=0.810954213142395, P=0.09922929108142853',\n",
       " 'STATEN_ISLAND:::W=0.941604495048523, P=0.6773035526275635']"
      ]
     },
     "execution_count": 11,
     "metadata": {},
     "output_type": "execute_result"
    }
   ],
   "source": [
    "boros = top_zipcodes[\"borough\"].unique()\n",
    "[generate_shapiro_test(merged_top_zipcodes, boro) for boro in boros]"
   ]
  },
  {
   "cell_type": "markdown",
   "id": "7fd8a38c",
   "metadata": {},
   "source": [
    "# Merge remaining airbnb zipcode count  to zillow home values\n",
    "Merge remaining zillow zipcodes (excluding top 5) to remaining airbnb count based on\n",
    "- **year, zipcode, and borough**"
   ]
  },
  {
   "cell_type": "markdown",
   "id": "e6376ab2",
   "metadata": {},
   "source": [
    "### Dataframes"
   ]
  },
  {
   "cell_type": "code",
   "execution_count": 12,
   "id": "d370a25c",
   "metadata": {},
   "outputs": [
    {
     "name": "stdout",
     "output_type": "stream",
     "text": [
      "remaining_zipcode_count\n"
     ]
    },
    {
     "data": {
      "text/html": [
       "<div>\n",
       "<style scoped>\n",
       "    .dataframe tbody tr th:only-of-type {\n",
       "        vertical-align: middle;\n",
       "    }\n",
       "\n",
       "    .dataframe tbody tr th {\n",
       "        vertical-align: top;\n",
       "    }\n",
       "\n",
       "    .dataframe thead th {\n",
       "        text-align: right;\n",
       "    }\n",
       "</style>\n",
       "<table border=\"1\" class=\"dataframe\">\n",
       "  <thead>\n",
       "    <tr style=\"text-align: right;\">\n",
       "      <th></th>\n",
       "      <th>zipcode</th>\n",
       "      <th>borough</th>\n",
       "      <th>year</th>\n",
       "      <th>count</th>\n",
       "    </tr>\n",
       "  </thead>\n",
       "  <tbody>\n",
       "    <tr>\n",
       "      <th>0</th>\n",
       "      <td>10001</td>\n",
       "      <td>MANHATTAN</td>\n",
       "      <td>2015</td>\n",
       "      <td>350</td>\n",
       "    </tr>\n",
       "    <tr>\n",
       "      <th>1</th>\n",
       "      <td>10001</td>\n",
       "      <td>MANHATTAN</td>\n",
       "      <td>2016</td>\n",
       "      <td>666</td>\n",
       "    </tr>\n",
       "    <tr>\n",
       "      <th>2</th>\n",
       "      <td>10001</td>\n",
       "      <td>MANHATTAN</td>\n",
       "      <td>2017</td>\n",
       "      <td>418</td>\n",
       "    </tr>\n",
       "    <tr>\n",
       "      <th>3</th>\n",
       "      <td>10001</td>\n",
       "      <td>MANHATTAN</td>\n",
       "      <td>2018</td>\n",
       "      <td>491</td>\n",
       "    </tr>\n",
       "    <tr>\n",
       "      <th>4</th>\n",
       "      <td>10001</td>\n",
       "      <td>MANHATTAN</td>\n",
       "      <td>2019</td>\n",
       "      <td>275</td>\n",
       "    </tr>\n",
       "  </tbody>\n",
       "</table>\n",
       "</div>"
      ],
      "text/plain": [
       "   zipcode    borough  year  count\n",
       "0    10001  MANHATTAN  2015    350\n",
       "1    10001  MANHATTAN  2016    666\n",
       "2    10001  MANHATTAN  2017    418\n",
       "3    10001  MANHATTAN  2018    491\n",
       "4    10001  MANHATTAN  2019    275"
      ]
     },
     "metadata": {},
     "output_type": "display_data"
    },
    {
     "name": "stdout",
     "output_type": "stream",
     "text": [
      "home_values\n"
     ]
    },
    {
     "data": {
      "text/html": [
       "<div>\n",
       "<style scoped>\n",
       "    .dataframe tbody tr th:only-of-type {\n",
       "        vertical-align: middle;\n",
       "    }\n",
       "\n",
       "    .dataframe tbody tr th {\n",
       "        vertical-align: top;\n",
       "    }\n",
       "\n",
       "    .dataframe thead th {\n",
       "        text-align: right;\n",
       "    }\n",
       "</style>\n",
       "<table border=\"1\" class=\"dataframe\">\n",
       "  <thead>\n",
       "    <tr style=\"text-align: right;\">\n",
       "      <th></th>\n",
       "      <th>zipcode</th>\n",
       "      <th>year</th>\n",
       "      <th>borough</th>\n",
       "      <th>home_value</th>\n",
       "    </tr>\n",
       "  </thead>\n",
       "  <tbody>\n",
       "    <tr>\n",
       "      <th>0</th>\n",
       "      <td>10001</td>\n",
       "      <td>2015</td>\n",
       "      <td>MANHATTAN</td>\n",
       "      <td>2280604.000</td>\n",
       "    </tr>\n",
       "    <tr>\n",
       "      <th>1</th>\n",
       "      <td>10001</td>\n",
       "      <td>2016</td>\n",
       "      <td>MANHATTAN</td>\n",
       "      <td>2369453.250</td>\n",
       "    </tr>\n",
       "    <tr>\n",
       "      <th>2</th>\n",
       "      <td>10001</td>\n",
       "      <td>2017</td>\n",
       "      <td>MANHATTAN</td>\n",
       "      <td>2271803.500</td>\n",
       "    </tr>\n",
       "    <tr>\n",
       "      <th>3</th>\n",
       "      <td>10001</td>\n",
       "      <td>2018</td>\n",
       "      <td>MANHATTAN</td>\n",
       "      <td>2351996.833</td>\n",
       "    </tr>\n",
       "    <tr>\n",
       "      <th>4</th>\n",
       "      <td>10001</td>\n",
       "      <td>2019</td>\n",
       "      <td>MANHATTAN</td>\n",
       "      <td>2380720.417</td>\n",
       "    </tr>\n",
       "  </tbody>\n",
       "</table>\n",
       "</div>"
      ],
      "text/plain": [
       "   zipcode  year    borough  home_value\n",
       "0    10001  2015  MANHATTAN 2280604.000\n",
       "1    10001  2016  MANHATTAN 2369453.250\n",
       "2    10001  2017  MANHATTAN 2271803.500\n",
       "3    10001  2018  MANHATTAN 2351996.833\n",
       "4    10001  2019  MANHATTAN 2380720.417"
      ]
     },
     "metadata": {},
     "output_type": "display_data"
    }
   ],
   "source": [
    "remaining_zipcode_count = pd.read_csv(\"./zipcode_data/nyc_remaining_zipcode_count.csv\")\n",
    "print(\"remaining_zipcode_count\")\n",
    "display(remaining_zipcode_count.head())\n",
    "print(\"home_values\")\n",
    "display(home_values.head())"
   ]
  },
  {
   "cell_type": "markdown",
   "id": "9228658e",
   "metadata": {},
   "source": [
    "### Merging dataframes"
   ]
  },
  {
   "cell_type": "code",
   "execution_count": 13,
   "id": "609dd81a",
   "metadata": {
    "scrolled": true
   },
   "outputs": [
    {
     "name": "stdout",
     "output_type": "stream",
     "text": [
      "merged_reminaing\n"
     ]
    },
    {
     "data": {
      "text/html": [
       "<div>\n",
       "<style scoped>\n",
       "    .dataframe tbody tr th:only-of-type {\n",
       "        vertical-align: middle;\n",
       "    }\n",
       "\n",
       "    .dataframe tbody tr th {\n",
       "        vertical-align: top;\n",
       "    }\n",
       "\n",
       "    .dataframe thead th {\n",
       "        text-align: right;\n",
       "    }\n",
       "</style>\n",
       "<table border=\"1\" class=\"dataframe\">\n",
       "  <thead>\n",
       "    <tr style=\"text-align: right;\">\n",
       "      <th></th>\n",
       "      <th>zipcode</th>\n",
       "      <th>borough</th>\n",
       "      <th>year</th>\n",
       "      <th>count</th>\n",
       "      <th>home_value</th>\n",
       "    </tr>\n",
       "  </thead>\n",
       "  <tbody>\n",
       "    <tr>\n",
       "      <th>0</th>\n",
       "      <td>10001</td>\n",
       "      <td>MANHATTAN</td>\n",
       "      <td>2015</td>\n",
       "      <td>350</td>\n",
       "      <td>2280604.000</td>\n",
       "    </tr>\n",
       "    <tr>\n",
       "      <th>1</th>\n",
       "      <td>10001</td>\n",
       "      <td>MANHATTAN</td>\n",
       "      <td>2016</td>\n",
       "      <td>666</td>\n",
       "      <td>2369453.250</td>\n",
       "    </tr>\n",
       "    <tr>\n",
       "      <th>2</th>\n",
       "      <td>10001</td>\n",
       "      <td>MANHATTAN</td>\n",
       "      <td>2017</td>\n",
       "      <td>418</td>\n",
       "      <td>2271803.500</td>\n",
       "    </tr>\n",
       "    <tr>\n",
       "      <th>3</th>\n",
       "      <td>10001</td>\n",
       "      <td>MANHATTAN</td>\n",
       "      <td>2018</td>\n",
       "      <td>491</td>\n",
       "      <td>2351996.833</td>\n",
       "    </tr>\n",
       "    <tr>\n",
       "      <th>4</th>\n",
       "      <td>10001</td>\n",
       "      <td>MANHATTAN</td>\n",
       "      <td>2019</td>\n",
       "      <td>275</td>\n",
       "      <td>2380720.417</td>\n",
       "    </tr>\n",
       "  </tbody>\n",
       "</table>\n",
       "</div>"
      ],
      "text/plain": [
       "   zipcode    borough  year  count  home_value\n",
       "0    10001  MANHATTAN  2015    350 2280604.000\n",
       "1    10001  MANHATTAN  2016    666 2369453.250\n",
       "2    10001  MANHATTAN  2017    418 2271803.500\n",
       "3    10001  MANHATTAN  2018    491 2351996.833\n",
       "4    10001  MANHATTAN  2019    275 2380720.417"
      ]
     },
     "metadata": {},
     "output_type": "display_data"
    }
   ],
   "source": [
    "merge_cols = [\"year\", \"zipcode\", \"borough\"]\n",
    "merged_reminaing = remaining_zipcode_count.merge(home_values, indicator=True, how=\"left\", left_on=merge_cols, right_on=merge_cols).drop(columns=['_merge'])\n",
    "print(\"merged_reminaing\")\n",
    "display(merged_reminaing.head())"
   ]
  },
  {
   "cell_type": "markdown",
   "id": "20f3d733",
   "metadata": {},
   "source": [
    "# Check for missing home values from remaining zipcodes"
   ]
  },
  {
   "cell_type": "code",
   "execution_count": 14,
   "id": "1f6915bc",
   "metadata": {},
   "outputs": [],
   "source": [
    "#Rockerfeller center 10020, check what type of areas we're missing.Look for significant counts andor/ places\n",
    "missing_zipcodes = merged_reminaing[merged_reminaing[\"home_value\"].isnull()]   "
   ]
  },
  {
   "cell_type": "code",
   "execution_count": 30,
   "id": "56b97aad",
   "metadata": {},
   "outputs": [],
   "source": [
    "def get_boro_missing_zipcodes(df, boro):\n",
    "    missing_boro = df[df[\"borough\"] == boro]\n",
    "    missing_years = missing_boro[\"year\"].unique().tolist()\n",
    "    missing_zipcodes = missing_boro[\"zipcode\"].unique().tolist()\n",
    "    missing_zipcodes.sort();     missing_years.sort()\n",
    "    str1 = \"{}\\nmissing zipcode_count:{}\".format(boro, len(missing_boro))\n",
    "    str2 = \"\\nmissing years: {}\".format(missing_years)\n",
    "    str3 = \"\\nmissing zipcodes:{}\\n\\n\".format(missing_zipcodes)\n",
    "    return str1 + str2 + str3"
   ]
  },
  {
   "cell_type": "markdown",
   "id": "fa71c4db",
   "metadata": {},
   "source": [
    "### Explain in EDA as to why these zipcodes are missing home values and not necessary\n",
    "- So far, **MANHATTAN** has justifiable zipcodes along with parts of **BROOKLYN**\n",
    "- TODO: **BRONX**, **QUEENS**"
   ]
  },
  {
   "cell_type": "code",
   "execution_count": 31,
   "id": "0b2954ed",
   "metadata": {},
   "outputs": [
    {
     "name": "stdout",
     "output_type": "stream",
     "text": [
      "BRONX\n",
      "missing zipcode_count:25\n",
      "missing years: [2015, 2016, 2017, 2018, 2019, 2020, 2021, 2022]\n",
      "missing zipcodes:[10474, 10550, 10704, 10705, 10803]\n",
      "\n",
      "\n",
      "BROOKLYN\n",
      "missing zipcode_count:8\n",
      "missing years: [2015, 2016, 2017, 2018, 2019, 2020, 2021, 2022]\n",
      "missing zipcodes:[11693]\n",
      "\n",
      "\n",
      "MANHATTAN\n",
      "missing zipcode_count:20\n",
      "missing years: [2015, 2016, 2017, 2018, 2019, 2020, 2021, 2022]\n",
      "missing zipcodes:[10020, 10037, 10115]\n",
      "\n",
      "\n",
      "QUEENS\n",
      "missing zipcode_count:54\n",
      "missing years: [2015, 2016, 2017, 2018, 2019, 2020, 2021, 2022]\n",
      "missing zipcodes:[11001, 11005, 11040, 11096, 11109, 11351, 11359, 11371, 11430, 11580, 11697]\n",
      "\n",
      "\n",
      "STATEN_ISLAND\n",
      "missing zipcode_count:0\n",
      "missing years: []\n",
      "missing zipcodes:[]\n",
      "\n",
      "\n"
     ]
    }
   ],
   "source": [
    "boros = top_zipcodes[\"borough\"].unique()\n",
    "[print(get_boro_missing_zipcodes(missing_zipcodes, boro)) for boro in boros]; display()"
   ]
  },
  {
   "cell_type": "markdown",
   "id": "6b95a8e2",
   "metadata": {},
   "source": [
    "\n",
    "It’s a common practice to drop rows with nan values (not a number) from a dataset when analyzing data, as these rows can often introduce bias or errors into the analysis. In our case, we found it necessary to drop rows with nan values if the zip codes correspond to locations that do not have homes, such as hospitals, churches, stadiums, etc. The Zillow home value data is likely not applicable to these types of locations, and including them in the analysis could skew the results.\n",
    "By dropping the rows with nan values, we can ensure that the analysis is based on a more accurate sample of the data. This can help to improve the reliability and validity of the analysis, and provide more meaningful insights into the data. We have created csv files with the zip codes that do not have Zillow home value data to ensure if the data is needed it will be accessible.\n",
    "In our dataframe staten island has no zip codes missing.Queens has 11 zipcodes missing. Manhattan has 3 zip codes missing. Brooklyn has 1 zip code missing. Bronx has 5 zip codes missing. \n"
   ]
  }
 ],
 "metadata": {
  "kernelspec": {
   "display_name": "Python 3 (ipykernel)",
   "language": "python",
   "name": "python3"
  },
  "language_info": {
   "codemirror_mode": {
    "name": "ipython",
    "version": 3
   },
   "file_extension": ".py",
   "mimetype": "text/x-python",
   "name": "python",
   "nbconvert_exporter": "python",
   "pygments_lexer": "ipython3",
   "version": "3.9.12"
  }
 },
 "nbformat": 4,
 "nbformat_minor": 5
}
