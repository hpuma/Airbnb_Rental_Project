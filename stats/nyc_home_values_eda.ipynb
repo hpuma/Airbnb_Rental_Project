{
 "cells": [
  {
   "cell_type": "code",
   "execution_count": 76,
   "id": "715c9b9b",
   "metadata": {},
   "outputs": [],
   "source": [
    "import pandas as pd\n",
    "import numpy as np\n",
    "from scipy import stats\n",
    "import seaborn as sns\n",
    "from matplotlib import rcParams\n",
    "import matplotlib.pyplot as plt"
   ]
  },
  {
   "cell_type": "code",
   "execution_count": 57,
   "id": "47c6fb13",
   "metadata": {},
   "outputs": [],
   "source": [
    "rcParams['figure.figsize'] = 8,8"
   ]
  },
  {
   "cell_type": "markdown",
   "id": "23c82668",
   "metadata": {},
   "source": [
    "### Load Dataframes\n",
    "Loading zipcodes with the most airbnbs in nyc. Selected only the top 5 for each borough"
   ]
  },
  {
   "cell_type": "code",
   "execution_count": 50,
   "id": "b38aff46",
   "metadata": {},
   "outputs": [
    {
     "name": "stdout",
     "output_type": "stream",
     "text": [
      "<class 'pandas.core.frame.DataFrame'>\n",
      "RangeIndex: 25 entries, 0 to 24\n",
      "Data columns (total 5 columns):\n",
      " #   Column      Non-Null Count  Dtype  \n",
      "---  ------      --------------  -----  \n",
      " 0   zipcode     25 non-null     int64  \n",
      " 1   borough     25 non-null     object \n",
      " 2   year        25 non-null     int64  \n",
      " 3   count       25 non-null     int64  \n",
      " 4   home_value  25 non-null     float64\n",
      "dtypes: float64(1), int64(3), object(1)\n",
      "memory usage: 1.1+ KB\n"
     ]
    },
    {
     "data": {
      "text/plain": [
       "None"
      ]
     },
     "metadata": {},
     "output_type": "display_data"
    },
    {
     "data": {
      "text/html": [
       "<div>\n",
       "<style scoped>\n",
       "    .dataframe tbody tr th:only-of-type {\n",
       "        vertical-align: middle;\n",
       "    }\n",
       "\n",
       "    .dataframe tbody tr th {\n",
       "        vertical-align: top;\n",
       "    }\n",
       "\n",
       "    .dataframe thead th {\n",
       "        text-align: right;\n",
       "    }\n",
       "</style>\n",
       "<table border=\"1\" class=\"dataframe\">\n",
       "  <thead>\n",
       "    <tr style=\"text-align: right;\">\n",
       "      <th></th>\n",
       "      <th>zipcode</th>\n",
       "      <th>borough</th>\n",
       "      <th>year</th>\n",
       "      <th>count</th>\n",
       "      <th>home_value</th>\n",
       "    </tr>\n",
       "  </thead>\n",
       "  <tbody>\n",
       "    <tr>\n",
       "      <th>0</th>\n",
       "      <td>10469</td>\n",
       "      <td>BRONX</td>\n",
       "      <td>2022</td>\n",
       "      <td>122</td>\n",
       "      <td>592184.800000</td>\n",
       "    </tr>\n",
       "    <tr>\n",
       "      <th>1</th>\n",
       "      <td>10466</td>\n",
       "      <td>BRONX</td>\n",
       "      <td>2022</td>\n",
       "      <td>119</td>\n",
       "      <td>560980.300000</td>\n",
       "    </tr>\n",
       "    <tr>\n",
       "      <th>2</th>\n",
       "      <td>10463</td>\n",
       "      <td>BRONX</td>\n",
       "      <td>2018</td>\n",
       "      <td>105</td>\n",
       "      <td>357383.416667</td>\n",
       "    </tr>\n",
       "    <tr>\n",
       "      <th>3</th>\n",
       "      <td>10466</td>\n",
       "      <td>BRONX</td>\n",
       "      <td>2021</td>\n",
       "      <td>99</td>\n",
       "      <td>528377.083333</td>\n",
       "    </tr>\n",
       "    <tr>\n",
       "      <th>4</th>\n",
       "      <td>10456</td>\n",
       "      <td>BRONX</td>\n",
       "      <td>2022</td>\n",
       "      <td>98</td>\n",
       "      <td>454902.900000</td>\n",
       "    </tr>\n",
       "  </tbody>\n",
       "</table>\n",
       "</div>"
      ],
      "text/plain": [
       "   zipcode borough  year  count     home_value\n",
       "0    10469   BRONX  2022    122  592184.800000\n",
       "1    10466   BRONX  2022    119  560980.300000\n",
       "2    10463   BRONX  2018    105  357383.416667\n",
       "3    10466   BRONX  2021     99  528377.083333\n",
       "4    10456   BRONX  2022     98  454902.900000"
      ]
     },
     "metadata": {},
     "output_type": "display_data"
    }
   ],
   "source": [
    "top_zipcodes = pd.read_csv(\"./zipcode_data/mapped_data/top_zipcodes_home_val_mapped.csv\")\n",
    "display(top_zipcodes.info())\n",
    "display(top_zipcodes.head())"
   ]
  },
  {
   "cell_type": "code",
   "execution_count": 78,
   "id": "372b3400",
   "metadata": {},
   "outputs": [
    {
     "data": {
      "image/png": "[encoded data removed]",
      "text/plain": [
       "<Figure size 576x576 with 1 Axes>"
      ]
     },
     "metadata": {
      "needs_background": "light"
     },
     "output_type": "display_data"
    },
    {
     "data": {
      "image/png": "[encoded data removed]",
      "text/plain": [
       "<Figure size 576x576 with 1 Axes>"
      ]
     },
     "metadata": {
      "needs_background": "light"
     },
     "output_type": "display_data"
    }
   ],
   "source": [
    "sns.barplot(data=top_zipcodes, x=\"borough\", y=\"count\", hue=\"year\", ci=None)\n",
    "plt.show()\n",
    "sns.boxplot(data=top_zipcodes, x=\"borough\", y=\"home_value\")\n",
    "plt.show()"
   ]
  },
  {
   "cell_type": "markdown",
   "id": "78b83463",
   "metadata": {},
   "source": [
    "Loading remaing zipcodes that are not part of the top 5 zipcodes throughout nyc"
   ]
  },
  {
   "cell_type": "code",
   "execution_count": 88,
   "id": "7a5bf247",
   "metadata": {},
   "outputs": [
    {
     "name": "stdout",
     "output_type": "stream",
     "text": [
      "<class 'pandas.core.frame.DataFrame'>\n",
      "RangeIndex: 25 entries, 0 to 24\n",
      "Data columns (total 5 columns):\n",
      " #   Column      Non-Null Count  Dtype  \n",
      "---  ------      --------------  -----  \n",
      " 0   zipcode     25 non-null     int64  \n",
      " 1   borough     25 non-null     object \n",
      " 2   year        25 non-null     int64  \n",
      " 3   count       25 non-null     int64  \n",
      " 4   home_value  25 non-null     float64\n",
      "dtypes: float64(1), int64(3), object(1)\n",
      "memory usage: 1.1+ KB\n"
     ]
    },
    {
     "data": {
      "text/plain": [
       "None"
      ]
     },
     "metadata": {},
     "output_type": "display_data"
    },
    {
     "data": {
      "text/html": [
       "<div>\n",
       "<style scoped>\n",
       "    .dataframe tbody tr th:only-of-type {\n",
       "        vertical-align: middle;\n",
       "    }\n",
       "\n",
       "    .dataframe tbody tr th {\n",
       "        vertical-align: top;\n",
       "    }\n",
       "\n",
       "    .dataframe thead th {\n",
       "        text-align: right;\n",
       "    }\n",
       "</style>\n",
       "<table border=\"1\" class=\"dataframe\">\n",
       "  <thead>\n",
       "    <tr style=\"text-align: right;\">\n",
       "      <th></th>\n",
       "      <th>zipcode</th>\n",
       "      <th>borough</th>\n",
       "      <th>year</th>\n",
       "      <th>count</th>\n",
       "      <th>home_value</th>\n",
       "    </tr>\n",
       "  </thead>\n",
       "  <tbody>\n",
       "    <tr>\n",
       "      <th>0</th>\n",
       "      <td>10001</td>\n",
       "      <td>MANHATTAN</td>\n",
       "      <td>2015</td>\n",
       "      <td>350</td>\n",
       "      <td>2.280604e+06</td>\n",
       "    </tr>\n",
       "    <tr>\n",
       "      <th>1</th>\n",
       "      <td>10001</td>\n",
       "      <td>MANHATTAN</td>\n",
       "      <td>2016</td>\n",
       "      <td>666</td>\n",
       "      <td>2.369453e+06</td>\n",
       "    </tr>\n",
       "    <tr>\n",
       "      <th>2</th>\n",
       "      <td>10001</td>\n",
       "      <td>MANHATTAN</td>\n",
       "      <td>2017</td>\n",
       "      <td>418</td>\n",
       "      <td>2.271804e+06</td>\n",
       "    </tr>\n",
       "    <tr>\n",
       "      <th>3</th>\n",
       "      <td>10001</td>\n",
       "      <td>MANHATTAN</td>\n",
       "      <td>2018</td>\n",
       "      <td>491</td>\n",
       "      <td>2.351997e+06</td>\n",
       "    </tr>\n",
       "    <tr>\n",
       "      <th>4</th>\n",
       "      <td>10001</td>\n",
       "      <td>MANHATTAN</td>\n",
       "      <td>2019</td>\n",
       "      <td>275</td>\n",
       "      <td>2.380720e+06</td>\n",
       "    </tr>\n",
       "  </tbody>\n",
       "</table>\n",
       "</div>"
      ],
      "text/plain": [
       "   zipcode    borough  year  count    home_value\n",
       "0    10001  MANHATTAN  2015    350  2.280604e+06\n",
       "1    10001  MANHATTAN  2016    666  2.369453e+06\n",
       "2    10001  MANHATTAN  2017    418  2.271804e+06\n",
       "3    10001  MANHATTAN  2018    491  2.351997e+06\n",
       "4    10001  MANHATTAN  2019    275  2.380720e+06"
      ]
     },
     "metadata": {},
     "output_type": "display_data"
    }
   ],
   "source": [
    "remaining_zipcodes = pd.read_csv(\"./zipcode_data/mapped_data/remaining_zipcodes_home_val_mapped.csv\")\n",
    "display(top_zipcodes.info())\n",
    "display(remaining_zipcodes.head())"
   ]
  },
  {
   "cell_type": "code",
   "execution_count": 89,
   "id": "a8af02e5",
   "metadata": {},
   "outputs": [
    {
     "data": {
      "image/png": "[encoded data removed]",
      "text/plain": [
       "<Figure size 576x576 with 1 Axes>"
      ]
     },
     "metadata": {
      "needs_background": "light"
     },
     "output_type": "display_data"
    },
    {
     "data": {
      "image/png": "[encoded data removed]",
      "text/plain": [
       "<Figure size 576x576 with 1 Axes>"
      ]
     },
     "metadata": {
      "needs_background": "light"
     },
     "output_type": "display_data"
    }
   ],
   "source": [
    "sns.barplot(data=remaining_zipcodes, x=\"borough\", y=\"count\", hue=\"year\", ci=None)\n",
    "plt.show()\n",
    "sns.boxplot(data=remaining_zipcodes, x=\"borough\", y=\"home_value\")\n",
    "plt.show()"
   ]
  },
  {
   "cell_type": "markdown",
   "id": "67961378",
   "metadata": {},
   "source": [
    "### Statistical Testing: T-test"
   ]
  },
  {
   "cell_type": "code",
   "execution_count": null,
   "id": "245e701d",
   "metadata": {},
   "outputs": [],
   "source": []
  }
 ],
 "metadata": {
  "kernelspec": {
   "display_name": "Python 3 (ipykernel)",
   "language": "python",
   "name": "python3"
  },
  "language_info": {
   "codemirror_mode": {
    "name": "ipython",
    "version": 3
   },
   "file_extension": ".py",
   "mimetype": "text/x-python",
   "name": "python",
   "nbconvert_exporter": "python",
   "pygments_lexer": "ipython3",
   "version": "3.9.7"
  }
 },
 "nbformat": 4,
 "nbformat_minor": 5
}
