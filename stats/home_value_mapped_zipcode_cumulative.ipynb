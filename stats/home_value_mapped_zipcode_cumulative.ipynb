{
 "cells": [
  {
   "cell_type": "code",
   "execution_count": 1,
   "id": "4b1408e3",
   "metadata": {},
   "outputs": [],
   "source": [
    "import pandas as pd\n",
    "import numpy as np\n",
    "from scipy import stats"
   ]
  },
  {
   "cell_type": "code",
   "execution_count": 2,
   "id": "caf3734e",
   "metadata": {},
   "outputs": [],
   "source": [
    "# Supress auto scientific notation\n",
    "pd.set_option('display.float_format', lambda x: '%.3f' % x)"
   ]
  },
  {
   "cell_type": "markdown",
   "id": "e324dbf7",
   "metadata": {},
   "source": [
    "# Load Datasets"
   ]
  },
  {
   "cell_type": "markdown",
   "id": "5a825972",
   "metadata": {},
   "source": [
    "### Top airbnb zipcodes throughout nyc  (2015-2022)\n",
    "Get top airbnb zip codes that need to be merged with zillow home values"
   ]
  },
  {
   "cell_type": "code",
   "execution_count": 3,
   "id": "1eeb6c1f",
   "metadata": {},
   "outputs": [
    {
     "data": {
      "text/html": [
       "<div>\n",
       "<style scoped>\n",
       "    .dataframe tbody tr th:only-of-type {\n",
       "        vertical-align: middle;\n",
       "    }\n",
       "\n",
       "    .dataframe tbody tr th {\n",
       "        vertical-align: top;\n",
       "    }\n",
       "\n",
       "    .dataframe thead th {\n",
       "        text-align: right;\n",
       "    }\n",
       "</style>\n",
       "<table border=\"1\" class=\"dataframe\">\n",
       "  <thead>\n",
       "    <tr style=\"text-align: right;\">\n",
       "      <th></th>\n",
       "      <th>zipcode</th>\n",
       "      <th>borough</th>\n",
       "      <th>year</th>\n",
       "      <th>count</th>\n",
       "    </tr>\n",
       "  </thead>\n",
       "  <tbody>\n",
       "    <tr>\n",
       "      <th>0</th>\n",
       "      <td>10469</td>\n",
       "      <td>BRONX</td>\n",
       "      <td>2022</td>\n",
       "      <td>122</td>\n",
       "    </tr>\n",
       "    <tr>\n",
       "      <th>1</th>\n",
       "      <td>10466</td>\n",
       "      <td>BRONX</td>\n",
       "      <td>2022</td>\n",
       "      <td>119</td>\n",
       "    </tr>\n",
       "    <tr>\n",
       "      <th>2</th>\n",
       "      <td>10463</td>\n",
       "      <td>BRONX</td>\n",
       "      <td>2018</td>\n",
       "      <td>105</td>\n",
       "    </tr>\n",
       "    <tr>\n",
       "      <th>3</th>\n",
       "      <td>10466</td>\n",
       "      <td>BRONX</td>\n",
       "      <td>2021</td>\n",
       "      <td>99</td>\n",
       "    </tr>\n",
       "    <tr>\n",
       "      <th>4</th>\n",
       "      <td>10456</td>\n",
       "      <td>BRONX</td>\n",
       "      <td>2022</td>\n",
       "      <td>98</td>\n",
       "    </tr>\n",
       "    <tr>\n",
       "      <th>5</th>\n",
       "      <td>11211</td>\n",
       "      <td>BROOKLYN</td>\n",
       "      <td>2019</td>\n",
       "      <td>6231</td>\n",
       "    </tr>\n",
       "    <tr>\n",
       "      <th>6</th>\n",
       "      <td>11211</td>\n",
       "      <td>BROOKLYN</td>\n",
       "      <td>2018</td>\n",
       "      <td>3227</td>\n",
       "    </tr>\n",
       "    <tr>\n",
       "      <th>7</th>\n",
       "      <td>11211</td>\n",
       "      <td>BROOKLYN</td>\n",
       "      <td>2022</td>\n",
       "      <td>2730</td>\n",
       "    </tr>\n",
       "    <tr>\n",
       "      <th>8</th>\n",
       "      <td>11211</td>\n",
       "      <td>BROOKLYN</td>\n",
       "      <td>2020</td>\n",
       "      <td>2719</td>\n",
       "    </tr>\n",
       "    <tr>\n",
       "      <th>9</th>\n",
       "      <td>11211</td>\n",
       "      <td>BROOKLYN</td>\n",
       "      <td>2017</td>\n",
       "      <td>2645</td>\n",
       "    </tr>\n",
       "    <tr>\n",
       "      <th>10</th>\n",
       "      <td>10009</td>\n",
       "      <td>MANHATTAN</td>\n",
       "      <td>2017</td>\n",
       "      <td>2593</td>\n",
       "    </tr>\n",
       "    <tr>\n",
       "      <th>11</th>\n",
       "      <td>10018</td>\n",
       "      <td>MANHATTAN</td>\n",
       "      <td>2018</td>\n",
       "      <td>2485</td>\n",
       "    </tr>\n",
       "    <tr>\n",
       "      <th>12</th>\n",
       "      <td>10003</td>\n",
       "      <td>MANHATTAN</td>\n",
       "      <td>2017</td>\n",
       "      <td>2184</td>\n",
       "    </tr>\n",
       "    <tr>\n",
       "      <th>13</th>\n",
       "      <td>10013</td>\n",
       "      <td>MANHATTAN</td>\n",
       "      <td>2019</td>\n",
       "      <td>1779</td>\n",
       "    </tr>\n",
       "    <tr>\n",
       "      <th>14</th>\n",
       "      <td>10024</td>\n",
       "      <td>MANHATTAN</td>\n",
       "      <td>2019</td>\n",
       "      <td>1721</td>\n",
       "    </tr>\n",
       "    <tr>\n",
       "      <th>15</th>\n",
       "      <td>11106</td>\n",
       "      <td>QUEENS</td>\n",
       "      <td>2018</td>\n",
       "      <td>648</td>\n",
       "    </tr>\n",
       "    <tr>\n",
       "      <th>16</th>\n",
       "      <td>11103</td>\n",
       "      <td>QUEENS</td>\n",
       "      <td>2017</td>\n",
       "      <td>584</td>\n",
       "    </tr>\n",
       "    <tr>\n",
       "      <th>17</th>\n",
       "      <td>11106</td>\n",
       "      <td>QUEENS</td>\n",
       "      <td>2017</td>\n",
       "      <td>531</td>\n",
       "    </tr>\n",
       "    <tr>\n",
       "      <th>18</th>\n",
       "      <td>11104</td>\n",
       "      <td>QUEENS</td>\n",
       "      <td>2019</td>\n",
       "      <td>465</td>\n",
       "    </tr>\n",
       "    <tr>\n",
       "      <th>19</th>\n",
       "      <td>11103</td>\n",
       "      <td>QUEENS</td>\n",
       "      <td>2018</td>\n",
       "      <td>443</td>\n",
       "    </tr>\n",
       "    <tr>\n",
       "      <th>20</th>\n",
       "      <td>10301</td>\n",
       "      <td>STATEN_ISLAND</td>\n",
       "      <td>2019</td>\n",
       "      <td>212</td>\n",
       "    </tr>\n",
       "    <tr>\n",
       "      <th>21</th>\n",
       "      <td>10301</td>\n",
       "      <td>STATEN_ISLAND</td>\n",
       "      <td>2022</td>\n",
       "      <td>143</td>\n",
       "    </tr>\n",
       "    <tr>\n",
       "      <th>22</th>\n",
       "      <td>10301</td>\n",
       "      <td>STATEN_ISLAND</td>\n",
       "      <td>2021</td>\n",
       "      <td>126</td>\n",
       "    </tr>\n",
       "    <tr>\n",
       "      <th>23</th>\n",
       "      <td>10301</td>\n",
       "      <td>STATEN_ISLAND</td>\n",
       "      <td>2015</td>\n",
       "      <td>124</td>\n",
       "    </tr>\n",
       "    <tr>\n",
       "      <th>24</th>\n",
       "      <td>10301</td>\n",
       "      <td>STATEN_ISLAND</td>\n",
       "      <td>2016</td>\n",
       "      <td>118</td>\n",
       "    </tr>\n",
       "  </tbody>\n",
       "</table>\n",
       "</div>"
      ],
      "text/plain": [
       "    zipcode        borough  year  count\n",
       "0     10469          BRONX  2022    122\n",
       "1     10466          BRONX  2022    119\n",
       "2     10463          BRONX  2018    105\n",
       "3     10466          BRONX  2021     99\n",
       "4     10456          BRONX  2022     98\n",
       "5     11211       BROOKLYN  2019   6231\n",
       "6     11211       BROOKLYN  2018   3227\n",
       "7     11211       BROOKLYN  2022   2730\n",
       "8     11211       BROOKLYN  2020   2719\n",
       "9     11211       BROOKLYN  2017   2645\n",
       "10    10009      MANHATTAN  2017   2593\n",
       "11    10018      MANHATTAN  2018   2485\n",
       "12    10003      MANHATTAN  2017   2184\n",
       "13    10013      MANHATTAN  2019   1779\n",
       "14    10024      MANHATTAN  2019   1721\n",
       "15    11106         QUEENS  2018    648\n",
       "16    11103         QUEENS  2017    584\n",
       "17    11106         QUEENS  2017    531\n",
       "18    11104         QUEENS  2019    465\n",
       "19    11103         QUEENS  2018    443\n",
       "20    10301  STATEN_ISLAND  2019    212\n",
       "21    10301  STATEN_ISLAND  2022    143\n",
       "22    10301  STATEN_ISLAND  2021    126\n",
       "23    10301  STATEN_ISLAND  2015    124\n",
       "24    10301  STATEN_ISLAND  2016    118"
      ]
     },
     "metadata": {},
     "output_type": "display_data"
    }
   ],
   "source": [
    "top_zipcodes = pd.read_csv(\"./zipcode_data/unmapped_data/nyc_top_zipcodes_count.csv\")\n",
    "display(top_zipcodes)"
   ]
  },
  {
   "cell_type": "markdown",
   "id": "0e95198c",
   "metadata": {},
   "source": [
    "### Zillow home values (2002-2022)\n",
    "Get Zillow home values for each zipcode in nyc"
   ]
  },
  {
   "cell_type": "code",
   "execution_count": 4,
   "id": "5fa78b99",
   "metadata": {},
   "outputs": [],
   "source": [
    "home_values = pd.read_csv('../data/clean/zhome_value.csv', low_memory=False)"
   ]
  },
  {
   "cell_type": "code",
   "execution_count": 5,
   "id": "7e620e99",
   "metadata": {},
   "outputs": [],
   "source": [
    "# EXPORT\n",
    "# home_values.to_csv(\"../data/clean/zhome_value.csv\", index=False)\n",
    "# display(home_values)\n",
    "# print(\"CSV Generated\")"
   ]
  },
  {
   "cell_type": "markdown",
   "id": "f3d46cc1",
   "metadata": {},
   "source": [
    "# Filter by significant years and compute yearly mean"
   ]
  },
  {
   "cell_type": "markdown",
   "id": "dd2232bf",
   "metadata": {},
   "source": [
    "### Filter by significant years from top zipcodes\n",
    "Find min and max year for top zipcodes that need to be mapped from \"zillow_home_values\""
   ]
  },
  {
   "cell_type": "code",
   "execution_count": 6,
   "id": "d1d5922c",
   "metadata": {
    "scrolled": false
   },
   "outputs": [
    {
     "name": "stdout",
     "output_type": "stream",
     "text": [
      "MIN=2015\n",
      "MAX=2022\n"
     ]
    }
   ],
   "source": [
    "min_year, max_year = top_zipcodes[\"year\"].min(), top_zipcodes[\"year\"].max()\n",
    "print(\"MIN={}\\nMAX={}\".format(min_year, max_year))"
   ]
  },
  {
   "cell_type": "markdown",
   "id": "cbc1d0ca",
   "metadata": {},
   "source": [
    "Use **MIN, MAX** years from top_zipcodes and narrow down zillow home_value years between [min, max]"
   ]
  },
  {
   "cell_type": "code",
   "execution_count": 7,
   "id": "af9b0451",
   "metadata": {
    "scrolled": false
   },
   "outputs": [
    {
     "name": "stdout",
     "output_type": "stream",
     "text": [
      "Years present in Airbnb zipcode home value: [2015, 2016, 2017, 2018, 2019, 2020, 2021, 2022]\n",
      "\n"
     ]
    }
   ],
   "source": [
    "home_values = home_values[home_values[\"year\"].between(min_year, max_year, inclusive=\"both\")]\n",
    "print(\"Years present in Airbnb zipcode home value:\", home_values[\"year\"].unique().tolist(), end=\"\\n\\n\")"
   ]
  },
  {
   "cell_type": "markdown",
   "id": "93aebe2e",
   "metadata": {},
   "source": [
    "### Compute yearly mean\n",
    "Group by **zipcode, year, and borough** to compute the average for home_value for each zipcode on a yearly basis. Notice the reduction in entries. 16577 --> 1412"
   ]
  },
  {
   "cell_type": "code",
   "execution_count": 8,
   "id": "370bbe19",
   "metadata": {
    "scrolled": true
   },
   "outputs": [],
   "source": [
    "home_values = home_values.groupby([\"zipcode\", \"year\", \"borough\"])[\"home_value\"].mean().to_frame().reset_index()"
   ]
  },
  {
   "cell_type": "markdown",
   "id": "d1c88425",
   "metadata": {},
   "source": [
    "# Merge airbnb top zipcode count count to zillow home values\n",
    "Merge all the top 5 zipcodes for each borough to their appropriate zillow home value based on\n",
    "- **year, zipcode, and borough**"
   ]
  },
  {
   "cell_type": "markdown",
   "id": "a549097a",
   "metadata": {},
   "source": [
    "### Dataframes"
   ]
  },
  {
   "cell_type": "code",
   "execution_count": 9,
   "id": "fc24c5b7",
   "metadata": {},
   "outputs": [
    {
     "name": "stdout",
     "output_type": "stream",
     "text": [
      "top_zipcodes\n"
     ]
    },
    {
     "data": {
      "text/html": [
       "<div>\n",
       "<style scoped>\n",
       "    .dataframe tbody tr th:only-of-type {\n",
       "        vertical-align: middle;\n",
       "    }\n",
       "\n",
       "    .dataframe tbody tr th {\n",
       "        vertical-align: top;\n",
       "    }\n",
       "\n",
       "    .dataframe thead th {\n",
       "        text-align: right;\n",
       "    }\n",
       "</style>\n",
       "<table border=\"1\" class=\"dataframe\">\n",
       "  <thead>\n",
       "    <tr style=\"text-align: right;\">\n",
       "      <th></th>\n",
       "      <th>zipcode</th>\n",
       "      <th>borough</th>\n",
       "      <th>year</th>\n",
       "      <th>count</th>\n",
       "    </tr>\n",
       "  </thead>\n",
       "  <tbody>\n",
       "    <tr>\n",
       "      <th>0</th>\n",
       "      <td>10469</td>\n",
       "      <td>BRONX</td>\n",
       "      <td>2022</td>\n",
       "      <td>122</td>\n",
       "    </tr>\n",
       "    <tr>\n",
       "      <th>1</th>\n",
       "      <td>10466</td>\n",
       "      <td>BRONX</td>\n",
       "      <td>2022</td>\n",
       "      <td>119</td>\n",
       "    </tr>\n",
       "    <tr>\n",
       "      <th>2</th>\n",
       "      <td>10463</td>\n",
       "      <td>BRONX</td>\n",
       "      <td>2018</td>\n",
       "      <td>105</td>\n",
       "    </tr>\n",
       "    <tr>\n",
       "      <th>3</th>\n",
       "      <td>10466</td>\n",
       "      <td>BRONX</td>\n",
       "      <td>2021</td>\n",
       "      <td>99</td>\n",
       "    </tr>\n",
       "    <tr>\n",
       "      <th>4</th>\n",
       "      <td>10456</td>\n",
       "      <td>BRONX</td>\n",
       "      <td>2022</td>\n",
       "      <td>98</td>\n",
       "    </tr>\n",
       "  </tbody>\n",
       "</table>\n",
       "</div>"
      ],
      "text/plain": [
       "   zipcode borough  year  count\n",
       "0    10469   BRONX  2022    122\n",
       "1    10466   BRONX  2022    119\n",
       "2    10463   BRONX  2018    105\n",
       "3    10466   BRONX  2021     99\n",
       "4    10456   BRONX  2022     98"
      ]
     },
     "metadata": {},
     "output_type": "display_data"
    },
    {
     "name": "stdout",
     "output_type": "stream",
     "text": [
      "home_values\n"
     ]
    },
    {
     "data": {
      "text/html": [
       "<div>\n",
       "<style scoped>\n",
       "    .dataframe tbody tr th:only-of-type {\n",
       "        vertical-align: middle;\n",
       "    }\n",
       "\n",
       "    .dataframe tbody tr th {\n",
       "        vertical-align: top;\n",
       "    }\n",
       "\n",
       "    .dataframe thead th {\n",
       "        text-align: right;\n",
       "    }\n",
       "</style>\n",
       "<table border=\"1\" class=\"dataframe\">\n",
       "  <thead>\n",
       "    <tr style=\"text-align: right;\">\n",
       "      <th></th>\n",
       "      <th>zipcode</th>\n",
       "      <th>year</th>\n",
       "      <th>borough</th>\n",
       "      <th>home_value</th>\n",
       "    </tr>\n",
       "  </thead>\n",
       "  <tbody>\n",
       "    <tr>\n",
       "      <th>0</th>\n",
       "      <td>10001</td>\n",
       "      <td>2015</td>\n",
       "      <td>MANHATTAN</td>\n",
       "      <td>2280604.000</td>\n",
       "    </tr>\n",
       "    <tr>\n",
       "      <th>1</th>\n",
       "      <td>10001</td>\n",
       "      <td>2016</td>\n",
       "      <td>MANHATTAN</td>\n",
       "      <td>2369453.250</td>\n",
       "    </tr>\n",
       "    <tr>\n",
       "      <th>2</th>\n",
       "      <td>10001</td>\n",
       "      <td>2017</td>\n",
       "      <td>MANHATTAN</td>\n",
       "      <td>2271803.500</td>\n",
       "    </tr>\n",
       "    <tr>\n",
       "      <th>3</th>\n",
       "      <td>10001</td>\n",
       "      <td>2018</td>\n",
       "      <td>MANHATTAN</td>\n",
       "      <td>2351996.833</td>\n",
       "    </tr>\n",
       "    <tr>\n",
       "      <th>4</th>\n",
       "      <td>10001</td>\n",
       "      <td>2019</td>\n",
       "      <td>MANHATTAN</td>\n",
       "      <td>2380720.417</td>\n",
       "    </tr>\n",
       "  </tbody>\n",
       "</table>\n",
       "</div>"
      ],
      "text/plain": [
       "   zipcode  year    borough  home_value\n",
       "0    10001  2015  MANHATTAN 2280604.000\n",
       "1    10001  2016  MANHATTAN 2369453.250\n",
       "2    10001  2017  MANHATTAN 2271803.500\n",
       "3    10001  2018  MANHATTAN 2351996.833\n",
       "4    10001  2019  MANHATTAN 2380720.417"
      ]
     },
     "metadata": {},
     "output_type": "display_data"
    }
   ],
   "source": [
    "print(\"top_zipcodes\")\n",
    "display(top_zipcodes.head())\n",
    "print(\"home_values\")\n",
    "display(home_values.head())"
   ]
  },
  {
   "cell_type": "markdown",
   "id": "e4dd98db",
   "metadata": {},
   "source": [
    "### Merging dataframes"
   ]
  },
  {
   "cell_type": "code",
   "execution_count": 10,
   "id": "e906e75d",
   "metadata": {},
   "outputs": [
    {
     "name": "stdout",
     "output_type": "stream",
     "text": [
      "merged_top_zipcodes\n"
     ]
    },
    {
     "data": {
      "text/html": [
       "<div>\n",
       "<style scoped>\n",
       "    .dataframe tbody tr th:only-of-type {\n",
       "        vertical-align: middle;\n",
       "    }\n",
       "\n",
       "    .dataframe tbody tr th {\n",
       "        vertical-align: top;\n",
       "    }\n",
       "\n",
       "    .dataframe thead th {\n",
       "        text-align: right;\n",
       "    }\n",
       "</style>\n",
       "<table border=\"1\" class=\"dataframe\">\n",
       "  <thead>\n",
       "    <tr style=\"text-align: right;\">\n",
       "      <th></th>\n",
       "      <th>zipcode</th>\n",
       "      <th>borough</th>\n",
       "      <th>year</th>\n",
       "      <th>count</th>\n",
       "      <th>home_value</th>\n",
       "    </tr>\n",
       "  </thead>\n",
       "  <tbody>\n",
       "    <tr>\n",
       "      <th>0</th>\n",
       "      <td>10469</td>\n",
       "      <td>BRONX</td>\n",
       "      <td>2022</td>\n",
       "      <td>122</td>\n",
       "      <td>592184.800</td>\n",
       "    </tr>\n",
       "    <tr>\n",
       "      <th>1</th>\n",
       "      <td>10466</td>\n",
       "      <td>BRONX</td>\n",
       "      <td>2022</td>\n",
       "      <td>119</td>\n",
       "      <td>560980.300</td>\n",
       "    </tr>\n",
       "    <tr>\n",
       "      <th>2</th>\n",
       "      <td>10463</td>\n",
       "      <td>BRONX</td>\n",
       "      <td>2018</td>\n",
       "      <td>105</td>\n",
       "      <td>357383.417</td>\n",
       "    </tr>\n",
       "    <tr>\n",
       "      <th>3</th>\n",
       "      <td>10466</td>\n",
       "      <td>BRONX</td>\n",
       "      <td>2021</td>\n",
       "      <td>99</td>\n",
       "      <td>528377.083</td>\n",
       "    </tr>\n",
       "    <tr>\n",
       "      <th>4</th>\n",
       "      <td>10456</td>\n",
       "      <td>BRONX</td>\n",
       "      <td>2022</td>\n",
       "      <td>98</td>\n",
       "      <td>454902.900</td>\n",
       "    </tr>\n",
       "  </tbody>\n",
       "</table>\n",
       "</div>"
      ],
      "text/plain": [
       "   zipcode borough  year  count  home_value\n",
       "0    10469   BRONX  2022    122  592184.800\n",
       "1    10466   BRONX  2022    119  560980.300\n",
       "2    10463   BRONX  2018    105  357383.417\n",
       "3    10466   BRONX  2021     99  528377.083\n",
       "4    10456   BRONX  2022     98  454902.900"
      ]
     },
     "metadata": {},
     "output_type": "display_data"
    },
    {
     "ename": "NameError",
     "evalue": "name 'merged_reminaing' is not defined",
     "output_type": "error",
     "traceback": [
      "\u001b[1;31m---------------------------------------------------------------------------\u001b[0m",
      "\u001b[1;31mNameError\u001b[0m                                 Traceback (most recent call last)",
      "Cell \u001b[1;32mIn[10], line 6\u001b[0m\n\u001b[0;32m      4\u001b[0m \u001b[38;5;28mprint\u001b[39m(\u001b[38;5;124m\"\u001b[39m\u001b[38;5;124mmerged_top_zipcodes\u001b[39m\u001b[38;5;124m\"\u001b[39m)\n\u001b[0;32m      5\u001b[0m display(merged_top_zipcodes\u001b[38;5;241m.\u001b[39mhead())\n\u001b[1;32m----> 6\u001b[0m \u001b[38;5;28mprint\u001b[39m(\u001b[38;5;124m\"\u001b[39m\u001b[38;5;124mcount:\u001b[39m\u001b[38;5;124m\"\u001b[39m, \u001b[38;5;28mlen\u001b[39m(\u001b[43mmerged_reminaing\u001b[49m))\n",
      "\u001b[1;31mNameError\u001b[0m: name 'merged_reminaing' is not defined"
     ]
    }
   ],
   "source": [
    "merge_cols = [\"year\", \"zipcode\", \"borough\"]\n",
    "merged_top_zipcodes = pd.merge(top_zipcodes, home_values,  how='left', left_on=merge_cols, right_on=merge_cols)\n",
    "merged_top_zipcodes = merged_top_zipcodes.dropna()\n",
    "print(\"merged_top_zipcodes\")\n",
    "display(merged_top_zipcodes.head())\n",
    "print(\"count:\", len(merged_reminaing))"
   ]
  },
  {
   "cell_type": "code",
   "execution_count": null,
   "id": "96a79cd5",
   "metadata": {},
   "outputs": [],
   "source": [
    "# EXPORT\n",
    "# merged_top_zipcodes.to_csv(\"./zipcode_data/mapped_data/top_zipcodes_home_val_mapped.csv\", index=False)\n",
    "# display(merged_top_zipcodes)\n",
    "# print(\"CSV Generated\")"
   ]
  },
  {
   "cell_type": "code",
   "execution_count": null,
   "id": "a0e7a6c6",
   "metadata": {},
   "outputs": [],
   "source": [
    "# Generate Shapiro wilk test for \n",
    "def generate_shapiro_test(df, boro):\n",
    "    data = df[df[\"borough\"] == boro]\n",
    "    shapiro_wilk_data = stats.shapiro(data['home_value'])\n",
    "    return \"{}:::W={}, P={}\".format(boro, shapiro_wilk_data[0], shapiro_wilk_data[1])"
   ]
  },
  {
   "cell_type": "markdown",
   "id": "b8f0734c",
   "metadata": {},
   "source": [
    "### Test for normality"
   ]
  },
  {
   "cell_type": "code",
   "execution_count": null,
   "id": "c9acd7af",
   "metadata": {},
   "outputs": [],
   "source": [
    "boros = top_zipcodes[\"borough\"].unique()\n",
    "[generate_shapiro_test(merged_top_zipcodes, boro) for boro in boros]"
   ]
  },
  {
   "cell_type": "markdown",
   "id": "7fd8a38c",
   "metadata": {},
   "source": [
    "# Merge remaining airbnb zipcode count  to zillow home values\n",
    "Merge remaining zillow zipcodes (excluding top 5) to remaining airbnb count based on\n",
    "- **year, zipcode, and borough**"
   ]
  },
  {
   "cell_type": "markdown",
   "id": "e6376ab2",
   "metadata": {},
   "source": [
    "### Dataframes"
   ]
  },
  {
   "cell_type": "code",
   "execution_count": null,
   "id": "d370a25c",
   "metadata": {},
   "outputs": [],
   "source": [
    "remaining_zipcode_count = pd.read_csv(\"./zipcode_data/unmapped_data/nyc_remaining_zipcode_count.csv\")\n",
    "print(\"remaining_zipcode_count\")\n",
    "display(remaining_zipcode_count.head())\n",
    "print(\"home_values\")\n",
    "display(home_values.head())"
   ]
  },
  {
   "cell_type": "markdown",
   "id": "9228658e",
   "metadata": {},
   "source": [
    "### Merging dataframes"
   ]
  },
  {
   "cell_type": "code",
   "execution_count": null,
   "id": "609dd81a",
   "metadata": {
    "scrolled": false
   },
   "outputs": [],
   "source": [
    "merge_cols = [\"year\", \"zipcode\", \"borough\"]\n",
    "merged_reminaing = remaining_zipcode_count.merge(home_values, indicator=True, how=\"left\", left_on=merge_cols, right_on=merge_cols).drop(columns=['_merge'])\n",
    "merged_reminaing = merged_reminaing.dropna()\n",
    "print(\"merged_reminaing\")\n",
    "display(merged_reminaing.head())\n",
    "print(\"count:\", len(merged_reminaing))"
   ]
  },
  {
   "cell_type": "code",
   "execution_count": null,
   "id": "6c0d2d7f",
   "metadata": {
    "scrolled": true
   },
   "outputs": [],
   "source": [
    "# EXPORT\n",
    "# merged_reminaing.to_csv(\"./zipcode_data/mapped_data/remaining_zipcodes_home_val_mapped.csv\", index=False)\n",
    "# display(merged_reminaing)\n",
    "# print(\"CSV Generated\")"
   ]
  },
  {
   "cell_type": "markdown",
   "id": "20f3d733",
   "metadata": {},
   "source": [
    "# Check for missing home values from remaining zipcodes"
   ]
  },
  {
   "cell_type": "code",
   "execution_count": null,
   "id": "1f6915bc",
   "metadata": {},
   "outputs": [],
   "source": [
    "#Rockerfeller center 10020, check what type of areas we're missing.Look for significant counts andor/ places\n",
    "missing_zipcodes = merged_reminaing[merged_reminaing[\"home_value\"].isnull()]   "
   ]
  },
  {
   "cell_type": "code",
   "execution_count": null,
   "id": "1f21e90d",
   "metadata": {},
   "outputs": [],
   "source": [
    "# EXPORT\n",
    "# missing_zipcodes.to_csv(\"./zipcode_data/missing_home_rent_values/missing_zipcode_home_values.csv\", index=False)\n",
    "# display(missing_zipcodes)\n",
    "# print(\"CSV Generated\")"
   ]
  },
  {
   "cell_type": "code",
   "execution_count": null,
   "id": "56b97aad",
   "metadata": {},
   "outputs": [],
   "source": [
    "def get_boro_missing_zipcodes(df, boro):\n",
    "    missing_boro = df[df[\"borough\"] == boro]\n",
    "    missing_years = missing_boro[\"year\"].unique().tolist()\n",
    "    missing_zipcodes = missing_boro[\"zipcode\"].unique().tolist()\n",
    "    missing_zipcodes.sort();     missing_years.sort()\n",
    "    str1 = \"{}\\nmissing zipcode_count:{}\".format(boro, len(missing_boro))\n",
    "    str2 = \"\\nmissing years: {}\".format(missing_years)\n",
    "    str3 = \"\\nmissing zipcodes:{}\\n\\n\".format(missing_zipcodes)\n",
    "    return str1 + str2 + str3"
   ]
  },
  {
   "cell_type": "markdown",
   "id": "fa71c4db",
   "metadata": {},
   "source": [
    "### Explain in EDA as to why these zipcodes are missing home values and not necessary\n",
    "- So far, **MANHATTAN** has justifiable zipcodes along with parts of **BROOKLYN**\n",
    "- TODO: **BRONX**, **QUEENS**"
   ]
  },
  {
   "cell_type": "code",
   "execution_count": null,
   "id": "0b2954ed",
   "metadata": {},
   "outputs": [],
   "source": [
    "boros = top_zipcodes[\"borough\"].unique()\n",
    "[print(get_boro_missing_zipcodes(missing_zipcodes, boro)) for boro in boros]; display()"
   ]
  }
 ],
 "metadata": {
  "kernelspec": {
   "display_name": "Python 3 (ipykernel)",
   "language": "python",
   "name": "python3"
  },
  "language_info": {
   "codemirror_mode": {
    "name": "ipython",
    "version": 3
   },
   "file_extension": ".py",
   "mimetype": "text/x-python",
   "name": "python",
   "nbconvert_exporter": "python",
   "pygments_lexer": "ipython3",
   "version": "3.11.0"
  },
  "vscode": {
   "interpreter": {
    "hash": "d390166e6a2cd66a717427d4ec4102b1d391ab55312eabea8f2ede5b5421a1f1"
   }
  }
 },
 "nbformat": 4,
 "nbformat_minor": 5
}
