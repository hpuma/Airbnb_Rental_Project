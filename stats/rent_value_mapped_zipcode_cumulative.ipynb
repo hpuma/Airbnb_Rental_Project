{
 "cells": [
  {
   "cell_type": "code",
   "execution_count": 1,
   "id": "4b1408e3",
   "metadata": {},
   "outputs": [],
   "source": [
    "import pandas as pd\n",
    "import numpy as np\n",
    "from scipy import stats"
   ]
  },
  {
   "cell_type": "code",
   "execution_count": 2,
   "id": "caf3734e",
   "metadata": {},
   "outputs": [],
   "source": [
    "# Supress auto scientific notation\n",
    "pd.set_option('display.float_format', lambda x: '%.3f' % x)"
   ]
  },
  {
   "cell_type": "markdown",
   "id": "e324dbf7",
   "metadata": {},
   "source": [
    "# Load Datasets"
   ]
  },
  {
   "cell_type": "markdown",
   "id": "5a825972",
   "metadata": {},
   "source": [
    "### Top airbnb zipcodes throughout nyc  (2015-2022)\n",
    "Get top airbnb zip codes that need to be merged with zillow home values"
   ]
  },
  {
   "cell_type": "code",
   "execution_count": 3,
   "id": "1eeb6c1f",
   "metadata": {},
   "outputs": [
    {
     "data": {
      "text/html": [
       "<div>\n",
       "<style scoped>\n",
       "    .dataframe tbody tr th:only-of-type {\n",
       "        vertical-align: middle;\n",
       "    }\n",
       "\n",
       "    .dataframe tbody tr th {\n",
       "        vertical-align: top;\n",
       "    }\n",
       "\n",
       "    .dataframe thead th {\n",
       "        text-align: right;\n",
       "    }\n",
       "</style>\n",
       "<table border=\"1\" class=\"dataframe\">\n",
       "  <thead>\n",
       "    <tr style=\"text-align: right;\">\n",
       "      <th></th>\n",
       "      <th>zipcode</th>\n",
       "      <th>borough</th>\n",
       "      <th>year</th>\n",
       "      <th>count</th>\n",
       "    </tr>\n",
       "  </thead>\n",
       "  <tbody>\n",
       "    <tr>\n",
       "      <th>0</th>\n",
       "      <td>10469</td>\n",
       "      <td>BRONX</td>\n",
       "      <td>2022</td>\n",
       "      <td>122</td>\n",
       "    </tr>\n",
       "    <tr>\n",
       "      <th>1</th>\n",
       "      <td>10466</td>\n",
       "      <td>BRONX</td>\n",
       "      <td>2022</td>\n",
       "      <td>119</td>\n",
       "    </tr>\n",
       "    <tr>\n",
       "      <th>2</th>\n",
       "      <td>10463</td>\n",
       "      <td>BRONX</td>\n",
       "      <td>2018</td>\n",
       "      <td>105</td>\n",
       "    </tr>\n",
       "    <tr>\n",
       "      <th>3</th>\n",
       "      <td>10466</td>\n",
       "      <td>BRONX</td>\n",
       "      <td>2021</td>\n",
       "      <td>99</td>\n",
       "    </tr>\n",
       "    <tr>\n",
       "      <th>4</th>\n",
       "      <td>10456</td>\n",
       "      <td>BRONX</td>\n",
       "      <td>2022</td>\n",
       "      <td>98</td>\n",
       "    </tr>\n",
       "    <tr>\n",
       "      <th>5</th>\n",
       "      <td>11211</td>\n",
       "      <td>BROOKLYN</td>\n",
       "      <td>2019</td>\n",
       "      <td>6231</td>\n",
       "    </tr>\n",
       "    <tr>\n",
       "      <th>6</th>\n",
       "      <td>11211</td>\n",
       "      <td>BROOKLYN</td>\n",
       "      <td>2018</td>\n",
       "      <td>3227</td>\n",
       "    </tr>\n",
       "    <tr>\n",
       "      <th>7</th>\n",
       "      <td>11211</td>\n",
       "      <td>BROOKLYN</td>\n",
       "      <td>2022</td>\n",
       "      <td>2730</td>\n",
       "    </tr>\n",
       "    <tr>\n",
       "      <th>8</th>\n",
       "      <td>11211</td>\n",
       "      <td>BROOKLYN</td>\n",
       "      <td>2020</td>\n",
       "      <td>2719</td>\n",
       "    </tr>\n",
       "    <tr>\n",
       "      <th>9</th>\n",
       "      <td>11211</td>\n",
       "      <td>BROOKLYN</td>\n",
       "      <td>2017</td>\n",
       "      <td>2645</td>\n",
       "    </tr>\n",
       "    <tr>\n",
       "      <th>10</th>\n",
       "      <td>10009</td>\n",
       "      <td>MANHATTAN</td>\n",
       "      <td>2017</td>\n",
       "      <td>2593</td>\n",
       "    </tr>\n",
       "    <tr>\n",
       "      <th>11</th>\n",
       "      <td>10018</td>\n",
       "      <td>MANHATTAN</td>\n",
       "      <td>2018</td>\n",
       "      <td>2485</td>\n",
       "    </tr>\n",
       "    <tr>\n",
       "      <th>12</th>\n",
       "      <td>10003</td>\n",
       "      <td>MANHATTAN</td>\n",
       "      <td>2017</td>\n",
       "      <td>2184</td>\n",
       "    </tr>\n",
       "    <tr>\n",
       "      <th>13</th>\n",
       "      <td>10013</td>\n",
       "      <td>MANHATTAN</td>\n",
       "      <td>2019</td>\n",
       "      <td>1779</td>\n",
       "    </tr>\n",
       "    <tr>\n",
       "      <th>14</th>\n",
       "      <td>10024</td>\n",
       "      <td>MANHATTAN</td>\n",
       "      <td>2019</td>\n",
       "      <td>1721</td>\n",
       "    </tr>\n",
       "    <tr>\n",
       "      <th>15</th>\n",
       "      <td>11106</td>\n",
       "      <td>QUEENS</td>\n",
       "      <td>2018</td>\n",
       "      <td>648</td>\n",
       "    </tr>\n",
       "    <tr>\n",
       "      <th>16</th>\n",
       "      <td>11103</td>\n",
       "      <td>QUEENS</td>\n",
       "      <td>2017</td>\n",
       "      <td>584</td>\n",
       "    </tr>\n",
       "    <tr>\n",
       "      <th>17</th>\n",
       "      <td>11106</td>\n",
       "      <td>QUEENS</td>\n",
       "      <td>2017</td>\n",
       "      <td>531</td>\n",
       "    </tr>\n",
       "    <tr>\n",
       "      <th>18</th>\n",
       "      <td>11104</td>\n",
       "      <td>QUEENS</td>\n",
       "      <td>2019</td>\n",
       "      <td>465</td>\n",
       "    </tr>\n",
       "    <tr>\n",
       "      <th>19</th>\n",
       "      <td>11103</td>\n",
       "      <td>QUEENS</td>\n",
       "      <td>2018</td>\n",
       "      <td>443</td>\n",
       "    </tr>\n",
       "    <tr>\n",
       "      <th>20</th>\n",
       "      <td>10301</td>\n",
       "      <td>STATEN_ISLAND</td>\n",
       "      <td>2019</td>\n",
       "      <td>212</td>\n",
       "    </tr>\n",
       "    <tr>\n",
       "      <th>21</th>\n",
       "      <td>10301</td>\n",
       "      <td>STATEN_ISLAND</td>\n",
       "      <td>2022</td>\n",
       "      <td>143</td>\n",
       "    </tr>\n",
       "    <tr>\n",
       "      <th>22</th>\n",
       "      <td>10301</td>\n",
       "      <td>STATEN_ISLAND</td>\n",
       "      <td>2021</td>\n",
       "      <td>126</td>\n",
       "    </tr>\n",
       "    <tr>\n",
       "      <th>23</th>\n",
       "      <td>10301</td>\n",
       "      <td>STATEN_ISLAND</td>\n",
       "      <td>2015</td>\n",
       "      <td>124</td>\n",
       "    </tr>\n",
       "    <tr>\n",
       "      <th>24</th>\n",
       "      <td>10301</td>\n",
       "      <td>STATEN_ISLAND</td>\n",
       "      <td>2016</td>\n",
       "      <td>118</td>\n",
       "    </tr>\n",
       "  </tbody>\n",
       "</table>\n",
       "</div>"
      ],
      "text/plain": [
       "    zipcode        borough  year  count\n",
       "0     10469          BRONX  2022    122\n",
       "1     10466          BRONX  2022    119\n",
       "2     10463          BRONX  2018    105\n",
       "3     10466          BRONX  2021     99\n",
       "4     10456          BRONX  2022     98\n",
       "5     11211       BROOKLYN  2019   6231\n",
       "6     11211       BROOKLYN  2018   3227\n",
       "7     11211       BROOKLYN  2022   2730\n",
       "8     11211       BROOKLYN  2020   2719\n",
       "9     11211       BROOKLYN  2017   2645\n",
       "10    10009      MANHATTAN  2017   2593\n",
       "11    10018      MANHATTAN  2018   2485\n",
       "12    10003      MANHATTAN  2017   2184\n",
       "13    10013      MANHATTAN  2019   1779\n",
       "14    10024      MANHATTAN  2019   1721\n",
       "15    11106         QUEENS  2018    648\n",
       "16    11103         QUEENS  2017    584\n",
       "17    11106         QUEENS  2017    531\n",
       "18    11104         QUEENS  2019    465\n",
       "19    11103         QUEENS  2018    443\n",
       "20    10301  STATEN_ISLAND  2019    212\n",
       "21    10301  STATEN_ISLAND  2022    143\n",
       "22    10301  STATEN_ISLAND  2021    126\n",
       "23    10301  STATEN_ISLAND  2015    124\n",
       "24    10301  STATEN_ISLAND  2016    118"
      ]
     },
     "metadata": {},
     "output_type": "display_data"
    }
   ],
   "source": [
    "top_zipcodes = pd.read_csv(\"./zipcode_data/unmapped_data/nyc_top_zipcodes_count.csv\")\n",
    "display(top_zipcodes)"
   ]
  },
  {
   "cell_type": "code",
   "execution_count": 4,
   "id": "d6ec6af9",
   "metadata": {},
   "outputs": [],
   "source": [
    "# EXPORT\n",
    "# top_zipcodes.to_csv(\"./zipcode_data/nyc_top_zipcodes_all_years.csv\", index=False)\n",
    "# display(top_zipcodes)\n",
    "# print(\"CSV Generated\")"
   ]
  },
  {
   "cell_type": "markdown",
   "id": "0e95198c",
   "metadata": {},
   "source": [
    "### Rent values (2002-2022)\n",
    "Get rent values for each zipcode in nyc"
   ]
  },
  {
   "cell_type": "code",
   "execution_count": 5,
   "id": "5fa78b99",
   "metadata": {},
   "outputs": [],
   "source": [
    "rent_vals = pd.read_csv('../data/clean/nyc_rental_prices.csv', low_memory=False)"
   ]
  },
  {
   "cell_type": "code",
   "execution_count": 6,
   "id": "550095de",
   "metadata": {},
   "outputs": [],
   "source": [
    "# EXPORT\n",
    "# rent_vals.to_csv(\"../data/clean/nyc_rental_prices.csv\", index=False)\n",
    "# display(rent_vals)\n",
    "# print(\"CSV Generated\")"
   ]
  },
  {
   "cell_type": "markdown",
   "id": "93aebe2e",
   "metadata": {},
   "source": [
    "### Compute yearly mean\n",
    "Group by **zipcode, year, and borough** to compute the average for home_value for each zipcode on a yearly basis. Entry amount stays the same."
   ]
  },
  {
   "cell_type": "code",
   "execution_count": 7,
   "id": "370bbe19",
   "metadata": {
    "scrolled": true
   },
   "outputs": [],
   "source": [
    "rent_vals = rent_vals.groupby([\"zipcode\", \"year\", \"borough\"])[\"rent\"].mean().to_frame().reset_index()"
   ]
  },
  {
   "cell_type": "markdown",
   "id": "d1c88425",
   "metadata": {},
   "source": [
    "# Merge airbnb top zipcode count count to zillow rent values\n",
    "Merge all the top 5 zipcodes for each borough to their appropriate rent values based on\n",
    "- **year, zipcode, and borough**"
   ]
  },
  {
   "cell_type": "markdown",
   "id": "a549097a",
   "metadata": {},
   "source": [
    "### Dataframes"
   ]
  },
  {
   "cell_type": "code",
   "execution_count": 8,
   "id": "fc24c5b7",
   "metadata": {
    "scrolled": false
   },
   "outputs": [
    {
     "name": "stdout",
     "output_type": "stream",
     "text": [
      "top_zipcodes\n"
     ]
    },
    {
     "data": {
      "text/html": [
       "<div>\n",
       "<style scoped>\n",
       "    .dataframe tbody tr th:only-of-type {\n",
       "        vertical-align: middle;\n",
       "    }\n",
       "\n",
       "    .dataframe tbody tr th {\n",
       "        vertical-align: top;\n",
       "    }\n",
       "\n",
       "    .dataframe thead th {\n",
       "        text-align: right;\n",
       "    }\n",
       "</style>\n",
       "<table border=\"1\" class=\"dataframe\">\n",
       "  <thead>\n",
       "    <tr style=\"text-align: right;\">\n",
       "      <th></th>\n",
       "      <th>zipcode</th>\n",
       "      <th>borough</th>\n",
       "      <th>year</th>\n",
       "      <th>count</th>\n",
       "    </tr>\n",
       "  </thead>\n",
       "  <tbody>\n",
       "    <tr>\n",
       "      <th>0</th>\n",
       "      <td>10469</td>\n",
       "      <td>BRONX</td>\n",
       "      <td>2022</td>\n",
       "      <td>122</td>\n",
       "    </tr>\n",
       "    <tr>\n",
       "      <th>1</th>\n",
       "      <td>10466</td>\n",
       "      <td>BRONX</td>\n",
       "      <td>2022</td>\n",
       "      <td>119</td>\n",
       "    </tr>\n",
       "    <tr>\n",
       "      <th>2</th>\n",
       "      <td>10463</td>\n",
       "      <td>BRONX</td>\n",
       "      <td>2018</td>\n",
       "      <td>105</td>\n",
       "    </tr>\n",
       "    <tr>\n",
       "      <th>3</th>\n",
       "      <td>10466</td>\n",
       "      <td>BRONX</td>\n",
       "      <td>2021</td>\n",
       "      <td>99</td>\n",
       "    </tr>\n",
       "    <tr>\n",
       "      <th>4</th>\n",
       "      <td>10456</td>\n",
       "      <td>BRONX</td>\n",
       "      <td>2022</td>\n",
       "      <td>98</td>\n",
       "    </tr>\n",
       "  </tbody>\n",
       "</table>\n",
       "</div>"
      ],
      "text/plain": [
       "   zipcode borough  year  count\n",
       "0    10469   BRONX  2022    122\n",
       "1    10466   BRONX  2022    119\n",
       "2    10463   BRONX  2018    105\n",
       "3    10466   BRONX  2021     99\n",
       "4    10456   BRONX  2022     98"
      ]
     },
     "metadata": {},
     "output_type": "display_data"
    },
    {
     "name": "stdout",
     "output_type": "stream",
     "text": [
      "rent_vals\n"
     ]
    },
    {
     "data": {
      "text/html": [
       "<div>\n",
       "<style scoped>\n",
       "    .dataframe tbody tr th:only-of-type {\n",
       "        vertical-align: middle;\n",
       "    }\n",
       "\n",
       "    .dataframe tbody tr th {\n",
       "        vertical-align: top;\n",
       "    }\n",
       "\n",
       "    .dataframe thead th {\n",
       "        text-align: right;\n",
       "    }\n",
       "</style>\n",
       "<table border=\"1\" class=\"dataframe\">\n",
       "  <thead>\n",
       "    <tr style=\"text-align: right;\">\n",
       "      <th></th>\n",
       "      <th>zipcode</th>\n",
       "      <th>year</th>\n",
       "      <th>borough</th>\n",
       "      <th>rent</th>\n",
       "    </tr>\n",
       "  </thead>\n",
       "  <tbody>\n",
       "    <tr>\n",
       "      <th>0</th>\n",
       "      <td>7020</td>\n",
       "      <td>2022</td>\n",
       "      <td>QUEENS</td>\n",
       "      <td>2741.000</td>\n",
       "    </tr>\n",
       "    <tr>\n",
       "      <th>1</th>\n",
       "      <td>10001</td>\n",
       "      <td>2015</td>\n",
       "      <td>MANHATTAN</td>\n",
       "      <td>4010.000</td>\n",
       "    </tr>\n",
       "    <tr>\n",
       "      <th>2</th>\n",
       "      <td>10001</td>\n",
       "      <td>2016</td>\n",
       "      <td>MANHATTAN</td>\n",
       "      <td>4022.983</td>\n",
       "    </tr>\n",
       "    <tr>\n",
       "      <th>3</th>\n",
       "      <td>10001</td>\n",
       "      <td>2017</td>\n",
       "      <td>MANHATTAN</td>\n",
       "      <td>3958.383</td>\n",
       "    </tr>\n",
       "    <tr>\n",
       "      <th>4</th>\n",
       "      <td>10001</td>\n",
       "      <td>2018</td>\n",
       "      <td>MANHATTAN</td>\n",
       "      <td>4001.067</td>\n",
       "    </tr>\n",
       "  </tbody>\n",
       "</table>\n",
       "</div>"
      ],
      "text/plain": [
       "   zipcode  year    borough     rent\n",
       "0     7020  2022     QUEENS 2741.000\n",
       "1    10001  2015  MANHATTAN 4010.000\n",
       "2    10001  2016  MANHATTAN 4022.983\n",
       "3    10001  2017  MANHATTAN 3958.383\n",
       "4    10001  2018  MANHATTAN 4001.067"
      ]
     },
     "metadata": {},
     "output_type": "display_data"
    }
   ],
   "source": [
    "print(\"top_zipcodes\")\n",
    "display(top_zipcodes.head())\n",
    "print(\"rent_vals\")\n",
    "display(rent_vals.head())"
   ]
  },
  {
   "cell_type": "markdown",
   "id": "e4dd98db",
   "metadata": {},
   "source": [
    "### Merging dataframes"
   ]
  },
  {
   "cell_type": "code",
   "execution_count": 9,
   "id": "e906e75d",
   "metadata": {},
   "outputs": [
    {
     "name": "stdout",
     "output_type": "stream",
     "text": [
      "merged_top_zipcodes\n"
     ]
    },
    {
     "data": {
      "text/html": [
       "<div>\n",
       "<style scoped>\n",
       "    .dataframe tbody tr th:only-of-type {\n",
       "        vertical-align: middle;\n",
       "    }\n",
       "\n",
       "    .dataframe tbody tr th {\n",
       "        vertical-align: top;\n",
       "    }\n",
       "\n",
       "    .dataframe thead th {\n",
       "        text-align: right;\n",
       "    }\n",
       "</style>\n",
       "<table border=\"1\" class=\"dataframe\">\n",
       "  <thead>\n",
       "    <tr style=\"text-align: right;\">\n",
       "      <th></th>\n",
       "      <th>zipcode</th>\n",
       "      <th>borough</th>\n",
       "      <th>year</th>\n",
       "      <th>count</th>\n",
       "      <th>rent</th>\n",
       "    </tr>\n",
       "  </thead>\n",
       "  <tbody>\n",
       "    <tr>\n",
       "      <th>0</th>\n",
       "      <td>10469</td>\n",
       "      <td>BRONX</td>\n",
       "      <td>2022</td>\n",
       "      <td>122</td>\n",
       "      <td>1883.011</td>\n",
       "    </tr>\n",
       "    <tr>\n",
       "      <th>1</th>\n",
       "      <td>10466</td>\n",
       "      <td>BRONX</td>\n",
       "      <td>2022</td>\n",
       "      <td>119</td>\n",
       "      <td>1934.625</td>\n",
       "    </tr>\n",
       "    <tr>\n",
       "      <th>2</th>\n",
       "      <td>10463</td>\n",
       "      <td>BRONX</td>\n",
       "      <td>2018</td>\n",
       "      <td>105</td>\n",
       "      <td>2308.025</td>\n",
       "    </tr>\n",
       "    <tr>\n",
       "      <th>4</th>\n",
       "      <td>10456</td>\n",
       "      <td>BRONX</td>\n",
       "      <td>2022</td>\n",
       "      <td>98</td>\n",
       "      <td>2235.944</td>\n",
       "    </tr>\n",
       "    <tr>\n",
       "      <th>5</th>\n",
       "      <td>11211</td>\n",
       "      <td>BROOKLYN</td>\n",
       "      <td>2019</td>\n",
       "      <td>6231</td>\n",
       "      <td>3335.467</td>\n",
       "    </tr>\n",
       "  </tbody>\n",
       "</table>\n",
       "</div>"
      ],
      "text/plain": [
       "   zipcode   borough  year  count     rent\n",
       "0    10469     BRONX  2022    122 1883.011\n",
       "1    10466     BRONX  2022    119 1934.625\n",
       "2    10463     BRONX  2018    105 2308.025\n",
       "4    10456     BRONX  2022     98 2235.944\n",
       "5    11211  BROOKLYN  2019   6231 3335.467"
      ]
     },
     "metadata": {},
     "output_type": "display_data"
    },
    {
     "name": "stdout",
     "output_type": "stream",
     "text": [
      "count: 19\n"
     ]
    }
   ],
   "source": [
    "merge_cols = [\"year\", \"zipcode\", \"borough\"]\n",
    "merged_top_zipcodes = pd.merge(top_zipcodes, rent_vals,  how='left', left_on=merge_cols, right_on=merge_cols)\n",
    "merged_top_zipcodes = merged_top_zipcodes.dropna()\n",
    "print(\"merged_top_zipcodes\")\n",
    "display(merged_top_zipcodes.head())\n",
    "print(\"count:\", len(merged_top_zipcodes))"
   ]
  },
  {
   "cell_type": "code",
   "execution_count": 10,
   "id": "6f60e38f",
   "metadata": {},
   "outputs": [],
   "source": [
    "merged_top_zipcodes = merged_top_zipcodes.groupby([\"zipcode\", \"borough\", \"year\"])[[\"rent\", \"count\"]].mean().reset_index()"
   ]
  },
  {
   "cell_type": "code",
   "execution_count": 11,
   "id": "61ca81f3",
   "metadata": {},
   "outputs": [],
   "source": [
    "# merged_top_zipcodes.to_csv(\"../stats/zipcode_data/mapped_data/top_zipcodes_rent_val_mapped.csv\", index=False)\n",
    "# display(merged_top_zipcodes)\n",
    "# print(\"CSV Generated\")"
   ]
  },
  {
   "cell_type": "markdown",
   "id": "7fd8a38c",
   "metadata": {},
   "source": [
    "# Merge remaining airbnb zipcode count  to rent values\n",
    "Merge remaining zillow zipcodes (excluding top 5) to remaining airbnb count based on\n",
    "- **year, zipcode, and borough**"
   ]
  },
  {
   "cell_type": "markdown",
   "id": "e6376ab2",
   "metadata": {},
   "source": [
    "### Dataframes"
   ]
  },
  {
   "cell_type": "code",
   "execution_count": 12,
   "id": "d370a25c",
   "metadata": {},
   "outputs": [
    {
     "name": "stdout",
     "output_type": "stream",
     "text": [
      "remaining_zipcode_count\n"
     ]
    },
    {
     "data": {
      "text/html": [
       "<div>\n",
       "<style scoped>\n",
       "    .dataframe tbody tr th:only-of-type {\n",
       "        vertical-align: middle;\n",
       "    }\n",
       "\n",
       "    .dataframe tbody tr th {\n",
       "        vertical-align: top;\n",
       "    }\n",
       "\n",
       "    .dataframe thead th {\n",
       "        text-align: right;\n",
       "    }\n",
       "</style>\n",
       "<table border=\"1\" class=\"dataframe\">\n",
       "  <thead>\n",
       "    <tr style=\"text-align: right;\">\n",
       "      <th></th>\n",
       "      <th>zipcode</th>\n",
       "      <th>borough</th>\n",
       "      <th>year</th>\n",
       "      <th>count</th>\n",
       "    </tr>\n",
       "  </thead>\n",
       "  <tbody>\n",
       "    <tr>\n",
       "      <th>0</th>\n",
       "      <td>10001</td>\n",
       "      <td>MANHATTAN</td>\n",
       "      <td>2015</td>\n",
       "      <td>350</td>\n",
       "    </tr>\n",
       "    <tr>\n",
       "      <th>1</th>\n",
       "      <td>10001</td>\n",
       "      <td>MANHATTAN</td>\n",
       "      <td>2016</td>\n",
       "      <td>666</td>\n",
       "    </tr>\n",
       "    <tr>\n",
       "      <th>2</th>\n",
       "      <td>10001</td>\n",
       "      <td>MANHATTAN</td>\n",
       "      <td>2017</td>\n",
       "      <td>418</td>\n",
       "    </tr>\n",
       "    <tr>\n",
       "      <th>3</th>\n",
       "      <td>10001</td>\n",
       "      <td>MANHATTAN</td>\n",
       "      <td>2018</td>\n",
       "      <td>491</td>\n",
       "    </tr>\n",
       "    <tr>\n",
       "      <th>4</th>\n",
       "      <td>10001</td>\n",
       "      <td>MANHATTAN</td>\n",
       "      <td>2019</td>\n",
       "      <td>275</td>\n",
       "    </tr>\n",
       "  </tbody>\n",
       "</table>\n",
       "</div>"
      ],
      "text/plain": [
       "   zipcode    borough  year  count\n",
       "0    10001  MANHATTAN  2015    350\n",
       "1    10001  MANHATTAN  2016    666\n",
       "2    10001  MANHATTAN  2017    418\n",
       "3    10001  MANHATTAN  2018    491\n",
       "4    10001  MANHATTAN  2019    275"
      ]
     },
     "metadata": {},
     "output_type": "display_data"
    },
    {
     "name": "stdout",
     "output_type": "stream",
     "text": [
      "rent_vals\n"
     ]
    },
    {
     "data": {
      "text/html": [
       "<div>\n",
       "<style scoped>\n",
       "    .dataframe tbody tr th:only-of-type {\n",
       "        vertical-align: middle;\n",
       "    }\n",
       "\n",
       "    .dataframe tbody tr th {\n",
       "        vertical-align: top;\n",
       "    }\n",
       "\n",
       "    .dataframe thead th {\n",
       "        text-align: right;\n",
       "    }\n",
       "</style>\n",
       "<table border=\"1\" class=\"dataframe\">\n",
       "  <thead>\n",
       "    <tr style=\"text-align: right;\">\n",
       "      <th></th>\n",
       "      <th>zipcode</th>\n",
       "      <th>year</th>\n",
       "      <th>borough</th>\n",
       "      <th>rent</th>\n",
       "    </tr>\n",
       "  </thead>\n",
       "  <tbody>\n",
       "    <tr>\n",
       "      <th>0</th>\n",
       "      <td>7020</td>\n",
       "      <td>2022</td>\n",
       "      <td>QUEENS</td>\n",
       "      <td>2741.000</td>\n",
       "    </tr>\n",
       "    <tr>\n",
       "      <th>1</th>\n",
       "      <td>10001</td>\n",
       "      <td>2015</td>\n",
       "      <td>MANHATTAN</td>\n",
       "      <td>4010.000</td>\n",
       "    </tr>\n",
       "    <tr>\n",
       "      <th>2</th>\n",
       "      <td>10001</td>\n",
       "      <td>2016</td>\n",
       "      <td>MANHATTAN</td>\n",
       "      <td>4022.983</td>\n",
       "    </tr>\n",
       "    <tr>\n",
       "      <th>3</th>\n",
       "      <td>10001</td>\n",
       "      <td>2017</td>\n",
       "      <td>MANHATTAN</td>\n",
       "      <td>3958.383</td>\n",
       "    </tr>\n",
       "    <tr>\n",
       "      <th>4</th>\n",
       "      <td>10001</td>\n",
       "      <td>2018</td>\n",
       "      <td>MANHATTAN</td>\n",
       "      <td>4001.067</td>\n",
       "    </tr>\n",
       "  </tbody>\n",
       "</table>\n",
       "</div>"
      ],
      "text/plain": [
       "   zipcode  year    borough     rent\n",
       "0     7020  2022     QUEENS 2741.000\n",
       "1    10001  2015  MANHATTAN 4010.000\n",
       "2    10001  2016  MANHATTAN 4022.983\n",
       "3    10001  2017  MANHATTAN 3958.383\n",
       "4    10001  2018  MANHATTAN 4001.067"
      ]
     },
     "metadata": {},
     "output_type": "display_data"
    }
   ],
   "source": [
    "remaining_zipcode_count = pd.read_csv(\"./zipcode_data/unmapped_data/nyc_remaining_zipcode_count.csv\")\n",
    "print(\"remaining_zipcode_count\")\n",
    "display(remaining_zipcode_count.head())\n",
    "print(\"rent_vals\")\n",
    "display(rent_vals.head())"
   ]
  },
  {
   "cell_type": "markdown",
   "id": "9228658e",
   "metadata": {},
   "source": [
    "### Merging dataframes"
   ]
  },
  {
   "cell_type": "code",
   "execution_count": 13,
   "id": "609dd81a",
   "metadata": {
    "scrolled": true
   },
   "outputs": [
    {
     "name": "stdout",
     "output_type": "stream",
     "text": [
      "merged_reminaing\n"
     ]
    },
    {
     "data": {
      "text/html": [
       "<div>\n",
       "<style scoped>\n",
       "    .dataframe tbody tr th:only-of-type {\n",
       "        vertical-align: middle;\n",
       "    }\n",
       "\n",
       "    .dataframe tbody tr th {\n",
       "        vertical-align: top;\n",
       "    }\n",
       "\n",
       "    .dataframe thead th {\n",
       "        text-align: right;\n",
       "    }\n",
       "</style>\n",
       "<table border=\"1\" class=\"dataframe\">\n",
       "  <thead>\n",
       "    <tr style=\"text-align: right;\">\n",
       "      <th></th>\n",
       "      <th>zipcode</th>\n",
       "      <th>borough</th>\n",
       "      <th>year</th>\n",
       "      <th>count</th>\n",
       "      <th>rent</th>\n",
       "    </tr>\n",
       "  </thead>\n",
       "  <tbody>\n",
       "    <tr>\n",
       "      <th>0</th>\n",
       "      <td>10001</td>\n",
       "      <td>MANHATTAN</td>\n",
       "      <td>2015</td>\n",
       "      <td>350</td>\n",
       "      <td>4010.000</td>\n",
       "    </tr>\n",
       "    <tr>\n",
       "      <th>1</th>\n",
       "      <td>10001</td>\n",
       "      <td>MANHATTAN</td>\n",
       "      <td>2016</td>\n",
       "      <td>666</td>\n",
       "      <td>4022.983</td>\n",
       "    </tr>\n",
       "    <tr>\n",
       "      <th>2</th>\n",
       "      <td>10001</td>\n",
       "      <td>MANHATTAN</td>\n",
       "      <td>2017</td>\n",
       "      <td>418</td>\n",
       "      <td>3958.383</td>\n",
       "    </tr>\n",
       "    <tr>\n",
       "      <th>3</th>\n",
       "      <td>10001</td>\n",
       "      <td>MANHATTAN</td>\n",
       "      <td>2018</td>\n",
       "      <td>491</td>\n",
       "      <td>4001.067</td>\n",
       "    </tr>\n",
       "    <tr>\n",
       "      <th>4</th>\n",
       "      <td>10001</td>\n",
       "      <td>MANHATTAN</td>\n",
       "      <td>2019</td>\n",
       "      <td>275</td>\n",
       "      <td>4145.267</td>\n",
       "    </tr>\n",
       "  </tbody>\n",
       "</table>\n",
       "</div>"
      ],
      "text/plain": [
       "   zipcode    borough  year  count     rent\n",
       "0    10001  MANHATTAN  2015    350 4010.000\n",
       "1    10001  MANHATTAN  2016    666 4022.983\n",
       "2    10001  MANHATTAN  2017    418 3958.383\n",
       "3    10001  MANHATTAN  2018    491 4001.067\n",
       "4    10001  MANHATTAN  2019    275 4145.267"
      ]
     },
     "metadata": {},
     "output_type": "display_data"
    },
    {
     "name": "stdout",
     "output_type": "stream",
     "text": [
      "count: 732\n"
     ]
    }
   ],
   "source": [
    "merge_cols = [\"year\", \"zipcode\", \"borough\"]\n",
    "merged_reminaing = remaining_zipcode_count.merge(rent_vals, indicator=True, how=\"left\", left_on=merge_cols, right_on=merge_cols).drop(columns=['_merge'])\n",
    "merged_reminaing = merged_reminaing.dropna()\n",
    "print(\"merged_reminaing\")\n",
    "display(merged_reminaing.head())\n",
    "print(\"count:\", len(merged_reminaing))"
   ]
  },
  {
   "cell_type": "code",
   "execution_count": 14,
   "id": "b21d0c2e",
   "metadata": {},
   "outputs": [],
   "source": [
    "merged_reminaing = merged_reminaing.groupby([\"zipcode\", \"borough\", \"year\"])[[\"rent\", \"count\"]].mean().reset_index()"
   ]
  },
  {
   "cell_type": "code",
   "execution_count": 15,
   "id": "2a9f3009",
   "metadata": {},
   "outputs": [],
   "source": [
    "# merged_reminaing.to_csv(\"./zipcode_data/mapped_data/remaining_zipcodes_rent_val_mapped.csv\", index=False)\n",
    "# display(merged_reminaing)\n",
    "# print(\"CSV Generated\")"
   ]
  },
  {
   "cell_type": "markdown",
   "id": "20f3d733",
   "metadata": {},
   "source": [
    "# Check for missing home values from remaining zipcodes"
   ]
  },
  {
   "cell_type": "code",
   "execution_count": 16,
   "id": "1f6915bc",
   "metadata": {},
   "outputs": [],
   "source": [
    "#Rockerfeller center 10020, check what type of areas we're missing.Look for significant counts andor/ places\n",
    "missing_zipcodes = merged_reminaing[merged_reminaing[\"rent\"].isnull()]   "
   ]
  },
  {
   "cell_type": "code",
   "execution_count": 17,
   "id": "27d31c3e",
   "metadata": {},
   "outputs": [],
   "source": [
    "# EXPORT\n",
    "# missing_zipcodes.to_csv(\"./zipcode_data/missing_home_rent_values/missing_zipcode_rent_values.csv\", index=False)\n",
    "# display(missing_zipcodes)\n",
    "# print(\"CSV Generated\")"
   ]
  },
  {
   "cell_type": "code",
   "execution_count": 18,
   "id": "56b97aad",
   "metadata": {},
   "outputs": [],
   "source": [
    "def get_boro_missing_zipcodes(df, boro):\n",
    "    missing_boro = df[df[\"borough\"] == boro]\n",
    "    missing_years = missing_boro[\"year\"].unique().tolist()\n",
    "    missing_zipcodes = missing_boro[\"zipcode\"].unique().tolist()\n",
    "    missing_zipcodes.sort();     missing_years.sort()\n",
    "    str1 = \"{}\\nmissing zipcode_count:{}\".format(boro, len(missing_boro))\n",
    "    str2 = \"\\nmissing years: {}\".format(missing_years)\n",
    "    str3 = \"\\nmissing zipcodes:{}\\n\\n\".format(missing_zipcodes)\n",
    "    return str1 + str2 + str3"
   ]
  },
  {
   "cell_type": "markdown",
   "id": "fa71c4db",
   "metadata": {},
   "source": [
    "### Explain in EDA as to why these zipcodes are missing home values and not necessary\n",
    "- So far, **MANHATTAN** has justifiable zipcodes along with parts of **BROOKLYN**\n",
    "- TODO: **BRONX**, **QUEENS**"
   ]
  },
  {
   "cell_type": "code",
   "execution_count": 19,
   "id": "0b2954ed",
   "metadata": {
    "scrolled": false
   },
   "outputs": [
    {
     "name": "stdout",
     "output_type": "stream",
     "text": [
      "BRONX\n",
      "missing zipcode_count:0\n",
      "missing years: []\n",
      "missing zipcodes:[]\n",
      "\n",
      "\n",
      "BROOKLYN\n",
      "missing zipcode_count:0\n",
      "missing years: []\n",
      "missing zipcodes:[]\n",
      "\n",
      "\n",
      "MANHATTAN\n",
      "missing zipcode_count:0\n",
      "missing years: []\n",
      "missing zipcodes:[]\n",
      "\n",
      "\n",
      "QUEENS\n",
      "missing zipcode_count:0\n",
      "missing years: []\n",
      "missing zipcodes:[]\n",
      "\n",
      "\n",
      "STATEN_ISLAND\n",
      "missing zipcode_count:0\n",
      "missing years: []\n",
      "missing zipcodes:[]\n",
      "\n",
      "\n"
     ]
    }
   ],
   "source": [
    "boros = top_zipcodes[\"borough\"].unique()\n",
    "[print(get_boro_missing_zipcodes(missing_zipcodes, boro)) for boro in boros]; display()"
   ]
  }
 ],
 "metadata": {
  "kernelspec": {
   "display_name": "Python 3 (ipykernel)",
   "language": "python",
   "name": "python3"
  },
  "language_info": {
   "codemirror_mode": {
    "name": "ipython",
    "version": 3
   },
   "file_extension": ".py",
   "mimetype": "text/x-python",
   "name": "python",
   "nbconvert_exporter": "python",
   "pygments_lexer": "ipython3",
   "version": "3.11.0"
  },
  "vscode": {
   "interpreter": {
    "hash": "d390166e6a2cd66a717427d4ec4102b1d391ab55312eabea8f2ede5b5421a1f1"
   }
  }
 },
 "nbformat": 4,
 "nbformat_minor": 5
}
