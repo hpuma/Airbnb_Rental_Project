{
 "cells": [
  {
   "cell_type": "code",
   "execution_count": 1,
   "id": "8584de93",
   "metadata": {},
   "outputs": [],
   "source": [
    "import requests\n",
    "from bs4 import BeautifulSoup\n",
    "from datetime import datetime, timedelta"
   ]
  },
  {
   "cell_type": "code",
   "execution_count": 2,
   "id": "ddaa3aab",
   "metadata": {},
   "outputs": [],
   "source": [
    "def scrape_page(page_url):\n",
    "    \"\"\"Extracts HTML from a webpage\"\"\" \n",
    "    answer = requests.get(page_url)\n",
    "    content = answer.content\n",
    "    soup = BeautifulSoup(content, features='html.parser')\n",
    "\n",
    "    return soup"
   ]
  },
  {
   "cell_type": "code",
   "execution_count": 3,
   "id": "0a5a2faa",
   "metadata": {},
   "outputs": [],
   "source": [
    "def extract_listing(page_url):\n",
    "    \"\"\"Extracts listings from an Airbnb search page\"\"\"\n",
    "    page_soup = scrape_page(page_url)\n",
    "    formatted_date =  datetime.fromtimestamp(datetime.now().timestamp())\n",
    "    print(\"Extracted Data:\\t\",formatted_date)\n",
    "    return page_soup"
   ]
  },
  {
   "cell_type": "code",
   "execution_count": 112,
   "id": "bb6fd5c1",
   "metadata": {},
   "outputs": [
    {
     "name": "stdout",
     "output_type": "stream",
     "text": [
      "Extracted Data:\t 2022-11-11 03:39:04.554501\n"
     ]
    }
   ],
   "source": [
    "page_url = \"https://www.airbnb.com/s/New-York/homes?place_id=ChIJOwg_06VPwokRYv534QaPC8g&refinement_paths%5B%5D=%2Fhomes&flexible_trip_dates%5B%5D=november&flexible_trip_dates%5B%5D=december&flexible_trip_dates%5B%5D=january&flexible_trip_dates%5B%5D=february&flexible_trip_dates%5B%5D=march&flexible_trip_dates%5B%5D=april&flexible_trip_dates%5B%5D=may&flexible_trip_dates%5B%5D=june&flexible_trip_dates%5B%5D=july&flexible_trip_dates%5B%5D=august&flexible_trip_dates%5B%5D=september&flexible_trip_dates%5B%5D=october&flexible_trip_lengths%5B%5D=weekend_trip&date_picker_type=flexible_dates&adults=0&children=0&infants=0&pets=0&search_type=AUTOSUGGEST\"\n",
    "soup = extract_listing(page_url)"
   ]
  },
  {
   "cell_type": "code",
   "execution_count": 113,
   "id": "2dbeaa50",
   "metadata": {},
   "outputs": [],
   "source": [
    "# Target_div \n",
    "# g1qv1ctd cb4nyux dir dir-ltr"
   ]
  },
  {
   "cell_type": "code",
   "execution_count": 114,
   "id": "4592cb52",
   "metadata": {},
   "outputs": [],
   "source": [
    "outer = soup.find_all(\"div\", {\"class\": \"g1qv1ctd cb4nyux dir dir-ltr\"}) # Most outer div\n",
    "data = []"
   ]
  },
  {
   "cell_type": "code",
   "execution_count": 115,
   "id": "4a5c0972",
   "metadata": {},
   "outputs": [
    {
     "name": "stdout",
     "output_type": "stream",
     "text": [
      "{'title': 'Private room in New York', 'description': 'Minimal room 4 SofaBed + loft bed in Manhattan', 'num_beds': '2 beds', 'price_val': '$73', 'price_per_night': '$73 per night', 'average_rating_num_rating': '4.47 (112)'}\n",
      "{'title': 'Apartment in New York', 'description': '✨Love SUITE & SPA | private outdoor HOT TUB', 'num_beds': '1 queen bed', 'price_val': '$119', 'price_per_night': '$119 per night', 'average_rating_num_rating': '4.98 (160)'}\n",
      "{'title': 'Apartment in New York', 'description': 'Tranquility Suite: Upper West Side (UWS) 1 Bedroom', 'num_beds': '1 bed', 'price_val': '$125', 'price_per_night': '$125 per night', 'average_rating_num_rating': '4.92 (48)'}\n",
      "{'title': 'Private room in New York', 'description': 'spacious chelsea room', 'num_beds': '1 double bed', 'price_val': '$76', 'price_per_night': '$76 per night', 'average_rating_num_rating': '4.9 (95)'}\n",
      "{'title': 'Private room in New York', 'description': '[Manhattan Heart] 800m to Time Square/Broadway', 'num_beds': '1 bed', 'price_val': '$129', 'price_per_night': '$129 per night, originally $150', 'average_rating_num_rating': '4.86 (14)'}\n",
      "{'title': 'Apartment in New York', 'description': 'Gramercy park Apartment (2beds)', 'num_beds': '2 beds', 'price_val': '$95', 'price_per_night': '$95 per night', 'average_rating_num_rating': '4.54 (109)'}\n",
      "{'title': 'Condo in New York', 'description': \"A tourist's dream! Sunny condo in the heart of NY\", 'num_beds': '1 bed', 'price_val': '$150', 'price_per_night': '$150 per night, originally $180', 'average_rating_num_rating': '4.71 (14)'}\n",
      "{'title': 'Private room in New York', 'description': 'Lovely Private Room in Manhattan, NYC', 'num_beds': '1 bed', 'price_val': '$80', 'price_per_night': '$80 per night', 'average_rating_num_rating': 'New'}\n",
      "{'title': 'Apartment in New York', 'description': 'Guest Room with 1 King Bed at Holiday Inn New York City Wall Street', 'num_beds': '1 king bed', 'price_val': '$129', 'price_per_night': '$129 per night', 'average_rating_num_rating': '4.75 (4)'}\n",
      "{'title': 'Private room in New York', 'description': 'Near Gramercy Park/ Private Entrance', 'num_beds': '1 double bed', 'price_val': '$65', 'price_per_night': '$65 per night, originally $75', 'average_rating_num_rating': '4.41 (115)'}\n",
      "{'title': 'Private room in Brooklyn', 'description': \"Cozy, quiet room in artist's apartment\", 'num_beds': '1 single bed', 'price_val': '$49', 'price_per_night': '$49 per night', 'average_rating_num_rating': '4.78 (117)'}\n",
      "{'title': 'Apartment in New York', 'description': 'Beautiful Midtown studio with a view', 'num_beds': '1 bed', 'price_val': '$199', 'price_per_night': '$199 per night', 'average_rating_num_rating': '5.0 (7)'}\n",
      "{'title': 'Private room in New York', 'description': 'A Quiet Room in the West Village', 'num_beds': '1 queen bed', 'price_val': '$100', 'price_per_night': '$100 per night', 'average_rating_num_rating': '4.9 (314)'}\n",
      "{'title': 'Hotel room in New York', 'description': 'Right in the center of Times Square/Broadway Show', 'num_beds': '1 queen bed', 'price_val': '$146', 'price_per_night': '$146 per night', 'average_rating_num_rating': '4.31 (45)'}\n",
      "{'title': 'Apartment in Brooklyn', 'description': 'Amazing &Artsy PRIME location!Entire unit.', 'num_beds': '2 beds', 'price_val': '$98', 'price_per_night': '$98 per night', 'average_rating_num_rating': '4.86 (90)'}\n",
      "{'title': 'Private room in New York', 'description': \"Large Furnished Room Near B'way\\u3000\", 'num_beds': '1 queen bed', 'price_val': '$68', 'price_per_night': '$68 per night', 'average_rating_num_rating': '4.23 (556)'}\n",
      "{'title': 'Private room in New York', 'description': 'East Village Charm', 'num_beds': '1 bed', 'price_val': '$85', 'price_per_night': '$85 per night', 'average_rating_num_rating': '4.84 (221)'}\n",
      "{'title': 'Apartment in New York', 'description': 'Cozy Studio in Gramercy park', 'num_beds': '1 double bed', 'price_val': '$92', 'price_per_night': '$92 per night', 'average_rating_num_rating': '4.64 (118)'}\n",
      "{'title': 'Private room in New York', 'description': 'Private room with Shared bath on Union Square 1', 'num_beds': '2 beds', 'price_val': '$85', 'price_per_night': '$85 per night', 'average_rating_num_rating': '4.43 (49)'}\n",
      "{'title': 'Apartment in New York', 'description': 'Lovely studio unit with Jacuzzi', 'num_beds': '1 bed', 'price_val': '$113', 'price_per_night': '$113 per night', 'average_rating_num_rating': '4.93 (15)'}\n"
     ]
    }
   ],
   "source": [
    "for x in outer:\n",
    "    title = x.find(\"div\", {\"class\": \"t1jojoys dir dir-ltr\"}) # title\n",
    "    description = x.find(\"span\", {\"class\": \"t6mzqp7 dir dir-ltr\"}) # Span description\n",
    "    num_beds = x.find(\"span\", {\"class\": \"dir dir-ltr\"}) # div num beds\n",
    "    price_val = x.find(\"span\", {\"class\": \"_tyxjp1\"}) # price_val\n",
    "    price_per_night = x.find(\"span\", {\"class\": \"a8jt5op dir dir-ltr\"}) # price per night\n",
    "    average_rating_num_rating = x.find(\"span\", {\"class\": \"r1dxllyb dir dir-ltr\"}) # Average rating and num of ratings\n",
    "    \n",
    "    bundle = {\n",
    "        \"title\": title.contents[0],\n",
    "        \"description\": description.contents[0],\n",
    "        \"num_beds\": num_beds.contents[0],\n",
    "        \"price_val\": price_val.contents[0],\n",
    "        \"price_per_night\": price_per_night.contents[0],\n",
    "        \"average_rating_num_rating\": average_rating_num_rating.contents[0]\n",
    "    }\n",
    "    print(bundle,sep=\"----\\n\\n\")\n"
   ]
  },
  {
   "cell_type": "code",
   "execution_count": null,
   "id": "c57c5660",
   "metadata": {},
   "outputs": [],
   "source": []
  }
 ],
 "metadata": {
  "kernelspec": {
   "display_name": "Python 3",
   "language": "python",
   "name": "python3"
  },
  "language_info": {
   "codemirror_mode": {
    "name": "ipython",
    "version": 3
   },
   "file_extension": ".py",
   "mimetype": "text/x-python",
   "name": "python",
   "nbconvert_exporter": "python",
   "pygments_lexer": "ipython3",
   "version": "3.8.8"
  }
 },
 "nbformat": 4,
 "nbformat_minor": 5
}
