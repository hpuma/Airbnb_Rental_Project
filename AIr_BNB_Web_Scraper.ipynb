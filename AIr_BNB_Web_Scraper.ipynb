{
 "cells": [
  {
   "cell_type": "code",
   "execution_count": 315,
   "id": "8584de93",
   "metadata": {},
   "outputs": [],
   "source": [
    "import requests\n",
    "from bs4 import BeautifulSoup\n",
    "from datetime import datetime, timedelta\n",
    "import pandas as pd\n",
    "import numpy as np\n",
    "import random"
   ]
  },
  {
   "cell_type": "code",
   "execution_count": 316,
   "id": "d31ca5f1",
   "metadata": {},
   "outputs": [
    {
     "name": "stdout",
     "output_type": "stream",
     "text": [
      "Requirement already satisfied: bs4 in /opt/conda/lib/python3.8/site-packages (0.0.1)\n",
      "Requirement already satisfied: beautifulsoup4 in /opt/conda/lib/python3.8/site-packages (from bs4) (4.11.1)\n",
      "Requirement already satisfied: soupsieve>1.2 in /opt/conda/lib/python3.8/site-packages (from beautifulsoup4->bs4) (2.3.2.post1)\n"
     ]
    }
   ],
   "source": [
    "!pip install bs4"
   ]
  },
  {
   "cell_type": "code",
   "execution_count": 317,
   "id": "ddaa3aab",
   "metadata": {},
   "outputs": [],
   "source": [
    "def scrape_page(page_url):\n",
    "    \"\"\"Extracts HTML from a webpage\"\"\" \n",
    "    answer = requests.get(page_url)\n",
    "    content = answer.content\n",
    "    soup = BeautifulSoup(content, features='html.parser')\n",
    "    return soup"
   ]
  },
  {
   "cell_type": "code",
   "execution_count": 318,
   "id": "0a5a2faa",
   "metadata": {},
   "outputs": [],
   "source": [
    "def extract_listing(page_url):\n",
    "    \"\"\"Extracts listings from an Airbnb search page\"\"\"\n",
    "    page_soup = scrape_page(page_url)\n",
    "    formatted_date =  datetime.fromtimestamp(datetime.now().timestamp())\n",
    "    print(\"Extracted Data:\\t\",formatted_date)\n",
    "    return page_soup"
   ]
  },
  {
   "cell_type": "code",
   "execution_count": 319,
   "id": "daee5eec",
   "metadata": {},
   "outputs": [],
   "source": [
    "def process_anchors(className, anchors, printData):   \n",
    "    overall_data = {}\n",
    "    if printData:\n",
    "        print(\"FOR className={}:\".format(className))\n",
    "        print(\"ANCHOR_TEXT::\\tANCHOR_DATA\")\n",
    "    for anchor in anchors:\n",
    "        text, data = get_anchor_data(anchor)\n",
    "        if printData:\n",
    "            print(\"{}::\\t{}\".format(text,data))\n",
    "        overall_data[text] = data\n",
    "    return overall_data\n",
    "\n",
    "def get_anchor_data(anchor):\n",
    "    text= anchor.get(\"aria-label\") if anchor.get_text() == \"\" else anchor.get_text()\n",
    "    data = anchor.get(\"href\")\n",
    "    return text, data"
   ]
  },
  {
   "cell_type": "code",
   "execution_count": 320,
   "id": "93bf8e35",
   "metadata": {},
   "outputs": [],
   "source": [
    "def extract_anchors(soup, classes, printData=False):       \n",
    "    processed_classes = [process_anchors(className, soup.find_all(\"a\", {\"class\": className}), printData) for className in classes]\n",
    "    if not len(processed_classes):\n",
    "        raise ValueError(\"processed_anchors empty!\")\n",
    "    print(\"DONE\")\n",
    "    return processed_classes"
   ]
  },
  {
   "cell_type": "code",
   "execution_count": 321,
   "id": "bb6fd5c1",
   "metadata": {},
   "outputs": [
    {
     "name": "stdout",
     "output_type": "stream",
     "text": [
      "Extracted Data:\t 2022-11-22 04:30:01.593342\n"
     ]
    }
   ],
   "source": [
    "#Url to scrape\n",
    "page_url = \"https://www.airbnb.com/s/New-York/homes?place_id=ChIJOwg_06VPwokRYv534QaPC8g&refinement_paths%5B%5D=%2Fhomes&flexible_trip_dates%5B%5D=november&flexible_trip_dates%5B%5D=december&flexible_trip_dates%5B%5D=january&flexible_trip_dates%5B%5D=february&flexible_trip_dates%5B%5D=march&flexible_trip_dates%5B%5D=april&flexible_trip_dates%5B%5D=may&flexible_trip_dates%5B%5D=june&flexible_trip_dates%5B%5D=july&flexible_trip_dates%5B%5D=august&flexible_trip_dates%5B%5D=september&flexible_trip_dates%5B%5D=october&flexible_trip_lengths%5B%5D=weekend_trip&date_picker_type=flexible_dates&adults=0&children=0&infants=0&pets=0&search_type=AUTOSUGGEST\"\n",
    "\n",
    "# Extract html page\n",
    "soup = extract_listing(page_url)"
   ]
  },
  {
   "cell_type": "code",
   "execution_count": 322,
   "id": "0327f882",
   "metadata": {
    "scrolled": true
   },
   "outputs": [
    {
     "name": "stdout",
     "output_type": "stream",
     "text": [
      "DONE\n"
     ]
    }
   ],
   "source": [
    "button_classes = [\"_833p2h\", \"_1bfat5l\"]\n",
    "anchor_data = extract_anchors(soup, button_classes)"
   ]
  },
  {
   "cell_type": "code",
   "execution_count": 323,
   "id": "1946c412",
   "metadata": {},
   "outputs": [],
   "source": [
    "def get_urls(anchor_data):\n",
    "    number_anchors = anchor_data[0]\n",
    "    next_anchor = anchor_data[1]\n",
    "    base_url = \"https://www.airbnb.com\"\n",
    "    urls = [\"https://www.airbnb.com/s/New-York/homes?place_id=ChIJOwg_06VPwokRYv534QaPC8g&refinement_paths%5B%5D=%2Fhomes&flexible_trip_dates%5B%5D=november&flexible_trip_dates%5B%5D=december&flexible_trip_dates%5B%5D=january&flexible_trip_dates%5B%5D=february&flexible_trip_dates%5B%5D=march&flexible_trip_dates%5B%5D=april&flexible_trip_dates%5B%5D=may&flexible_trip_dates%5B%5D=june&flexible_trip_dates%5B%5D=july&flexible_trip_dates%5B%5D=august&flexible_trip_dates%5B%5D=september&flexible_trip_dates%5B%5D=october&flexible_trip_lengths%5B%5D=weekend_trip&date_picker_type=flexible_dates&adults=0&children=0&infants=0&pets=0&search_type=AUTOSUGGEST\"] \n",
    "    for key, value in number_anchors.items():\n",
    "        urls.append(str(base_url + number_anchors[key]))\n",
    "    next_url =  str(base_url + next_anchor[\"Next\"])\n",
    "    return urls"
   ]
  },
  {
   "cell_type": "code",
   "execution_count": 324,
   "id": "6377f2ff",
   "metadata": {},
   "outputs": [],
   "source": [
    "urls = get_urls(anchor_data)"
   ]
  },
  {
   "cell_type": "code",
   "execution_count": 325,
   "id": "0c250219",
   "metadata": {},
   "outputs": [
    {
     "data": {
      "text/plain": [
       "['https://www.airbnb.com/s/New-York/homes?place_id=ChIJOwg_06VPwokRYv534QaPC8g&refinement_paths%5B%5D=%2Fhomes&flexible_trip_dates%5B%5D=november&flexible_trip_dates%5B%5D=december&flexible_trip_dates%5B%5D=january&flexible_trip_dates%5B%5D=february&flexible_trip_dates%5B%5D=march&flexible_trip_dates%5B%5D=april&flexible_trip_dates%5B%5D=may&flexible_trip_dates%5B%5D=june&flexible_trip_dates%5B%5D=july&flexible_trip_dates%5B%5D=august&flexible_trip_dates%5B%5D=september&flexible_trip_dates%5B%5D=october&flexible_trip_lengths%5B%5D=weekend_trip&date_picker_type=flexible_dates&adults=0&children=0&infants=0&pets=0&search_type=AUTOSUGGEST',\n",
       " 'https://www.airbnb.com/s/New-York/homes?place_id=ChIJOwg_06VPwokRYv534QaPC8g&refinement_paths%5B%5D=%2Fhomes&flexible_trip_dates%5B%5D=april&flexible_trip_dates%5B%5D=august&flexible_trip_dates%5B%5D=december&flexible_trip_dates%5B%5D=february&flexible_trip_dates%5B%5D=january&flexible_trip_dates%5B%5D=july&flexible_trip_dates%5B%5D=june&flexible_trip_dates%5B%5D=march&flexible_trip_dates%5B%5D=may&flexible_trip_dates%5B%5D=november&flexible_trip_dates%5B%5D=october&flexible_trip_dates%5B%5D=september&flexible_trip_lengths%5B%5D=weekend_trip&date_picker_type=flexible_dates&search_type=AUTOSUGGEST&tab_id=home_tab&query=New%20York&price_filter_input_type=0&price_filter_num_nights=2&federated_search_session_id=7b940181-9bd0-4de7-bb34-a70a31017fa5&pagination_search=true&cursor=eyJzZWN0aW9uX29mZnNldCI6MiwiaXRlbXNfb2Zmc2V0IjoyMCwidmVyc2lvbiI6MX0%3D',\n",
       " 'https://www.airbnb.com/s/New-York/homes?place_id=ChIJOwg_06VPwokRYv534QaPC8g&refinement_paths%5B%5D=%2Fhomes&flexible_trip_dates%5B%5D=april&flexible_trip_dates%5B%5D=august&flexible_trip_dates%5B%5D=december&flexible_trip_dates%5B%5D=february&flexible_trip_dates%5B%5D=january&flexible_trip_dates%5B%5D=july&flexible_trip_dates%5B%5D=june&flexible_trip_dates%5B%5D=march&flexible_trip_dates%5B%5D=may&flexible_trip_dates%5B%5D=november&flexible_trip_dates%5B%5D=october&flexible_trip_dates%5B%5D=september&flexible_trip_lengths%5B%5D=weekend_trip&date_picker_type=flexible_dates&search_type=AUTOSUGGEST&tab_id=home_tab&query=New%20York&price_filter_input_type=0&price_filter_num_nights=2&federated_search_session_id=7b940181-9bd0-4de7-bb34-a70a31017fa5&pagination_search=true&cursor=eyJzZWN0aW9uX29mZnNldCI6MiwiaXRlbXNfb2Zmc2V0Ijo0MCwidmVyc2lvbiI6MX0%3D',\n",
       " 'https://www.airbnb.com/s/New-York/homes?place_id=ChIJOwg_06VPwokRYv534QaPC8g&refinement_paths%5B%5D=%2Fhomes&flexible_trip_dates%5B%5D=april&flexible_trip_dates%5B%5D=august&flexible_trip_dates%5B%5D=december&flexible_trip_dates%5B%5D=february&flexible_trip_dates%5B%5D=january&flexible_trip_dates%5B%5D=july&flexible_trip_dates%5B%5D=june&flexible_trip_dates%5B%5D=march&flexible_trip_dates%5B%5D=may&flexible_trip_dates%5B%5D=november&flexible_trip_dates%5B%5D=october&flexible_trip_dates%5B%5D=september&flexible_trip_lengths%5B%5D=weekend_trip&date_picker_type=flexible_dates&search_type=AUTOSUGGEST&tab_id=home_tab&query=New%20York&price_filter_input_type=0&price_filter_num_nights=2&federated_search_session_id=7b940181-9bd0-4de7-bb34-a70a31017fa5&pagination_search=true&cursor=eyJzZWN0aW9uX29mZnNldCI6MiwiaXRlbXNfb2Zmc2V0Ijo2MCwidmVyc2lvbiI6MX0%3D',\n",
       " 'https://www.airbnb.com/s/New-York/homes?place_id=ChIJOwg_06VPwokRYv534QaPC8g&refinement_paths%5B%5D=%2Fhomes&flexible_trip_dates%5B%5D=april&flexible_trip_dates%5B%5D=august&flexible_trip_dates%5B%5D=december&flexible_trip_dates%5B%5D=february&flexible_trip_dates%5B%5D=january&flexible_trip_dates%5B%5D=july&flexible_trip_dates%5B%5D=june&flexible_trip_dates%5B%5D=march&flexible_trip_dates%5B%5D=may&flexible_trip_dates%5B%5D=november&flexible_trip_dates%5B%5D=october&flexible_trip_dates%5B%5D=september&flexible_trip_lengths%5B%5D=weekend_trip&date_picker_type=flexible_dates&search_type=AUTOSUGGEST&tab_id=home_tab&query=New%20York&price_filter_input_type=0&price_filter_num_nights=2&federated_search_session_id=7b940181-9bd0-4de7-bb34-a70a31017fa5&pagination_search=true&cursor=eyJzZWN0aW9uX29mZnNldCI6MiwiaXRlbXNfb2Zmc2V0IjoyODAsInZlcnNpb24iOjF9']"
      ]
     },
     "execution_count": 325,
     "metadata": {},
     "output_type": "execute_result"
    }
   ],
   "source": [
    "urls"
   ]
  },
  {
   "cell_type": "code",
   "execution_count": 326,
   "id": "a0eb51d1",
   "metadata": {},
   "outputs": [
    {
     "name": "stdout",
     "output_type": "stream",
     "text": [
      "Extracted Data:\t 2022-11-22 04:30:03.285098\n",
      "Extracted Data:\t 2022-11-22 04:30:04.581487\n",
      "Extracted Data:\t 2022-11-22 04:30:05.892860\n",
      "Extracted Data:\t 2022-11-22 04:30:07.986073\n",
      "Extracted Data:\t 2022-11-22 04:30:09.288517\n"
     ]
    }
   ],
   "source": [
    "soups =  [extract_listing(url) for url in urls]"
   ]
  },
  {
   "cell_type": "code",
   "execution_count": 327,
   "id": "c21da34a",
   "metadata": {},
   "outputs": [],
   "source": [
    "listing_pages = [soup.find_all(\"div\", {\"class\": \"g1qv1ctd cb4nyux dir dir-ltr\"}) for soup in soups]"
   ]
  },
  {
   "cell_type": "code",
   "execution_count": 328,
   "id": "1c53c605",
   "metadata": {},
   "outputs": [],
   "source": [
    "def extract_listing_data(listing):\n",
    "    listing_data = {}\n",
    "    listing_data[\"title\"] = listing.find(\"div\", {\"class\": \"t1jojoys dir dir-ltr\"}).contents[0] # title\n",
    "    listing_data[\"description\"] = listing.find(\"span\", {\"class\": \"t6mzqp7 dir dir-ltr\"}).contents[0] # Span description\n",
    "    listing_data[\"num_bed\"] = listing.find(\"span\", {\"class\": \"dir dir-ltr\"}).contents[0] # div num beds\n",
    "    listing_data[\"price_val\"] = listing.find(\"span\", {\"class\": \"_tyxjp1\"}).contents[0] # price_val\n",
    "    price_per_night_data = listing.find(\"span\", {\"class\": \"a8jt5op dir dir-ltr\"}).contents[0] # price per night\n",
    "    listing_data[\"price_per_night\"] = \" \".join(str(s) for s in price_per_night_data)\n",
    "    listing_data[\"average_rating_num_rating\"] = listing.find(\"span\", {\"class\": \"r1dxllyb dir dir-ltr\"}).contents[0] if listing.find(\"span\", {\"class\": \"r1dxllyb dir dir-ltr\"}) else \"NONE\"  # Average rating and num of ratings\n",
    "    \n",
    "    return listing_data"
   ]
  },
  {
   "cell_type": "code",
   "execution_count": 329,
   "id": "4a5c0972",
   "metadata": {},
   "outputs": [],
   "source": [
    "def get_df_data(listing_pages):\n",
    "    df_data = list()\n",
    "    for listings in listing_pages:\n",
    "    # Containers used to store div data\n",
    "        a = []\n",
    "        b = []\n",
    "        c = []\n",
    "        d = []\n",
    "        e = []\n",
    "        f = []\n",
    "        for listing in listings:\n",
    "            listing_data = extract_listing_data(listing)\n",
    "            a.append(listing_data[\"title\"])\n",
    "            b.append(listing_data[\"description\"])\n",
    "            c.append(listing_data[\"num_bed\"])\n",
    "            d.append(listing_data[\"price_val\"])\n",
    "            e.append(listing_data[\"price_per_night\"])\n",
    "            f.append(listing_data[\"average_rating_num_rating\"])\n",
    "        df_data.append({\n",
    "            \"title\": a,\n",
    "            \"description\": b,\n",
    "            \"num_beds\": c ,\n",
    "            \"price_val\": d ,\n",
    "            \"price_per_night\": e,\n",
    "            \"average_rating_num_rating\": f\n",
    "        })\n",
    "        print(\"Processed soup: {}\".format(len(df_data)))\n",
    "    return df_data"
   ]
  },
  {
   "cell_type": "code",
   "execution_count": 330,
   "id": "6562db55",
   "metadata": {},
   "outputs": [
    {
     "name": "stdout",
     "output_type": "stream",
     "text": [
      "Processed soup: 1\n",
      "Processed soup: 2\n",
      "Processed soup: 3\n",
      "Processed soup: 4\n",
      "Processed soup: 5\n"
     ]
    }
   ],
   "source": [
    "df_data = get_df_data(listing_pages) "
   ]
  },
  {
   "cell_type": "code",
   "execution_count": 332,
   "id": "f6aa2f96",
   "metadata": {},
   "outputs": [
    {
     "name": "stdout",
     "output_type": "stream",
     "text": [
      "Generated_file: data__1__31795517795597892881540672643605775433.csv\n",
      "Generated_file: data__2__104957571114765982144869969930715074396.csv\n",
      "Generated_file: data__3__101110249331255956243337430045466564266.csv\n",
      "Generated_file: data__4__81442602203516615734056991693959166110.csv\n",
      "Generated_file: data__5__63430756976567569162947827422023531925.csv\n"
     ]
    }
   ],
   "source": [
    "count=1\n",
    "for i in df_data:\n",
    "    file_name = \"data__{}__{}.csv\".format(count, random.getrandbits(128))\n",
    "    pd.DataFrame(i).to_csv(file_name)\n",
    "    print(\"Generated_file: {}\".format(file_name))\n",
    "    count+=1"
   ]
  },
  {
   "cell_type": "code",
   "execution_count": null,
   "id": "f95c1dde",
   "metadata": {},
   "outputs": [],
   "source": []
  }
 ],
 "metadata": {
  "kernelspec": {
   "display_name": "Python 3",
   "language": "python",
   "name": "python3"
  },
  "language_info": {
   "codemirror_mode": {
    "name": "ipython",
    "version": 3
   },
   "file_extension": ".py",
   "mimetype": "text/x-python",
   "name": "python",
   "nbconvert_exporter": "python",
   "pygments_lexer": "ipython3",
   "version": "3.8.8"
  }
 },
 "nbformat": 4,
 "nbformat_minor": 5
}
