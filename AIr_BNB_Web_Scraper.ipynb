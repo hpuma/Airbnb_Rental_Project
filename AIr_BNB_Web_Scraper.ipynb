{
 "cells": [
  {
   "cell_type": "code",
   "execution_count": 7,
   "id": "8584de93",
   "metadata": {},
   "outputs": [],
   "source": [
    "import requests\n",
    "from bs4 import BeautifulSoup\n",
    "from datetime import datetime, timedelta"
   ]
  },
  {
   "cell_type": "code",
   "execution_count": 6,
   "id": "d31ca5f1",
   "metadata": {},
   "outputs": [
    {
     "name": "stdout",
     "output_type": "stream",
     "text": [
      "Collecting bs4\n",
      "  Downloading bs4-0.0.1.tar.gz (1.1 kB)\n",
      "Collecting beautifulsoup4\n",
      "  Using cached beautifulsoup4-4.11.1-py3-none-any.whl (128 kB)\n",
      "Collecting soupsieve>1.2\n",
      "  Using cached soupsieve-2.3.2.post1-py3-none-any.whl (37 kB)\n",
      "Building wheels for collected packages: bs4\n",
      "  Building wheel for bs4 (setup.py) ... \u001b[?25ldone\n",
      "\u001b[?25h  Created wheel for bs4: filename=bs4-0.0.1-py3-none-any.whl size=1273 sha256=36660442cf8b984f78594ad54c5332d880087c00e8475b8deeb0ac39843d6cd9\n",
      "  Stored in directory: /home/jovyan/.cache/pip/wheels/75/78/21/68b124549c9bdc94f822c02fb9aa3578a669843f9767776bca\n",
      "Successfully built bs4\n",
      "Installing collected packages: soupsieve, beautifulsoup4, bs4\n",
      "Successfully installed beautifulsoup4-4.11.1 bs4-0.0.1 soupsieve-2.3.2.post1\n"
     ]
    }
   ],
   "source": [
    "# !pip install bs4"
   ]
  },
  {
   "cell_type": "code",
   "execution_count": 8,
   "id": "ddaa3aab",
   "metadata": {},
   "outputs": [],
   "source": [
    "def scrape_page(page_url):\n",
    "    \"\"\"Extracts HTML from a webpage\"\"\" \n",
    "    answer = requests.get(page_url)\n",
    "    content = answer.content\n",
    "    soup = BeautifulSoup(content, features='html.parser')\n",
    "\n",
    "    return soup"
   ]
  },
  {
   "cell_type": "code",
   "execution_count": 9,
   "id": "0a5a2faa",
   "metadata": {},
   "outputs": [],
   "source": [
    "def extract_listing(page_url):\n",
    "    \"\"\"Extracts listings from an Airbnb search page\"\"\"\n",
    "    page_soup = scrape_page(page_url)\n",
    "    formatted_date =  datetime.fromtimestamp(datetime.now().timestamp())\n",
    "    print(\"Extracted Data:\\t\",formatted_date)\n",
    "    return page_soup"
   ]
  },
  {
   "cell_type": "code",
   "execution_count": 10,
   "id": "bb6fd5c1",
   "metadata": {},
   "outputs": [
    {
     "name": "stdout",
     "output_type": "stream",
     "text": [
      "Extracted Data:\t 2022-11-16 02:06:10.963081\n"
     ]
    }
   ],
   "source": [
    "#Url to scrape\n",
    "page_url = \"https://www.airbnb.com/s/New-York/homes?place_id=ChIJOwg_06VPwokRYv534QaPC8g&refinement_paths%5B%5D=%2Fhomes&flexible_trip_dates%5B%5D=november&flexible_trip_dates%5B%5D=december&flexible_trip_dates%5B%5D=january&flexible_trip_dates%5B%5D=february&flexible_trip_dates%5B%5D=march&flexible_trip_dates%5B%5D=april&flexible_trip_dates%5B%5D=may&flexible_trip_dates%5B%5D=june&flexible_trip_dates%5B%5D=july&flexible_trip_dates%5B%5D=august&flexible_trip_dates%5B%5D=september&flexible_trip_dates%5B%5D=october&flexible_trip_lengths%5B%5D=weekend_trip&date_picker_type=flexible_dates&adults=0&children=0&infants=0&pets=0&search_type=AUTOSUGGEST\"\n",
    "\n",
    "# Extract html page\n",
    "soup = extract_listing(page_url)"
   ]
  },
  {
   "cell_type": "code",
   "execution_count": 25,
   "id": "4592cb52",
   "metadata": {},
   "outputs": [],
   "source": [
    "# Get the outer most element containing the listings\n",
    "listings = soup.find_all(\"div\", {\"class\": \"g1qv1ctd cb4nyux dir dir-ltr\"}) # Most outer div\n",
    "data = []"
   ]
  },
  {
   "cell_type": "code",
   "execution_count": 26,
   "id": "4a5c0972",
   "metadata": {},
   "outputs": [
    {
     "name": "stdout",
     "output_type": "stream",
     "text": [
      "{'title': 'Private room in New York', 'description': 'Near Gramercy Park/ Private Entrance', 'num_beds': '1 double bed', 'price_val': '$60', 'price_per_night': '$60 per night, originally $75', 'average_rating_num_rating': '4.41 (115)'}\n",
      "{'title': 'Hotel room in New York', 'description': 'Staypineapple New York, Fashionista King', 'num_beds': '1 king bed', 'price_val': '$157', 'price_per_night': '$157 per night, originally $196', 'average_rating_num_rating': '4.74 (272)'}\n",
      "{'title': 'Apartment in New York', 'description': 'UNTITLED at Freeman - Queen Studio 915', 'num_beds': '1 queen bed', 'price_val': '$180', 'price_per_night': '$180 per night, originally $225', 'average_rating_num_rating': '4.9 (42)'}\n",
      "{'title': 'Private room in New York', 'description': 'spacious chelsea room', 'num_beds': '1 double bed', 'price_val': '$77', 'price_per_night': '$77 per night', 'average_rating_num_rating': '4.9 (95)'}\n",
      "{'title': 'Private room in New York', 'description': 'Minimal room 1 SofaBed + loft bed in Manhattan', 'num_beds': '2 beds', 'price_val': '$68', 'price_per_night': '$68 per night, originally $75', 'average_rating_num_rating': '4.57 (123)'}\n",
      "{'title': 'Private room in New York', 'description': 'Chic Designer’s Room & 2 Beds in Manhattan LES', 'num_beds': '2 beds', 'price_val': '$95', 'price_per_night': '$95 per night', 'average_rating_num_rating': '4.57 (355)'}\n",
      "{'title': 'Private room in New York', 'description': \"Near Times Square and Hell's Kitchen\", 'num_beds': '2 beds', 'price_val': '$120', 'price_per_night': '$120 per night', 'average_rating_num_rating': '4.75 (576)'}\n",
      "{'title': 'Apartment in New York', 'description': 'Guest Room with 1 King Bed at Holiday Inn New York City Wall Street', 'num_beds': '1 king bed', 'price_val': '$129', 'price_per_night': '$129 per night', 'average_rating_num_rating': '4.75 (4)'}\n",
      "{'title': 'Private room in New York', 'description': 'LARGE BEDROOM CLOSE TO MANHATTAN', 'num_beds': 'Jan 13 – 15', 'price_val': '$47', 'price_per_night': '$47 per night', 'average_rating_num_rating': '4.67 (73)'}\n",
      "{'title': 'Apartment in New York', 'description': 'Gramercy park Apartment (2beds)', 'num_beds': '2 beds', 'price_val': '$90', 'price_per_night': '$90 per night', 'average_rating_num_rating': '4.53 (110)'}\n",
      "{'title': 'Condo in New York', 'description': \"A tourist's dream! Sunny condo in the heart of NY\", 'num_beds': '1 bed', 'price_val': '$150', 'price_per_night': '$150 per night, originally $180', 'average_rating_num_rating': '4.6 (15)'}\n",
      "{'title': 'Private room in New York', 'description': '[Manhattan Heart] 800m to Time Square/Broadway', 'num_beds': '1 bed', 'price_val': '$130', 'price_per_night': '$130 per night, originally $150', 'average_rating_num_rating': '4.87 (15)'}\n",
      "{'title': 'Private room in Brooklyn', 'description': \"Cozy, quiet room in artist's apartment\", 'num_beds': '1 single bed', 'price_val': '$49', 'price_per_night': '$49 per night', 'average_rating_num_rating': '4.78 (119)'}\n",
      "{'title': 'Private room in New York', 'description': 'East Village Charm', 'num_beds': '1 bed', 'price_val': '$85', 'price_per_night': '$85 per night', 'average_rating_num_rating': '4.84 (221)'}\n",
      "{'title': 'Private room in New York', 'description': \"Large Furnished Room Near B'way\\u3000\", 'num_beds': '1 queen bed', 'price_val': '$68', 'price_per_night': '$68 per night', 'average_rating_num_rating': '4.23 (556)'}\n",
      "{'title': 'Private room in New York', 'description': 'Bedroom in Chinatown/Little Italy', 'num_beds': '1 queen bed', 'price_val': '$105', 'price_per_night': '$105 per night, originally $137', 'average_rating_num_rating': '4.87 (15)'}\n",
      "{'title': 'Apartment in New York', 'description': 'Cozy Studio in Gramercy park', 'num_beds': '1 double bed', 'price_val': '$92', 'price_per_night': '$92 per night', 'average_rating_num_rating': '4.64 (118)'}\n",
      "{'title': 'Apartment in Brooklyn', 'description': 'Amazing &Artsy PRIME location!Entire unit.', 'num_beds': '2 beds', 'price_val': '$98', 'price_per_night': '$98 per night', 'average_rating_num_rating': '4.86 (91)'}\n",
      "{'title': 'Apartment in New York', 'description': 'Upper West - Chic Studio', 'num_beds': '1 bed', 'price_val': '$101', 'price_per_night': '$101 per night', 'average_rating_num_rating': '4.9 (21)'}\n",
      "{'title': 'Private room in New York', 'description': 'Cozy Chelsea Apt Great Location', 'num_beds': '1 single bed', 'price_val': '$85', 'price_per_night': '$85 per night', 'average_rating_num_rating': '4.76 (120)'}\n"
     ]
    }
   ],
   "source": [
    "# Iterate through each listing element and extract necessary elements that contain the necessary fields e.g \"title\", \"price\" etc\n",
    "for x in listings:\n",
    "    title = x.find(\"div\", {\"class\": \"t1jojoys dir dir-ltr\"}) # title\n",
    "    description = x.find(\"span\", {\"class\": \"t6mzqp7 dir dir-ltr\"}) # Span description\n",
    "    num_beds = x.find(\"span\", {\"class\": \"dir dir-ltr\"}) # div num beds\n",
    "    price_val = x.find(\"span\", {\"class\": \"_tyxjp1\"}) # price_val\n",
    "    price_per_night = x.find(\"span\", {\"class\": \"a8jt5op dir dir-ltr\"}) # price per night\n",
    "    average_rating_num_rating = x.find(\"span\", {\"class\": \"r1dxllyb dir dir-ltr\"}) # Average rating and num of ratings\n",
    "    \n",
    "    # Bundle into one object and add to a dataframe\n",
    "    bundle = {\n",
    "        \"title\": title.contents[0],\n",
    "        \"description\": description.contents[0],\n",
    "        \"num_beds\": num_beds.contents[0],\n",
    "        \"price_val\": price_val.contents[0],\n",
    "        \"price_per_night\": price_per_night.contents[0],\n",
    "        \"average_rating_num_rating\": average_rating_num_rating.contents[0]\n",
    "    }\n",
    "    # TODO: Move bundle data to dataframe"
   ]
  }
 ],
 "metadata": {
  "kernelspec": {
   "display_name": "Python 3",
   "language": "python",
   "name": "python3"
  },
  "language_info": {
   "codemirror_mode": {
    "name": "ipython",
    "version": 3
   },
   "file_extension": ".py",
   "mimetype": "text/x-python",
   "name": "python",
   "nbconvert_exporter": "python",
   "pygments_lexer": "ipython3",
   "version": "3.8.8"
  }
 },
 "nbformat": 4,
 "nbformat_minor": 5
}
