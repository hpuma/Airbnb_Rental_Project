{
 "cells": [
  {
   "cell_type": "code",
   "execution_count": 3,
   "id": "b15232f2",
   "metadata": {
    "scrolled": true
   },
   "outputs": [],
   "source": [
    "import os\n",
    "import pandas as pd\n",
    "import numpy as np\n",
    "import matplotlib.pyplot as plt\n",
    "import seaborn as sns\n",
    "#import geopy as gp\n",
    "from matplotlib import rcParams"
   ]
  },
  {
   "cell_type": "code",
   "execution_count": 11,
   "id": "a6973492",
   "metadata": {},
   "outputs": [
    {
     "ename": "FileNotFoundError",
     "evalue": "[Errno 2] No such file or directory: './data/clean/abnb_clean.gz'",
     "output_type": "error",
     "traceback": [
      "\u001b[0;31m---------------------------------------------------------------------------\u001b[0m",
      "\u001b[0;31mFileNotFoundError\u001b[0m                         Traceback (most recent call last)",
      "Input \u001b[0;32mIn [11]\u001b[0m, in \u001b[0;36m<cell line: 1>\u001b[0;34m()\u001b[0m\n\u001b[0;32m----> 1\u001b[0m abnb_df \u001b[38;5;241m=\u001b[39m \u001b[43mpd\u001b[49m\u001b[38;5;241;43m.\u001b[39;49m\u001b[43mread_csv\u001b[49m\u001b[43m(\u001b[49m\u001b[38;5;124;43m'\u001b[39;49m\u001b[38;5;124;43m./data/clean/abnb_clean.gz\u001b[39;49m\u001b[38;5;124;43m'\u001b[39;49m\u001b[43m,\u001b[49m\u001b[43m \u001b[49m\u001b[43mlow_memory\u001b[49m\u001b[38;5;241;43m=\u001b[39;49m\u001b[38;5;28;43;01mFalse\u001b[39;49;00m\u001b[43m)\u001b[49m\n\u001b[1;32m      2\u001b[0m \u001b[38;5;66;03m#pd.read_csv(item, skipinitialspace=True, usecols=copy_cols1, sep=',', low_memory = False)\u001b[39;00m\n\u001b[1;32m      3\u001b[0m abnb_df \u001b[38;5;241m=\u001b[39m abnb_df\u001b[38;5;241m.\u001b[39mdrop(columns \u001b[38;5;241m=\u001b[39m \u001b[38;5;124m'\u001b[39m\u001b[38;5;124mUnnamed: 0\u001b[39m\u001b[38;5;124m'\u001b[39m)\n",
      "File \u001b[0;32m~/anaconda3/lib/python3.9/site-packages/pandas/util/_decorators.py:311\u001b[0m, in \u001b[0;36mdeprecate_nonkeyword_arguments.<locals>.decorate.<locals>.wrapper\u001b[0;34m(*args, **kwargs)\u001b[0m\n\u001b[1;32m    305\u001b[0m \u001b[38;5;28;01mif\u001b[39;00m \u001b[38;5;28mlen\u001b[39m(args) \u001b[38;5;241m>\u001b[39m num_allow_args:\n\u001b[1;32m    306\u001b[0m     warnings\u001b[38;5;241m.\u001b[39mwarn(\n\u001b[1;32m    307\u001b[0m         msg\u001b[38;5;241m.\u001b[39mformat(arguments\u001b[38;5;241m=\u001b[39marguments),\n\u001b[1;32m    308\u001b[0m         \u001b[38;5;167;01mFutureWarning\u001b[39;00m,\n\u001b[1;32m    309\u001b[0m         stacklevel\u001b[38;5;241m=\u001b[39mstacklevel,\n\u001b[1;32m    310\u001b[0m     )\n\u001b[0;32m--> 311\u001b[0m \u001b[38;5;28;01mreturn\u001b[39;00m \u001b[43mfunc\u001b[49m\u001b[43m(\u001b[49m\u001b[38;5;241;43m*\u001b[39;49m\u001b[43margs\u001b[49m\u001b[43m,\u001b[49m\u001b[43m \u001b[49m\u001b[38;5;241;43m*\u001b[39;49m\u001b[38;5;241;43m*\u001b[39;49m\u001b[43mkwargs\u001b[49m\u001b[43m)\u001b[49m\n",
      "File \u001b[0;32m~/anaconda3/lib/python3.9/site-packages/pandas/io/parsers/readers.py:680\u001b[0m, in \u001b[0;36mread_csv\u001b[0;34m(filepath_or_buffer, sep, delimiter, header, names, index_col, usecols, squeeze, prefix, mangle_dupe_cols, dtype, engine, converters, true_values, false_values, skipinitialspace, skiprows, skipfooter, nrows, na_values, keep_default_na, na_filter, verbose, skip_blank_lines, parse_dates, infer_datetime_format, keep_date_col, date_parser, dayfirst, cache_dates, iterator, chunksize, compression, thousands, decimal, lineterminator, quotechar, quoting, doublequote, escapechar, comment, encoding, encoding_errors, dialect, error_bad_lines, warn_bad_lines, on_bad_lines, delim_whitespace, low_memory, memory_map, float_precision, storage_options)\u001b[0m\n\u001b[1;32m    665\u001b[0m kwds_defaults \u001b[38;5;241m=\u001b[39m _refine_defaults_read(\n\u001b[1;32m    666\u001b[0m     dialect,\n\u001b[1;32m    667\u001b[0m     delimiter,\n\u001b[0;32m   (...)\u001b[0m\n\u001b[1;32m    676\u001b[0m     defaults\u001b[38;5;241m=\u001b[39m{\u001b[38;5;124m\"\u001b[39m\u001b[38;5;124mdelimiter\u001b[39m\u001b[38;5;124m\"\u001b[39m: \u001b[38;5;124m\"\u001b[39m\u001b[38;5;124m,\u001b[39m\u001b[38;5;124m\"\u001b[39m},\n\u001b[1;32m    677\u001b[0m )\n\u001b[1;32m    678\u001b[0m kwds\u001b[38;5;241m.\u001b[39mupdate(kwds_defaults)\n\u001b[0;32m--> 680\u001b[0m \u001b[38;5;28;01mreturn\u001b[39;00m \u001b[43m_read\u001b[49m\u001b[43m(\u001b[49m\u001b[43mfilepath_or_buffer\u001b[49m\u001b[43m,\u001b[49m\u001b[43m \u001b[49m\u001b[43mkwds\u001b[49m\u001b[43m)\u001b[49m\n",
      "File \u001b[0;32m~/anaconda3/lib/python3.9/site-packages/pandas/io/parsers/readers.py:575\u001b[0m, in \u001b[0;36m_read\u001b[0;34m(filepath_or_buffer, kwds)\u001b[0m\n\u001b[1;32m    572\u001b[0m _validate_names(kwds\u001b[38;5;241m.\u001b[39mget(\u001b[38;5;124m\"\u001b[39m\u001b[38;5;124mnames\u001b[39m\u001b[38;5;124m\"\u001b[39m, \u001b[38;5;28;01mNone\u001b[39;00m))\n\u001b[1;32m    574\u001b[0m \u001b[38;5;66;03m# Create the parser.\u001b[39;00m\n\u001b[0;32m--> 575\u001b[0m parser \u001b[38;5;241m=\u001b[39m \u001b[43mTextFileReader\u001b[49m\u001b[43m(\u001b[49m\u001b[43mfilepath_or_buffer\u001b[49m\u001b[43m,\u001b[49m\u001b[43m \u001b[49m\u001b[38;5;241;43m*\u001b[39;49m\u001b[38;5;241;43m*\u001b[39;49m\u001b[43mkwds\u001b[49m\u001b[43m)\u001b[49m\n\u001b[1;32m    577\u001b[0m \u001b[38;5;28;01mif\u001b[39;00m chunksize \u001b[38;5;129;01mor\u001b[39;00m iterator:\n\u001b[1;32m    578\u001b[0m     \u001b[38;5;28;01mreturn\u001b[39;00m parser\n",
      "File \u001b[0;32m~/anaconda3/lib/python3.9/site-packages/pandas/io/parsers/readers.py:933\u001b[0m, in \u001b[0;36mTextFileReader.__init__\u001b[0;34m(self, f, engine, **kwds)\u001b[0m\n\u001b[1;32m    930\u001b[0m     \u001b[38;5;28mself\u001b[39m\u001b[38;5;241m.\u001b[39moptions[\u001b[38;5;124m\"\u001b[39m\u001b[38;5;124mhas_index_names\u001b[39m\u001b[38;5;124m\"\u001b[39m] \u001b[38;5;241m=\u001b[39m kwds[\u001b[38;5;124m\"\u001b[39m\u001b[38;5;124mhas_index_names\u001b[39m\u001b[38;5;124m\"\u001b[39m]\n\u001b[1;32m    932\u001b[0m \u001b[38;5;28mself\u001b[39m\u001b[38;5;241m.\u001b[39mhandles: IOHandles \u001b[38;5;241m|\u001b[39m \u001b[38;5;28;01mNone\u001b[39;00m \u001b[38;5;241m=\u001b[39m \u001b[38;5;28;01mNone\u001b[39;00m\n\u001b[0;32m--> 933\u001b[0m \u001b[38;5;28mself\u001b[39m\u001b[38;5;241m.\u001b[39m_engine \u001b[38;5;241m=\u001b[39m \u001b[38;5;28;43mself\u001b[39;49m\u001b[38;5;241;43m.\u001b[39;49m\u001b[43m_make_engine\u001b[49m\u001b[43m(\u001b[49m\u001b[43mf\u001b[49m\u001b[43m,\u001b[49m\u001b[43m \u001b[49m\u001b[38;5;28;43mself\u001b[39;49m\u001b[38;5;241;43m.\u001b[39;49m\u001b[43mengine\u001b[49m\u001b[43m)\u001b[49m\n",
      "File \u001b[0;32m~/anaconda3/lib/python3.9/site-packages/pandas/io/parsers/readers.py:1217\u001b[0m, in \u001b[0;36mTextFileReader._make_engine\u001b[0;34m(self, f, engine)\u001b[0m\n\u001b[1;32m   1213\u001b[0m     mode \u001b[38;5;241m=\u001b[39m \u001b[38;5;124m\"\u001b[39m\u001b[38;5;124mrb\u001b[39m\u001b[38;5;124m\"\u001b[39m\n\u001b[1;32m   1214\u001b[0m \u001b[38;5;66;03m# error: No overload variant of \"get_handle\" matches argument types\u001b[39;00m\n\u001b[1;32m   1215\u001b[0m \u001b[38;5;66;03m# \"Union[str, PathLike[str], ReadCsvBuffer[bytes], ReadCsvBuffer[str]]\"\u001b[39;00m\n\u001b[1;32m   1216\u001b[0m \u001b[38;5;66;03m# , \"str\", \"bool\", \"Any\", \"Any\", \"Any\", \"Any\", \"Any\"\u001b[39;00m\n\u001b[0;32m-> 1217\u001b[0m \u001b[38;5;28mself\u001b[39m\u001b[38;5;241m.\u001b[39mhandles \u001b[38;5;241m=\u001b[39m \u001b[43mget_handle\u001b[49m\u001b[43m(\u001b[49m\u001b[43m  \u001b[49m\u001b[38;5;66;43;03m# type: ignore[call-overload]\u001b[39;49;00m\n\u001b[1;32m   1218\u001b[0m \u001b[43m    \u001b[49m\u001b[43mf\u001b[49m\u001b[43m,\u001b[49m\n\u001b[1;32m   1219\u001b[0m \u001b[43m    \u001b[49m\u001b[43mmode\u001b[49m\u001b[43m,\u001b[49m\n\u001b[1;32m   1220\u001b[0m \u001b[43m    \u001b[49m\u001b[43mencoding\u001b[49m\u001b[38;5;241;43m=\u001b[39;49m\u001b[38;5;28;43mself\u001b[39;49m\u001b[38;5;241;43m.\u001b[39;49m\u001b[43moptions\u001b[49m\u001b[38;5;241;43m.\u001b[39;49m\u001b[43mget\u001b[49m\u001b[43m(\u001b[49m\u001b[38;5;124;43m\"\u001b[39;49m\u001b[38;5;124;43mencoding\u001b[39;49m\u001b[38;5;124;43m\"\u001b[39;49m\u001b[43m,\u001b[49m\u001b[43m \u001b[49m\u001b[38;5;28;43;01mNone\u001b[39;49;00m\u001b[43m)\u001b[49m\u001b[43m,\u001b[49m\n\u001b[1;32m   1221\u001b[0m \u001b[43m    \u001b[49m\u001b[43mcompression\u001b[49m\u001b[38;5;241;43m=\u001b[39;49m\u001b[38;5;28;43mself\u001b[39;49m\u001b[38;5;241;43m.\u001b[39;49m\u001b[43moptions\u001b[49m\u001b[38;5;241;43m.\u001b[39;49m\u001b[43mget\u001b[49m\u001b[43m(\u001b[49m\u001b[38;5;124;43m\"\u001b[39;49m\u001b[38;5;124;43mcompression\u001b[39;49m\u001b[38;5;124;43m\"\u001b[39;49m\u001b[43m,\u001b[49m\u001b[43m \u001b[49m\u001b[38;5;28;43;01mNone\u001b[39;49;00m\u001b[43m)\u001b[49m\u001b[43m,\u001b[49m\n\u001b[1;32m   1222\u001b[0m \u001b[43m    \u001b[49m\u001b[43mmemory_map\u001b[49m\u001b[38;5;241;43m=\u001b[39;49m\u001b[38;5;28;43mself\u001b[39;49m\u001b[38;5;241;43m.\u001b[39;49m\u001b[43moptions\u001b[49m\u001b[38;5;241;43m.\u001b[39;49m\u001b[43mget\u001b[49m\u001b[43m(\u001b[49m\u001b[38;5;124;43m\"\u001b[39;49m\u001b[38;5;124;43mmemory_map\u001b[39;49m\u001b[38;5;124;43m\"\u001b[39;49m\u001b[43m,\u001b[49m\u001b[43m \u001b[49m\u001b[38;5;28;43;01mFalse\u001b[39;49;00m\u001b[43m)\u001b[49m\u001b[43m,\u001b[49m\n\u001b[1;32m   1223\u001b[0m \u001b[43m    \u001b[49m\u001b[43mis_text\u001b[49m\u001b[38;5;241;43m=\u001b[39;49m\u001b[43mis_text\u001b[49m\u001b[43m,\u001b[49m\n\u001b[1;32m   1224\u001b[0m \u001b[43m    \u001b[49m\u001b[43merrors\u001b[49m\u001b[38;5;241;43m=\u001b[39;49m\u001b[38;5;28;43mself\u001b[39;49m\u001b[38;5;241;43m.\u001b[39;49m\u001b[43moptions\u001b[49m\u001b[38;5;241;43m.\u001b[39;49m\u001b[43mget\u001b[49m\u001b[43m(\u001b[49m\u001b[38;5;124;43m\"\u001b[39;49m\u001b[38;5;124;43mencoding_errors\u001b[39;49m\u001b[38;5;124;43m\"\u001b[39;49m\u001b[43m,\u001b[49m\u001b[43m \u001b[49m\u001b[38;5;124;43m\"\u001b[39;49m\u001b[38;5;124;43mstrict\u001b[39;49m\u001b[38;5;124;43m\"\u001b[39;49m\u001b[43m)\u001b[49m\u001b[43m,\u001b[49m\n\u001b[1;32m   1225\u001b[0m \u001b[43m    \u001b[49m\u001b[43mstorage_options\u001b[49m\u001b[38;5;241;43m=\u001b[39;49m\u001b[38;5;28;43mself\u001b[39;49m\u001b[38;5;241;43m.\u001b[39;49m\u001b[43moptions\u001b[49m\u001b[38;5;241;43m.\u001b[39;49m\u001b[43mget\u001b[49m\u001b[43m(\u001b[49m\u001b[38;5;124;43m\"\u001b[39;49m\u001b[38;5;124;43mstorage_options\u001b[39;49m\u001b[38;5;124;43m\"\u001b[39;49m\u001b[43m,\u001b[49m\u001b[43m \u001b[49m\u001b[38;5;28;43;01mNone\u001b[39;49;00m\u001b[43m)\u001b[49m\u001b[43m,\u001b[49m\n\u001b[1;32m   1226\u001b[0m \u001b[43m\u001b[49m\u001b[43m)\u001b[49m\n\u001b[1;32m   1227\u001b[0m \u001b[38;5;28;01massert\u001b[39;00m \u001b[38;5;28mself\u001b[39m\u001b[38;5;241m.\u001b[39mhandles \u001b[38;5;129;01mis\u001b[39;00m \u001b[38;5;129;01mnot\u001b[39;00m \u001b[38;5;28;01mNone\u001b[39;00m\n\u001b[1;32m   1228\u001b[0m f \u001b[38;5;241m=\u001b[39m \u001b[38;5;28mself\u001b[39m\u001b[38;5;241m.\u001b[39mhandles\u001b[38;5;241m.\u001b[39mhandle\n",
      "File \u001b[0;32m~/anaconda3/lib/python3.9/site-packages/pandas/io/common.py:714\u001b[0m, in \u001b[0;36mget_handle\u001b[0;34m(path_or_buf, mode, encoding, compression, memory_map, is_text, errors, storage_options)\u001b[0m\n\u001b[1;32m    711\u001b[0m     \u001b[38;5;28;01massert\u001b[39;00m \u001b[38;5;28misinstance\u001b[39m(handle, \u001b[38;5;28mstr\u001b[39m)\n\u001b[1;32m    712\u001b[0m     \u001b[38;5;66;03m# error: Incompatible types in assignment (expression has type\u001b[39;00m\n\u001b[1;32m    713\u001b[0m     \u001b[38;5;66;03m# \"GzipFile\", variable has type \"Union[str, BaseBuffer]\")\u001b[39;00m\n\u001b[0;32m--> 714\u001b[0m     handle \u001b[38;5;241m=\u001b[39m \u001b[43mgzip\u001b[49m\u001b[38;5;241;43m.\u001b[39;49m\u001b[43mGzipFile\u001b[49m\u001b[43m(\u001b[49m\u001b[43m  \u001b[49m\u001b[38;5;66;43;03m# type: ignore[assignment]\u001b[39;49;00m\n\u001b[1;32m    715\u001b[0m \u001b[43m        \u001b[49m\u001b[43mfilename\u001b[49m\u001b[38;5;241;43m=\u001b[39;49m\u001b[43mhandle\u001b[49m\u001b[43m,\u001b[49m\n\u001b[1;32m    716\u001b[0m \u001b[43m        \u001b[49m\u001b[43mmode\u001b[49m\u001b[38;5;241;43m=\u001b[39;49m\u001b[43mioargs\u001b[49m\u001b[38;5;241;43m.\u001b[39;49m\u001b[43mmode\u001b[49m\u001b[43m,\u001b[49m\n\u001b[1;32m    717\u001b[0m \u001b[43m        \u001b[49m\u001b[38;5;241;43m*\u001b[39;49m\u001b[38;5;241;43m*\u001b[39;49m\u001b[43mcompression_args\u001b[49m\u001b[43m,\u001b[49m\n\u001b[1;32m    718\u001b[0m \u001b[43m    \u001b[49m\u001b[43m)\u001b[49m\n\u001b[1;32m    719\u001b[0m \u001b[38;5;28;01melse\u001b[39;00m:\n\u001b[1;32m    720\u001b[0m     handle \u001b[38;5;241m=\u001b[39m gzip\u001b[38;5;241m.\u001b[39mGzipFile(\n\u001b[1;32m    721\u001b[0m         \u001b[38;5;66;03m# No overload variant of \"GzipFile\" matches argument types\u001b[39;00m\n\u001b[1;32m    722\u001b[0m         \u001b[38;5;66;03m# \"Union[str, BaseBuffer]\", \"str\", \"Dict[str, Any]\"\u001b[39;00m\n\u001b[0;32m   (...)\u001b[0m\n\u001b[1;32m    725\u001b[0m         \u001b[38;5;241m*\u001b[39m\u001b[38;5;241m*\u001b[39mcompression_args,\n\u001b[1;32m    726\u001b[0m     )\n",
      "File \u001b[0;32m~/anaconda3/lib/python3.9/gzip.py:173\u001b[0m, in \u001b[0;36mGzipFile.__init__\u001b[0;34m(self, filename, mode, compresslevel, fileobj, mtime)\u001b[0m\n\u001b[1;32m    171\u001b[0m     mode \u001b[38;5;241m+\u001b[39m\u001b[38;5;241m=\u001b[39m \u001b[38;5;124m'\u001b[39m\u001b[38;5;124mb\u001b[39m\u001b[38;5;124m'\u001b[39m\n\u001b[1;32m    172\u001b[0m \u001b[38;5;28;01mif\u001b[39;00m fileobj \u001b[38;5;129;01mis\u001b[39;00m \u001b[38;5;28;01mNone\u001b[39;00m:\n\u001b[0;32m--> 173\u001b[0m     fileobj \u001b[38;5;241m=\u001b[39m \u001b[38;5;28mself\u001b[39m\u001b[38;5;241m.\u001b[39mmyfileobj \u001b[38;5;241m=\u001b[39m \u001b[43mbuiltins\u001b[49m\u001b[38;5;241;43m.\u001b[39;49m\u001b[43mopen\u001b[49m\u001b[43m(\u001b[49m\u001b[43mfilename\u001b[49m\u001b[43m,\u001b[49m\u001b[43m \u001b[49m\u001b[43mmode\u001b[49m\u001b[43m \u001b[49m\u001b[38;5;129;43;01mor\u001b[39;49;00m\u001b[43m \u001b[49m\u001b[38;5;124;43m'\u001b[39;49m\u001b[38;5;124;43mrb\u001b[39;49m\u001b[38;5;124;43m'\u001b[39;49m\u001b[43m)\u001b[49m\n\u001b[1;32m    174\u001b[0m \u001b[38;5;28;01mif\u001b[39;00m filename \u001b[38;5;129;01mis\u001b[39;00m \u001b[38;5;28;01mNone\u001b[39;00m:\n\u001b[1;32m    175\u001b[0m     filename \u001b[38;5;241m=\u001b[39m \u001b[38;5;28mgetattr\u001b[39m(fileobj, \u001b[38;5;124m'\u001b[39m\u001b[38;5;124mname\u001b[39m\u001b[38;5;124m'\u001b[39m, \u001b[38;5;124m'\u001b[39m\u001b[38;5;124m'\u001b[39m)\n",
      "\u001b[0;31mFileNotFoundError\u001b[0m: [Errno 2] No such file or directory: './data/clean/abnb_clean.gz'"
     ]
    }
   ],
   "source": [
    "abnb_df = pd.read_csv('./data/clean/abnb_clean.gz', low_memory=False)\n",
    "#pd.read_csv(item, skipinitialspace=True, usecols=copy_cols1, sep=',', low_memory = False)\n",
    "abnb_df = abnb_df.drop(columns = 'Unnamed: 0')\n",
    "#abnb_df['last_scraped'] = pd.to_datetime(abnb_df['last_scraped'], infer_datetime_format = True )\n",
    "abnb_df['year'] = pd.to_datetime(abnb_df['last_scraped']).dt.to_period('Y')\n",
    "abnb_df['availability_pct'] = abnb_df['availability_365']/365 *100\n",
    "abnb_df[\"borough\"] = abnb_df[\"borough\"].astype(\"str\")\n",
    "abnb_df[\"borough\"] = abnb_df[\"borough\"].str.upper()\n"
   ]
  },
  {
   "cell_type": "code",
   "execution_count": null,
   "id": "812be14f",
   "metadata": {},
   "outputs": [],
   "source": [
    "acs_df = pd.read_csv('../data/clean/acs_estimate.csv', low_memory=False)"
   ]
  },
  {
   "cell_type": "code",
   "execution_count": null,
   "id": "20277ceb",
   "metadata": {},
   "outputs": [],
   "source": [
    "zrent_df = pd.read_csv('../data/clean/zrentals.csv', low_memory=False)"
   ]
  },
  {
   "cell_type": "code",
   "execution_count": null,
   "id": "225a442b",
   "metadata": {},
   "outputs": [],
   "source": [
    "zrent_df"
   ]
  },
  {
   "cell_type": "code",
   "execution_count": null,
   "id": "6358e213",
   "metadata": {},
   "outputs": [],
   "source": [
    "year_count = list(abnb_df.groupby(['year'])['id'].size())\n",
    "years = ['2015','2016','2017','2018','2019','2020','2021','2022']"
   ]
  },
  {
   "cell_type": "code",
   "execution_count": null,
   "id": "4a390336",
   "metadata": {},
   "outputs": [],
   "source": [
    "abnb_df.keys()"
   ]
  },
  {
   "cell_type": "code",
   "execution_count": null,
   "id": "19f91fb4",
   "metadata": {},
   "outputs": [],
   "source": [
    "def listing_clean(data):\n",
    "    year_count = list(data.groupby(['year'])['id'].size())\n",
    "    x=len(years)\n",
    "    print('Number of NYC Airbnb Listings per Year:')\n",
    "    for i in range(0,x):\n",
    "        print('\\t'+years[i] +':',year_count[i])\n",
    "#    print('Number of features in dataset:', data.shape[1])\n",
    "#    print('Avarage price is : $',round(data.price.mean()))\n",
    "#    print('Number of hosts/suppliers: ', data.host_id.nunique())\n",
    "#    print('Number of suburbs: ', data.neighbourhood.nunique())\n",
    "    return"
   ]
  },
  {
   "cell_type": "code",
   "execution_count": null,
   "id": "4e6da97f",
   "metadata": {
    "scrolled": true
   },
   "outputs": [],
   "source": [
    "listing_clean(abnb_df)"
   ]
  },
  {
   "cell_type": "code",
   "execution_count": null,
   "id": "f7bb7ee5",
   "metadata": {},
   "outputs": [],
   "source": [
    "abnb_df.groupby(['room_type']).count().plot(kind='pie', y='id')\n",
    "#plt.legend(loc = 'lower right')\n",
    "plt.title('Ratio of Airbnb by Borough')\n",
    "plt.show()"
   ]
  },
  {
   "cell_type": "code",
   "execution_count": null,
   "id": "c204b049",
   "metadata": {
    "scrolled": true
   },
   "outputs": [],
   "source": [
    "abnb_df.groupby(['borough']).count().plot(kind='pie', y='id')\n",
    "#plt.legend(loc = 'lower right')\n",
    "plt.title('Ratio of Airbnb by Borough')\n",
    "plt.show()"
   ]
  },
  {
   "cell_type": "code",
   "execution_count": null,
   "id": "689ce84c",
   "metadata": {
    "scrolled": true
   },
   "outputs": [],
   "source": [
    "#color display?\n",
    "abnb_df[abnb_df['year'] == '2017'].groupby(['borough'])['id'].count().to_frame().sort_values('id').T.plot.barh()"
   ]
  },
  {
   "cell_type": "code",
   "execution_count": null,
   "id": "27e3993c",
   "metadata": {},
   "outputs": [],
   "source": [
    "abnb_df[abnb_df['host_id']==107434423]"
   ]
  },
  {
   "cell_type": "code",
   "execution_count": null,
   "id": "b3113ccb",
   "metadata": {},
   "outputs": [],
   "source": [
    "# What would be a good way to show how many airbnb listings are owned \n",
    "# by the same owner and/or managed by the same propoerty management company"
   ]
  },
  {
   "cell_type": "code",
   "execution_count": null,
   "id": "09923d4a",
   "metadata": {
    "scrolled": true
   },
   "outputs": [],
   "source": [
    "abnb_df[abnb_df['host_id']==107434423].groupby(['host_name','year'])['id'].count()"
   ]
  },
  {
   "cell_type": "code",
   "execution_count": null,
   "id": "2550257e",
   "metadata": {},
   "outputs": [],
   "source": [
    "abnb_df[abnb_df['host_id']==305240193].groupby(['host_name','year'])['id'].count()"
   ]
  },
  {
   "cell_type": "code",
   "execution_count": null,
   "id": "150a3fa4",
   "metadata": {},
   "outputs": [],
   "source": [
    "abnb_df[abnb_df['host_id']==219517861].groupby(['host_name','year'])['id'].count()\n",
    "#Sonder is a short term rental management company. I wonder why the values dropped off from 2019 to 2020"
   ]
  },
  {
   "cell_type": "code",
   "execution_count": null,
   "id": "e8e7e89c",
   "metadata": {},
   "outputs": [],
   "source": [
    "abnb_df[abnb_df['host_id']==3223938].groupby(['host_name','year'])['id'].count()\n",
    "# Eugene is someone who works for Settle living a short term rental company offering furnished rooms"
   ]
  },
  {
   "cell_type": "code",
   "execution_count": null,
   "id": "3d75a0a3",
   "metadata": {},
   "outputs": [],
   "source": [
    "host_test = abnb_df.groupby(['host_id','year'])['id'].count().to_frame().reset_index().sort_values(['id','host_id','year'])"
   ]
  },
  {
   "cell_type": "code",
   "execution_count": null,
   "id": "86c24a34",
   "metadata": {},
   "outputs": [],
   "source": [
    "prop_test = host_test[host_test['id']>15].groupby(['host_id','year'])['id'].sum().to_frame().reset_index()\n",
    "yr_list = list(prop_test['year'].unique())\n",
    "yr_list.sort()"
   ]
  },
  {
   "cell_type": "code",
   "execution_count": null,
   "id": "93e1eb52",
   "metadata": {},
   "outputs": [],
   "source": [
    "#This definitely ain't it\n",
    "\n",
    "# for year in yr_list:\n",
    "#     prop_test[prop_test['year'] == year].groupby(['host_id'])['id'].sum().plot(kind='pie',y='id')\n",
    "#     plt.title(year+ ' Test')\n",
    "#     plt.show()"
   ]
  },
  {
   "cell_type": "code",
   "execution_count": null,
   "id": "0ec4b209",
   "metadata": {
    "scrolled": false
   },
   "outputs": [],
   "source": [
    "x = len(years)\n",
    "for i in range(0,x):\n",
    "    plt.figure(figsize =(16,10))\n",
    "    abnb_df[abnb_df['year'] == years[i]].groupby(['borough'])['id'].count().sort_values().plot.barh()\n",
    "    plt.show()"
   ]
  },
  {
   "cell_type": "code",
   "execution_count": null,
   "id": "bc1de339",
   "metadata": {},
   "outputs": [],
   "source": [
    "def get_groupby_count(df, groupby_cols, value):\n",
    "    data = df.groupby(groupby_cols)[value].count().to_frame().reset_index()\n",
    "    data = data.rename(columns={value:'count'})\n",
    "    data[\"year\"] = data[\"year\"].apply(lambda x: x.year)\n",
    "    return data"
   ]
  },
  {
   "cell_type": "code",
   "execution_count": null,
   "id": "2c317a49",
   "metadata": {},
   "outputs": [],
   "source": [
    "# Create comparison chart for all boros and NYC based on `value` column\n",
    "def boro_comparison_line(df, value):\n",
    "    boro_data = get_groupby_count(df, ['year', 'borough'], value)   \n",
    "    nyc_data = get_groupby_count(df, ['year'], value)\n",
    "    nyc_data[\"borough\"] = \"NYC\"\n",
    "    \n",
    "    data = pd.concat([boro_data, nyc_data])\n",
    "\n",
    "    chart = sns.lineplot(x=\"year\", y=\"count\", hue=\"borough\", data=data)\n",
    "    chart.axes.set_title(\"Airbnb count for each borough and NYC\".format(value))"
   ]
  },
  {
   "cell_type": "code",
   "execution_count": null,
   "id": "55879c28",
   "metadata": {},
   "outputs": [],
   "source": [
    "#not working\n",
    "#boro_comparison_line(abnb_df,'id')"
   ]
  },
  {
   "cell_type": "code",
   "execution_count": null,
   "id": "139cae7d",
   "metadata": {},
   "outputs": [],
   "source": [
    "# Generate zipcode count\n",
    "def create_boro_count_chart(df, count_col):\n",
    "    return get_groupby_count(df, [count_col, \"borough\", \"year\"], \"id\").reset_index(drop=True)"
   ]
  },
  {
   "cell_type": "code",
   "execution_count": null,
   "id": "e658f05a",
   "metadata": {
    "scrolled": true
   },
   "outputs": [],
   "source": [
    "zip_boro_count = create_boro_count_chart(abnb_df, \"zipcode\")\n",
    "zip_boro_count.head()"
   ]
  },
  {
   "cell_type": "code",
   "execution_count": null,
   "id": "83813b60",
   "metadata": {},
   "outputs": [],
   "source": [
    "# HELPER FUNCTION\n",
    "def map_boro_color(boro):\n",
    "    boro_color_mapper = {\"BRONX\": \"red\", \"BROOKLYN\": \"brown\", \"MANHATTAN\": \"blue\", \"QUEENS\": \"purple\", \"STATEN ISLAND\": \"grey\"}\n",
    "    return boro_color_mapper[boro]"
   ]
  },
  {
   "cell_type": "code",
   "execution_count": null,
   "id": "f12bdacf",
   "metadata": {},
   "outputs": [],
   "source": [
    "def map_boro_count(data, boro, year):\n",
    "    data = data[data[\"borough\"]== boro]\n",
    "    data = data[data[\"year\"] == year]\n",
    "    print(data)\n",
    "    color = map_boro_color(boro) \n",
    "    order = data.sort_values(by='count').zipcode\n",
    "    \n",
    "    rcParams['figure.figsize'] = 11.7,8.27\n",
    "    chart = sns.barplot(data=data, y=\"count\", x=\"zipcode\", color=color, order=order)\n",
    "    chart.axes.tick_params(axis='x', rotation=90)\n",
    "    chart.set_title(\"{} zipcode count for year {}\".format(boro, year))\n",
    "    return data\n"
   ]
  },
  {
   "cell_type": "code",
   "execution_count": null,
   "id": "a85f3ce1",
   "metadata": {},
   "outputs": [],
   "source": [
    "zip_boro_count"
   ]
  },
  {
   "cell_type": "code",
   "execution_count": null,
   "id": "f0e800b2",
   "metadata": {},
   "outputs": [],
   "source": [
    "q = map_boro_count(zip_boro_count, \"QUEENS\", 2021)"
   ]
  },
  {
   "cell_type": "code",
   "execution_count": null,
   "id": "913e5375",
   "metadata": {},
   "outputs": [],
   "source": [
    "abnb_df['year'] = abnb_df['year'].astype(str)\n",
    "acs_df['year'] = acs_df['year'].astype(str)"
   ]
  },
  {
   "cell_type": "code",
   "execution_count": null,
   "id": "065a8843",
   "metadata": {},
   "outputs": [],
   "source": [
    "acs_df.keys()"
   ]
  },
  {
   "cell_type": "code",
   "execution_count": null,
   "id": "67130013",
   "metadata": {},
   "outputs": [],
   "source": [
    "def grouping (df1, df2, group_val, stats):\n",
    "    plt1 = df1[['year','borough','vacant_housing_units']].sort_values('borough').reset_index(drop=True)\n",
    "    plt2 =abnb_df.groupby(['borough','year'])['id'].size().to_frame().reset_index()"
   ]
  },
  {
   "cell_type": "code",
   "execution_count": null,
   "id": "b404d77b",
   "metadata": {},
   "outputs": [],
   "source": [
    "#x=len(years)\n",
    "#for i in range(0,x):\n",
    "#    acs_df[acs_df['year']== year[i]]\n",
    "plt1 = acs_df[['year','borough','vacant_housing_units']].sort_values('borough').reset_index(drop=True)\n",
    "plt2 =abnb_df.groupby(['borough','year'])['id'].size().to_frame().reset_index()\n",
    "pltf = pd.merge(plt1,plt2, on=['borough','year'])\n",
    "pltf['year']=pltf['year'].astype(int)\n",
    "pltf = pltf.sort_values(['borough','year'])\n",
    "pltf = pltf.rename(columns={'id':'abnb_count'})"
   ]
  },
  {
   "cell_type": "code",
   "execution_count": null,
   "id": "5634f54e",
   "metadata": {},
   "outputs": [],
   "source": [
    "boro_list = list(pltf['borough'].unique())"
   ]
  },
  {
   "cell_type": "code",
   "execution_count": null,
   "id": "a0dc7c7d",
   "metadata": {
    "scrolled": false
   },
   "outputs": [],
   "source": [
    "for boro in boro_list:\n",
    "    plt.figure(figsize =(7,3))\n",
    "    pltf[pltf['borough'] == boro].plot.bar(x='year')\n",
    "    plt.xlabel('Year') \n",
    "    plt.ylabel('Count') \n",
    "    plt.title(boro+' - Number of Vacant Housing Units vs. Number of Airbnb Listings per borough')\n",
    "    plt.show()\n",
    "    \n",
    "#pltf.plot.bar(x='borough')\n",
    "#plt.xticks(rotation=0)\n",
    "#plt.legend(bbox_to_anchor=(1.05, 1), loc='upper left')\n",
    "#plt.show()"
   ]
  },
  {
   "cell_type": "code",
   "execution_count": null,
   "id": "751d2bb6",
   "metadata": {},
   "outputs": [],
   "source": [
    "plt1 = acs_df[['year','borough','rent_median_value']].sort_values('borough').reset_index(drop=True)\n",
    "plt2 =abnb_df.groupby(['borough','year'])['id'].size().to_frame().reset_index()\n",
    "pltf = pd.merge(plt1,plt2, on=['borough','year'])\n",
    "pltf['year']=pltf['year'].astype(int)\n",
    "pltf = pltf.sort_values(['borough','year'])\n",
    "pltf = pltf.rename(columns={'id':'abnb_count'})"
   ]
  },
  {
   "cell_type": "code",
   "execution_count": null,
   "id": "1c2560d4",
   "metadata": {},
   "outputs": [],
   "source": [
    "for boro in boro_list:\n",
    "    plt.figure(figsize =(7,3))\n",
    "    pltf[pltf['borough'] == boro].plot('year',['abnb_count','rent_median_value'], xlabel='Year'\n",
    "                                       ,ylabel='Rent Value in dollars', secondary_y='abnb_count')\n",
    "    plt.ylabel('# of Airbnb Listings') \n",
    "    plt.title(boro+' - Median Rent Value (USD) vs. Amount of Airbnb Listings per Borough')\n",
    "    plt.show()"
   ]
  },
  {
   "cell_type": "code",
   "execution_count": null,
   "id": "497e36b9",
   "metadata": {},
   "outputs": [],
   "source": [
    "zrent_df['borough'].sort_values()"
   ]
  },
  {
   "cell_type": "code",
   "execution_count": null,
   "id": "a811e52c",
   "metadata": {},
   "outputs": [],
   "source": [
    "zrent_df['borough'].replace({'STATEN_ISLAND': 'STATEN ISLAND'})"
   ]
  },
  {
   "cell_type": "code",
   "execution_count": null,
   "id": "8903b731",
   "metadata": {},
   "outputs": [],
   "source": [
    "zrent_df['time'] = pd.to_datetime(zrent_df['date']).dt.to_period('Y').astype(str)\n",
    "zrent_df['borough'] = zrent_df['borough'].replace({'STATEN_ISLAND': 'STATEN ISLAND'})\n",
    "abnb_df['time'] = pd.to_datetime(abnb_df['last_scraped']).dt.to_period('Y').astype(str)\n",
    "zrent_df = zrent_df.rename(columns={'zip_code':'zipcode'})"
   ]
  },
  {
   "cell_type": "code",
   "execution_count": null,
   "id": "c82b05b7",
   "metadata": {},
   "outputs": [],
   "source": [
    "zrent_df.sort_values(['zipcode','time']).head(15)"
   ]
  },
  {
   "cell_type": "code",
   "execution_count": null,
   "id": "54d916f9",
   "metadata": {},
   "outputs": [],
   "source": [
    "plt1 = zrent_df.groupby(['time','borough','zipcode'])['mean_rent'].mean().to_frame().reset_index().sort_values(['zipcode','time'])\n",
    "plt1"
   ]
  },
  {
   "cell_type": "code",
   "execution_count": null,
   "id": "b69baf78",
   "metadata": {},
   "outputs": [],
   "source": [
    "plt1 = zrent_df.groupby(['time','borough','zipcode'])['mean_rent'].mean().to_frame().reset_index()#.sort_values('borough')\n",
    "plt2 =abnb_df.groupby(['borough','time','zipcode'])['id'].size().to_frame().reset_index()\n",
    "pltf = pd.merge(plt1,plt2, on=['borough','time','zipcode'])\n",
    "#pltf['year']=pltf['year'].astype(int)\n",
    "pltf = pltf.sort_values(['borough','time'])\n",
    "pltf = pltf.rename(columns={'id':'abnb_count'})"
   ]
  },
  {
   "cell_type": "code",
   "execution_count": null,
   "id": "dbc39f07",
   "metadata": {},
   "outputs": [],
   "source": [
    "pltf[pltf['borough']=='BRONX'].head(30)"
   ]
  },
  {
   "cell_type": "code",
   "execution_count": null,
   "id": "ab06c355",
   "metadata": {},
   "outputs": [],
   "source": [
    "for boro in boro_list:\n",
    "    plt.figure(figsize =(16,10))\n",
    "    pltf[pltf['borough'] == boro].plot('time',['abnb_count','mean_rent'], xlabel='Year'\n",
    "                                       ,ylabel='Mean Rent Value in dollars', secondary_y='abnb_count')\n",
    "    plt.ylabel('# of Airbnb Listings') \n",
    "    plt.title(boro)\n",
    "    plt.show()"
   ]
  },
  {
   "cell_type": "code",
   "execution_count": null,
   "id": "6caf9a24",
   "metadata": {},
   "outputs": [],
   "source": [
    "abnb_df"
   ]
  },
  {
   "cell_type": "code",
   "execution_count": null,
   "id": "e68dd56c",
   "metadata": {},
   "outputs": [],
   "source": [
    "def get_boro_top_zipcodes(df, boro, year):\n",
    "    zipcode_count = abnb_df.groupby([\"zipcode\", \"borough\", \"year\"])[\"id\"].count().to_frame().reset_index()\n",
    "    zipcode_count = zipcode_count.rename(columns={\"id\": \"count\"})\n",
    "    zipcode_sorted = zipcode_count[[\"zipcode\", \"borough\", \"year\", \"count\"]].sort_values(by=[\"count\"], ascending=False)\n",
    "    zipcode_grouped = zipcode_sorted.groupby([\"year\"])\n",
    "    print(zipcode_grouped)"
   ]
  },
  {
   "cell_type": "code",
   "execution_count": null,
   "id": "0c94822a",
   "metadata": {},
   "outputs": [],
   "source": [
    "get_boro_top_zipcodes(abnb_df, \"BRONX\", 2019)"
   ]
  },
  {
   "cell_type": "code",
   "execution_count": null,
   "id": "0d2a7b2f",
   "metadata": {},
   "outputs": [],
   "source": []
  },
  {
   "cell_type": "code",
   "execution_count": null,
   "id": "478c3b8d",
   "metadata": {},
   "outputs": [],
   "source": []
  }
 ],
 "metadata": {
  "kernelspec": {
   "display_name": "Python 3 (ipykernel)",
   "language": "python",
   "name": "python3"
  },
  "language_info": {
   "codemirror_mode": {
    "name": "ipython",
    "version": 3
   },
   "file_extension": ".py",
   "mimetype": "text/x-python",
   "name": "python",
   "nbconvert_exporter": "python",
   "pygments_lexer": "ipython3",
   "version": "3.9.12"
  }
 },
 "nbformat": 4,
 "nbformat_minor": 5
}
