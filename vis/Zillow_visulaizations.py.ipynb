{
 "cells": [
  {
   "cell_type": "code",
   "execution_count": 1,
   "id": "c7bc6f68",
   "metadata": {},
   "outputs": [],
   "source": [
    "#Loading packages \n",
    "import os\n",
    "import pandas as pd\n",
    "import numpy as np\n",
    "import matplotlib.pyplot as plt\n",
    "import seaborn as sns"
   ]
  },
  {
   "cell_type": "code",
   "execution_count": 5,
   "id": "dbee9855",
   "metadata": {},
   "outputs": [],
   "source": [
    "zhome_values_zip = pd.read_csv('../data/clean/zhome_value.csv')\n",
    "\n",
    "df = pd.DataFrame(zhome_values_zip)"
   ]
  },
  {
   "cell_type": "code",
   "execution_count": 6,
   "id": "05cf4eb1",
   "metadata": {},
   "outputs": [
    {
     "data": {
      "image/png": "[encoded data removed]",
      "text/plain": [
       "<Figure size 432x288 with 1 Axes>"
      ]
     },
     "metadata": {
      "needs_background": "light"
     },
     "output_type": "display_data"
    }
   ],
   "source": [
    "df['home_value'].hist()\n",
    "\n",
    "plt.title(\"Distribution of Home Values\")\n",
    "plt.xlabel(\"Home Value (dollars)\")\n",
    "plt.ylabel(\"Number of Houses\")\n",
    "\n",
    "# Show the plot\n",
    "plt.show()"
   ]
  },
  {
   "cell_type": "code",
   "execution_count": 7,
   "id": "86433076",
   "metadata": {},
   "outputs": [
    {
     "data": {
      "image/png": "[encoded data removed]",
      "text/plain": [
       "<Figure size 432x288 with 2 Axes>"
      ]
     },
     "metadata": {
      "needs_background": "light"
     },
     "output_type": "display_data"
    }
   ],
   "source": [
    "sns.heatmap(df.pivot_table(index='borough', columns='zip_code', values='home_value', aggfunc='mean'))\n",
    "plt.xlabel('Zip code')\n",
    "plt.ylabel('Borough')\n",
    "plt.title('Zillow Home Values by Zipcode(millions)')\n",
    "plt.show()"
   ]
  },
  {
   "cell_type": "code",
   "execution_count": 8,
   "id": "d07f8d6b",
   "metadata": {},
   "outputs": [
    {
     "name": "stdout",
     "output_type": "stream",
     "text": [
      "    zip_code    borough    home_value\n",
      "41     10118  MANHATTAN  2.953885e+06\n",
      "11     10013  MANHATTAN  2.651030e+06\n",
      "6      10007  MANHATTAN  2.641340e+06\n",
      "44     10282  MANHATTAN  2.158213e+06\n",
      "10     10012  MANHATTAN  1.998542e+06\n",
      "..       ...        ...           ...\n",
      "57     10451      BRONX  3.156599e+05\n",
      "62     10456      BRONX  3.130362e+05\n",
      "73     10467      BRONX  2.999500e+05\n",
      "74     10468      BRONX  2.118511e+05\n",
      "68     10462      BRONX  1.466952e+05\n",
      "\n",
      "[177 rows x 3 columns]\n"
     ]
    }
   ],
   "source": [
    "df_mean = df.groupby(['zip_code', 'borough']).home_value.mean().reset_index()\n",
    "\n",
    "df_mean.sort_values(by='home_value', ascending=False, inplace=True)\n",
    "\n",
    "print(df_mean)"
   ]
  },
  {
   "cell_type": "code",
   "execution_count": 9,
   "id": "06e0fd28",
   "metadata": {},
   "outputs": [
    {
     "name": "stdout",
     "output_type": "stream",
     "text": [
      "    zip_code    borough    home_value\n",
      "41     10118  MANHATTAN  2.953885e+06\n",
      "11     10013  MANHATTAN  2.651030e+06\n",
      "6      10007  MANHATTAN  2.641340e+06\n",
      "44     10282  MANHATTAN  2.158213e+06\n",
      "10     10012  MANHATTAN  1.998542e+06\n",
      "     zip_code borough     home_value\n",
      "135     11363  QUEENS  888125.755020\n",
      "130     11357  QUEENS  719995.036000\n",
      "134     11362  QUEENS  714293.755020\n",
      "131     11358  QUEENS  700550.180723\n",
      "86      11105  QUEENS  698675.152000\n",
      "     zip_code   borough   home_value\n",
      "103     11217  BROOKLYN  1136523.044\n",
      "101     11215  BROOKLYN  1094520.928\n",
      "116     11231  BROOKLYN  1065775.792\n",
      "88      11201  BROOKLYN  1034488.912\n",
      "125     11243  BROOKLYN  1021440.880\n",
      "    zip_code        borough  home_value\n",
      "51     10307  STATEN_ISLAND  547081.464\n",
      "53     10309  STATEN_ISLAND  498783.628\n",
      "50     10306  STATEN_ISLAND  468805.856\n",
      "55     10312  STATEN_ISLAND  468034.124\n",
      "45     10301  STATEN_ISLAND  464242.480\n",
      "    zip_code borough     home_value\n",
      "77     10471   BRONX  579882.895582\n",
      "70     10464   BRONX  529770.832000\n",
      "67     10461   BRONX  469401.811245\n",
      "75     10469   BRONX  449143.221774\n",
      "71     10465   BRONX  437483.927126\n"
     ]
    }
   ],
   "source": [
    "#MANHATTAN TOP 5 ZIP CODES\n",
    "\n",
    "df_manhattan= df_mean[df_mean['borough'].isin(['MANHATTAN'])]\n",
    "\n",
    "# Sort the rows by home value in descending order\n",
    "df_manhattan = df_manhattan.sort_values(by='home_value', ascending=False)\n",
    "\n",
    "# Select the top 5 rows\n",
    "manhattan_top_5 = df_manhattan.head(5)\n",
    "\n",
    "# Print the resulting dataframe\n",
    "print(manhattan_top_5)\n",
    "\n",
    "#QUEENS TOP 5 ZIPCODES\n",
    "df_queens= df_mean[df_mean['borough'].isin(['QUEENS'])]\n",
    "\n",
    "# Sort the rows by home value in descending order\n",
    "df_queens = df_queens.sort_values(by='home_value', ascending=False)\n",
    "\n",
    "# Select the top 5 rows\n",
    "queens_top_5 = df_queens.head(5)\n",
    "\n",
    "# Print the resulting dataframe\n",
    "print(queens_top_5)\n",
    "\n",
    "\n",
    "#BK TOP 5 ZIPCODES\n",
    "df_brooklyn= df_mean[df_mean['borough'].isin(['BROOKLYN'])]\n",
    "\n",
    "# Sort the rows by home value in descending order\n",
    "df_brooklyn = df_brooklyn.sort_values(by='home_value', ascending=False)\n",
    "\n",
    "# Select the top 5 rows\n",
    "bk_top_5 = df_brooklyn.head(5)\n",
    "\n",
    "# Print the resulting dataframe\n",
    "print(bk_top_5)\n",
    "\n",
    "#STATEN ILAND TOP 5 ZIPCODES\n",
    "df_staten= df_mean[df_mean['borough'].isin(['STATEN_ISLAND'])]\n",
    "\n",
    "# Sort the rows by home value in descending order\n",
    "df_staten = df_staten.sort_values(by='home_value', ascending=False)\n",
    "\n",
    "# Select the top 5 rows\n",
    "staten_top_5 = df_staten.head(5)\n",
    "\n",
    "# Print the resulting dataframe\n",
    "print(staten_top_5)\n",
    "\n",
    "\n",
    "#BRONX TOP 5 ZIPCODES\n",
    "df_bronx= df_mean[df_mean['borough'].isin(['BRONX'])]\n",
    "\n",
    "# Sort the rows by home value in descending order\n",
    "df_bronx = df_bronx.sort_values(by='home_value', ascending=False)\n",
    "\n",
    "# Select the top 5 rows\n",
    "bronx_top_5 = df_bronx.head(5)\n",
    "\n",
    "# Print the resulting dataframe\n",
    "print(bronx_top_5)"
   ]
  },
  {
   "cell_type": "code",
   "execution_count": 10,
   "id": "0dd55f74",
   "metadata": {},
   "outputs": [
    {
     "name": "stdout",
     "output_type": "stream",
     "text": [
      "     zip_code        borough    home_value\n",
      "41      10118      MANHATTAN  2.953885e+06\n",
      "11      10013      MANHATTAN  2.651030e+06\n",
      "6       10007      MANHATTAN  2.641340e+06\n",
      "44      10282      MANHATTAN  2.158213e+06\n",
      "10      10012      MANHATTAN  1.998542e+06\n",
      "103     11217       BROOKLYN  1.136523e+06\n",
      "101     11215       BROOKLYN  1.094521e+06\n",
      "116     11231       BROOKLYN  1.065776e+06\n",
      "88      11201       BROOKLYN  1.034489e+06\n",
      "125     11243       BROOKLYN  1.021441e+06\n",
      "135     11363         QUEENS  8.881258e+05\n",
      "130     11357         QUEENS  7.199950e+05\n",
      "134     11362         QUEENS  7.142938e+05\n",
      "131     11358         QUEENS  7.005502e+05\n",
      "86      11105         QUEENS  6.986752e+05\n",
      "77      10471          BRONX  5.798829e+05\n",
      "70      10464          BRONX  5.297708e+05\n",
      "67      10461          BRONX  4.694018e+05\n",
      "75      10469          BRONX  4.491432e+05\n",
      "71      10465          BRONX  4.374839e+05\n",
      "51      10307  STATEN_ISLAND  5.470815e+05\n",
      "53      10309  STATEN_ISLAND  4.987836e+05\n",
      "50      10306  STATEN_ISLAND  4.688059e+05\n",
      "55      10312  STATEN_ISLAND  4.680341e+05\n",
      "45      10301  STATEN_ISLAND  4.642425e+05\n"
     ]
    }
   ],
   "source": [
    "top5_zip_per_boro = pd.concat([manhattan_top_5, bk_top_5, queens_top_5, bronx_top_5, staten_top_5], axis=0)\n",
    "\n",
    "print(top5_zip_per_boro)"
   ]
  },
  {
   "cell_type": "code",
   "execution_count": 11,
   "id": "6ccb75f6",
   "metadata": {
    "scrolled": false
   },
   "outputs": [
    {
     "data": {
      "text/plain": [
       "Text(0, 0.5, 'Mean Home Value (dollars)')"
      ]
     },
     "execution_count": 11,
     "metadata": {},
     "output_type": "execute_result"
    },
    {
     "data": {
      "image/png": "[encoded data removed]",
      "text/plain": [
       "<Figure size 432x288 with 1 Axes>"
      ]
     },
     "metadata": {
      "needs_background": "light"
     },
     "output_type": "display_data"
    }
   ],
   "source": [
    "mean_home_value_by_borough_zip = top5_zip_per_boro.groupby(['borough', 'zip_code'])['home_value'].mean()\n",
    "mean_home_value_pivot = mean_home_value_by_borough_zip.unstack(level=0)\n",
    "\n",
    "\n",
    "# Plot the pivot table as a bar plot\n",
    "mean_home_value_pivot.plot.bar()\n",
    "plt.title(\"Top 5 Home Values by Borough and Zip Code\")\n",
    "plt.xlabel(\"Zip Code\")\n",
    "plt.ylabel(\"Mean Home Value (dollars)\")\n",
    "# Show the plot"
   ]
  },
  {
   "cell_type": "code",
   "execution_count": 21,
   "id": "5ae24bdf",
   "metadata": {},
   "outputs": [
    {
     "data": {
      "image/png": "[encoded data removed]",
      "text/plain": [
       "<Figure size 432x288 with 1 Axes>"
      ]
     },
     "metadata": {
      "needs_background": "light"
     },
     "output_type": "display_data"
    }
   ],
   "source": [
    "top5_zip_per_boro.boxplot(column='home_value', by='borough')\n",
    "\n",
    "\n",
    "plt.title(\"Home Values by Borough\")\n",
    "plt.xlabel(\"Borough\")\n",
    "plt.ylabel(\"Home Value (dollars)\")\n",
    "plt.show()"
   ]
  },
  {
   "cell_type": "code",
   "execution_count": null,
   "id": "97c6b0b5",
   "metadata": {},
   "outputs": [],
   "source": []
  },
  {
   "cell_type": "code",
   "execution_count": 13,
   "id": "884791ae",
   "metadata": {},
   "outputs": [
    {
     "name": "stdout",
     "output_type": "stream",
     "text": [
      "    zip_code    borough     home_value\n",
      "28     10032  MANHATTAN  414161.996000\n",
      "30     10034  MANHATTAN  453817.137725\n",
      "33     10037  MANHATTAN  503576.934783\n",
      "36     10040  MANHATTAN  505051.487179\n",
      "29     10033  MANHATTAN  558071.166667\n",
      "     zip_code borough     home_value\n",
      "174     11692  QUEENS  346566.100000\n",
      "143     11372  QUEENS  356633.697581\n",
      "85      11104  QUEENS  386219.164659\n",
      "175     11693  QUEENS  388356.144000\n",
      "172     11436  QUEENS  403076.004000\n",
      "     zip_code   borough     home_value\n",
      "93      11207  BROOKLYN  362731.896000\n",
      "98      11212  BROOKLYN  377260.592000\n",
      "124     11239  BROOKLYN  388316.288660\n",
      "94      11208  BROOKLYN  432871.908000\n",
      "121     11236  BROOKLYN  433841.361446\n",
      "    zip_code        borough  home_value\n",
      "47     10303  STATEN_ISLAND  323493.716\n",
      "46     10302  STATEN_ISLAND  383515.180\n",
      "56     10314  STATEN_ISLAND  422667.360\n",
      "54     10310  STATEN_ISLAND  423657.344\n",
      "48     10304  STATEN_ISLAND  428300.292\n",
      "    zip_code borough     home_value\n",
      "68     10462   BRONX  146695.208000\n",
      "74     10468   BRONX  211851.096000\n",
      "73     10467   BRONX  299950.032129\n",
      "62     10456   BRONX  313036.236000\n",
      "57     10451   BRONX  315659.923077\n"
     ]
    }
   ],
   "source": [
    "#MANHATTAN Lowest 5 ZIP CODES\n",
    "\n",
    "df_manhattan1= df_mean[df_mean['borough'].isin(['MANHATTAN'])]\n",
    "\n",
    "df_manhattan1 = df_manhattan1.sort_values(by='home_value', ascending=True)\n",
    "\n",
    "manhattan_low_5 = df_manhattan1.head(5)\n",
    "\n",
    "# Print the resulting dataframe\n",
    "print(manhattan_low_5)\n",
    "\n",
    "#QUEENS bottom 5 ZIPCODES\n",
    "df_queens1 = df_mean[df_mean['borough'].isin(['QUEENS'])]\n",
    "\n",
    "df_queens1 = df_queens1.sort_values(by='home_value', ascending=True)\n",
    "\n",
    "queens_low_5 = df_queens1.head(5)\n",
    "\n",
    "# Print the resulting dataframe\n",
    "print(queens_low_5)\n",
    "\n",
    "#BK Lowest 5 ZIPCODES\n",
    "df_brooklyn1 = df_mean[df_mean['borough'].isin(['BROOKLYN'])]\n",
    "\n",
    "df_brooklyn1 = df_brooklyn1.sort_values(by='home_value', ascending=True)\n",
    "\n",
    "bk_low_5 = df_brooklyn1.head(5)\n",
    "\n",
    "# Print the resulting dataframe\n",
    "print(bk_low_5)\n",
    "\n",
    "#STATEN ILAND Lowest 5 ZIPCODES\n",
    "df_staten1 = df_mean[df_mean['borough'].isin(['STATEN_ISLAND'])]\n",
    "\n",
    "df_staten1 = df_staten1.sort_values(by='home_value', ascending=True)\n",
    "\n",
    "staten_low_5 = df_staten1.head(5)\n",
    "\n",
    "# Print the resulting dataframe\n",
    "print(staten_low_5)\n",
    "\n",
    "\n",
    "#BRONX Lowest 5 ZIPCODES\n",
    "df_bronx1 = df_mean[df_mean['borough'].isin(['BRONX'])]\n",
    "\n",
    "df_bronx1 = df_bronx1.sort_values(by='home_value', ascending=True)\n",
    "\n",
    "bronx_low_5 = df_bronx1.head(5)\n",
    "\n",
    "# Print the resulting dataframe\n",
    "print(bronx_low_5)"
   ]
  },
  {
   "cell_type": "code",
   "execution_count": 14,
   "id": "20a7d372",
   "metadata": {
    "scrolled": true
   },
   "outputs": [
    {
     "name": "stdout",
     "output_type": "stream",
     "text": [
      "     zip_code        borough     home_value\n",
      "28      10032      MANHATTAN  414161.996000\n",
      "30      10034      MANHATTAN  453817.137725\n",
      "33      10037      MANHATTAN  503576.934783\n",
      "36      10040      MANHATTAN  505051.487179\n",
      "29      10033      MANHATTAN  558071.166667\n",
      "93      11207       BROOKLYN  362731.896000\n",
      "98      11212       BROOKLYN  377260.592000\n",
      "124     11239       BROOKLYN  388316.288660\n",
      "94      11208       BROOKLYN  432871.908000\n",
      "121     11236       BROOKLYN  433841.361446\n",
      "174     11692         QUEENS  346566.100000\n",
      "143     11372         QUEENS  356633.697581\n",
      "85      11104         QUEENS  386219.164659\n",
      "175     11693         QUEENS  388356.144000\n",
      "172     11436         QUEENS  403076.004000\n",
      "68      10462          BRONX  146695.208000\n",
      "74      10468          BRONX  211851.096000\n",
      "73      10467          BRONX  299950.032129\n",
      "62      10456          BRONX  313036.236000\n",
      "57      10451          BRONX  315659.923077\n",
      "47      10303  STATEN_ISLAND  323493.716000\n",
      "46      10302  STATEN_ISLAND  383515.180000\n",
      "56      10314  STATEN_ISLAND  422667.360000\n",
      "54      10310  STATEN_ISLAND  423657.344000\n",
      "48      10304  STATEN_ISLAND  428300.292000\n"
     ]
    }
   ],
   "source": [
    "low5_zip_per_boro = pd.concat([manhattan_low_5, bk_low_5, queens_low_5, bronx_low_5, staten_low_5], axis=0)\n",
    "\n",
    "# Print the resulting dataframe\n",
    "print(low5_zip_per_boro)"
   ]
  },
  {
   "cell_type": "code",
   "execution_count": 15,
   "id": "f2de26db",
   "metadata": {
    "scrolled": true
   },
   "outputs": [
    {
     "data": {
      "image/png": "[encoded data removed]",
      "text/plain": [
       "<Figure size 432x288 with 1 Axes>"
      ]
     },
     "metadata": {
      "needs_background": "light"
     },
     "output_type": "display_data"
    }
   ],
   "source": [
    "mean_home_value_by_borough_zip1 = low5_zip_per_boro.groupby(['borough', 'zip_code'])['home_value'].mean()\n",
    "mean_home_value_pivot1 = mean_home_value_by_borough_zip1.unstack(level=0)\n",
    "\n",
    "\n",
    "# Plot the pivot table as a bar plot\n",
    "mean_home_value_pivot1.plot.bar()\n",
    "plt.title(\"Bottom 5 Zip Code per Borough\")\n",
    "plt.xlabel(\"Zip Code\")\n",
    "plt.ylabel(\"Mean Home Value (dollars)\")\n",
    "plt.legend(fontsize=8, bbox_to_anchor =(1.02, 1), loc='upper left', borderaxespad=0)\n",
    "# Show the plot\n",
    "plt.show()"
   ]
  },
  {
   "cell_type": "code",
   "execution_count": 16,
   "id": "d1a17264",
   "metadata": {},
   "outputs": [
    {
     "data": {
      "text/plain": [
       "Text(0, 0.5, 'Home Value (dollars)')"
      ]
     },
     "execution_count": 16,
     "metadata": {},
     "output_type": "execute_result"
    },
    {
     "data": {
      "image/png": "[encoded data removed]",
      "text/plain": [
       "<Figure size 432x288 with 1 Axes>"
      ]
     },
     "metadata": {
      "needs_background": "light"
     },
     "output_type": "display_data"
    }
   ],
   "source": [
    "low5_zip_per_boro.boxplot(column='home_value', by='borough')\n",
    "\n",
    "\n",
    "plt.title(\"\")\n",
    "\n",
    "# Add x-axis and y-axis labels\n",
    "plt.xlabel(\"Borough\")\n",
    "plt.ylabel(\"Home Value (dollars)\")"
   ]
  },
  {
   "cell_type": "code",
   "execution_count": null,
   "id": "985707f6",
   "metadata": {},
   "outputs": [],
   "source": []
  },
  {
   "cell_type": "code",
   "execution_count": null,
   "id": "46b269ae",
   "metadata": {},
   "outputs": [],
   "source": []
  },
  {
   "cell_type": "code",
   "execution_count": null,
   "id": "7bdcbbdd",
   "metadata": {},
   "outputs": [],
   "source": []
  },
  {
   "cell_type": "code",
   "execution_count": null,
   "id": "8743183f",
   "metadata": {},
   "outputs": [],
   "source": []
  },
  {
   "cell_type": "code",
   "execution_count": null,
   "id": "ad06850e",
   "metadata": {},
   "outputs": [],
   "source": []
  },
  {
   "cell_type": "code",
   "execution_count": null,
   "id": "424feab6",
   "metadata": {},
   "outputs": [],
   "source": []
  }
 ],
 "metadata": {
  "kernelspec": {
   "display_name": "Python 3 (ipykernel)",
   "language": "python",
   "name": "python3"
  },
  "language_info": {
   "codemirror_mode": {
    "name": "ipython",
    "version": 3
   },
   "file_extension": ".py",
   "mimetype": "text/x-python",
   "name": "python",
   "nbconvert_exporter": "python",
   "pygments_lexer": "ipython3",
   "version": "3.9.12"
  }
 },
 "nbformat": 4,
 "nbformat_minor": 5
}
