{
 "cells": [
  {
   "cell_type": "code",
   "execution_count": null,
   "id": "c7bc6f68",
   "metadata": {},
   "outputs": [],
   "source": [
    "#Loading packages \n",
    "import os\n",
    "import pandas as pd\n",
    "import numpy as np\n",
    "import matplotlib.pyplot as plt\n",
    "import seaborn as sns"
   ]
  },
  {
   "cell_type": "code",
   "execution_count": null,
   "id": "dbee9855",
   "metadata": {},
   "outputs": [],
   "source": [
    "zhome_values_zip = pd.read_csv('data/clean/zhome_value.csv')\n",
    "\n",
    "df = pd.DataFrame(zhome_values_zip)"
   ]
  },
  {
   "cell_type": "code",
   "execution_count": null,
   "id": "05cf4eb1",
   "metadata": {},
   "outputs": [],
   "source": [
    "df['home_value'].hist()\n",
    "\n",
    "plt.title(\"Distribution of Home Values\")\n",
    "plt.xlabel(\"Home Value (dollars)\")\n",
    "plt.ylabel(\"Number of Houses\")\n",
    "\n",
    "# Show the plot\n",
    "plt.show()"
   ]
  },
  {
   "cell_type": "code",
   "execution_count": null,
   "id": "86433076",
   "metadata": {},
   "outputs": [],
   "source": [
    "sns.heatmap(df.pivot_table(index='borough', columns='zip_code', values='home_value', aggfunc='mean'))\n",
    "plt.xlabel('Zip code')\n",
    "plt.ylabel('Borough')\n",
    "plt.title('Zillow Home Values by Zipcode(millions)')\n",
    "plt.show()"
   ]
  },
  {
   "cell_type": "code",
   "execution_count": null,
   "id": "d07f8d6b",
   "metadata": {},
   "outputs": [],
   "source": [
    "df_mean = df.groupby(['zip_code', 'borough']).home_value.mean().reset_index()\n",
    "\n",
    "df_mean.sort_values(by='home_value', ascending=False, inplace=True)\n",
    "\n",
    "print(df_mean)"
   ]
  },
  {
   "cell_type": "code",
   "execution_count": null,
   "id": "06e0fd28",
   "metadata": {},
   "outputs": [],
   "source": [
    "#MANHATTAN TOP 5 ZIP CODES\n",
    "\n",
    "df_manhattan= df_mean[df_mean['borough'].isin(['MANHATTAN'])]\n",
    "\n",
    "# Sort the rows by home value in descending order\n",
    "df_manhattan = df_manhattan.sort_values(by='home_value', ascending=False)\n",
    "\n",
    "# Select the top 5 rows\n",
    "manhattan_top_5 = df_manhattan.head(5)\n",
    "\n",
    "# Print the resulting dataframe\n",
    "print(manhattan_top_5)\n",
    "\n",
    "#QUEENS TOP 5 ZIPCODES\n",
    "df_queens= df_mean[df_mean['borough'].isin(['QUEENS'])]\n",
    "\n",
    "# Sort the rows by home value in descending order\n",
    "df_queens = df_queens.sort_values(by='home_value', ascending=False)\n",
    "\n",
    "# Select the top 5 rows\n",
    "queens_top_5 = df_queens.head(5)\n",
    "\n",
    "# Print the resulting dataframe\n",
    "print(queens_top_5)\n",
    "\n",
    "\n",
    "#BK TOP 5 ZIPCODES\n",
    "df_brooklyn= df_mean[df_mean['borough'].isin(['BROOKLYN'])]\n",
    "\n",
    "# Sort the rows by home value in descending order\n",
    "df_brooklyn = df_brooklyn.sort_values(by='home_value', ascending=False)\n",
    "\n",
    "# Select the top 5 rows\n",
    "bk_top_5 = df_brooklyn.head(5)\n",
    "\n",
    "# Print the resulting dataframe\n",
    "print(bk_top_5)\n",
    "\n",
    "#STATEN ILAND TOP 5 ZIPCODES\n",
    "df_staten= df_mean[df_mean['borough'].isin(['STATEN_ISLAND'])]\n",
    "\n",
    "# Sort the rows by home value in descending order\n",
    "df_staten = df_staten.sort_values(by='home_value', ascending=False)\n",
    "\n",
    "# Select the top 5 rows\n",
    "staten_top_5 = df_staten.head(5)\n",
    "\n",
    "# Print the resulting dataframe\n",
    "print(staten_top_5)\n",
    "\n",
    "\n",
    "#BRONX TOP 5 ZIPCODES\n",
    "df_bronx= df_mean[df_mean['borough'].isin(['BRONX'])]\n",
    "\n",
    "# Sort the rows by home value in descending order\n",
    "df_bronx = df_bronx.sort_values(by='home_value', ascending=False)\n",
    "\n",
    "# Select the top 5 rows\n",
    "bronx_top_5 = df_bronx.head(5)\n",
    "\n",
    "# Print the resulting dataframe\n",
    "print(bronx_top_5)"
   ]
  },
  {
   "cell_type": "code",
   "execution_count": null,
   "id": "0dd55f74",
   "metadata": {},
   "outputs": [],
   "source": [
    "top5_zip_per_boro = pd.concat([manhattan_top_5, bk_top_5, queens_top_5, bronx_top_5, staten_top_5], axis=0)\n",
    "\n",
    "print(top5_zip_per_boro)"
   ]
  },
  {
   "cell_type": "code",
   "execution_count": null,
   "id": "6ccb75f6",
   "metadata": {},
   "outputs": [],
   "source": [
    "mean_home_value_by_borough_zip = top5_zip_per_boro.groupby(['borough', 'zip_code'])['home_value'].mean()\n",
    "mean_home_value_pivot = mean_home_value_by_borough_zip.unstack(level=0)\n",
    "\n",
    "\n",
    "# Plot the pivot table as a bar plot\n",
    "mean_home_value_pivot.plot.bar()\n",
    "plt.title(\"Top 5 Home Values by Borough and Zip Code\")\n",
    "plt.xlabel(\"Zip Code\")\n",
    "plt.ylabel(\"Mean Home Value (dollars)\")\n",
    "# Show the plot"
   ]
  },
  {
   "cell_type": "code",
   "execution_count": null,
   "id": "d1a17264",
   "metadata": {},
   "outputs": [],
   "source": []
  },
  {
   "cell_type": "code",
   "execution_count": null,
   "id": "985707f6",
   "metadata": {},
   "outputs": [],
   "source": []
  },
  {
   "cell_type": "code",
   "execution_count": null,
   "id": "46b269ae",
   "metadata": {},
   "outputs": [],
   "source": []
  },
  {
   "cell_type": "code",
   "execution_count": null,
   "id": "7bdcbbdd",
   "metadata": {},
   "outputs": [],
   "source": []
  },
  {
   "cell_type": "code",
   "execution_count": null,
   "id": "8743183f",
   "metadata": {},
   "outputs": [],
   "source": []
  },
  {
   "cell_type": "code",
   "execution_count": null,
   "id": "ad06850e",
   "metadata": {},
   "outputs": [],
   "source": []
  },
  {
   "cell_type": "code",
   "execution_count": null,
   "id": "424feab6",
   "metadata": {},
   "outputs": [],
   "source": []
  }
 ],
 "metadata": {
  "kernelspec": {
   "display_name": "Python 3 (ipykernel)",
   "language": "python",
   "name": "python3"
  },
  "language_info": {
   "codemirror_mode": {
    "name": "ipython",
    "version": 3
   },
   "file_extension": ".py",
   "mimetype": "text/x-python",
   "name": "python",
   "nbconvert_exporter": "python",
   "pygments_lexer": "ipython3",
   "version": "3.9.12"
  }
 },
 "nbformat": 4,
 "nbformat_minor": 5
}
