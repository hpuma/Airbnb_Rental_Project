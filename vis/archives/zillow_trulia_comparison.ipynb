{
 "cells": [
  {
   "cell_type": "code",
   "execution_count": 1,
   "id": "578ae412",
   "metadata": {},
   "outputs": [],
   "source": [
    "import random\n",
    "import os\n",
    "import pandas as pd\n",
    "import numpy as np\n",
    "import matplotlib.pyplot as plt\n",
    "import seaborn as sns\n",
    "from scipy.stats import chi2_contingency\n",
    "#import pingouin\n",
    "from datetime import datetime\n",
    "from matplotlib.pyplot import figure\n"
   ]
  },
  {
   "cell_type": "code",
   "execution_count": 2,
   "id": "a471174f",
   "metadata": {
    "scrolled": false
   },
   "outputs": [
    {
     "ename": "FileNotFoundError",
     "evalue": "[Errno 2] No such file or directory: './data/clean/zrentals.csv'",
     "output_type": "error",
     "traceback": [
      "\u001b[1;31m---------------------------------------------------------------------------\u001b[0m",
      "\u001b[1;31mFileNotFoundError\u001b[0m                         Traceback (most recent call last)",
      "Cell \u001b[1;32mIn[2], line 1\u001b[0m\n\u001b[1;32m----> 1\u001b[0m zrent \u001b[39m=\u001b[39m pd\u001b[39m.\u001b[39;49mread_csv(\u001b[39m\"\u001b[39;49m\u001b[39m./data/clean/zrentals.csv\u001b[39;49m\u001b[39m\"\u001b[39;49m)\n\u001b[0;32m      3\u001b[0m zrent[\u001b[39m\"\u001b[39m\u001b[39mzip_code\u001b[39m\u001b[39m\"\u001b[39m] \u001b[39m=\u001b[39m zrent[\u001b[39m\"\u001b[39m\u001b[39mzip_code\u001b[39m\u001b[39m\"\u001b[39m]\u001b[39m.\u001b[39mapply(\u001b[39mint\u001b[39m)\n\u001b[0;32m      4\u001b[0m zrent[\u001b[39m\"\u001b[39m\u001b[39mdate\u001b[39m\u001b[39m\"\u001b[39m] \u001b[39m=\u001b[39m pd\u001b[39m.\u001b[39mto_datetime(zrent[\u001b[39m\"\u001b[39m\u001b[39mdate\u001b[39m\u001b[39m\"\u001b[39m])\n",
      "File \u001b[1;32mc:\\Users\\pumah\\AppData\\Local\\Programs\\Python\\Python311\\Lib\\site-packages\\pandas\\util\\_decorators.py:211\u001b[0m, in \u001b[0;36mdeprecate_kwarg.<locals>._deprecate_kwarg.<locals>.wrapper\u001b[1;34m(*args, **kwargs)\u001b[0m\n\u001b[0;32m    209\u001b[0m     \u001b[39melse\u001b[39;00m:\n\u001b[0;32m    210\u001b[0m         kwargs[new_arg_name] \u001b[39m=\u001b[39m new_arg_value\n\u001b[1;32m--> 211\u001b[0m \u001b[39mreturn\u001b[39;00m func(\u001b[39m*\u001b[39;49margs, \u001b[39m*\u001b[39;49m\u001b[39m*\u001b[39;49mkwargs)\n",
      "File \u001b[1;32mc:\\Users\\pumah\\AppData\\Local\\Programs\\Python\\Python311\\Lib\\site-packages\\pandas\\util\\_decorators.py:331\u001b[0m, in \u001b[0;36mdeprecate_nonkeyword_arguments.<locals>.decorate.<locals>.wrapper\u001b[1;34m(*args, **kwargs)\u001b[0m\n\u001b[0;32m    325\u001b[0m \u001b[39mif\u001b[39;00m \u001b[39mlen\u001b[39m(args) \u001b[39m>\u001b[39m num_allow_args:\n\u001b[0;32m    326\u001b[0m     warnings\u001b[39m.\u001b[39mwarn(\n\u001b[0;32m    327\u001b[0m         msg\u001b[39m.\u001b[39mformat(arguments\u001b[39m=\u001b[39m_format_argument_list(allow_args)),\n\u001b[0;32m    328\u001b[0m         \u001b[39mFutureWarning\u001b[39;00m,\n\u001b[0;32m    329\u001b[0m         stacklevel\u001b[39m=\u001b[39mfind_stack_level(),\n\u001b[0;32m    330\u001b[0m     )\n\u001b[1;32m--> 331\u001b[0m \u001b[39mreturn\u001b[39;00m func(\u001b[39m*\u001b[39;49margs, \u001b[39m*\u001b[39;49m\u001b[39m*\u001b[39;49mkwargs)\n",
      "File \u001b[1;32mc:\\Users\\pumah\\AppData\\Local\\Programs\\Python\\Python311\\Lib\\site-packages\\pandas\\io\\parsers\\readers.py:950\u001b[0m, in \u001b[0;36mread_csv\u001b[1;34m(filepath_or_buffer, sep, delimiter, header, names, index_col, usecols, squeeze, prefix, mangle_dupe_cols, dtype, engine, converters, true_values, false_values, skipinitialspace, skiprows, skipfooter, nrows, na_values, keep_default_na, na_filter, verbose, skip_blank_lines, parse_dates, infer_datetime_format, keep_date_col, date_parser, dayfirst, cache_dates, iterator, chunksize, compression, thousands, decimal, lineterminator, quotechar, quoting, doublequote, escapechar, comment, encoding, encoding_errors, dialect, error_bad_lines, warn_bad_lines, on_bad_lines, delim_whitespace, low_memory, memory_map, float_precision, storage_options)\u001b[0m\n\u001b[0;32m    935\u001b[0m kwds_defaults \u001b[39m=\u001b[39m _refine_defaults_read(\n\u001b[0;32m    936\u001b[0m     dialect,\n\u001b[0;32m    937\u001b[0m     delimiter,\n\u001b[1;32m   (...)\u001b[0m\n\u001b[0;32m    946\u001b[0m     defaults\u001b[39m=\u001b[39m{\u001b[39m\"\u001b[39m\u001b[39mdelimiter\u001b[39m\u001b[39m\"\u001b[39m: \u001b[39m\"\u001b[39m\u001b[39m,\u001b[39m\u001b[39m\"\u001b[39m},\n\u001b[0;32m    947\u001b[0m )\n\u001b[0;32m    948\u001b[0m kwds\u001b[39m.\u001b[39mupdate(kwds_defaults)\n\u001b[1;32m--> 950\u001b[0m \u001b[39mreturn\u001b[39;00m _read(filepath_or_buffer, kwds)\n",
      "File \u001b[1;32mc:\\Users\\pumah\\AppData\\Local\\Programs\\Python\\Python311\\Lib\\site-packages\\pandas\\io\\parsers\\readers.py:605\u001b[0m, in \u001b[0;36m_read\u001b[1;34m(filepath_or_buffer, kwds)\u001b[0m\n\u001b[0;32m    602\u001b[0m _validate_names(kwds\u001b[39m.\u001b[39mget(\u001b[39m\"\u001b[39m\u001b[39mnames\u001b[39m\u001b[39m\"\u001b[39m, \u001b[39mNone\u001b[39;00m))\n\u001b[0;32m    604\u001b[0m \u001b[39m# Create the parser.\u001b[39;00m\n\u001b[1;32m--> 605\u001b[0m parser \u001b[39m=\u001b[39m TextFileReader(filepath_or_buffer, \u001b[39m*\u001b[39;49m\u001b[39m*\u001b[39;49mkwds)\n\u001b[0;32m    607\u001b[0m \u001b[39mif\u001b[39;00m chunksize \u001b[39mor\u001b[39;00m iterator:\n\u001b[0;32m    608\u001b[0m     \u001b[39mreturn\u001b[39;00m parser\n",
      "File \u001b[1;32mc:\\Users\\pumah\\AppData\\Local\\Programs\\Python\\Python311\\Lib\\site-packages\\pandas\\io\\parsers\\readers.py:1442\u001b[0m, in \u001b[0;36mTextFileReader.__init__\u001b[1;34m(self, f, engine, **kwds)\u001b[0m\n\u001b[0;32m   1439\u001b[0m     \u001b[39mself\u001b[39m\u001b[39m.\u001b[39moptions[\u001b[39m\"\u001b[39m\u001b[39mhas_index_names\u001b[39m\u001b[39m\"\u001b[39m] \u001b[39m=\u001b[39m kwds[\u001b[39m\"\u001b[39m\u001b[39mhas_index_names\u001b[39m\u001b[39m\"\u001b[39m]\n\u001b[0;32m   1441\u001b[0m \u001b[39mself\u001b[39m\u001b[39m.\u001b[39mhandles: IOHandles \u001b[39m|\u001b[39m \u001b[39mNone\u001b[39;00m \u001b[39m=\u001b[39m \u001b[39mNone\u001b[39;00m\n\u001b[1;32m-> 1442\u001b[0m \u001b[39mself\u001b[39m\u001b[39m.\u001b[39m_engine \u001b[39m=\u001b[39m \u001b[39mself\u001b[39;49m\u001b[39m.\u001b[39;49m_make_engine(f, \u001b[39mself\u001b[39;49m\u001b[39m.\u001b[39;49mengine)\n",
      "File \u001b[1;32mc:\\Users\\pumah\\AppData\\Local\\Programs\\Python\\Python311\\Lib\\site-packages\\pandas\\io\\parsers\\readers.py:1735\u001b[0m, in \u001b[0;36mTextFileReader._make_engine\u001b[1;34m(self, f, engine)\u001b[0m\n\u001b[0;32m   1733\u001b[0m     \u001b[39mif\u001b[39;00m \u001b[39m\"\u001b[39m\u001b[39mb\u001b[39m\u001b[39m\"\u001b[39m \u001b[39mnot\u001b[39;00m \u001b[39min\u001b[39;00m mode:\n\u001b[0;32m   1734\u001b[0m         mode \u001b[39m+\u001b[39m\u001b[39m=\u001b[39m \u001b[39m\"\u001b[39m\u001b[39mb\u001b[39m\u001b[39m\"\u001b[39m\n\u001b[1;32m-> 1735\u001b[0m \u001b[39mself\u001b[39m\u001b[39m.\u001b[39mhandles \u001b[39m=\u001b[39m get_handle(\n\u001b[0;32m   1736\u001b[0m     f,\n\u001b[0;32m   1737\u001b[0m     mode,\n\u001b[0;32m   1738\u001b[0m     encoding\u001b[39m=\u001b[39;49m\u001b[39mself\u001b[39;49m\u001b[39m.\u001b[39;49moptions\u001b[39m.\u001b[39;49mget(\u001b[39m\"\u001b[39;49m\u001b[39mencoding\u001b[39;49m\u001b[39m\"\u001b[39;49m, \u001b[39mNone\u001b[39;49;00m),\n\u001b[0;32m   1739\u001b[0m     compression\u001b[39m=\u001b[39;49m\u001b[39mself\u001b[39;49m\u001b[39m.\u001b[39;49moptions\u001b[39m.\u001b[39;49mget(\u001b[39m\"\u001b[39;49m\u001b[39mcompression\u001b[39;49m\u001b[39m\"\u001b[39;49m, \u001b[39mNone\u001b[39;49;00m),\n\u001b[0;32m   1740\u001b[0m     memory_map\u001b[39m=\u001b[39;49m\u001b[39mself\u001b[39;49m\u001b[39m.\u001b[39;49moptions\u001b[39m.\u001b[39;49mget(\u001b[39m\"\u001b[39;49m\u001b[39mmemory_map\u001b[39;49m\u001b[39m\"\u001b[39;49m, \u001b[39mFalse\u001b[39;49;00m),\n\u001b[0;32m   1741\u001b[0m     is_text\u001b[39m=\u001b[39;49mis_text,\n\u001b[0;32m   1742\u001b[0m     errors\u001b[39m=\u001b[39;49m\u001b[39mself\u001b[39;49m\u001b[39m.\u001b[39;49moptions\u001b[39m.\u001b[39;49mget(\u001b[39m\"\u001b[39;49m\u001b[39mencoding_errors\u001b[39;49m\u001b[39m\"\u001b[39;49m, \u001b[39m\"\u001b[39;49m\u001b[39mstrict\u001b[39;49m\u001b[39m\"\u001b[39;49m),\n\u001b[0;32m   1743\u001b[0m     storage_options\u001b[39m=\u001b[39;49m\u001b[39mself\u001b[39;49m\u001b[39m.\u001b[39;49moptions\u001b[39m.\u001b[39;49mget(\u001b[39m\"\u001b[39;49m\u001b[39mstorage_options\u001b[39;49m\u001b[39m\"\u001b[39;49m, \u001b[39mNone\u001b[39;49;00m),\n\u001b[0;32m   1744\u001b[0m )\n\u001b[0;32m   1745\u001b[0m \u001b[39massert\u001b[39;00m \u001b[39mself\u001b[39m\u001b[39m.\u001b[39mhandles \u001b[39mis\u001b[39;00m \u001b[39mnot\u001b[39;00m \u001b[39mNone\u001b[39;00m\n\u001b[0;32m   1746\u001b[0m f \u001b[39m=\u001b[39m \u001b[39mself\u001b[39m\u001b[39m.\u001b[39mhandles\u001b[39m.\u001b[39mhandle\n",
      "File \u001b[1;32mc:\\Users\\pumah\\AppData\\Local\\Programs\\Python\\Python311\\Lib\\site-packages\\pandas\\io\\common.py:856\u001b[0m, in \u001b[0;36mget_handle\u001b[1;34m(path_or_buf, mode, encoding, compression, memory_map, is_text, errors, storage_options)\u001b[0m\n\u001b[0;32m    851\u001b[0m \u001b[39melif\u001b[39;00m \u001b[39misinstance\u001b[39m(handle, \u001b[39mstr\u001b[39m):\n\u001b[0;32m    852\u001b[0m     \u001b[39m# Check whether the filename is to be opened in binary mode.\u001b[39;00m\n\u001b[0;32m    853\u001b[0m     \u001b[39m# Binary mode does not support 'encoding' and 'newline'.\u001b[39;00m\n\u001b[0;32m    854\u001b[0m     \u001b[39mif\u001b[39;00m ioargs\u001b[39m.\u001b[39mencoding \u001b[39mand\u001b[39;00m \u001b[39m\"\u001b[39m\u001b[39mb\u001b[39m\u001b[39m\"\u001b[39m \u001b[39mnot\u001b[39;00m \u001b[39min\u001b[39;00m ioargs\u001b[39m.\u001b[39mmode:\n\u001b[0;32m    855\u001b[0m         \u001b[39m# Encoding\u001b[39;00m\n\u001b[1;32m--> 856\u001b[0m         handle \u001b[39m=\u001b[39m \u001b[39mopen\u001b[39;49m(\n\u001b[0;32m    857\u001b[0m             handle,\n\u001b[0;32m    858\u001b[0m             ioargs\u001b[39m.\u001b[39;49mmode,\n\u001b[0;32m    859\u001b[0m             encoding\u001b[39m=\u001b[39;49mioargs\u001b[39m.\u001b[39;49mencoding,\n\u001b[0;32m    860\u001b[0m             errors\u001b[39m=\u001b[39;49merrors,\n\u001b[0;32m    861\u001b[0m             newline\u001b[39m=\u001b[39;49m\u001b[39m\"\u001b[39;49m\u001b[39m\"\u001b[39;49m,\n\u001b[0;32m    862\u001b[0m         )\n\u001b[0;32m    863\u001b[0m     \u001b[39melse\u001b[39;00m:\n\u001b[0;32m    864\u001b[0m         \u001b[39m# Binary mode\u001b[39;00m\n\u001b[0;32m    865\u001b[0m         handle \u001b[39m=\u001b[39m \u001b[39mopen\u001b[39m(handle, ioargs\u001b[39m.\u001b[39mmode)\n",
      "\u001b[1;31mFileNotFoundError\u001b[0m: [Errno 2] No such file or directory: './data/clean/zrentals.csv'"
     ]
    }
   ],
   "source": [
    "zrent = pd.read_csv(\"./data/clean/zrentals.csv\")\n",
    "\n",
    "zrent[\"zip_code\"] = zrent[\"zip_code\"].apply(int)\n",
    "zrent[\"date\"] = pd.to_datetime(zrent[\"date\"])\n",
    "zrent[\"borough\"] = zrent[\"borough\"].apply(str)\n",
    "zrent[\"city\"] = zrent[\"city\"].apply(str)\n",
    "zrent[\"mean_rent\"] = zrent[\"mean_rent\"].apply(int)\n",
    "zrent"
   ]
  },
  {
   "cell_type": "code",
   "execution_count": null,
   "id": "c658b5bb",
   "metadata": {
    "scrolled": true
   },
   "outputs": [
    {
     "data": {
      "text/html": [
       "<div>\n",
       "<style scoped>\n",
       "    .dataframe tbody tr th:only-of-type {\n",
       "        vertical-align: middle;\n",
       "    }\n",
       "\n",
       "    .dataframe tbody tr th {\n",
       "        vertical-align: top;\n",
       "    }\n",
       "\n",
       "    .dataframe thead th {\n",
       "        text-align: right;\n",
       "    }\n",
       "</style>\n",
       "<table border=\"1\" class=\"dataframe\">\n",
       "  <thead>\n",
       "    <tr style=\"text-align: right;\">\n",
       "      <th></th>\n",
       "      <th>address</th>\n",
       "      <th>borough</th>\n",
       "      <th>zip_code</th>\n",
       "      <th>price</th>\n",
       "      <th>listing_url</th>\n",
       "      <th>Borough</th>\n",
       "    </tr>\n",
       "  </thead>\n",
       "  <tbody>\n",
       "    <tr>\n",
       "      <th>0</th>\n",
       "      <td>2600 Netherland Ave Bronx, NY 10463</td>\n",
       "      <td>QUEENS</td>\n",
       "      <td>11385</td>\n",
       "      <td>2245.0</td>\n",
       "      <td>https://www.trulia.com/c/ny/bronx/the-century-...</td>\n",
       "      <td>Bronx</td>\n",
       "    </tr>\n",
       "    <tr>\n",
       "      <th>1</th>\n",
       "      <td>2600 Netherland Ave Bronx, NY 10463</td>\n",
       "      <td>BRONX</td>\n",
       "      <td>10467</td>\n",
       "      <td>2600.0</td>\n",
       "      <td>https://www.trulia.com/c/ny/bronx/the-century-...</td>\n",
       "      <td>Bronx</td>\n",
       "    </tr>\n",
       "    <tr>\n",
       "      <th>2</th>\n",
       "      <td>2600 Netherland Ave Bronx, NY 10463</td>\n",
       "      <td>BROOKLYN</td>\n",
       "      <td>11226</td>\n",
       "      <td>3675.0</td>\n",
       "      <td>https://www.trulia.com/c/ny/bronx/the-century-...</td>\n",
       "      <td>Bronx</td>\n",
       "    </tr>\n",
       "    <tr>\n",
       "      <th>3</th>\n",
       "      <td>939 Woodycrest Ave Bronx, NY 10452</td>\n",
       "      <td>BROOKLYN</td>\n",
       "      <td>11220</td>\n",
       "      <td>1581.0</td>\n",
       "      <td>https://www.trulia.com/c/ny/bronx/noonan-tower...</td>\n",
       "      <td>Bronx</td>\n",
       "    </tr>\n",
       "    <tr>\n",
       "      <th>4</th>\n",
       "      <td>939 Woodycrest Ave Bronx, NY 10452</td>\n",
       "      <td>BROOKLYN</td>\n",
       "      <td>11207</td>\n",
       "      <td>1904.0</td>\n",
       "      <td>https://www.trulia.com/c/ny/bronx/noonan-tower...</td>\n",
       "      <td>Bronx</td>\n",
       "    </tr>\n",
       "    <tr>\n",
       "      <th>...</th>\n",
       "      <td>...</td>\n",
       "      <td>...</td>\n",
       "      <td>...</td>\n",
       "      <td>...</td>\n",
       "      <td>...</td>\n",
       "      <td>...</td>\n",
       "    </tr>\n",
       "    <tr>\n",
       "      <th>3971</th>\n",
       "      <td>12-07 Jackson Ave  #2F Long Island City, NY 11101</td>\n",
       "      <td>MANHATTAN</td>\n",
       "      <td>10028</td>\n",
       "      <td>NaN</td>\n",
       "      <td>https://www.trulia.com/p/ny/long-island-city/1...</td>\n",
       "      <td>Queens</td>\n",
       "    </tr>\n",
       "    <tr>\n",
       "      <th>3972</th>\n",
       "      <td>11123 76th Rd   #D8 Forest Hills, NY 11375</td>\n",
       "      <td>BROOKLYN</td>\n",
       "      <td>11228</td>\n",
       "      <td>NaN</td>\n",
       "      <td>https://www.trulia.com/p/ny/forest-hills/11123...</td>\n",
       "      <td>Queens</td>\n",
       "    </tr>\n",
       "    <tr>\n",
       "      <th>3973</th>\n",
       "      <td>3069 34th St   #3A Astoria, NY 11103</td>\n",
       "      <td>BROOKLYN</td>\n",
       "      <td>11205</td>\n",
       "      <td>NaN</td>\n",
       "      <td>https://www.trulia.com/p/ny/astoria/3069-34th-...</td>\n",
       "      <td>Queens</td>\n",
       "    </tr>\n",
       "    <tr>\n",
       "      <th>3974</th>\n",
       "      <td>125 W  31st St   #48F New York, NY 10001</td>\n",
       "      <td>MANHATTAN</td>\n",
       "      <td>10040</td>\n",
       "      <td>NaN</td>\n",
       "      <td>https://www.trulia.com/p/ny/new-york/125-w-31s...</td>\n",
       "      <td>New York</td>\n",
       "    </tr>\n",
       "    <tr>\n",
       "      <th>3975</th>\n",
       "      <td>80-34 164th St   #2 Jamaica, NY 11432</td>\n",
       "      <td>QUEENS</td>\n",
       "      <td>11374</td>\n",
       "      <td>NaN</td>\n",
       "      <td>https://www.trulia.com/p/ny/jamaica/80-34-164t...</td>\n",
       "      <td>Queens</td>\n",
       "    </tr>\n",
       "  </tbody>\n",
       "</table>\n",
       "<p>3976 rows × 6 columns</p>\n",
       "</div>"
      ],
      "text/plain": [
       "                                                address    borough  zip_code  \\\n",
       "0                   2600 Netherland Ave Bronx, NY 10463     QUEENS     11385   \n",
       "1                   2600 Netherland Ave Bronx, NY 10463      BRONX     10467   \n",
       "2                   2600 Netherland Ave Bronx, NY 10463   BROOKLYN     11226   \n",
       "3                    939 Woodycrest Ave Bronx, NY 10452   BROOKLYN     11220   \n",
       "4                    939 Woodycrest Ave Bronx, NY 10452   BROOKLYN     11207   \n",
       "...                                                 ...        ...       ...   \n",
       "3971  12-07 Jackson Ave  #2F Long Island City, NY 11101  MANHATTAN     10028   \n",
       "3972         11123 76th Rd   #D8 Forest Hills, NY 11375   BROOKLYN     11228   \n",
       "3973               3069 34th St   #3A Astoria, NY 11103   BROOKLYN     11205   \n",
       "3974           125 W  31st St   #48F New York, NY 10001  MANHATTAN     10040   \n",
       "3975              80-34 164th St   #2 Jamaica, NY 11432     QUEENS     11374   \n",
       "\n",
       "       price                                        listing_url   Borough  \n",
       "0     2245.0  https://www.trulia.com/c/ny/bronx/the-century-...     Bronx  \n",
       "1     2600.0  https://www.trulia.com/c/ny/bronx/the-century-...     Bronx  \n",
       "2     3675.0  https://www.trulia.com/c/ny/bronx/the-century-...     Bronx  \n",
       "3     1581.0  https://www.trulia.com/c/ny/bronx/noonan-tower...     Bronx  \n",
       "4     1904.0  https://www.trulia.com/c/ny/bronx/noonan-tower...     Bronx  \n",
       "...      ...                                                ...       ...  \n",
       "3971     NaN  https://www.trulia.com/p/ny/long-island-city/1...    Queens  \n",
       "3972     NaN  https://www.trulia.com/p/ny/forest-hills/11123...    Queens  \n",
       "3973     NaN  https://www.trulia.com/p/ny/astoria/3069-34th-...    Queens  \n",
       "3974     NaN  https://www.trulia.com/p/ny/new-york/125-w-31s...  New York  \n",
       "3975     NaN  https://www.trulia.com/p/ny/jamaica/80-34-164t...    Queens  \n",
       "\n",
       "[3976 rows x 6 columns]"
      ]
     },
     "execution_count": 3,
     "metadata": {},
     "output_type": "execute_result"
    }
   ],
   "source": [
    "trulia = pd.read_csv(\"./data/clean/trulia_test.csv\")\n",
    "trulia = trulia.rename(columns={\"County\": \"borough\", \"Address\": \"address\", \"Zip\":\"zip_code\",\n",
    "                                \"Listing Url\": \"listing_url\"})\n",
    "trulia[\"zip_code\"] = zrent[\"zip_code\"].apply(int)\n",
    "trulia[\"borough\"] = zrent[\"borough\"].apply(str)\n",
    "trulia[\"price\"] = trulia[\"price\"].dropna()\n",
    "#trulia[\"address\"] = zrent[\"address\"].apply(str)\n",
    "\n",
    "\n",
    "trulia"
   ]
  },
  {
   "cell_type": "code",
   "execution_count": null,
   "id": "2671fea5",
   "metadata": {},
   "outputs": [],
   "source": [
    "columns_to_keep1 = [\"zip_code\",\"mean_rent\",\"borough\",\"date\"]\n",
    "columns_to_keep2 = [\"zip_code\",\"price\",\"borough\"]\n",
    "# Merge the DataFrames and drop unnecessary columns\n",
    "zillow_trulia = pd.merge(zrent[columns_to_keep1], trulia[columns_to_keep2], on=[\"zip_code\",\"borough\"])\n",
    "zillow_trulia = zillow_trulia.dropna()"
   ]
  },
  {
   "cell_type": "code",
   "execution_count": null,
   "id": "549da3ca",
   "metadata": {},
   "outputs": [
    {
     "data": {
      "text/html": [
       "<div>\n",
       "<style scoped>\n",
       "    .dataframe tbody tr th:only-of-type {\n",
       "        vertical-align: middle;\n",
       "    }\n",
       "\n",
       "    .dataframe tbody tr th {\n",
       "        vertical-align: top;\n",
       "    }\n",
       "\n",
       "    .dataframe thead th {\n",
       "        text-align: right;\n",
       "    }\n",
       "</style>\n",
       "<table border=\"1\" class=\"dataframe\">\n",
       "  <thead>\n",
       "    <tr style=\"text-align: right;\">\n",
       "      <th></th>\n",
       "      <th>zip_code</th>\n",
       "      <th>mean_rent</th>\n",
       "      <th>borough</th>\n",
       "      <th>date</th>\n",
       "      <th>price</th>\n",
       "    </tr>\n",
       "  </thead>\n",
       "  <tbody>\n",
       "    <tr>\n",
       "      <th>0</th>\n",
       "      <td>11385</td>\n",
       "      <td>2216</td>\n",
       "      <td>QUEENS</td>\n",
       "      <td>2015-03-31</td>\n",
       "      <td>2245.0</td>\n",
       "    </tr>\n",
       "    <tr>\n",
       "      <th>1</th>\n",
       "      <td>11385</td>\n",
       "      <td>2216</td>\n",
       "      <td>QUEENS</td>\n",
       "      <td>2015-03-31</td>\n",
       "      <td>2585.0</td>\n",
       "    </tr>\n",
       "    <tr>\n",
       "      <th>2</th>\n",
       "      <td>11385</td>\n",
       "      <td>2216</td>\n",
       "      <td>QUEENS</td>\n",
       "      <td>2015-03-31</td>\n",
       "      <td>6188.0</td>\n",
       "    </tr>\n",
       "    <tr>\n",
       "      <th>3</th>\n",
       "      <td>11385</td>\n",
       "      <td>2216</td>\n",
       "      <td>QUEENS</td>\n",
       "      <td>2015-03-31</td>\n",
       "      <td>5745.0</td>\n",
       "    </tr>\n",
       "    <tr>\n",
       "      <th>4</th>\n",
       "      <td>11385</td>\n",
       "      <td>2216</td>\n",
       "      <td>QUEENS</td>\n",
       "      <td>2015-03-31</td>\n",
       "      <td>3245.0</td>\n",
       "    </tr>\n",
       "    <tr>\n",
       "      <th>...</th>\n",
       "      <td>...</td>\n",
       "      <td>...</td>\n",
       "      <td>...</td>\n",
       "      <td>...</td>\n",
       "      <td>...</td>\n",
       "    </tr>\n",
       "    <tr>\n",
       "      <th>352492</th>\n",
       "      <td>10314</td>\n",
       "      <td>1998</td>\n",
       "      <td>STATEN_ISLAND</td>\n",
       "      <td>2022-06-30</td>\n",
       "      <td>3868.0</td>\n",
       "    </tr>\n",
       "    <tr>\n",
       "      <th>352525</th>\n",
       "      <td>10314</td>\n",
       "      <td>2016</td>\n",
       "      <td>STATEN_ISLAND</td>\n",
       "      <td>2022-07-31</td>\n",
       "      <td>3868.0</td>\n",
       "    </tr>\n",
       "    <tr>\n",
       "      <th>352558</th>\n",
       "      <td>10314</td>\n",
       "      <td>2003</td>\n",
       "      <td>STATEN_ISLAND</td>\n",
       "      <td>2022-08-31</td>\n",
       "      <td>3868.0</td>\n",
       "    </tr>\n",
       "    <tr>\n",
       "      <th>352591</th>\n",
       "      <td>10314</td>\n",
       "      <td>2088</td>\n",
       "      <td>STATEN_ISLAND</td>\n",
       "      <td>2022-09-30</td>\n",
       "      <td>3868.0</td>\n",
       "    </tr>\n",
       "    <tr>\n",
       "      <th>352624</th>\n",
       "      <td>10314</td>\n",
       "      <td>2165</td>\n",
       "      <td>STATEN_ISLAND</td>\n",
       "      <td>2022-10-31</td>\n",
       "      <td>3868.0</td>\n",
       "    </tr>\n",
       "  </tbody>\n",
       "</table>\n",
       "<p>95863 rows × 5 columns</p>\n",
       "</div>"
      ],
      "text/plain": [
       "        zip_code  mean_rent        borough       date   price\n",
       "0          11385       2216         QUEENS 2015-03-31  2245.0\n",
       "1          11385       2216         QUEENS 2015-03-31  2585.0\n",
       "2          11385       2216         QUEENS 2015-03-31  6188.0\n",
       "3          11385       2216         QUEENS 2015-03-31  5745.0\n",
       "4          11385       2216         QUEENS 2015-03-31  3245.0\n",
       "...          ...        ...            ...        ...     ...\n",
       "352492     10314       1998  STATEN_ISLAND 2022-06-30  3868.0\n",
       "352525     10314       2016  STATEN_ISLAND 2022-07-31  3868.0\n",
       "352558     10314       2003  STATEN_ISLAND 2022-08-31  3868.0\n",
       "352591     10314       2088  STATEN_ISLAND 2022-09-30  3868.0\n",
       "352624     10314       2165  STATEN_ISLAND 2022-10-31  3868.0\n",
       "\n",
       "[95863 rows x 5 columns]"
      ]
     },
     "execution_count": 5,
     "metadata": {},
     "output_type": "execute_result"
    }
   ],
   "source": [
    "zillow_trulia"
   ]
  },
  {
   "cell_type": "code",
   "execution_count": null,
   "id": "03a7071e",
   "metadata": {
    "scrolled": true
   },
   "outputs": [
    {
     "data": {
      "text/plain": [
       "Text(0.5, 1.0, 'Average Rent from Trulia and Zillow by Zip Code')"
      ]
     },
     "execution_count": 6,
     "metadata": {},
     "output_type": "execute_result"
    },
    {
     "data": {
      "image/png": "[encoded data removed]",
      "text/plain": [
       "<Figure size 432x288 with 1 Axes>"
      ]
     },
     "metadata": {
      "needs_background": "light"
     },
     "output_type": "display_data"
    }
   ],
   "source": [
    "\n",
    "\n",
    "avg_prices = zillow_trulia.groupby([\"zip_code\"])[[\"mean_rent\", \"price\"]].mean()\n",
    "avg_prices[\"mean_rent\"] = avg_prices[\"mean_rent\"].apply(int)\n",
    "avg_prices = avg_prices.dropna()\n",
    "# Sort the DataFrame by the mean rent in descending order\n",
    "avg_prices = avg_prices.sort_values(by=\"mean_rent\", ascending=False)\n",
    "avg_prices = avg_prices.sort_values(by=\"mean_rent\", ascending=False)\n",
    "\n",
    "# Select the top 5 zip codes\n",
    "top_5 = avg_prices.head(5)\n",
    "\n",
    "# Create a bar chart comparing the mean rent and home value for the top 5 zip codes\n",
    "top_5.plot.bar(y = [\"mean_rent\", \"price\"])\n",
    "\n",
    "plt.legend([\"zillow Mean rent\", \"Trulia Mean Rent\"])\n",
    "\n",
    "plt.xlabel(\"Top 5 Zip Codes\", fontsize=12, fontstyle=\"italic\", color=\"purple\")\n",
    "plt.ylabel(\"Rent Price in thousands\", fontsize=12, fontstyle='italic', color=\"brown\")\n",
    "plt.title(\"Average Rent from Trulia and Zillow by Zip Code\", fontsize=16, fontstyle=\"italic\", color=\"brown\")"
   ]
  },
  {
   "cell_type": "code",
   "execution_count": null,
   "id": "0c7ca1f4",
   "metadata": {
    "scrolled": true
   },
   "outputs": [
    {
     "data": {
      "text/plain": [
       "8591    7976\n",
       "8453    7973\n",
       "8188    7897\n",
       "8320    7843\n",
       "8731    7836\n",
       "        ... \n",
       "427     1272\n",
       "510     1262\n",
       "261     1259\n",
       "179     1254\n",
       "1001    1134\n",
       "Name: mean_rent, Length: 8736, dtype: int64"
      ]
     },
     "execution_count": 7,
     "metadata": {},
     "output_type": "execute_result"
    }
   ],
   "source": [
    "df1 = zrent[\"mean_rent\"].sort_values(ascending =False)\n",
    "df1"
   ]
  },
  {
   "cell_type": "code",
   "execution_count": null,
   "id": "61bbc7c1",
   "metadata": {
    "scrolled": true
   },
   "outputs": [
    {
     "data": {
      "text/plain": [
       "281     13765.0\n",
       "280     13590.0\n",
       "187     13132.0\n",
       "534     12952.0\n",
       "320     12895.0\n",
       "         ...   \n",
       "3971        NaN\n",
       "3972        NaN\n",
       "3973        NaN\n",
       "3974        NaN\n",
       "3975        NaN\n",
       "Name: price, Length: 3976, dtype: float64"
      ]
     },
     "execution_count": 8,
     "metadata": {},
     "output_type": "execute_result"
    }
   ],
   "source": [
    "df2 = trulia[\"price\"].sort_values(ascending =False)\n",
    "df2"
   ]
  },
  {
   "cell_type": "code",
   "execution_count": null,
   "id": "8d207661",
   "metadata": {},
   "outputs": [
    {
     "data": {
      "text/plain": [
       "zip_code\n",
       "10001    92\n",
       "11228    92\n",
       "10463    92\n",
       "10462    92\n",
       "10461    92\n",
       "Name: mean_rent, dtype: int64"
      ]
     },
     "execution_count": 9,
     "metadata": {},
     "output_type": "execute_result"
    }
   ],
   "source": [
    "zrent.groupby([\"zip_code\"]).count()[\"mean_rent\"].sort_values(ascending=False).head(5)"
   ]
  },
  {
   "cell_type": "code",
   "execution_count": null,
   "id": "121e629f",
   "metadata": {
    "scrolled": false
   },
   "outputs": [
    {
     "name": "stderr",
     "output_type": "stream",
     "text": [
      "/var/folders/2r/0fj15shj34z2mbldl18cp9kc0000gp/T/ipykernel_84118/437514740.py:20: UserWarning: FixedFormatter should only be used together with FixedLocator\n",
      "  ax1.set_xticklabels(mean_rent_1.index, rotation=45)\n",
      "/var/folders/2r/0fj15shj34z2mbldl18cp9kc0000gp/T/ipykernel_84118/437514740.py:27: UserWarning: FixedFormatter should only be used together with FixedLocator\n",
      "  ax2.set_xticklabels(mean_rent_2.index, rotation=45)\n"
     ]
    },
    {
     "data": {
      "image/png": "[encoded data removed]",
      "text/plain": [
       "<Figure size 720x360 with 2 Axes>"
      ]
     },
     "metadata": {
      "needs_background": "light"
     },
     "output_type": "display_data"
    }
   ],
   "source": [
    "# Calculate the mean rent and price for each data frame\n",
    "mean_rent_1 = trulia.groupby('borough')['price'].mean()\n",
    "mean_price_1 = trulia.groupby('borough')['price'].mean()\n",
    "mean_rent_2 = zrent.groupby('borough')['mean_rent'].mean()\n",
    "mean_price_2 = zrent.groupby('borough')['mean_rent'].mean()\n",
    "\n",
    "# Sort the mean rent and price in descending order\n",
    "mean_rent_1 = mean_rent_1.sort_values(ascending=False)\n",
    "mean_price_1 = mean_price_1.sort_values(ascending=False)\n",
    "mean_rent_2 = mean_rent_2.sort_values(ascending=False)\n",
    "mean_price_2 = mean_price_2.sort_values(ascending=False)\n",
    "\n",
    "# Plot the mean rent and price for each data frame on separate graphs\n",
    "fig, (ax1, ax2) = plt.subplots(1, 2, figsize=(10, 5))\n",
    "ax1.plot(mean_price_1, 'b', label='price')\n",
    "ax1.set_xlabel('Borough')\n",
    "ax1.set_ylabel('Price per listing in thousands')\n",
    "ax1.set_title('Trulia price of Rent per Boro')\n",
    "ax1.legend()\n",
    "ax1.set_xticklabels(mean_rent_1.index, rotation=45)\n",
    "\n",
    "ax2.plot(mean_price_2, 'pink', label='mean_rent')\n",
    "ax2.set_xlabel('Borough')\n",
    "ax2.set_ylabel('Mean Rent in thousands')\n",
    "ax2.set_title('Zillow Mean Rent per Boro')\n",
    "ax2.legend()\n",
    "ax2.set_xticklabels(mean_rent_2.index, rotation=45)\n",
    "plt.show()\n"
   ]
  },
  {
   "cell_type": "code",
   "execution_count": null,
   "id": "05cd4701",
   "metadata": {
    "scrolled": true
   },
   "outputs": [
    {
     "data": {
      "image/png": "[encoded data removed]",
      "text/plain": [
       "<Figure size 432x288 with 2 Axes>"
      ]
     },
     "metadata": {
      "needs_background": "light"
     },
     "output_type": "display_data"
    }
   ],
   "source": [
    "mean_rent = zrent.groupby(['borough','zip_code'])['mean_rent'].mean()\n",
    "mean_price = trulia.groupby(['borough','zip_code'])['price'].mean()\n",
    "\n",
    "# Create a new DataFrame with the borough, zip code, and mean rent and price\n",
    "data = pd.DataFrame({'borough': mean_rent.index.get_level_values(0), \n",
    "                     'zip_code': mean_rent.index.get_level_values(1), \n",
    "                     'rent': mean_rent, \n",
    "                     'price': mean_price})\n",
    "\n",
    "# Create the correlation heat map\n",
    "sns.heatmap(data.corr(), annot=True)\n",
    "\n",
    "# Show the plot\n",
    "plt.show()\n",
    "\n",
    "# Pivot the DataFrame to create a matrix with the boroughs and zip codes as rows and columns\n"
   ]
  },
  {
   "cell_type": "code",
   "execution_count": null,
   "id": "85514652",
   "metadata": {},
   "outputs": [
    {
     "data": {
      "image/png": "[encoded data removed]",
      "text/plain": [
       "<Figure size 432x288 with 2 Axes>"
      ]
     },
     "metadata": {
      "needs_background": "light"
     },
     "output_type": "display_data"
    }
   ],
   "source": [
    "mean_rent = zrent.groupby(['borough', 'zip_code'])['mean_rent'].mean()\n",
    "mean_price = trulia.groupby(['borough', 'zip_code'])['price'].mean()\n",
    "\n",
    "# Create a new DataFrame with the borough, zip code, and mean rent and price\n",
    "data = pd.DataFrame({'borough': mean_rent.index.get_level_values(0), \n",
    "                     'zip_code': mean_rent.index.get_level_values(1), \n",
    "                     'rent': mean_rent, \n",
    "                     'price': mean_price})\n",
    "\n",
    "# Pivot the DataFrame to create a matrix with the boroughs and zip codes as rows and columns\n",
    "#pivoted = data.pivot_table(index=['borough', 'zip_code'], columns=['zip_code', 'borough'], values=['rent', 'price'])\n",
    "\n",
    "# Create the correlation heat map\n",
    "sns.heatmap(data.corr(),cmap = 'coolwarm', annot=True)\n",
    "\n",
    "# Add a title and labels to the plot\n",
    "plt.title('Correlation Heat Map')\n",
    "plt.xlabel('Zip Code')\n",
    "plt.ylabel('Borough')\n",
    "\n",
    "# Show the plot\n",
    "plt.show()\n",
    "\n"
   ]
  },
  {
   "cell_type": "code",
   "execution_count": null,
   "id": "ae48120f",
   "metadata": {},
   "outputs": [
    {
     "data": {
      "text/html": [
       "<div>\n",
       "<style scoped>\n",
       "    .dataframe tbody tr th:only-of-type {\n",
       "        vertical-align: middle;\n",
       "    }\n",
       "\n",
       "    .dataframe tbody tr th {\n",
       "        vertical-align: top;\n",
       "    }\n",
       "\n",
       "    .dataframe thead th {\n",
       "        text-align: right;\n",
       "    }\n",
       "</style>\n",
       "<table border=\"1\" class=\"dataframe\">\n",
       "  <thead>\n",
       "    <tr style=\"text-align: right;\">\n",
       "      <th></th>\n",
       "      <th>state</th>\n",
       "      <th>city</th>\n",
       "      <th>borough</th>\n",
       "      <th>date</th>\n",
       "      <th>mean_rent</th>\n",
       "    </tr>\n",
       "    <tr>\n",
       "      <th>zip_code</th>\n",
       "      <th></th>\n",
       "      <th></th>\n",
       "      <th></th>\n",
       "      <th></th>\n",
       "      <th></th>\n",
       "    </tr>\n",
       "  </thead>\n",
       "  <tbody>\n",
       "    <tr>\n",
       "      <th>10007</th>\n",
       "      <td>70</td>\n",
       "      <td>70</td>\n",
       "      <td>70</td>\n",
       "      <td>70</td>\n",
       "      <td>70</td>\n",
       "    </tr>\n",
       "  </tbody>\n",
       "</table>\n",
       "</div>"
      ],
      "text/plain": [
       "          state  city  borough  date  mean_rent\n",
       "zip_code                                       \n",
       "10007        70    70       70    70         70"
      ]
     },
     "execution_count": 13,
     "metadata": {},
     "output_type": "execute_result"
    }
   ],
   "source": [
    "#zrent_max = zrent.groupby([\"zip_code\"] == \"10007\").max() \n",
    "\n",
    "zrent[zrent[\"zip_code\"] == 10007].groupby(\"zip_code\").count() \n",
    "\n",
    "\n"
   ]
  },
  {
   "cell_type": "code",
   "execution_count": null,
   "id": "8714ab9a",
   "metadata": {
    "scrolled": false
   },
   "outputs": [
    {
     "data": {
      "text/plain": [
       "Text(0.5, 1.0, 'Average Rent from Trulia and Zillow by Zip Code')"
      ]
     },
     "execution_count": 14,
     "metadata": {},
     "output_type": "execute_result"
    },
    {
     "data": {
      "image/png": "[encoded data removed]",
      "text/plain": [
       "<Figure size 432x288 with 1 Axes>"
      ]
     },
     "metadata": {
      "needs_background": "light"
     },
     "output_type": "display_data"
    }
   ],
   "source": [
    "avg_prices = avg_prices.sort_values(by=\"mean_rent\", ascending=False)\n",
    "\n",
    "# Select the top 5 zip codes\n",
    "last_5 = avg_prices.tail(5)\n",
    "\n",
    "last_5.plot.bar(y = [\"mean_rent\", \"price\"])\n",
    "\n",
    "plt.legend([\"zillow Mean rent\", \"Trulia Mean Rent\"])\n",
    "\n",
    "plt.xlabel(\"Lowest 5 Zip Codes\", fontsize=12, fontstyle=\"italic\", color=\"purple\")\n",
    "plt.ylabel(\"Rent Price in thousands\", fontsize=12, fontstyle='italic', color=\"brown\")\n",
    "plt.title(\"Average Rent from Trulia and Zillow by Zip Code\", fontsize=16, fontstyle=\"italic\", color=\"brown\")"
   ]
  }
 ],
 "metadata": {
  "kernelspec": {
   "display_name": "Python 3",
   "language": "python",
   "name": "python3"
  },
  "language_info": {
   "codemirror_mode": {
    "name": "ipython",
    "version": 3
   },
   "file_extension": ".py",
   "mimetype": "text/x-python",
   "name": "python",
   "nbconvert_exporter": "python",
   "pygments_lexer": "ipython3",
   "version": "3.11.0"
  },
  "vscode": {
   "interpreter": {
    "hash": "d390166e6a2cd66a717427d4ec4102b1d391ab55312eabea8f2ede5b5421a1f1"
   }
  }
 },
 "nbformat": 4,
 "nbformat_minor": 5
}
