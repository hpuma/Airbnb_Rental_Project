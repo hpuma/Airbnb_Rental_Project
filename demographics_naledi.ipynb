{
 "cells": [
  {
   "cell_type": "code",
   "execution_count": 1527,
   "id": "cccb2318",
   "metadata": {
    "scrolled": true
   },
   "outputs": [],
   "source": [
    "# save csv as data frame \n",
    "\n",
    "import pandas as pd\n",
    "import numpy as np\n",
    "import re\n"
   ]
  },
  {
   "cell_type": "markdown",
   "id": "3dfbafba",
   "metadata": {},
   "source": [
    "# Clean Up/ Data Wrangling"
   ]
  },
  {
   "cell_type": "markdown",
   "id": "6fd9ede5",
   "metadata": {},
   "source": [
    "# Please note that within this dataset, Nan values will be treated as 0. "
   ]
  },
  {
   "cell_type": "code",
   "execution_count": 1528,
   "id": "5ff0b514",
   "metadata": {},
   "outputs": [],
   "source": [
    "demographics_csv_files = [\"ACSDP1Y2010.DP05-Data.csv\",\n",
    "\"ACSDP5Y2021.DP05-Data.csv\",\n",
    "\"ACSDP1Y2011.DP05-Data.csv\",\n",
    "\"ACSDP1Y2012.DP05-Data.csv\",\n",
    "\"ACSDP1Y2013.DP05-Data.csv\",\n",
    "\"ACSDP1Y2014.DP05-Data.csv\",\n",
    "\"ACSDP1Y2015.DP05-Data.csv\",\n",
    "\"ACSDP1Y2016.DP05-Data.csv\",\n",
    "\"ACSDP1Y2017.DP05-Data.csv\",\n",
    "\"ACSDP5Y2012.DP05-Data.csv\",\n",
    "\"ACSDP5Y2011.DP05-Data.csv\",\n",
    "\"ACSDP5Y2010.DP05-Data.csv\",\n",
    "\"ACSDP1Y2021.DP05-Data.csv\",\n",
    "\"ACSDP1Y2019.DP05-Data.csv\",\n",
    "\"ACSDP1Y2018.DP05-Data.csv\"]"
   ]
  },
  {
   "cell_type": "code",
   "execution_count": 1529,
   "id": "20f971f9",
   "metadata": {},
   "outputs": [],
   "source": [
    "def clean_census_df(_census_df, year):\n",
    "    # remove all the weird values for estimates\n",
    "    census_df = _census_df.replace({'**': np.nan, \n",
    "                           '-': np.nan,\n",
    "                           '***': np.nan, \n",
    "                           '*****': np.nan, \n",
    "                           '(X)': np.nan, \n",
    "                           'N/A': np.nan,\n",
    "                           'null': np.nan, \n",
    "                           'median-': np.nan, \n",
    "                           'median+': np.nan,\n",
    "                          '-666666666': np.nan, \n",
    "                          'N': np.nan,\n",
    "                          '-888888888': np.nan,\n",
    "                          '-Varies': np.nan,\n",
    "                          '-222222222': np.nan,\n",
    "                          '-333333333': np.nan,\n",
    "                          '*': np.nan,})\n",
    "    census_df = census_df.dropna(how='all', axis='columns').dropna(how='all')\n",
    "    \n",
    "    if census_df.empty:\n",
    "        return None\n",
    "    \n",
    "    print(year)\n",
    "    # Re-index using the \"Labels\" Columns\n",
    "    # Reference : https://api.census.gov/data/2021/acs/acs5/profile/groups/DP05.html \n",
    "    \n",
    "    census_df.columns = pd.MultiIndex.from_frame(pd.MultiIndex.from_tuples(census_df.columns.str.split('!!').tolist()).to_frame().fillna(\"\"))\n",
    "\n",
    "    census_df = census_df.T.reset_index()\n",
    "    \n",
    "#     census_df.columns = pd.MultiIndex.from_frame(pd.MultiIndex.from_tuples(census_df.columns.str.split('!!').tolist()).to_frame().fillna(\"\"))\n",
    "#     census_df = census_df.T.reset_index()\n",
    "    \n",
    "    # Get relevant columns \n",
    "    census_df = census_df[census_df[0].str.contains('Zip Code') | census_df[0].str.contains('Estimate')]\n",
    "    \n",
    "    # Update the index and drop unnecessary columns\n",
    "    multi_index_columns = census_df.apply(lambda x: x.str.isnumeric()==False).all()[census_df.apply(lambda x: x.str.isnumeric()==False).all()].index\n",
    "    \n",
    "    census_df.index = pd.MultiIndex.from_frame(census_df[multi_index_columns])\n",
    "\n",
    "    census_df = census_df.drop(columns=census_df.index.names)    \n",
    "    \n",
    "    # Fill straggling NaNs\n",
    "    \n",
    "    census_df = census_df.fillna(0)\n",
    "    \n",
    "    # Add year\n",
    "    census_df.loc[('Year'),:] = year\n",
    "    \n",
    "    census_df = census_df.T\n",
    "    census_df = census_df.set_index(['Year','Zip Code'])\n",
    "    \n",
    "    census_df.columns = census_df.columns.droplevel(0)\n",
    "\n",
    "    \n",
    "    return census_df\n",
    "    \n"
   ]
  },
  {
   "cell_type": "code",
   "execution_count": 1530,
   "id": "823ab55b",
   "metadata": {
    "scrolled": false
   },
   "outputs": [
    {
     "name": "stderr",
     "output_type": "stream",
     "text": [
      "/var/folders/ht/q4d_vppn3x5d3_p7bs499mdh0000gn/T/ipykernel_74377/2348089967.py:8: SettingWithCopyWarning: \n",
      "A value is trying to be set on a copy of a slice from a DataFrame.\n",
      "Try using .loc[row_indexer,col_indexer] = value instead\n",
      "\n",
      "See the caveats in the documentation: https://pandas.pydata.org/pandas-docs/stable/user_guide/indexing.html#returning-a-view-versus-a-copy\n",
      "  temp_df['Zip Code'] = temp_df['Geographic Area Name'][temp_df['Geographic Area Name'].str.contains('ZCTA')].str.split(\" \").str[1]\n"
     ]
    },
    {
     "name": "stdout",
     "output_type": "stream",
     "text": [
      "2021\n"
     ]
    },
    {
     "name": "stderr",
     "output_type": "stream",
     "text": [
      "/var/folders/ht/q4d_vppn3x5d3_p7bs499mdh0000gn/T/ipykernel_74377/2348089967.py:8: SettingWithCopyWarning: \n",
      "A value is trying to be set on a copy of a slice from a DataFrame.\n",
      "Try using .loc[row_indexer,col_indexer] = value instead\n",
      "\n",
      "See the caveats in the documentation: https://pandas.pydata.org/pandas-docs/stable/user_guide/indexing.html#returning-a-view-versus-a-copy\n",
      "  temp_df['Zip Code'] = temp_df['Geographic Area Name'][temp_df['Geographic Area Name'].str.contains('ZCTA')].str.split(\" \").str[1]\n"
     ]
    },
    {
     "name": "stdout",
     "output_type": "stream",
     "text": [
      "2012\n"
     ]
    },
    {
     "name": "stderr",
     "output_type": "stream",
     "text": [
      "/var/folders/ht/q4d_vppn3x5d3_p7bs499mdh0000gn/T/ipykernel_74377/2348089967.py:8: SettingWithCopyWarning: \n",
      "A value is trying to be set on a copy of a slice from a DataFrame.\n",
      "Try using .loc[row_indexer,col_indexer] = value instead\n",
      "\n",
      "See the caveats in the documentation: https://pandas.pydata.org/pandas-docs/stable/user_guide/indexing.html#returning-a-view-versus-a-copy\n",
      "  temp_df['Zip Code'] = temp_df['Geographic Area Name'][temp_df['Geographic Area Name'].str.contains('ZCTA')].str.split(\" \").str[1]\n"
     ]
    },
    {
     "name": "stdout",
     "output_type": "stream",
     "text": [
      "2011\n"
     ]
    },
    {
     "data": {
      "text/plain": [
       "3"
      ]
     },
     "execution_count": 1530,
     "metadata": {},
     "output_type": "execute_result"
    }
   ],
   "source": [
    "valid_census_dfs = []\n",
    "for file in demographics_csv_files:\n",
    "    year = re.search(\"([0-9]{4})\", file)[0]\n",
    "    file_path = './data/raw/' + file\n",
    "    df = pd.read_csv(file_path, header=1, dtype=str)\n",
    "    temp_df = df\n",
    "    temp_df = temp_df.loc[temp_df['Geographic Area Name'].str.contains('ZCTA')]\n",
    "    temp_df['Zip Code'] = temp_df['Geographic Area Name'][temp_df['Geographic Area Name'].str.contains('ZCTA')].str.split(\" \").str[1]\n",
    "    \n",
    "    df = clean_census_df(temp_df, year)\n",
    "    \n",
    "    if df is None: \n",
    "        continue\n",
    "    else: \n",
    "#         print(file)\n",
    "#         df = clean_census_df(temp_df, year)\n",
    "        valid_census_dfs.append(df)\n",
    "        \n",
    "len(valid_census_dfs)\n",
    "\n"
   ]
  },
  {
   "cell_type": "code",
   "execution_count": 1531,
   "id": "594db25c",
   "metadata": {},
   "outputs": [],
   "source": [
    "valid_census_dfs[0].columns = valid_census_dfs[0].columns.droplevel(0)"
   ]
  },
  {
   "cell_type": "code",
   "execution_count": 1532,
   "id": "5416d02a",
   "metadata": {},
   "outputs": [
    {
     "name": "stderr",
     "output_type": "stream",
     "text": [
      "/var/folders/ht/q4d_vppn3x5d3_p7bs499mdh0000gn/T/ipykernel_74377/772371714.py:3: PerformanceWarning: indexing past lexsort depth may impact performance.\n",
      "  df=df.reset_index()\n",
      "/var/folders/ht/q4d_vppn3x5d3_p7bs499mdh0000gn/T/ipykernel_74377/772371714.py:3: PerformanceWarning: indexing past lexsort depth may impact performance.\n",
      "  df=df.reset_index()\n"
     ]
    }
   ],
   "source": [
    "df = pd.concat(valid_census_dfs, axis=1).fillna(0)\n",
    "df.columns = pd.MultiIndex.from_tuples(df.columns.tolist())\n",
    "df=df.reset_index()"
   ]
  },
  {
   "cell_type": "code",
   "execution_count": 1533,
   "id": "a41210ce",
   "metadata": {},
   "outputs": [],
   "source": [
    "# make df to csv \n",
    "df.to_csv('./data/clean/demographics.csv')"
   ]
  }
 ],
 "metadata": {
  "kernelspec": {
   "display_name": "Python 3 (ipykernel)",
   "language": "python",
   "name": "python3"
  },
  "language_info": {
   "codemirror_mode": {
    "name": "ipython",
    "version": 3
   },
   "file_extension": ".py",
   "mimetype": "text/x-python",
   "name": "python",
   "nbconvert_exporter": "python",
   "pygments_lexer": "ipython3",
   "version": "3.10.6"
  }
 },
 "nbformat": 4,
 "nbformat_minor": 5
}
