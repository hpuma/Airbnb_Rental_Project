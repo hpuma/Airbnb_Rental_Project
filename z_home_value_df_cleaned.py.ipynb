{
 "cells": [
  {
   "cell_type": "code",
   "execution_count": 1,
   "id": "f1b2b35d",
   "metadata": {},
   "outputs": [],
   "source": [
    "#Loading packages \n",
    "\n",
    "import os\n",
    "import pandas as pd\n",
    "import numpy as np\n",
    "import matplotlib.pyplot as plt\n",
    "import seaborn as sns\n"
   ]
  },
  {
   "cell_type": "code",
   "execution_count": 2,
   "id": "0bd707a3",
   "metadata": {},
   "outputs": [],
   "source": [
    "#df = pd.read_csv('data.csv')\n",
    "\n",
    "zhome_values_zip_df = pd.read_csv('zhome_value_zip_df.csv')\n",
    "\n",
    "zhome_values_zip_df = pd.DataFrame(zhome_values_zip_df)\n",
    "\n",
    "#print(zillow_home_values_data)"
   ]
  },
  {
   "cell_type": "code",
   "execution_count": null,
   "id": "4752d6e2",
   "metadata": {},
   "outputs": [],
   "source": [
    "zhome_values_zip_df"
   ]
  },
  {
   "cell_type": "code",
   "execution_count": null,
   "id": "436afd2a",
   "metadata": {},
   "outputs": [],
   "source": [
    "zhome_values_zip_df.columns"
   ]
  },
  {
   "cell_type": "code",
   "execution_count": 3,
   "id": "57717844",
   "metadata": {},
   "outputs": [],
   "source": [
    "# df = df.drop(df.columns[[0, 1, 3]], axis=1)\n",
    "\n",
    "#dropping columns from data frame we dont need 8 = jan 2000. 31 = dec 2002. 0 = Regiontype. 4=statename. 6= metro. \n",
    "\n",
    "zhome_values_zip_df = zhome_values_zip_df.drop(zhome_values_zip_df.columns[9:33], axis=1)\n",
    "zhome_values_zip_df = zhome_values_zip_df.drop(zhome_values_zip_df.columns[[0,1,3,4,7,]], axis=1)"
   ]
  },
  {
   "cell_type": "code",
   "execution_count": null,
   "id": "4aca8963",
   "metadata": {
    "scrolled": true
   },
   "outputs": [],
   "source": [
    "#df after columns have been dropped\n",
    "\n",
    "zhome_values_zip_df.columns"
   ]
  },
  {
   "cell_type": "code",
   "execution_count": 4,
   "id": "a2545747",
   "metadata": {},
   "outputs": [
    {
     "data": {
      "text/html": [
       "<div>\n",
       "<style scoped>\n",
       "    .dataframe tbody tr th:only-of-type {\n",
       "        vertical-align: middle;\n",
       "    }\n",
       "\n",
       "    .dataframe tbody tr th {\n",
       "        vertical-align: top;\n",
       "    }\n",
       "\n",
       "    .dataframe thead th {\n",
       "        text-align: right;\n",
       "    }\n",
       "</style>\n",
       "<table border=\"1\" class=\"dataframe\">\n",
       "  <thead>\n",
       "    <tr style=\"text-align: right;\">\n",
       "      <th></th>\n",
       "      <th>RegionName</th>\n",
       "      <th>State</th>\n",
       "      <th>City</th>\n",
       "      <th>CountyName</th>\n",
       "      <th>2002-01-31</th>\n",
       "      <th>2002-02-28</th>\n",
       "      <th>2002-03-31</th>\n",
       "      <th>2002-04-30</th>\n",
       "      <th>2002-05-31</th>\n",
       "      <th>2002-06-30</th>\n",
       "      <th>...</th>\n",
       "      <th>2022-01-31</th>\n",
       "      <th>2022-02-28</th>\n",
       "      <th>2022-03-31</th>\n",
       "      <th>2022-04-30</th>\n",
       "      <th>2022-05-31</th>\n",
       "      <th>2022-06-30</th>\n",
       "      <th>2022-07-31</th>\n",
       "      <th>2022-08-31</th>\n",
       "      <th>2022-09-30</th>\n",
       "      <th>2022-10-31</th>\n",
       "    </tr>\n",
       "  </thead>\n",
       "  <tbody>\n",
       "    <tr>\n",
       "      <th>0</th>\n",
       "      <td>77449</td>\n",
       "      <td>TX</td>\n",
       "      <td>NaN</td>\n",
       "      <td>Harris County</td>\n",
       "      <td>109098.0</td>\n",
       "      <td>109275.0</td>\n",
       "      <td>109851.0</td>\n",
       "      <td>110447.0</td>\n",
       "      <td>110979.0</td>\n",
       "      <td>111372.0</td>\n",
       "      <td>...</td>\n",
       "      <td>257089.0</td>\n",
       "      <td>261757.0</td>\n",
       "      <td>267452.0</td>\n",
       "      <td>273750.0</td>\n",
       "      <td>279865.0</td>\n",
       "      <td>284916.0</td>\n",
       "      <td>288326.0</td>\n",
       "      <td>290250.0</td>\n",
       "      <td>290894.0</td>\n",
       "      <td>291871.0</td>\n",
       "    </tr>\n",
       "    <tr>\n",
       "      <th>1</th>\n",
       "      <td>77494</td>\n",
       "      <td>TX</td>\n",
       "      <td>NaN</td>\n",
       "      <td>Fort Bend County</td>\n",
       "      <td>226810.0</td>\n",
       "      <td>226495.0</td>\n",
       "      <td>227382.0</td>\n",
       "      <td>228050.0</td>\n",
       "      <td>229150.0</td>\n",
       "      <td>229897.0</td>\n",
       "      <td>...</td>\n",
       "      <td>444749.0</td>\n",
       "      <td>454220.0</td>\n",
       "      <td>465824.0</td>\n",
       "      <td>479498.0</td>\n",
       "      <td>490869.0</td>\n",
       "      <td>498347.0</td>\n",
       "      <td>500609.0</td>\n",
       "      <td>498747.0</td>\n",
       "      <td>499289.0</td>\n",
       "      <td>501368.0</td>\n",
       "    </tr>\n",
       "    <tr>\n",
       "      <th>2</th>\n",
       "      <td>79936</td>\n",
       "      <td>TX</td>\n",
       "      <td>El Paso</td>\n",
       "      <td>El Paso County</td>\n",
       "      <td>85005.0</td>\n",
       "      <td>84857.0</td>\n",
       "      <td>85087.0</td>\n",
       "      <td>85249.0</td>\n",
       "      <td>85512.0</td>\n",
       "      <td>85695.0</td>\n",
       "      <td>...</td>\n",
       "      <td>175658.0</td>\n",
       "      <td>177626.0</td>\n",
       "      <td>179773.0</td>\n",
       "      <td>183128.0</td>\n",
       "      <td>186726.0</td>\n",
       "      <td>190164.0</td>\n",
       "      <td>192396.0</td>\n",
       "      <td>194095.0</td>\n",
       "      <td>195477.0</td>\n",
       "      <td>197127.0</td>\n",
       "    </tr>\n",
       "    <tr>\n",
       "      <th>3</th>\n",
       "      <td>11368</td>\n",
       "      <td>NY</td>\n",
       "      <td>New York</td>\n",
       "      <td>Queens County</td>\n",
       "      <td>249885.0</td>\n",
       "      <td>253132.0</td>\n",
       "      <td>255453.0</td>\n",
       "      <td>257730.0</td>\n",
       "      <td>259524.0</td>\n",
       "      <td>261847.0</td>\n",
       "      <td>...</td>\n",
       "      <td>564682.0</td>\n",
       "      <td>564481.0</td>\n",
       "      <td>566396.0</td>\n",
       "      <td>567898.0</td>\n",
       "      <td>570676.0</td>\n",
       "      <td>572891.0</td>\n",
       "      <td>574998.0</td>\n",
       "      <td>575933.0</td>\n",
       "      <td>578691.0</td>\n",
       "      <td>582277.0</td>\n",
       "    </tr>\n",
       "    <tr>\n",
       "      <th>4</th>\n",
       "      <td>11385</td>\n",
       "      <td>NY</td>\n",
       "      <td>New York</td>\n",
       "      <td>Queens County</td>\n",
       "      <td>333404.0</td>\n",
       "      <td>333069.0</td>\n",
       "      <td>332550.0</td>\n",
       "      <td>331469.0</td>\n",
       "      <td>333280.0</td>\n",
       "      <td>335968.0</td>\n",
       "      <td>...</td>\n",
       "      <td>747687.0</td>\n",
       "      <td>750970.0</td>\n",
       "      <td>756670.0</td>\n",
       "      <td>759268.0</td>\n",
       "      <td>765087.0</td>\n",
       "      <td>770360.0</td>\n",
       "      <td>775517.0</td>\n",
       "      <td>778187.0</td>\n",
       "      <td>781268.0</td>\n",
       "      <td>787104.0</td>\n",
       "    </tr>\n",
       "    <tr>\n",
       "      <th>...</th>\n",
       "      <td>...</td>\n",
       "      <td>...</td>\n",
       "      <td>...</td>\n",
       "      <td>...</td>\n",
       "      <td>...</td>\n",
       "      <td>...</td>\n",
       "      <td>...</td>\n",
       "      <td>...</td>\n",
       "      <td>...</td>\n",
       "      <td>...</td>\n",
       "      <td>...</td>\n",
       "      <td>...</td>\n",
       "      <td>...</td>\n",
       "      <td>...</td>\n",
       "      <td>...</td>\n",
       "      <td>...</td>\n",
       "      <td>...</td>\n",
       "      <td>...</td>\n",
       "      <td>...</td>\n",
       "      <td>...</td>\n",
       "      <td>...</td>\n",
       "    </tr>\n",
       "    <tr>\n",
       "      <th>27419</th>\n",
       "      <td>17762</td>\n",
       "      <td>PA</td>\n",
       "      <td>Hughesville</td>\n",
       "      <td>Lycoming County</td>\n",
       "      <td>NaN</td>\n",
       "      <td>NaN</td>\n",
       "      <td>NaN</td>\n",
       "      <td>NaN</td>\n",
       "      <td>NaN</td>\n",
       "      <td>NaN</td>\n",
       "      <td>...</td>\n",
       "      <td>NaN</td>\n",
       "      <td>NaN</td>\n",
       "      <td>NaN</td>\n",
       "      <td>NaN</td>\n",
       "      <td>NaN</td>\n",
       "      <td>NaN</td>\n",
       "      <td>NaN</td>\n",
       "      <td>NaN</td>\n",
       "      <td>147664.0</td>\n",
       "      <td>151285.0</td>\n",
       "    </tr>\n",
       "    <tr>\n",
       "      <th>27420</th>\n",
       "      <td>50160</td>\n",
       "      <td>IA</td>\n",
       "      <td>Martensdale</td>\n",
       "      <td>Warren County</td>\n",
       "      <td>NaN</td>\n",
       "      <td>NaN</td>\n",
       "      <td>NaN</td>\n",
       "      <td>NaN</td>\n",
       "      <td>NaN</td>\n",
       "      <td>NaN</td>\n",
       "      <td>...</td>\n",
       "      <td>175734.0</td>\n",
       "      <td>179142.0</td>\n",
       "      <td>180164.0</td>\n",
       "      <td>181149.0</td>\n",
       "      <td>182351.0</td>\n",
       "      <td>184956.0</td>\n",
       "      <td>186832.0</td>\n",
       "      <td>188379.0</td>\n",
       "      <td>190213.0</td>\n",
       "      <td>191794.0</td>\n",
       "    </tr>\n",
       "    <tr>\n",
       "      <th>27421</th>\n",
       "      <td>18081</td>\n",
       "      <td>PA</td>\n",
       "      <td>Hellertown</td>\n",
       "      <td>Bucks County</td>\n",
       "      <td>NaN</td>\n",
       "      <td>NaN</td>\n",
       "      <td>NaN</td>\n",
       "      <td>NaN</td>\n",
       "      <td>NaN</td>\n",
       "      <td>NaN</td>\n",
       "      <td>...</td>\n",
       "      <td>354365.0</td>\n",
       "      <td>356878.0</td>\n",
       "      <td>362437.0</td>\n",
       "      <td>368824.0</td>\n",
       "      <td>372757.0</td>\n",
       "      <td>373071.0</td>\n",
       "      <td>372062.0</td>\n",
       "      <td>370075.0</td>\n",
       "      <td>369514.0</td>\n",
       "      <td>370807.0</td>\n",
       "    </tr>\n",
       "    <tr>\n",
       "      <th>27422</th>\n",
       "      <td>51009</td>\n",
       "      <td>IA</td>\n",
       "      <td>Calumet</td>\n",
       "      <td>O Brien County</td>\n",
       "      <td>NaN</td>\n",
       "      <td>NaN</td>\n",
       "      <td>NaN</td>\n",
       "      <td>NaN</td>\n",
       "      <td>NaN</td>\n",
       "      <td>NaN</td>\n",
       "      <td>...</td>\n",
       "      <td>71091.0</td>\n",
       "      <td>72012.0</td>\n",
       "      <td>72555.0</td>\n",
       "      <td>72780.0</td>\n",
       "      <td>72984.0</td>\n",
       "      <td>73967.0</td>\n",
       "      <td>74786.0</td>\n",
       "      <td>75141.0</td>\n",
       "      <td>74819.0</td>\n",
       "      <td>75065.0</td>\n",
       "    </tr>\n",
       "    <tr>\n",
       "      <th>27423</th>\n",
       "      <td>38946</td>\n",
       "      <td>MS</td>\n",
       "      <td>Morgan City</td>\n",
       "      <td>Leflore County</td>\n",
       "      <td>NaN</td>\n",
       "      <td>NaN</td>\n",
       "      <td>NaN</td>\n",
       "      <td>NaN</td>\n",
       "      <td>NaN</td>\n",
       "      <td>NaN</td>\n",
       "      <td>...</td>\n",
       "      <td>NaN</td>\n",
       "      <td>NaN</td>\n",
       "      <td>NaN</td>\n",
       "      <td>NaN</td>\n",
       "      <td>NaN</td>\n",
       "      <td>NaN</td>\n",
       "      <td>NaN</td>\n",
       "      <td>54604.0</td>\n",
       "      <td>54909.0</td>\n",
       "      <td>55025.0</td>\n",
       "    </tr>\n",
       "  </tbody>\n",
       "</table>\n",
       "<p>27424 rows × 254 columns</p>\n",
       "</div>"
      ],
      "text/plain": [
       "       RegionName State         City        CountyName  2002-01-31  \\\n",
       "0           77449    TX          NaN     Harris County    109098.0   \n",
       "1           77494    TX          NaN  Fort Bend County    226810.0   \n",
       "2           79936    TX      El Paso    El Paso County     85005.0   \n",
       "3           11368    NY     New York     Queens County    249885.0   \n",
       "4           11385    NY     New York     Queens County    333404.0   \n",
       "...           ...   ...          ...               ...         ...   \n",
       "27419       17762    PA  Hughesville   Lycoming County         NaN   \n",
       "27420       50160    IA  Martensdale     Warren County         NaN   \n",
       "27421       18081    PA   Hellertown      Bucks County         NaN   \n",
       "27422       51009    IA      Calumet    O Brien County         NaN   \n",
       "27423       38946    MS  Morgan City    Leflore County         NaN   \n",
       "\n",
       "       2002-02-28  2002-03-31  2002-04-30  2002-05-31  2002-06-30  ...  \\\n",
       "0        109275.0    109851.0    110447.0    110979.0    111372.0  ...   \n",
       "1        226495.0    227382.0    228050.0    229150.0    229897.0  ...   \n",
       "2         84857.0     85087.0     85249.0     85512.0     85695.0  ...   \n",
       "3        253132.0    255453.0    257730.0    259524.0    261847.0  ...   \n",
       "4        333069.0    332550.0    331469.0    333280.0    335968.0  ...   \n",
       "...           ...         ...         ...         ...         ...  ...   \n",
       "27419         NaN         NaN         NaN         NaN         NaN  ...   \n",
       "27420         NaN         NaN         NaN         NaN         NaN  ...   \n",
       "27421         NaN         NaN         NaN         NaN         NaN  ...   \n",
       "27422         NaN         NaN         NaN         NaN         NaN  ...   \n",
       "27423         NaN         NaN         NaN         NaN         NaN  ...   \n",
       "\n",
       "       2022-01-31  2022-02-28  2022-03-31  2022-04-30  2022-05-31  2022-06-30  \\\n",
       "0        257089.0    261757.0    267452.0    273750.0    279865.0    284916.0   \n",
       "1        444749.0    454220.0    465824.0    479498.0    490869.0    498347.0   \n",
       "2        175658.0    177626.0    179773.0    183128.0    186726.0    190164.0   \n",
       "3        564682.0    564481.0    566396.0    567898.0    570676.0    572891.0   \n",
       "4        747687.0    750970.0    756670.0    759268.0    765087.0    770360.0   \n",
       "...           ...         ...         ...         ...         ...         ...   \n",
       "27419         NaN         NaN         NaN         NaN         NaN         NaN   \n",
       "27420    175734.0    179142.0    180164.0    181149.0    182351.0    184956.0   \n",
       "27421    354365.0    356878.0    362437.0    368824.0    372757.0    373071.0   \n",
       "27422     71091.0     72012.0     72555.0     72780.0     72984.0     73967.0   \n",
       "27423         NaN         NaN         NaN         NaN         NaN         NaN   \n",
       "\n",
       "       2022-07-31  2022-08-31  2022-09-30  2022-10-31  \n",
       "0        288326.0    290250.0    290894.0    291871.0  \n",
       "1        500609.0    498747.0    499289.0    501368.0  \n",
       "2        192396.0    194095.0    195477.0    197127.0  \n",
       "3        574998.0    575933.0    578691.0    582277.0  \n",
       "4        775517.0    778187.0    781268.0    787104.0  \n",
       "...           ...         ...         ...         ...  \n",
       "27419         NaN         NaN    147664.0    151285.0  \n",
       "27420    186832.0    188379.0    190213.0    191794.0  \n",
       "27421    372062.0    370075.0    369514.0    370807.0  \n",
       "27422     74786.0     75141.0     74819.0     75065.0  \n",
       "27423         NaN     54604.0     54909.0     55025.0  \n",
       "\n",
       "[27424 rows x 254 columns]"
      ]
     },
     "execution_count": 4,
     "metadata": {},
     "output_type": "execute_result"
    }
   ],
   "source": [
    "zhome_values_zip_df"
   ]
  },
  {
   "cell_type": "code",
   "execution_count": null,
   "id": "e92a998d",
   "metadata": {},
   "outputs": [],
   "source": []
  },
  {
   "cell_type": "code",
   "execution_count": null,
   "id": "bf39fda2",
   "metadata": {
    "scrolled": true
   },
   "outputs": [],
   "source": [
    "zhome_values_zip_df.State.dtype"
   ]
  },
  {
   "cell_type": "code",
   "execution_count": 5,
   "id": "d1dc827f",
   "metadata": {},
   "outputs": [],
   "source": [
    "# creating new dataframe with the name of the columns replaced\n",
    "\n",
    "#df2 = df.rename({'a': 'X', 'b': 'Y'}, axis=1)\n",
    "\n",
    "z_hv_zip_df2 = zhome_values_zip_df.rename({'RegionName' : 'zip', 'State' : 'state',\n",
    "                                           'City' : 'city', 'CountyName' : 'county_name'}, axis = 1)"
   ]
  },
  {
   "cell_type": "code",
   "execution_count": null,
   "id": "b8439544",
   "metadata": {},
   "outputs": [],
   "source": []
  },
  {
   "cell_type": "code",
   "execution_count": 6,
   "id": "474bc13f",
   "metadata": {},
   "outputs": [],
   "source": [
    "#df = df.melt(id_vars=[\"location\", \"name\"], \n",
    "#         var_name=\"Date\", \n",
    "#         value_name=\"Value\"\n",
    "\n",
    "#replacing the '2002-01-31 colums to 'Date' and assiging their values.\n",
    "\n",
    "z_hv_zip_df2 = z_hv_zip_df2.melt(id_vars=['zip', 'state', 'city', 'county_name'], \n",
    "                                                       var_name= \"date\", \n",
    "                                                       value_name= \"home_value\")\n",
    "\n"
   ]
  },
  {
   "cell_type": "code",
   "execution_count": null,
   "id": "87ae12bb",
   "metadata": {},
   "outputs": [],
   "source": [
    "z_hv_zip_df2.columns"
   ]
  },
  {
   "cell_type": "code",
   "execution_count": null,
   "id": "eed11081",
   "metadata": {},
   "outputs": [],
   "source": []
  },
  {
   "cell_type": "code",
   "execution_count": null,
   "id": "edfdf610",
   "metadata": {},
   "outputs": [],
   "source": []
  },
  {
   "cell_type": "code",
   "execution_count": null,
   "id": "f2362d49",
   "metadata": {},
   "outputs": [],
   "source": [
    "z_hv_zip_df2"
   ]
  },
  {
   "cell_type": "code",
   "execution_count": 7,
   "id": "1ca471d2",
   "metadata": {
    "scrolled": true
   },
   "outputs": [],
   "source": [
    "#    li = ['Albert', 'Louis', 'John']\n",
    "#    df[df.name.isin(li)]\n",
    "\n",
    "#creating new df where only the word NY pulls from the State column.\n",
    "\n",
    "z_hv_zip_ny_df = ['NY']\n",
    "\n",
    "z_hv_zip_df2 = z_hv_zip_df2[z_hv_zip_df2.state.isin(z_hv_zip_ny_df)]"
   ]
  },
  {
   "cell_type": "code",
   "execution_count": null,
   "id": "b7c9e4db",
   "metadata": {
    "scrolled": false
   },
   "outputs": [],
   "source": [
    "z_hv_zip_df2"
   ]
  },
  {
   "cell_type": "code",
   "execution_count": null,
   "id": "b4c7df87",
   "metadata": {
    "scrolled": true
   },
   "outputs": [],
   "source": [
    "z_hv_zip_df2.sample(50)"
   ]
  },
  {
   "cell_type": "code",
   "execution_count": null,
   "id": "e269aeea",
   "metadata": {},
   "outputs": [],
   "source": [
    "z_hv_zip_df2['county_name'].value_counts().sample(60)"
   ]
  },
  {
   "cell_type": "code",
   "execution_count": null,
   "id": "37982569",
   "metadata": {},
   "outputs": [],
   "source": [
    "zip_group"
   ]
  },
  {
   "cell_type": "code",
   "execution_count": null,
   "id": "827a8553",
   "metadata": {},
   "outputs": [],
   "source": [
    "queens_zip = z_hv_zip_df2[z_hv_zip_df2['county_name'] == 'Queens County']['zip'].unique()\n",
    "\n",
    "bronx_zip = z_hv_zip_df2[z_hv_zip_df2['county_name'] == 'Bronx County']['zip'].unique()\n",
    "\n",
    "brooklyn_zip = z_hv_zip_df2[z_hv_zip_df2['county_name'] == 'Kings County']['zip'].unique()\n",
    "\n",
    "staten_zip = z_hv_zip_df2[z_hv_zip_df2['county_name'] == 'Richmond County']['zip'].unique()\n",
    "\n",
    "manhattan_zip = z_hv_zip_df2[z_hv_zip_df2['county_name'] == 'New York County']['zip'].unique()"
   ]
  },
  {
   "cell_type": "code",
   "execution_count": 13,
   "id": "a0baaff6",
   "metadata": {
    "collapsed": true
   },
   "outputs": [
    {
     "ename": "ValueError",
     "evalue": "The truth value of a Series is ambiguous. Use a.empty, a.bool(), a.item(), a.any() or a.all().",
     "output_type": "error",
     "traceback": [
      "\u001b[0;31m---------------------------------------------------------------------------\u001b[0m",
      "\u001b[0;31mValueError\u001b[0m                                Traceback (most recent call last)",
      "\u001b[0;32m<ipython-input-13-d9e76fc93c5d>\u001b[0m in \u001b[0;36m<module>\u001b[0;34m\u001b[0m\n\u001b[0;32m----> 1\u001b[0;31m z_hv_zip_df2(z_hv_zip_df2['county_name'] == 'Queens County' \n\u001b[0m\u001b[1;32m      2\u001b[0m                        \u001b[0;32mand\u001b[0m \u001b[0mz_hv_zip_df2\u001b[0m\u001b[0;34m[\u001b[0m\u001b[0;34m'county_name'\u001b[0m\u001b[0;34m]\u001b[0m \u001b[0;34m==\u001b[0m \u001b[0;34m'Kings County'\u001b[0m\u001b[0;34m\u001b[0m\u001b[0;34m\u001b[0m\u001b[0m\n\u001b[1;32m      3\u001b[0m                        \u001b[0;32mand\u001b[0m \u001b[0mz_hv_zip_df2\u001b[0m\u001b[0;34m[\u001b[0m\u001b[0;34m'county_name'\u001b[0m\u001b[0;34m]\u001b[0m \u001b[0;34m==\u001b[0m \u001b[0;34m'New York County'\u001b[0m\u001b[0;34m\u001b[0m\u001b[0;34m\u001b[0m\u001b[0m\n\u001b[1;32m      4\u001b[0m                        \u001b[0;32mand\u001b[0m \u001b[0mz_hv_zip_df2\u001b[0m\u001b[0;34m[\u001b[0m\u001b[0;34m'county_name'\u001b[0m\u001b[0;34m]\u001b[0m \u001b[0;34m==\u001b[0m \u001b[0;34m'Bronx County'\u001b[0m\u001b[0;34m\u001b[0m\u001b[0;34m\u001b[0m\u001b[0m\n\u001b[1;32m      5\u001b[0m                        and z_hv_zip_df2['county_name'] == 'Richmond County')\n",
      "\u001b[0;32m/opt/conda/lib/python3.8/site-packages/pandas/core/generic.py\u001b[0m in \u001b[0;36m__nonzero__\u001b[0;34m(self)\u001b[0m\n\u001b[1;32m   1440\u001b[0m     \u001b[0;34m@\u001b[0m\u001b[0mfinal\u001b[0m\u001b[0;34m\u001b[0m\u001b[0;34m\u001b[0m\u001b[0m\n\u001b[1;32m   1441\u001b[0m     \u001b[0;32mdef\u001b[0m \u001b[0m__nonzero__\u001b[0m\u001b[0;34m(\u001b[0m\u001b[0mself\u001b[0m\u001b[0;34m)\u001b[0m\u001b[0;34m:\u001b[0m\u001b[0;34m\u001b[0m\u001b[0;34m\u001b[0m\u001b[0m\n\u001b[0;32m-> 1442\u001b[0;31m         raise ValueError(\n\u001b[0m\u001b[1;32m   1443\u001b[0m             \u001b[0;34mf\"The truth value of a {type(self).__name__} is ambiguous. \"\u001b[0m\u001b[0;34m\u001b[0m\u001b[0;34m\u001b[0m\u001b[0m\n\u001b[1;32m   1444\u001b[0m             \u001b[0;34m\"Use a.empty, a.bool(), a.item(), a.any() or a.all().\"\u001b[0m\u001b[0;34m\u001b[0m\u001b[0;34m\u001b[0m\u001b[0m\n",
      "\u001b[0;31mValueError\u001b[0m: The truth value of a Series is ambiguous. Use a.empty, a.bool(), a.item(), a.any() or a.all()."
     ]
    }
   ],
   "source": [
    "z_hv_zip_df2[z_hv_zip_df2['county_name'] == 'Queens County' \n",
    "                       and z_hv_zip_df2['county_name'] == 'Kings County'\n",
    "                       and z_hv_zip_df2['county_name'] == 'New York County' \n",
    "                       and z_hv_zip_df2['county_name'] == 'Bronx County'\n",
    "                       and z_hv_zip_df2['county_name'] == 'Richmond County']"
   ]
  },
  {
   "cell_type": "code",
   "execution_count": 15,
   "id": "ce850ac6",
   "metadata": {
    "collapsed": true
   },
   "outputs": [
    {
     "ename": "ValueError",
     "evalue": "The truth value of a Series is ambiguous. Use a.empty, a.bool(), a.item(), a.any() or a.all().",
     "output_type": "error",
     "traceback": [
      "\u001b[0;31m---------------------------------------------------------------------------\u001b[0m",
      "\u001b[0;31mValueError\u001b[0m                                Traceback (most recent call last)",
      "\u001b[0;32m<ipython-input-15-98dd02f4122e>\u001b[0m in \u001b[0;36m<module>\u001b[0;34m\u001b[0m\n\u001b[0;32m----> 1\u001b[0;31m z_hv_zip_df3 = z_hv_zip_df2[z_hv_zip_df2['county_name'] == 'Queens County' \n\u001b[0m\u001b[1;32m      2\u001b[0m                             \u001b[0;32mand\u001b[0m \u001b[0mz_hv_zip_df2\u001b[0m\u001b[0;34m[\u001b[0m\u001b[0;34m'county_name'\u001b[0m\u001b[0;34m]\u001b[0m \u001b[0;34m==\u001b[0m \u001b[0;34m'Kings County'\u001b[0m\u001b[0;34m\u001b[0m\u001b[0;34m\u001b[0m\u001b[0m\n\u001b[1;32m      3\u001b[0m                             \u001b[0;32mand\u001b[0m \u001b[0mz_hv_zip_df2\u001b[0m\u001b[0;34m[\u001b[0m\u001b[0;34m'county_name'\u001b[0m\u001b[0;34m]\u001b[0m \u001b[0;34m==\u001b[0m \u001b[0;34m'New York County'\u001b[0m\u001b[0;34m\u001b[0m\u001b[0;34m\u001b[0m\u001b[0m\n\u001b[1;32m      4\u001b[0m                             \u001b[0;32mand\u001b[0m \u001b[0mz_hv_zip_df2\u001b[0m\u001b[0;34m[\u001b[0m\u001b[0;34m'county_name'\u001b[0m\u001b[0;34m]\u001b[0m \u001b[0;34m==\u001b[0m \u001b[0;34m'Bronx County'\u001b[0m\u001b[0;34m\u001b[0m\u001b[0;34m\u001b[0m\u001b[0m\n\u001b[1;32m      5\u001b[0m                             and z_hv_zip_df2['county_name'] == 'Richmond County']\n",
      "\u001b[0;32m/opt/conda/lib/python3.8/site-packages/pandas/core/generic.py\u001b[0m in \u001b[0;36m__nonzero__\u001b[0;34m(self)\u001b[0m\n\u001b[1;32m   1440\u001b[0m     \u001b[0;34m@\u001b[0m\u001b[0mfinal\u001b[0m\u001b[0;34m\u001b[0m\u001b[0;34m\u001b[0m\u001b[0m\n\u001b[1;32m   1441\u001b[0m     \u001b[0;32mdef\u001b[0m \u001b[0m__nonzero__\u001b[0m\u001b[0;34m(\u001b[0m\u001b[0mself\u001b[0m\u001b[0;34m)\u001b[0m\u001b[0;34m:\u001b[0m\u001b[0;34m\u001b[0m\u001b[0;34m\u001b[0m\u001b[0m\n\u001b[0;32m-> 1442\u001b[0;31m         raise ValueError(\n\u001b[0m\u001b[1;32m   1443\u001b[0m             \u001b[0;34mf\"The truth value of a {type(self).__name__} is ambiguous. \"\u001b[0m\u001b[0;34m\u001b[0m\u001b[0;34m\u001b[0m\u001b[0m\n\u001b[1;32m   1444\u001b[0m             \u001b[0;34m\"Use a.empty, a.bool(), a.item(), a.any() or a.all().\"\u001b[0m\u001b[0;34m\u001b[0m\u001b[0;34m\u001b[0m\u001b[0m\n",
      "\u001b[0;31mValueError\u001b[0m: The truth value of a Series is ambiguous. Use a.empty, a.bool(), a.item(), a.any() or a.all()."
     ]
    }
   ],
   "source": [
    "z_hv_zip_df3 = z_hv_zip_df2[z_hv_zip_df2['county_name'] == 'Queens County' \n",
    "                            and z_hv_zip_df2['county_name'] == 'Kings County'\n",
    "                            and z_hv_zip_df2['county_name'] == 'New York County'\n",
    "                            and z_hv_zip_df2['county_name'] == 'Bronx County'\n",
    "                            and z_hv_zip_df2['county_name'] == 'Richmond County']"
   ]
  },
  {
   "cell_type": "code",
   "execution_count": null,
   "id": "57c429c2",
   "metadata": {},
   "outputs": [],
   "source": [
    "z_hv_zip_df2['county_name'] == 'Queens County' \n",
    "                            and z_hv_zip_df2['county_name'] == 'Kings County'\n",
    "                            and z_hv_zip_df2['county_name'] == 'New York County'\n",
    "                            and z_hv_zip_df2['county_name'] == 'Bronx County'\n",
    "                            and z_hv_zip_df2['county_name'] == 'Richmond County']"
   ]
  },
  {
   "cell_type": "code",
   "execution_count": null,
   "id": "fce75d85",
   "metadata": {},
   "outputs": [],
   "source": [
    "z_hv_zip_df2.loc[]"
   ]
  },
  {
   "cell_type": "code",
   "execution_count": null,
   "id": "43c866e0",
   "metadata": {},
   "outputs": [],
   "source": [
    "#queens_zip = \n",
    "\n",
    "#brooklyn_zip =\n",
    "\n",
    "bronx_zip\n",
    "\n",
    "#statenisland_zip =\n",
    "\n",
    "#manhattan_zip = "
   ]
  },
  {
   "cell_type": "code",
   "execution_count": null,
   "id": "eb061e18",
   "metadata": {},
   "outputs": [],
   "source": []
  },
  {
   "cell_type": "code",
   "execution_count": null,
   "id": "4d11b8b8",
   "metadata": {},
   "outputs": [],
   "source": []
  },
  {
   "cell_type": "code",
   "execution_count": null,
   "id": "08a200a2",
   "metadata": {},
   "outputs": [],
   "source": []
  },
  {
   "cell_type": "code",
   "execution_count": null,
   "id": "5f288676",
   "metadata": {},
   "outputs": [],
   "source": []
  },
  {
   "cell_type": "code",
   "execution_count": null,
   "id": "d4f4b38b",
   "metadata": {},
   "outputs": [],
   "source": []
  },
  {
   "cell_type": "code",
   "execution_count": null,
   "id": "41479628",
   "metadata": {},
   "outputs": [],
   "source": [
    "z_hv_zip_df3 = [200:250]"
   ]
  },
  {
   "cell_type": "code",
   "execution_count": null,
   "id": "331dd124",
   "metadata": {
    "scrolled": true
   },
   "outputs": [],
   "source": [
    "zhome_values_zip_df.drop_duplicates(subset = ['RegionName'])"
   ]
  },
  {
   "cell_type": "code",
   "execution_count": null,
   "id": "f4840430",
   "metadata": {},
   "outputs": [],
   "source": [
    "#df_new = df[df['Pid'] == 'p01']\n",
    "zhome_values_ny = zhome_values_zip_df[zhome_values_zip_df['RegionName'] == 'New York']\n",
    "\n",
    "print(zillow_home_values_ny)\n",
    "#zillow_home_values_data = zillow_home_values_data[\"RegionName\"] = \"New York\""
   ]
  },
  {
   "cell_type": "code",
   "execution_count": null,
   "id": "bf2b2f60",
   "metadata": {},
   "outputs": [],
   "source": [
    "region_newyork = ['New York']\n",
    "\n",
    "zillow_home_values_data = zillow_home_values_data[zillow_home_values_data.RegionName.isin(region_newyork)]"
   ]
  },
  {
   "cell_type": "code",
   "execution_count": null,
   "id": "be03d4a5",
   "metadata": {},
   "outputs": [],
   "source": [
    "zillow_home_values_data"
   ]
  },
  {
   "cell_type": "code",
   "execution_count": null,
   "id": "95bfd8f9",
   "metadata": {},
   "outputs": [],
   "source": [
    "zillow_home_values_data"
   ]
  },
  {
   "cell_type": "code",
   "execution_count": null,
   "id": "17cc8a2e",
   "metadata": {},
   "outputs": [],
   "source": []
  },
  {
   "cell_type": "code",
   "execution_count": null,
   "id": "e62a2e14",
   "metadata": {},
   "outputs": [],
   "source": []
  },
  {
   "cell_type": "code",
   "execution_count": null,
   "id": "e84bc7cd",
   "metadata": {},
   "outputs": [],
   "source": [
    "# df.loc[:, df.columns != 'b']\n",
    "zillow_home_values_data.loc[:, zillow_home_values_data.column]"
   ]
  },
  {
   "cell_type": "code",
   "execution_count": null,
   "id": "c3ecf2f9",
   "metadata": {},
   "outputs": [],
   "source": [
    "zillow_home_values_data = zillow_home_values_data.drop('col', axis=1)"
   ]
  },
  {
   "cell_type": "code",
   "execution_count": null,
   "id": "f8d2de24",
   "metadata": {},
   "outputs": [],
   "source": []
  },
  {
   "cell_type": "code",
   "execution_count": null,
   "id": "f41c5aad",
   "metadata": {
    "scrolled": true
   },
   "outputs": [],
   "source": []
  },
  {
   "cell_type": "code",
   "execution_count": null,
   "id": "0de5f5b7",
   "metadata": {},
   "outputs": [],
   "source": [
    ".sort_values() #when organizing data in the column \n",
    ".astype #convert from int to str to float "
   ]
  },
  {
   "cell_type": "code",
   "execution_count": null,
   "id": "693e7c87",
   "metadata": {},
   "outputs": [],
   "source": [
    "zillow_home_values_df.index"
   ]
  },
  {
   "cell_type": "code",
   "execution_count": null,
   "id": "adbe0473",
   "metadata": {},
   "outputs": [],
   "source": [
    "zillow_home_values_df.index = pd.to_datetime(zillow_home_values_df.index)\n",
    "zillow_home_values_df.index"
   ]
  },
  {
   "cell_type": "code",
   "execution_count": null,
   "id": "5ad646b9",
   "metadata": {},
   "outputs": [],
   "source": [
    "zillow_home_values_df.columns"
   ]
  },
  {
   "cell_type": "code",
   "execution_count": null,
   "id": "9c3498bc",
   "metadata": {},
   "outputs": [],
   "source": []
  }
 ],
 "metadata": {
  "kernelspec": {
   "display_name": "Python 3",
   "language": "python",
   "name": "python3"
  },
  "language_info": {
   "codemirror_mode": {
    "name": "ipython",
    "version": 3
   },
   "file_extension": ".py",
   "mimetype": "text/x-python",
   "name": "python",
   "nbconvert_exporter": "python",
   "pygments_lexer": "ipython3",
   "version": "3.8.8"
  }
 },
 "nbformat": 4,
 "nbformat_minor": 5
}
